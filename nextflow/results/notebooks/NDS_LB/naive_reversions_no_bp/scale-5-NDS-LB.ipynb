version https://git-lfs.github.com/spec/v1
oid sha256:b9adc1272c4f39be75f35e4cc5147f8fd9a2d1356b6fb12add843984e9180e8b
size 1890720
