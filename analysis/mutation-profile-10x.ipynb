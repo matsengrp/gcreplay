{
 "cells": [
  {
   "cell_type": "code",
   "execution_count": 1,
   "metadata": {},
   "outputs": [],
   "source": [
    "import os\n",
    "import tempfile\n",
    "cache_dir = tempfile.mkdtemp()\n",
    "os.environ['XDG_CACHE_HOME'] = cache_dir\n",
    "import re\n",
    "\n",
    "from typing import Tuple\n",
    "\n",
    "import numpy as np\n",
    "import pandas as pd\n",
    "import matplotlib.pyplot as plt\n",
    "import seaborn as sns\n",
    "import itertools\n",
    "import warnings"
   ]
  },
  {
   "cell_type": "code",
   "execution_count": 2,
   "metadata": {},
   "outputs": [],
   "source": [
    "fivemer_mut_path = \"../data/mutability/MK_RS5NF_mutability.csv\"\n",
    "fivemer_sub_path = \"../data/mutability/MK_RS5NF_substitution.csv\"\n",
    "seq_data_path = \"../results/notebooks/10x/data.csv\"\n",
    "final_variant_scores = \"data/dms/final_variant_scores.csv\""
   ]
  },
  {
   "cell_type": "markdown",
   "metadata": {},
   "source": [
    "* Pad the sequence with Ns and get per-site mutabilities and substitutions for each chain\n",
    "* Concatenate those and the unpadded sequences\n",
    "* Normalize the mutabilities because we are conditioning on there being a mutation\n",
    "* For every mutation at every site, get its probability and amino-acid level effect\n",
    "    * if it WT, we \n",
    "Get per-site mutabilities and then transform them into codon things?"
   ]
  },
  {
   "cell_type": "code",
   "execution_count": 3,
   "metadata": {},
   "outputs": [],
   "source": [
    "fivemer_mut_df = pd.read_csv(fivemer_mut_path, sep=\" \", header=0)\n",
    "fivemer_sub_df = pd.read_csv(fivemer_sub_path, sep=\" \", header=0)\n",
    "fivemer_mut_df.head().to_clipboard()\n",
    "fivemer_sub_df.head().to_clipboard()\n"
   ]
  },
  {
   "cell_type": "markdown",
   "metadata": {},
   "source": [
    "#### Read in the sequences and trim to codon boundary"
   ]
  },
  {
   "cell_type": "code",
   "execution_count": 4,
   "metadata": {},
   "outputs": [
    {
     "name": "stdout",
     "output_type": "stream",
     "text": [
      "Length of nt_seq_H: [336]\n",
      "Length of nt_seq_L: [321]\n"
     ]
    }
   ],
   "source": [
    "seq_data_df = pd.read_csv(seq_data_path, usecols=[\"nt_seq_H\", \"nt_seq_L\", \"time (days)\"])\n",
    "\n",
    "# Check for missing values in the sequence columns\n",
    "assert seq_data_df[\"nt_seq_H\"].isnull().sum() == 0\n",
    "assert seq_data_df[\"nt_seq_L\"].isnull().sum() == 0\n",
    "\n",
    "# Trim sequences to codon boundary\n",
    "seq_data_df[\"nt_seq_H\"] = seq_data_df[\"nt_seq_H\"].apply(lambda x: str(x)[:len(str(x)) // 3 * 3])\n",
    "seq_data_df[\"nt_seq_L\"] = seq_data_df[\"nt_seq_L\"].apply(lambda x: str(x)[:len(str(x)) // 3 * 3])\n",
    "\n",
    "# print the length of all the seq columns\n",
    "print(\"Length of nt_seq_H:\", seq_data_df[\"nt_seq_H\"].str.len().unique())\n",
    "print(\"Length of nt_seq_L:\", seq_data_df[\"nt_seq_L\"].str.len().unique())"
   ]
  },
  {
   "cell_type": "code",
   "execution_count": 5,
   "metadata": {},
   "outputs": [
    {
     "data": {
      "text/plain": [
       "('GAGGTGCAGCTTCAGGAGTCAGGACCTAGCCTCGTGAAACCTTCTCAGACTCTGTCCCTCACCTGTTCTGTCACTGGCGACTCCATCACCAGTGGTTACTGGAACTGGATCCGGAAATTCCCAGGGAATAAACTTGAGTACATGGGGTACATCAGCTACAGTGGTAGCACTTACTCCAATCCATCTCTCAAAAGTCGAATCTCCATCACTCGAGACACATCCAAGAACCAGTACTACCTGCAGTTGAATTCTGTGACTACTGAGGACACAGCCACATATTACTGTGCAAGGGACTTCGATGTCTGGGGCGCAGGGACCACGGTCACCGTCTCCTCA',\n",
       " 'GACATTGTGATGACTCAGTCTCAAAAATTCATGTCCACATCAGTAGGAGACAGGGTCAGCGTCACCTGCAAGGCCAGCCAGAATGTGGGTACTAATGTAGGCTGGTATCAACAGAAACCAGGGCAATCTCCTAAAGCACTGATTTACTCGGCATCCTACAGGTACAGTGGAGTCCCTGATCGCTTCACAGGCAGTGGATCTGGGACAGATTTCACTCTCACCATCAGCAATGTGCAGTCTGAAGACTTGGCAGAGTATTTCTGTCAGCAATATAACAGCTATCCTCTCACGTTCGGCTCGGGGACTAAGCTAGAAATAAAA')"
      ]
     },
     "execution_count": 5,
     "metadata": {},
     "output_type": "execute_result"
    }
   ],
   "source": [
    "# get the first sequence\n",
    "seq_data_df[\"nt_seq_H\"].iloc[0], seq_data_df[\"nt_seq_L\"].iloc[0]"
   ]
  },
  {
   "cell_type": "code",
   "execution_count": 6,
   "metadata": {},
   "outputs": [
    {
     "data": {
      "text/plain": [
       "(336, 324)"
      ]
     },
     "execution_count": 6,
     "metadata": {},
     "output_type": "execute_result"
    }
   ],
   "source": [
    "final_variant_scores_df = pd.read_csv(final_variant_scores)\n",
    "final_variant_scores_df = final_variant_scores_df[final_variant_scores_df[\"chain\"] != \"link\"]\n",
    "# get the unique \"codon\" entry for final_variant_scores_df.groupby([\"chain\", \"site\"])\n",
    "unique_codons = final_variant_scores_df.groupby([\"chain\", \"position\"])[\"codon\"].unique()\n",
    "# let unique_codons be the first entry of unique_codons\n",
    "unique_codons = unique_codons.apply(lambda x: x[0])\n",
    "# concatenate unique_codons for chain=\"H\" to be one string, naive_H, and for chain=\"L\" to be one string, naive_L\n",
    "naive_H = \"\".join(unique_codons.loc[\"H\"])\n",
    "naive_L = \"\".join(unique_codons.loc[\"L\"])\n",
    "\n",
    "len(naive_H), len(naive_L)"
   ]
  },
  {
   "cell_type": "markdown",
   "metadata": {},
   "source": [
    "Note above that the naive sequence length is 1 codon longer than the codon-boundary-trimmed 10x data, so we will need to trim the data explicitly."
   ]
  },
  {
   "cell_type": "code",
   "execution_count": 13,
   "metadata": {},
   "outputs": [
    {
     "data": {
      "image/png": "[encoded data removed]",
      "text/plain": [
       "<Figure size 1200x400 with 2 Axes>"
      ]
     },
     "metadata": {},
     "output_type": "display_data"
    }
   ],
   "source": [
    "# for nt_seq_H entry, calculate the number of differences from naive_H\n",
    "def diff(seq1, seq2):\n",
    "    assert len(seq1) == len(seq2), f\"Sequences must be of the same length: {len(seq1)} != {len(seq2)}\"\n",
    "    return sum([1 for a, b in zip(seq1, seq2) if a != b])\n",
    "\n",
    "seq_data_df[\"diff_H\"] = seq_data_df[\"nt_seq_H\"].apply(lambda x: diff(x, naive_H))\n",
    "seq_data_df[\"diff_L\"] = seq_data_df[\"nt_seq_L\"].apply(lambda x: diff(x, naive_L[:321]))\n",
    "\n",
    "# make histograms of diff_H and diff_L\n",
    "plt.figure(figsize=(12, 4))\n",
    "\n",
    "# Plot both histograms side by side\n",
    "plt.subplot(121)\n",
    "plt.hist(seq_data_df[\"diff_H\"], bins=50, color=\"blue\", alpha=0.7)\n",
    "plt.title(\"Differences from naive_H\")\n",
    "plt.xlabel(\"Number of differences\")\n",
    "plt.ylabel(\"Frequency\")\n",
    "\n",
    "plt.subplot(122)\n",
    "plt.hist(seq_data_df[\"diff_L\"], bins=50, color=\"orange\", alpha=0.7)\n",
    "plt.title(\"Differences from naive_L\")\n",
    "plt.xlabel(\"Number of differences\")\n",
    "\n",
    "plt.tight_layout()\n",
    "plt.show()\n",
    "\n",
    "# drop the diff_H and diff_L columns\n",
    "seq_data_df = seq_data_df.drop(columns=[\"diff_H\", \"diff_L\"])"
   ]
  },
  {
   "cell_type": "code",
   "execution_count": 8,
   "metadata": {},
   "outputs": [],
   "source": [
    "# Create the mutability dictionary directly from the dataframe\n",
    "mutability_dict = dict(zip(fivemer_mut_df['Fivemer'], fivemer_mut_df['Mutability']))\n",
    "\n",
    "def get_sequence_mutability(sequence: str) -> np.ndarray:\n",
    "    \"\"\"\n",
    "    Compute raw mutability scores for each position in a DNA sequence.\n",
    "    \n",
    "    Args:\n",
    "        sequence: A DNA sequence (e.g., \"GAGGTGCAGCTT...\")\n",
    "        \n",
    "    Returns:\n",
    "        numpy array with raw mutability scores\n",
    "    \"\"\"\n",
    "    sequence = sequence.upper()\n",
    "    padded_seq = \"NN\" + sequence + \"NN\"\n",
    "    mutability_scores = np.zeros(len(sequence))\n",
    "    \n",
    "    for i in range(len(sequence)):\n",
    "        fivemer = padded_seq[i:i+5]\n",
    "        mutability_scores[i] = mutability_dict[fivemer]\n",
    "    \n",
    "    return mutability_scores\n",
    "\n",
    "\n",
    "def compute_normalized_mutability_pair(heavy_chain: str, light_chain: str) -> Tuple[np.ndarray, np.ndarray]:\n",
    "    \"\"\"\n",
    "    Compute mutability scores for heavy and light chain sequences, then normalize\n",
    "    them as if they were a single probability vector.\n",
    "    \n",
    "    Args:\n",
    "        heavy_chain: DNA sequence for heavy chain\n",
    "        light_chain: DNA sequence for light chain\n",
    "        \n",
    "    Returns:\n",
    "        Tuple of two numpy arrays with normalized mutability scores\n",
    "    \"\"\"\n",
    "    heavy_mutability = get_sequence_mutability(heavy_chain)\n",
    "    light_mutability = get_sequence_mutability(light_chain)\n",
    "    \n",
    "    total_mutability = np.sum(heavy_mutability) + np.sum(light_mutability)\n",
    "    \n",
    "    # Normalize both sequences using the same total\n",
    "    heavy_normalized = heavy_mutability / total_mutability\n",
    "    light_normalized = light_mutability / total_mutability\n",
    "    \n",
    "    return heavy_normalized, light_normalized"
   ]
  },
  {
   "cell_type": "code",
   "execution_count": 9,
   "metadata": {},
   "outputs": [],
   "source": [
    "# Temporarily take the head of the dataframe for testing\n",
    "seq_data_df = seq_data_df.head(50)"
   ]
  },
  {
   "cell_type": "code",
   "execution_count": 10,
   "metadata": {},
   "outputs": [],
   "source": [
    "# Apply the function to each pair of sequences in the dataframe\n",
    "normalized_mutability_results = []\n",
    "\n",
    "for _, row in seq_data_df.iterrows():\n",
    "    heavy_chain = row['nt_seq_H']\n",
    "    light_chain = row['nt_seq_L']\n",
    "    \n",
    "    heavy_norm, light_norm = compute_normalized_mutability_pair(heavy_chain, light_chain)\n",
    "    normalized_mutability_results.append((heavy_norm, light_norm))\n",
    "\n",
    "# Unpack the results and add them to the dataframe\n",
    "seq_data_df['norm_mutability_H'] = [result[0] for result in normalized_mutability_results]\n",
    "seq_data_df['norm_mutability_L'] = [result[1] for result in normalized_mutability_results]"
   ]
  },
  {
   "cell_type": "code",
   "execution_count": 11,
   "metadata": {},
   "outputs": [
    {
     "data": {
      "image/png": "[encoded data removed]",
      "text/plain": [
       "<Figure size 1200x400 with 2 Axes>"
      ]
     },
     "metadata": {},
     "output_type": "display_data"
    }
   ],
   "source": [
    "# make a loy-y histogram of the first row of normalized mutability scores\n",
    "plt.figure(figsize=(12, 4))\n",
    "plt.subplot(121)\n",
    "plt.hist(seq_data_df['norm_mutability_H'].iloc[0], bins=50, color=\"blue\", alpha=0.7)\n",
    "plt.title(\"Normalized Mutability H\")\n",
    "plt.xlabel(\"Normalized Mutability\")\n",
    "plt.ylabel(\"Frequency\")\n",
    "plt.subplot(122)\n",
    "plt.hist(seq_data_df['norm_mutability_L'].iloc[0], bins=50, color=\"orange\", alpha=0.7)\n",
    "plt.title(\"Normalized Mutability L\")\n",
    "plt.xlabel(\"Normalized Mutability\")\n",
    "plt.tight_layout()\n",
    "\n",
    "assert np.isclose(seq_data_df['norm_mutability_H'].iloc[0].sum() + seq_data_df['norm_mutability_L'].iloc[0].sum(), 1.0), \"Normalized mutability scores do not sum to 1\"\n"
   ]
  },
  {
   "cell_type": "code",
   "execution_count": 16,
   "metadata": {},
   "outputs": [
    {
     "name": "stdout",
     "output_type": "stream",
     "text": [
      "                                            nt_seq_H  \\\n",
      "0  GAGGTGCAGCTTCAGGAGTCAGGACCTAGCCTCGTGAAACCTTCTC...   \n",
      "1  GAGGTGCAGCTTCAGGAGTCAGGACCTAGCCTCGTGAAACCTTCTC...   \n",
      "\n",
      "                                            nt_seq_L  time (days)  \\\n",
      "0  GACATTGTGATGACTCAGTCTCAAAAATTCATGTCCACATCAGTAG...           14   \n",
      "1  GACATTGTGATGACTCAGTCTCAAAAATTCATGTCCACATCAGTAG...            8   \n",
      "\n",
      "                                   norm_mutability_H  \\\n",
      "0  [0.0009496252194450548, 0.0008670656061924629,...   \n",
      "1  [0.0009645603854290198, 0.0008807023214800363,...   \n",
      "\n",
      "                                   norm_mutability_L  \n",
      "0  [0.0006283979819088282, 0.0005494639867798885,...  \n",
      "1  [0.0006382810683850715, 0.0005581056442219313,...  \n"
     ]
    }
   ],
   "source": [
    "print(seq_data_df.head(2))"
   ]
  },
  {
   "cell_type": "code",
   "execution_count": 18,
   "metadata": {},
   "outputs": [],
   "source": [
    "fivemer_sub_df.head().to_clipboard()"
   ]
  },
  {
   "cell_type": "markdown",
   "metadata": {},
   "source": [
    "First let's talk about how to get to this final data structure we will want to plot.\n",
    "\n",
    "Here is `seq_data_df` first two rows\n",
    "\n",
    "```\n",
    "                                            nt_seq_H  \\\n",
    "0  GAGGTGCAGCTTCAGGAGTCAGGACCTAGCCTCGTGAAACCTTCTC...   \n",
    "1  GAGGTGCAGCTTCAGGAGTCAGGACCTAGCCTCGTGAAACCTTCTC...   \n",
    "\n",
    "                                            nt_seq_L  time (days)  \\\n",
    "0  GACATTGTGATGACTCAGTCTCAAAAATTCATGTCCACATCAGTAG...           14   \n",
    "1  GACATTGTGATGACTCAGTCTCAAAAATTCATGTCCACATCAGTAG...            8   \n",
    "\n",
    "                                   norm_mutability_H  \\\n",
    "0  [0.0009496252194450548, 0.0008670656061924629,...   \n",
    "1  [0.0009645603854290198, 0.0008807023214800363,...   \n",
    "\n",
    "                                   norm_mutability_L  \n",
    "0  [0.0006283979819088282, 0.0005494639867798885,...  \n",
    "1  [0.0006382810683850715, 0.0005581056442219313,...  \n",
    "```\n",
    "\n",
    "These mutability vectors represent the probability of mutation at each site (if they were concatted together they would be a normalized probability vector, one per row of the data frame).\n",
    "\n",
    "We also have a data frame `fivemer_sub_df`\n",
    "\n",
    "```\n",
    "\tFivemer\tA\tC\tG\tT\n",
    "0\tAAAAA\t0.0\t0.168399168399168\t0.727650727650728\t0.103950103950104\n",
    "1\tAAAAC\t0.0\t0.191268191268191\t0.704781704781705\t0.103950103950104\n",
    "2\tAAAAG\t0.0\t0.166320166320166\t0.723492723492724\t0.11018711018711\n",
    "3\tAAAAT\t0.0\t0.0909090909090909\t0.863636363636364\t0.0454545454545455\n",
    "4\tAAAAN\t0.0\t0.154224154224154\t0.75489037989038\t0.0908854658854659\n",
    "```\n",
    "\n",
    "This data frame represents the conditional probability of each possible new base in the center of the fivemer. So to calculate the probability of each possible nucleotide mutation at site i for chain X we take the entry in the norm_mutability_X column (where X is H or L), and then we multiply it by the entry in the sub_df.\n",
    "\n",
    "For example, for the first site of the H chain, let's calculate the probability of the first G getting to be a C. We would get a NNGAG fivemer, look up the row and the C column entry, then multiply that by 0.0009496252194450548 . \n",
    "\n",
    "We would like to aggregate all of this into information about what is happening on the amino acid level. \n",
    "\n",
    "We will denote amino acid substitutions like E1(H)A which is 1-indexed site 1 mutating from E to A on the heavy chain (H). \n",
    "\n",
    "The aggregation desired for each mutation is an estimation of the probability of this form. For example, the first example codon change would be from GAG to CAG, which is E to Q, so we would record it as part of the probability estimation for E1(H)Q. Because of the degeneracy of the codon table, many of these NT mutations will map to the same amino acid mutation and we would like to sum probabilities on the AA mutation level, e.g. using a dict.\n",
    "\n",
    "After aggregating these AA mutation probabilities I would like to populate a data frame. This data frame will have columns seq_idx (which is the idx of the row in `seq_data_df`) the `aa_mut` amino acid mutation, and `prob` which is the prob totaled over the nt mutations as previously described. Call this df `aa_mut_prob_df`.\n",
    "\n",
    "No full code yet please, but let's discuss strategy and what variables / subroutines you will want to use.\n",
    "\n",
    "Note that this is all pasted code into a notebook so feel free to define additional data structures and use them in functions."
   ]
  },
  {
   "cell_type": "code",
   "execution_count": 21,
   "metadata": {},
   "outputs": [
    {
     "data": {
      "application/vnd.microsoft.datawrangler.viewer.v0+json": {
       "columns": [
        {
         "name": "index",
         "rawType": "int64",
         "type": "integer"
        },
        {
         "name": "target",
         "rawType": "object",
         "type": "string"
        },
        {
         "name": "wildtype",
         "rawType": "object",
         "type": "string"
        },
        {
         "name": "position",
         "rawType": "int64",
         "type": "integer"
        },
        {
         "name": "chain",
         "rawType": "object",
         "type": "string"
        },
        {
         "name": "mutant",
         "rawType": "object",
         "type": "string"
        },
        {
         "name": "mutation",
         "rawType": "object",
         "type": "string"
        },
        {
         "name": "codon",
         "rawType": "object",
         "type": "string"
        },
        {
         "name": "bind_CGG",
         "rawType": "float64",
         "type": "float"
        },
        {
         "name": "delta_bind_CGG",
         "rawType": "float64",
         "type": "float"
        },
        {
         "name": "n_bc_bind_CGG",
         "rawType": "int64",
         "type": "integer"
        },
        {
         "name": "n_libs_bind_CGG",
         "rawType": "int64",
         "type": "integer"
        },
        {
         "name": "expr",
         "rawType": "float64",
         "type": "float"
        },
        {
         "name": "delta_expr",
         "rawType": "float64",
         "type": "float"
        },
        {
         "name": "n_bc_expr",
         "rawType": "int64",
         "type": "integer"
        },
        {
         "name": "n_libs_expr",
         "rawType": "int64",
         "type": "integer"
        }
       ],
       "conversionMethod": "pd.DataFrame",
       "ref": "b1bad231-d697-4d60-b739-4111f2a66b74",
       "rows": [
        [
         "0",
         "CGG_naive",
         "E",
         "1",
         "H",
         "A",
         "E1(H)A",
         "GAG",
         "8.74239",
         "0.11933",
         "20",
         "2",
         "10.45318",
         "-0.00246",
         "20",
         "2"
        ],
        [
         "1",
         "CGG_naive",
         "E",
         "1",
         "H",
         "C",
         "E1(H)C",
         "GAG",
         "8.60813",
         "-0.01492",
         "22",
         "2",
         "10.33348",
         "-0.12216",
         "22",
         "2"
        ],
        [
         "2",
         "CGG_naive",
         "E",
         "1",
         "H",
         "D",
         "E1(H)D",
         "GAG",
         "8.63554",
         "0.01249",
         "18",
         "2",
         "10.50438",
         "0.04874",
         "18",
         "2"
        ],
        [
         "3",
         "CGG_naive",
         "E",
         "1",
         "H",
         "E",
         "E1(H)E",
         "GAG",
         "8.62305",
         "0.0",
         "23285",
         "2",
         "10.45565",
         "0.0",
         "23285",
         "2"
        ],
        [
         "4",
         "CGG_naive",
         "E",
         "1",
         "H",
         "F",
         "E1(H)F",
         "GAG",
         "8.75738",
         "0.13433",
         "29",
         "2",
         "10.34185",
         "-0.11379",
         "29",
         "2"
        ]
       ],
       "shape": {
        "columns": 15,
        "rows": 5
       }
      },
      "text/html": [
       "<div>\n",
       "<style scoped>\n",
       "    .dataframe tbody tr th:only-of-type {\n",
       "        vertical-align: middle;\n",
       "    }\n",
       "\n",
       "    .dataframe tbody tr th {\n",
       "        vertical-align: top;\n",
       "    }\n",
       "\n",
       "    .dataframe thead th {\n",
       "        text-align: right;\n",
       "    }\n",
       "</style>\n",
       "<table border=\"1\" class=\"dataframe\">\n",
       "  <thead>\n",
       "    <tr style=\"text-align: right;\">\n",
       "      <th></th>\n",
       "      <th>target</th>\n",
       "      <th>wildtype</th>\n",
       "      <th>position</th>\n",
       "      <th>chain</th>\n",
       "      <th>mutant</th>\n",
       "      <th>mutation</th>\n",
       "      <th>codon</th>\n",
       "      <th>bind_CGG</th>\n",
       "      <th>delta_bind_CGG</th>\n",
       "      <th>n_bc_bind_CGG</th>\n",
       "      <th>n_libs_bind_CGG</th>\n",
       "      <th>expr</th>\n",
       "      <th>delta_expr</th>\n",
       "      <th>n_bc_expr</th>\n",
       "      <th>n_libs_expr</th>\n",
       "    </tr>\n",
       "  </thead>\n",
       "  <tbody>\n",
       "    <tr>\n",
       "      <th>0</th>\n",
       "      <td>CGG_naive</td>\n",
       "      <td>E</td>\n",
       "      <td>1</td>\n",
       "      <td>H</td>\n",
       "      <td>A</td>\n",
       "      <td>E1(H)A</td>\n",
       "      <td>GAG</td>\n",
       "      <td>8.74239</td>\n",
       "      <td>0.11933</td>\n",
       "      <td>20</td>\n",
       "      <td>2</td>\n",
       "      <td>10.45318</td>\n",
       "      <td>-0.00246</td>\n",
       "      <td>20</td>\n",
       "      <td>2</td>\n",
       "    </tr>\n",
       "    <tr>\n",
       "      <th>1</th>\n",
       "      <td>CGG_naive</td>\n",
       "      <td>E</td>\n",
       "      <td>1</td>\n",
       "      <td>H</td>\n",
       "      <td>C</td>\n",
       "      <td>E1(H)C</td>\n",
       "      <td>GAG</td>\n",
       "      <td>8.60813</td>\n",
       "      <td>-0.01492</td>\n",
       "      <td>22</td>\n",
       "      <td>2</td>\n",
       "      <td>10.33348</td>\n",
       "      <td>-0.12216</td>\n",
       "      <td>22</td>\n",
       "      <td>2</td>\n",
       "    </tr>\n",
       "    <tr>\n",
       "      <th>2</th>\n",
       "      <td>CGG_naive</td>\n",
       "      <td>E</td>\n",
       "      <td>1</td>\n",
       "      <td>H</td>\n",
       "      <td>D</td>\n",
       "      <td>E1(H)D</td>\n",
       "      <td>GAG</td>\n",
       "      <td>8.63554</td>\n",
       "      <td>0.01249</td>\n",
       "      <td>18</td>\n",
       "      <td>2</td>\n",
       "      <td>10.50438</td>\n",
       "      <td>0.04874</td>\n",
       "      <td>18</td>\n",
       "      <td>2</td>\n",
       "    </tr>\n",
       "    <tr>\n",
       "      <th>3</th>\n",
       "      <td>CGG_naive</td>\n",
       "      <td>E</td>\n",
       "      <td>1</td>\n",
       "      <td>H</td>\n",
       "      <td>E</td>\n",
       "      <td>E1(H)E</td>\n",
       "      <td>GAG</td>\n",
       "      <td>8.62305</td>\n",
       "      <td>0.00000</td>\n",
       "      <td>23285</td>\n",
       "      <td>2</td>\n",
       "      <td>10.45565</td>\n",
       "      <td>0.00000</td>\n",
       "      <td>23285</td>\n",
       "      <td>2</td>\n",
       "    </tr>\n",
       "    <tr>\n",
       "      <th>4</th>\n",
       "      <td>CGG_naive</td>\n",
       "      <td>E</td>\n",
       "      <td>1</td>\n",
       "      <td>H</td>\n",
       "      <td>F</td>\n",
       "      <td>E1(H)F</td>\n",
       "      <td>GAG</td>\n",
       "      <td>8.75738</td>\n",
       "      <td>0.13433</td>\n",
       "      <td>29</td>\n",
       "      <td>2</td>\n",
       "      <td>10.34185</td>\n",
       "      <td>-0.11379</td>\n",
       "      <td>29</td>\n",
       "      <td>2</td>\n",
       "    </tr>\n",
       "  </tbody>\n",
       "</table>\n",
       "</div>"
      ],
      "text/plain": [
       "      target wildtype  position chain mutant mutation codon  bind_CGG  \\\n",
       "0  CGG_naive        E         1     H      A   E1(H)A   GAG   8.74239   \n",
       "1  CGG_naive        E         1     H      C   E1(H)C   GAG   8.60813   \n",
       "2  CGG_naive        E         1     H      D   E1(H)D   GAG   8.63554   \n",
       "3  CGG_naive        E         1     H      E   E1(H)E   GAG   8.62305   \n",
       "4  CGG_naive        E         1     H      F   E1(H)F   GAG   8.75738   \n",
       "\n",
       "   delta_bind_CGG  n_bc_bind_CGG  n_libs_bind_CGG      expr  delta_expr  \\\n",
       "0         0.11933             20                2  10.45318    -0.00246   \n",
       "1        -0.01492             22                2  10.33348    -0.12216   \n",
       "2         0.01249             18                2  10.50438     0.04874   \n",
       "3         0.00000          23285                2  10.45565     0.00000   \n",
       "4         0.13433             29                2  10.34185    -0.11379   \n",
       "\n",
       "   n_bc_expr  n_libs_expr  \n",
       "0         20            2  \n",
       "1         22            2  \n",
       "2         18            2  \n",
       "3      23285            2  \n",
       "4         29            2  "
      ]
     },
     "execution_count": 21,
     "metadata": {},
     "output_type": "execute_result"
    }
   ],
   "source": [
    "# drop the position_IMGT, annotation, single_nt columns\n",
    "# final_variant_scores_df = final_variant_scores_df.drop(columns=[\"position_IMGT\", \"annotation\", \"single_nt\"])\n",
    "final_variant_scores_df.head()"
   ]
  },
  {
   "cell_type": "code",
   "execution_count": 22,
   "metadata": {},
   "outputs": [],
   "source": [
    "import pandas as pd\n",
    "import numpy as np\n",
    "from Bio.Seq import Seq\n",
    "from Bio.Data import CodonTable\n",
    "\n",
    "def calculate_aa_mutation_probabilities(seq_data_df, fivemer_sub_df):\n",
    "    # Precompute codon table using Biopython\n",
    "    standard_table = CodonTable.standard_dna_table\n",
    "    codon_table = {}\n",
    "    for codon, aa in standard_table.forward_table.items():\n",
    "        codon_table[codon] = aa\n",
    "    # Add stop codons\n",
    "    for codon in standard_table.stop_codons:\n",
    "        codon_table[codon] = '*'\n",
    "    \n",
    "    # Precompute fivemer substitution lookup\n",
    "    fivemer_lookup = {}\n",
    "    for _, row in fivemer_sub_df.iterrows():\n",
    "        fivemer = row['Fivemer']\n",
    "        fivemer_lookup[fivemer] = {\n",
    "            'A': row['A'],\n",
    "            'C': row['C'],\n",
    "            'G': row['G'],\n",
    "            'T': row['T']\n",
    "        }\n",
    "    \n",
    "    aa_mutation_probs = {}\n",
    "    \n",
    "    # Process each sequence\n",
    "    for idx, row in seq_data_df.iterrows():\n",
    "        # Pad sequences for 5mer context only\n",
    "        padded_seq_H = \"NN\" + row['nt_seq_H'] + \"NN\"\n",
    "        padded_seq_L = \"NN\" + row['nt_seq_L'] + \"NN\"\n",
    "        \n",
    "        # Original mutability vectors (no padding needed)\n",
    "        mut_H = row['norm_mutability_H']\n",
    "        mut_L = row['norm_mutability_L']\n",
    "        \n",
    "        # Process heavy chain\n",
    "        process_chain(padded_seq_H, mut_H, 'H', fivemer_lookup, codon_table, aa_mutation_probs)\n",
    "        \n",
    "        # Process light chain\n",
    "        process_chain(padded_seq_L, mut_L, 'L', fivemer_lookup, codon_table, aa_mutation_probs)\n",
    "    \n",
    "    # Convert to dataframe\n",
    "    aa_mut_prob_df = pd.DataFrame({\n",
    "        'aa_mut': list(aa_mutation_probs.keys()),\n",
    "        'prob_tot': list(aa_mutation_probs.values())\n",
    "    })\n",
    "    \n",
    "    return aa_mut_prob_df\n",
    "\n",
    "def process_chain(padded_seq, mutability, chain, fivemer_lookup, codon_table, aa_mutation_probs):\n",
    "    # Original sequence without padding\n",
    "    orig_seq = padded_seq[2:-2]\n",
    "    \n",
    "    # Process each position in the original sequence\n",
    "    for pos in range(len(orig_seq)):\n",
    "        # Get the original nucleotide\n",
    "        orig_nt = orig_seq[pos]\n",
    "        \n",
    "        # Get the padded position (for fivemer context)\n",
    "        padded_pos = pos + 2\n",
    "        \n",
    "        # Get the fivemer centered at this position\n",
    "        fivemer = padded_seq[padded_pos-2:padded_pos+3]\n",
    "        \n",
    "        # Get the codon that this nucleotide is part of\n",
    "        codon_pos = pos - (pos % 3)\n",
    "        orig_codon = orig_seq[codon_pos:codon_pos + 3]\n",
    "        \n",
    "        # Get the original amino acid\n",
    "        orig_aa = codon_table[orig_codon]\n",
    "        \n",
    "        # Calculate 1-indexed amino acid position\n",
    "        aa_pos = (codon_pos // 3) + 1\n",
    "        \n",
    "        # Get the mutability at this position\n",
    "        mut_prob = mutability[pos]\n",
    "        \n",
    "        # For each possible substitution\n",
    "        for new_nt in 'ACGT':\n",
    "            # Skip self-substitutions on the nucleotide level\n",
    "            if new_nt == orig_nt:\n",
    "                continue\n",
    "            \n",
    "            # Calculate the probability of this substitution\n",
    "            sub_prob = fivemer_lookup[fivemer][new_nt]\n",
    "            nt_mut_prob = mut_prob * sub_prob\n",
    "            \n",
    "            # Create the new codon\n",
    "            codon_idx_in_triplet = pos % 3\n",
    "            new_codon = list(orig_codon)\n",
    "            new_codon[codon_idx_in_triplet] = new_nt\n",
    "            new_codon = ''.join(new_codon)\n",
    "            \n",
    "            # Get the new amino acid\n",
    "            new_aa = codon_table[new_codon]\n",
    "            \n",
    "            # Record all mutations, including self-mutations at AA level\n",
    "            aa_mut = f\"{orig_aa}{aa_pos}({chain}){new_aa}\"\n",
    "            \n",
    "            # Update the probability for this amino acid mutation\n",
    "            if aa_mut in aa_mutation_probs:\n",
    "                aa_mutation_probs[aa_mut] += nt_mut_prob\n",
    "            else:\n",
    "                aa_mutation_probs[aa_mut] = nt_mut_prob"
   ]
  },
  {
   "cell_type": "code",
   "execution_count": 23,
   "metadata": {},
   "outputs": [
    {
     "data": {
      "application/vnd.microsoft.datawrangler.viewer.v0+json": {
       "columns": [
        {
         "name": "index",
         "rawType": "int64",
         "type": "integer"
        },
        {
         "name": "aa_mut",
         "rawType": "object",
         "type": "string"
        },
        {
         "name": "prob_tot",
         "rawType": "float64",
         "type": "float"
        }
       ],
       "conversionMethod": "pd.DataFrame",
       "ref": "e9b129b1-fb1a-4909-94d7-edd687e00082",
       "rows": [
        [
         "0",
         "E1(H)K",
         "0.03928788539179818"
        ],
        [
         "1",
         "E1(H)Q",
         "0.0035879450480280125"
        ],
        [
         "2",
         "E1(H)*",
         "0.005062211383247769"
        ],
        [
         "3",
         "E1(H)A",
         "0.010595365362883835"
        ],
        [
         "4",
         "E1(H)G",
         "0.02790019253457327"
        ],
        [
         "5",
         "E1(H)V",
         "0.0052747911222260505"
        ],
        [
         "6",
         "E1(H)E",
         "0.04103743827070288"
        ],
        [
         "7",
         "E1(H)D",
         "0.008945490631215906"
        ],
        [
         "8",
         "V2(H)M",
         "0.14319717351157502"
        ],
        [
         "9",
         "V2(H)L",
         "0.045045468488740505"
        ],
        [
         "10",
         "V2(H)E",
         "0.002832357884580909"
        ],
        [
         "11",
         "V2(H)A",
         "0.0048922545279124815"
        ],
        [
         "12",
         "V2(H)G",
         "0.0018024095629151245"
        ],
        [
         "13",
         "V2(H)V",
         "0.19127511762790508"
        ],
        [
         "14",
         "Q3(H)K",
         "0.011716518192350383"
        ],
        [
         "15",
         "Q3(H)E",
         "0.01004272987915751"
        ],
        [
         "16",
         "Q3(H)*",
         "0.09429007497653445"
        ],
        [
         "17",
         "Q3(H)P",
         "0.0037641354123730294"
        ],
        [
         "18",
         "Q3(H)R",
         "0.015223836556708684"
        ],
        [
         "19",
         "Q3(H)L",
         "0.007821036912375083"
        ],
        [
         "20",
         "Q3(H)Q",
         "0.3633896317750278"
        ],
        [
         "21",
         "Q3(H)H",
         "0.13651664545061837"
        ],
        [
         "22",
         "L4(H)I",
         "0.013479357340907902"
        ],
        [
         "23",
         "L4(H)V",
         "0.1684919667613483"
        ],
        [
         "24",
         "L4(H)F",
         "0.2763268254886115"
        ],
        [
         "25",
         "L4(H)H",
         "0.0031893119578794865"
        ],
        [
         "26",
         "L4(H)P",
         "0.0255144956630359"
        ],
        [
         "27",
         "L4(H)R",
         "0.008292211090486674"
        ],
        [
         "28",
         "L4(H)L",
         "0.01685435254858953"
        ],
        [
         "29",
         "Q5(H)K",
         "0.0056417052944904246"
        ],
        [
         "30",
         "Q5(H)E",
         "0.0024781322321593474"
        ],
        [
         "31",
         "Q5(H)*",
         "0.030581206269200488"
        ],
        [
         "32",
         "Q5(H)P",
         "0.0025603464702388563"
        ],
        [
         "33",
         "Q5(H)R",
         "0.012801732351194282"
        ],
        [
         "34",
         "Q5(H)L",
         "0.0059741417638906665"
        ],
        [
         "35",
         "Q5(H)Q",
         "0.05885439266358994"
        ],
        [
         "36",
         "Q5(H)H",
         "0.013778854496764028"
        ],
        [
         "37",
         "E6(H)K",
         "0.014725997064237524"
        ],
        [
         "38",
         "E6(H)Q",
         "0.002761124449544538"
        ],
        [
         "39",
         "E6(H)*",
         "0.00184074963302969"
        ],
        [
         "40",
         "E6(H)A",
         "0.005825631047942061"
        ],
        [
         "41",
         "E6(H)G",
         "0.018124185482486472"
        ],
        [
         "42",
         "E6(H)V",
         "0.005825631047942061"
        ],
        [
         "43",
         "E6(H)E",
         "0.0512340227312166"
        ],
        [
         "44",
         "E6(H)D",
         "0.019670205155734925"
        ],
        [
         "45",
         "S7(H)T",
         "0.004919240056487938"
        ],
        [
         "46",
         "S7(H)P",
         "0.011754796260039021"
        ],
        [
         "47",
         "S7(H)A",
         "0.002220233460782605"
        ],
        [
         "48",
         "S7(H)*",
         "0.005611324273977902"
        ],
        [
         "49",
         "S7(H)L",
         "0.02119833614613874"
        ]
       ],
       "shape": {
        "columns": 2,
        "rows": 2163
       }
      },
      "text/html": [
       "<div>\n",
       "<style scoped>\n",
       "    .dataframe tbody tr th:only-of-type {\n",
       "        vertical-align: middle;\n",
       "    }\n",
       "\n",
       "    .dataframe tbody tr th {\n",
       "        vertical-align: top;\n",
       "    }\n",
       "\n",
       "    .dataframe thead th {\n",
       "        text-align: right;\n",
       "    }\n",
       "</style>\n",
       "<table border=\"1\" class=\"dataframe\">\n",
       "  <thead>\n",
       "    <tr style=\"text-align: right;\">\n",
       "      <th></th>\n",
       "      <th>aa_mut</th>\n",
       "      <th>prob_tot</th>\n",
       "    </tr>\n",
       "  </thead>\n",
       "  <tbody>\n",
       "    <tr>\n",
       "      <th>0</th>\n",
       "      <td>E1(H)K</td>\n",
       "      <td>0.039288</td>\n",
       "    </tr>\n",
       "    <tr>\n",
       "      <th>1</th>\n",
       "      <td>E1(H)Q</td>\n",
       "      <td>0.003588</td>\n",
       "    </tr>\n",
       "    <tr>\n",
       "      <th>2</th>\n",
       "      <td>E1(H)*</td>\n",
       "      <td>0.005062</td>\n",
       "    </tr>\n",
       "    <tr>\n",
       "      <th>3</th>\n",
       "      <td>E1(H)A</td>\n",
       "      <td>0.010595</td>\n",
       "    </tr>\n",
       "    <tr>\n",
       "      <th>4</th>\n",
       "      <td>E1(H)G</td>\n",
       "      <td>0.027900</td>\n",
       "    </tr>\n",
       "    <tr>\n",
       "      <th>...</th>\n",
       "      <td>...</td>\n",
       "      <td>...</td>\n",
       "    </tr>\n",
       "    <tr>\n",
       "      <th>2158</th>\n",
       "      <td>T52(H)A</td>\n",
       "      <td>0.000639</td>\n",
       "    </tr>\n",
       "    <tr>\n",
       "      <th>2159</th>\n",
       "      <td>T52(H)S</td>\n",
       "      <td>0.000350</td>\n",
       "    </tr>\n",
       "    <tr>\n",
       "      <th>2160</th>\n",
       "      <td>T52(H)N</td>\n",
       "      <td>0.000318</td>\n",
       "    </tr>\n",
       "    <tr>\n",
       "      <th>2161</th>\n",
       "      <td>T52(H)I</td>\n",
       "      <td>0.002288</td>\n",
       "    </tr>\n",
       "    <tr>\n",
       "      <th>2162</th>\n",
       "      <td>T52(H)T</td>\n",
       "      <td>0.001717</td>\n",
       "    </tr>\n",
       "  </tbody>\n",
       "</table>\n",
       "<p>2163 rows × 2 columns</p>\n",
       "</div>"
      ],
      "text/plain": [
       "       aa_mut  prob_tot\n",
       "0      E1(H)K  0.039288\n",
       "1      E1(H)Q  0.003588\n",
       "2      E1(H)*  0.005062\n",
       "3      E1(H)A  0.010595\n",
       "4      E1(H)G  0.027900\n",
       "...       ...       ...\n",
       "2158  T52(H)A  0.000639\n",
       "2159  T52(H)S  0.000350\n",
       "2160  T52(H)N  0.000318\n",
       "2161  T52(H)I  0.002288\n",
       "2162  T52(H)T  0.001717\n",
       "\n",
       "[2163 rows x 2 columns]"
      ]
     },
     "execution_count": 23,
     "metadata": {},
     "output_type": "execute_result"
    }
   ],
   "source": [
    "calculate_aa_mutation_probabilities(seq_data_df, fivemer_sub_df)"
   ]
  }
 ],
 "metadata": {
  "kernelspec": {
   "display_name": ".venv",
   "language": "python",
   "name": "python3"
  },
  "language_info": {
   "codemirror_mode": {
    "name": "ipython",
    "version": 3
   },
   "file_extension": ".py",
   "mimetype": "text/x-python",
   "name": "python",
   "nbconvert_exporter": "python",
   "pygments_lexer": "ipython3",
   "version": "3.11.9"
  }
 },
 "nbformat": 4,
 "nbformat_minor": 2
}
