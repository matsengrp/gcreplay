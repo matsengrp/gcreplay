{
 "cells": [
  {
   "cell_type": "markdown",
   "metadata": {},
   "source": [
    "# Visualize / Stack `gctree` visualizations\n",
    "\n",
    "This notebook will read in the gctree svg's from each PR and stack them into single images for easier comparison."
   ]
  },
  {
   "cell_type": "code",
   "execution_count": 2,
   "metadata": {},
   "outputs": [
    {
     "name": "stderr",
     "output_type": "stream",
     "text": [
      "/tmp/ipykernel_14377/1927145887.py:4: DeprecationWarning: \n",
      "Pyarrow will become a required dependency of pandas in the next major release of pandas (pandas 3.0),\n",
      "(to allow more performant data types, such as the Arrow string type, and better interoperability with other libraries)\n",
      "but was not found to be installed on your system.\n",
      "If this would cause problems for you,\n",
      "please provide us feedback at https://github.com/pandas-dev/pandas/issues/54466\n",
      "        \n",
      "  import pandas as pd\n"
     ]
    }
   ],
   "source": [
    "import os\n",
    "import sys\n",
    "\n",
    "import pandas as pd\n",
    "import svg_stack as ss\n",
    "from IPython.display import SVG as ip_SVG\n",
    "from IPython.display import display as ip_display\n",
    "import svgutils.transform as sg\n",
    "from svgutils.compose import *"
   ]
  },
  {
   "cell_type": "code",
   "execution_count": 7,
   "metadata": {},
   "outputs": [],
   "source": [
    "manifest_path = '../metadata.PR1.csv'\n",
    "# results_dir = \"results/archive/2024-01-19-full/gctrees\"\n",
    "results_dir = \"results/gctrees\"\n",
    "svg_filename = \"delta_bind.svg\"\n",
    "# svg_filename = \"gctree.inference.1.svg\"\n",
    "output_dir = \"output/gctree_svg_stack_imm_duration\""
   ]
  },
  {
   "cell_type": "code",
   "execution_count": 8,
   "metadata": {},
   "outputs": [
    {
     "data": {
      "text/html": [
       "<div>\n",
       "<style scoped>\n",
       "    .dataframe tbody tr th:only-of-type {\n",
       "        vertical-align: middle;\n",
       "    }\n",
       "\n",
       "    .dataframe tbody tr th {\n",
       "        vertical-align: top;\n",
       "    }\n",
       "\n",
       "    .dataframe thead th {\n",
       "        text-align: right;\n",
       "    }\n",
       "</style>\n",
       "<table border=\"1\" class=\"dataframe\">\n",
       "  <thead>\n",
       "    <tr style=\"text-align: right;\">\n",
       "      <th></th>\n",
       "      <th>PR</th>\n",
       "      <th>imm_duration</th>\n",
       "      <th>strain</th>\n",
       "      <th>mouse</th>\n",
       "      <th>plate</th>\n",
       "      <th>gc</th>\n",
       "      <th>node</th>\n",
       "      <th>cell_type</th>\n",
       "      <th>hc_barcode</th>\n",
       "      <th>lc_barcode</th>\n",
       "      <th>row</th>\n",
       "      <th>col</th>\n",
       "    </tr>\n",
       "  </thead>\n",
       "  <tbody>\n",
       "    <tr>\n",
       "      <th>0</th>\n",
       "      <td>1.04</td>\n",
       "      <td>d20</td>\n",
       "      <td>wt</td>\n",
       "      <td>1</td>\n",
       "      <td>2</td>\n",
       "      <td>1</td>\n",
       "      <td>RP</td>\n",
       "      <td>GC</td>\n",
       "      <td>5</td>\n",
       "      <td>5</td>\n",
       "      <td>A.B.C.D.E.F.G.H</td>\n",
       "      <td>1.2.3.4.5.6.7.8.9.10.11.12</td>\n",
       "    </tr>\n",
       "    <tr>\n",
       "      <th>1</th>\n",
       "      <td>1.04</td>\n",
       "      <td>d20</td>\n",
       "      <td>wt</td>\n",
       "      <td>1</td>\n",
       "      <td>3</td>\n",
       "      <td>2</td>\n",
       "      <td>RP</td>\n",
       "      <td>GC</td>\n",
       "      <td>6</td>\n",
       "      <td>6</td>\n",
       "      <td>A.B.C.D.E.F.G.H</td>\n",
       "      <td>1.2.3.4.5.6.7.8.9.10.11.12</td>\n",
       "    </tr>\n",
       "    <tr>\n",
       "      <th>2</th>\n",
       "      <td>1.08</td>\n",
       "      <td>d20</td>\n",
       "      <td>wt</td>\n",
       "      <td>1</td>\n",
       "      <td>4</td>\n",
       "      <td>3</td>\n",
       "      <td>RP</td>\n",
       "      <td>GC</td>\n",
       "      <td>5</td>\n",
       "      <td>5</td>\n",
       "      <td>A.B.C.D.E.F.G.H</td>\n",
       "      <td>1.2.3.4.5.6.7.8.9.10.11.12</td>\n",
       "    </tr>\n",
       "    <tr>\n",
       "      <th>3</th>\n",
       "      <td>1.08</td>\n",
       "      <td>d20</td>\n",
       "      <td>wt</td>\n",
       "      <td>1</td>\n",
       "      <td>5</td>\n",
       "      <td>4</td>\n",
       "      <td>LP</td>\n",
       "      <td>GC</td>\n",
       "      <td>6</td>\n",
       "      <td>6</td>\n",
       "      <td>A.B.C.D.E.F.G.H</td>\n",
       "      <td>1.2.3.4.5.6.7.8.9.10.11.12</td>\n",
       "    </tr>\n",
       "    <tr>\n",
       "      <th>4</th>\n",
       "      <td>1.08</td>\n",
       "      <td>d20</td>\n",
       "      <td>wt</td>\n",
       "      <td>1</td>\n",
       "      <td>6</td>\n",
       "      <td>5</td>\n",
       "      <td>LP</td>\n",
       "      <td>GC</td>\n",
       "      <td>7</td>\n",
       "      <td>7</td>\n",
       "      <td>A.B.C.D.E.F.G.H</td>\n",
       "      <td>1.2.3.4.5.6.7.8.9.10.11.12</td>\n",
       "    </tr>\n",
       "  </tbody>\n",
       "</table>\n",
       "</div>"
      ],
      "text/plain": [
       "     PR imm_duration strain  mouse  plate  gc node cell_type hc_barcode  \\\n",
       "0  1.04          d20     wt      1      2   1   RP        GC          5   \n",
       "1  1.04          d20     wt      1      3   2   RP        GC          6   \n",
       "2  1.08          d20     wt      1      4   3   RP        GC          5   \n",
       "3  1.08          d20     wt      1      5   4   LP        GC          6   \n",
       "4  1.08          d20     wt      1      6   5   LP        GC          7   \n",
       "\n",
       "  lc_barcode              row                         col  \n",
       "0          5  A.B.C.D.E.F.G.H  1.2.3.4.5.6.7.8.9.10.11.12  \n",
       "1          6  A.B.C.D.E.F.G.H  1.2.3.4.5.6.7.8.9.10.11.12  \n",
       "2          5  A.B.C.D.E.F.G.H  1.2.3.4.5.6.7.8.9.10.11.12  \n",
       "3          6  A.B.C.D.E.F.G.H  1.2.3.4.5.6.7.8.9.10.11.12  \n",
       "4          7  A.B.C.D.E.F.G.H  1.2.3.4.5.6.7.8.9.10.11.12  "
      ]
     },
     "execution_count": 8,
     "metadata": {},
     "output_type": "execute_result"
    }
   ],
   "source": [
    "if not os.path.exists(output_dir):\n",
    "    os.makedirs(output_dir)\n",
    "\n",
    "manifest_df = pd.read_csv(manifest_path)\n",
    "manifest_df.head()\n",
    "# manifest_df.query(f\"PR == 2.01\")"
   ]
  },
  {
   "cell_type": "code",
   "execution_count": 9,
   "metadata": {},
   "outputs": [
    {
     "name": "stdout",
     "output_type": "stream",
     "text": [
      "[1.04 1.08 1.07 1.05 1.03 1.06 1.01 1.02 1.09 1.1 ]\n"
     ]
    }
   ],
   "source": [
    "print(manifest_df.PR.unique())"
   ]
  },
  {
   "cell_type": "code",
   "execution_count": 10,
   "metadata": {},
   "outputs": [
    {
     "name": "stdout",
     "output_type": "stream",
     "text": [
      "Skipping results/gctrees/PR1.09-11-RP-112-GC/delta_bind.svg\n",
      "Skipping results/gctrees/PR1.09-11-RB-116-GC/delta_bind.svg\n"
     ]
    }
   ],
   "source": [
    "\n",
    "# def create_subpanel(svg_path, annotation, position, scale=0.5):\n",
    "\n",
    "# loop through each row, and find the corresponding tree in the results directory named \"PR<PR>-<mouse>-<node>-<gc>-GC\"\n",
    "for duration, duration_df in manifest_df.groupby('imm_duration'):\n",
    "    # Create an empty figure\n",
    "    fig = sg.SVGFigure()\n",
    "\n",
    "    # Initial y position for stacking\n",
    "    y_offset = 60\n",
    "    all_panels = []\n",
    "    all_panels.append(Text(f\"IMM Duration: {duration}\", 550, 15, size=16, weight='bold'))\n",
    "\n",
    "    for pr, pr_df in duration_df.groupby('PR'):\n",
    "\n",
    "        pr_str = f\"{pr:.2f}\"\n",
    "\n",
    "        for i, row in pr_df.iterrows():\n",
    "\n",
    "            position=(10, y_offset)\n",
    "            svg_path = f\"{results_dir}/PR{pr_str}-{row['mouse']}-{row['node']}-{row['gc']}-GC/{svg_filename}\"\n",
    "            annotation = f\"PR: {pr_str}, Mouse: {row['mouse']}, Node: {row['node']}, GC: {row['gc']}\"\n",
    "            # print(svg_path)\n",
    "            if not os.path.exists(svg_path):\n",
    "                print(f\"Skipping {svg_path}\")\n",
    "                # panel = Panel(\n",
    "                #   Text(f\"(!) No tree found for: {annotation}\", 10, 0, size=12, weight='bold', color=\"red\")\n",
    "                # #   Text(f\"(!) No tree found for: {svg_path}\", 10, 0, size=12, weight='bold', color=\"red\")\n",
    "                # ).move(*position)\n",
    "                # all_panels.append(panel)\n",
    "            else:\n",
    "                continue\n",
    "                # Create a subpanel\n",
    "                # panel = Panel(\n",
    "                #         SVG(svg_path).scale(0.3),\n",
    "                #         Text(annotation, 10, -15, size=12, weight='bold')\n",
    "                # ).move(*position)\n",
    "                # all_panels.append(panel)\n",
    "\n",
    "                # y_offset += 250\n",
    "\n",
    "    # fig = Figure(\"%dpx\" % 1250, \"%dpx\" % y_offset, *all_panels)\n",
    "    # fig.save(f\"{output_dir}/{duration}.{svg_filename}\")\n",
    "    # ip_display(ip_SVG(f\"{output_dir}/{duration}.{svg_filename}\"))"
   ]
  },
  {
   "cell_type": "code",
   "execution_count": null,
   "metadata": {},
   "outputs": [],
   "source": []
  },
  {
   "cell_type": "markdown",
   "metadata": {},
   "source": [
    "PR: 1.09, Mouse: 11, Node: RP, GC: 112\n",
    "\n",
    "PR: 1.09, Mouse: 11, Node: RB, GC:116\n",
    "\n",
    "PR: 2.02, Mouse: 12 Node:LP, GC: 12B\n",
    "\n",
    "PR: 2.04, Mouse: 1 Node: RP, GC: 1B"
   ]
  },
  {
   "cell_type": "code",
   "execution_count": null,
   "metadata": {},
   "outputs": [],
   "source": []
  }
 ],
 "metadata": {
  "kernelspec": {
   "display_name": "gcreplay",
   "language": "python",
   "name": "python3"
  },
  "language_info": {
   "codemirror_mode": {
    "name": "ipython",
    "version": 3
   },
   "file_extension": ".py",
   "mimetype": "text/x-python",
   "name": "python",
   "nbconvert_exporter": "python",
   "pygments_lexer": "ipython3",
   "version": "3.12.1"
  }
 },
 "nbformat": 4,
 "nbformat_minor": 2
}
