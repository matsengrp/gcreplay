{
 "cells": [
  {
   "cell_type": "markdown",
   "id": "9fc1a95b",
   "metadata": {
    "papermill": {
     "duration": 0.014772,
     "end_time": "2025-04-04T17:42:14.284866",
     "exception": false,
     "start_time": "2025-04-04T17:42:14.270094",
     "status": "completed"
    },
    "tags": []
   },
   "source": [
    "The goal of this notebook is to understand if the mutation-probability-weighted landscape of affinity changes due to mutation varies through time. We evaluate this using the 10x data.\n",
    "\n",
    "The answer is that it changes ever so slightly, but not enough to worry about."
   ]
  },
  {
   "cell_type": "code",
   "execution_count": 1,
   "id": "e3b88f2b",
   "metadata": {
    "execution": {
     "iopub.execute_input": "2025-04-04T17:42:14.309273Z",
     "iopub.status.busy": "2025-04-04T17:42:14.308671Z",
     "iopub.status.idle": "2025-04-04T17:42:22.679422Z",
     "shell.execute_reply": "2025-04-04T17:42:22.677867Z"
    },
    "papermill": {
     "duration": 8.387941,
     "end_time": "2025-04-04T17:42:22.682056",
     "exception": false,
     "start_time": "2025-04-04T17:42:14.294115",
     "status": "completed"
    },
    "tags": []
   },
   "outputs": [],
   "source": [
    "import os\n",
    "import tempfile\n",
    "cache_dir = tempfile.mkdtemp()\n",
    "os.environ['XDG_CACHE_HOME'] = cache_dir\n",
    "import re\n",
    "\n",
    "from typing import Tuple\n",
    "\n",
    "import numpy as np\n",
    "import pandas as pd\n",
    "import matplotlib.pyplot as plt\n",
    "import seaborn as sns\n",
    "\n",
    "from Bio.Seq import Seq\n",
    "from Bio.Data import CodonTable\n"
   ]
  },
  {
   "cell_type": "code",
   "execution_count": 2,
   "id": "6cd6baf8",
   "metadata": {
    "execution": {
     "iopub.execute_input": "2025-04-04T17:42:22.701829Z",
     "iopub.status.busy": "2025-04-04T17:42:22.701323Z",
     "iopub.status.idle": "2025-04-04T17:42:22.706543Z",
     "shell.execute_reply": "2025-04-04T17:42:22.705331Z"
    },
    "papermill": {
     "duration": 0.015007,
     "end_time": "2025-04-04T17:42:22.708094",
     "exception": false,
     "start_time": "2025-04-04T17:42:22.693087",
     "status": "completed"
    },
    "tags": [
     "parameters"
    ]
   },
   "outputs": [],
   "source": [
    "fivemer_mut_path = \"../data/mutability/MK_RS5NF_mutability.csv\"\n",
    "fivemer_sub_path = \"../data/mutability/MK_RS5NF_substitution.csv\"\n",
    "seq_data_path = \"../results/notebooks/10x/data.csv\"\n",
    "final_variant_scores = \"data/dms/final_variant_scores.csv\""
   ]
  },
  {
   "cell_type": "code",
   "execution_count": 3,
   "id": "5d07e2e1",
   "metadata": {
    "execution": {
     "iopub.execute_input": "2025-04-04T17:42:22.739719Z",
     "iopub.status.busy": "2025-04-04T17:42:22.739296Z",
     "iopub.status.idle": "2025-04-04T17:42:22.744682Z",
     "shell.execute_reply": "2025-04-04T17:42:22.743529Z"
    },
    "papermill": {
     "duration": 0.016819,
     "end_time": "2025-04-04T17:42:22.746711",
     "exception": false,
     "start_time": "2025-04-04T17:42:22.729892",
     "status": "completed"
    },
    "tags": [
     "injected-parameters"
    ]
   },
   "outputs": [],
   "source": [
    "# Parameters\n",
    "fivemer_mut_path = \"MK_RS5NF_mutability.csv\"\n",
    "fivemer_sub_path = \"MK_RS5NF_substitution.csv\"\n",
    "seq_data_path = \"data.csv\"\n",
    "final_variant_scores = \"final_variant_scores.csv\"\n"
   ]
  },
  {
   "cell_type": "code",
   "execution_count": 4,
   "id": "2f9dfef0",
   "metadata": {
    "execution": {
     "iopub.execute_input": "2025-04-04T17:42:22.769437Z",
     "iopub.status.busy": "2025-04-04T17:42:22.768827Z",
     "iopub.status.idle": "2025-04-04T17:42:22.798865Z",
     "shell.execute_reply": "2025-04-04T17:42:22.797902Z"
    },
    "papermill": {
     "duration": 0.04347,
     "end_time": "2025-04-04T17:42:22.800896",
     "exception": false,
     "start_time": "2025-04-04T17:42:22.757426",
     "status": "completed"
    },
    "tags": []
   },
   "outputs": [],
   "source": [
    "fivemer_mut_df = pd.read_csv(fivemer_mut_path, sep=\" \", header=0)\n",
    "fivemer_sub_df = pd.read_csv(fivemer_sub_path, sep=\" \", header=0)\n"
   ]
  },
  {
   "cell_type": "markdown",
   "id": "9d9dd0c3",
   "metadata": {
    "papermill": {
     "duration": 0.006449,
     "end_time": "2025-04-04T17:42:22.820267",
     "exception": false,
     "start_time": "2025-04-04T17:42:22.813818",
     "status": "completed"
    },
    "tags": []
   },
   "source": [
    "#### Read in the sequences and trim to codon boundary"
   ]
  },
  {
   "cell_type": "code",
   "execution_count": 5,
   "id": "6ff598c7",
   "metadata": {
    "execution": {
     "iopub.execute_input": "2025-04-04T17:42:22.841339Z",
     "iopub.status.busy": "2025-04-04T17:42:22.840599Z",
     "iopub.status.idle": "2025-04-04T17:42:22.988751Z",
     "shell.execute_reply": "2025-04-04T17:42:22.987979Z"
    },
    "papermill": {
     "duration": 0.160511,
     "end_time": "2025-04-04T17:42:22.990405",
     "exception": false,
     "start_time": "2025-04-04T17:42:22.829894",
     "status": "completed"
    },
    "tags": []
   },
   "outputs": [
    {
     "name": "stdout",
     "output_type": "stream",
     "text": [
      "Length of nt_seq_H: [336]\n",
      "Length of nt_seq_L: [321]\n"
     ]
    }
   ],
   "source": [
    "seq_data_df = pd.read_csv(seq_data_path, usecols=[\"nt_seq_H\", \"nt_seq_L\", \"time (days)\"])\n",
    "\n",
    "# Check for missing values in the sequence columns\n",
    "assert seq_data_df[\"nt_seq_H\"].isnull().sum() == 0\n",
    "assert seq_data_df[\"nt_seq_L\"].isnull().sum() == 0\n",
    "\n",
    "# Trim sequences to codon boundary\n",
    "seq_data_df[\"nt_seq_H\"] = seq_data_df[\"nt_seq_H\"].apply(lambda x: str(x)[:len(str(x)) // 3 * 3])\n",
    "seq_data_df[\"nt_seq_L\"] = seq_data_df[\"nt_seq_L\"].apply(lambda x: str(x)[:len(str(x)) // 3 * 3])\n",
    "\n",
    "# print the length of all the seq columns\n",
    "print(\"Length of nt_seq_H:\", seq_data_df[\"nt_seq_H\"].str.len().unique())\n",
    "print(\"Length of nt_seq_L:\", seq_data_df[\"nt_seq_L\"].str.len().unique())"
   ]
  },
  {
   "cell_type": "code",
   "execution_count": 6,
   "id": "de7f4b8b",
   "metadata": {
    "execution": {
     "iopub.execute_input": "2025-04-04T17:42:23.010187Z",
     "iopub.status.busy": "2025-04-04T17:42:23.009811Z",
     "iopub.status.idle": "2025-04-04T17:42:23.018240Z",
     "shell.execute_reply": "2025-04-04T17:42:23.017319Z"
    },
    "papermill": {
     "duration": 0.017403,
     "end_time": "2025-04-04T17:42:23.019614",
     "exception": false,
     "start_time": "2025-04-04T17:42:23.002211",
     "status": "completed"
    },
    "tags": []
   },
   "outputs": [
    {
     "data": {
      "text/plain": [
       "('GAGGTGCAGCTTCAGGAGTCAGGACCTAGCCTCGTGAAACCTTCTCAGACTCTGTCCCTCACCTGTTCTGTCACTGGCGACTCCATCACCAGTGGTTACTGGAACTGGATCCGGAAATTCCCAGGGAATAAACTTGAGTACATGGGGTACATCAGCTACAGTGGTAGCACTTACTCCAATCCATCTCTCAAAAGTCGAATCTCCATCACTCGAGACACATCCAAGAACCAGTACTACCTGCAGTTGAATTCTGTGACTACTGAGGACACAGCCACATATTACTGTGCAAGGGACTTCGATGTCTGGGGCGCAGGGACCACGGTCACCGTCTCCTCA',\n",
       " 'GACATTGTGATGACTCAGTCTCAAAAATTCATGTCCACATCAGTAGGAGACAGGGTCAGCGTCACCTGCAAGGCCAGCCAGAATGTGGGTACTAATGTAGGCTGGTATCAACAGAAACCAGGGCAATCTCCTAAAGCACTGATTTACTCGGCATCCTACAGGTACAGTGGAGTCCCTGATCGCTTCACAGGCAGTGGATCTGGGACAGATTTCACTCTCACCATCAGCAATGTGCAGTCTGAAGACTTGGCAGAGTATTTCTGTCAGCAATATAACAGCTATCCTCTCACGTTCGGCTCGGGGACTAAGCTAGAAATAAAA')"
      ]
     },
     "execution_count": 6,
     "metadata": {},
     "output_type": "execute_result"
    }
   ],
   "source": [
    "# get the first sequence\n",
    "seq_data_df[\"nt_seq_H\"].iloc[0], seq_data_df[\"nt_seq_L\"].iloc[0]"
   ]
  },
  {
   "cell_type": "markdown",
   "id": "b64bda7e",
   "metadata": {
    "papermill": {
     "duration": 0.009311,
     "end_time": "2025-04-04T17:42:23.038339",
     "exception": false,
     "start_time": "2025-04-04T17:42:23.029028",
     "status": "completed"
    },
    "tags": []
   },
   "source": [
    "#### Read in the variant scores"
   ]
  },
  {
   "cell_type": "code",
   "execution_count": 7,
   "id": "393b3607",
   "metadata": {
    "execution": {
     "iopub.execute_input": "2025-04-04T17:42:23.055771Z",
     "iopub.status.busy": "2025-04-04T17:42:23.054805Z",
     "iopub.status.idle": "2025-04-04T17:42:23.105908Z",
     "shell.execute_reply": "2025-04-04T17:42:23.105423Z"
    },
    "papermill": {
     "duration": 0.061676,
     "end_time": "2025-04-04T17:42:23.107666",
     "exception": false,
     "start_time": "2025-04-04T17:42:23.045990",
     "status": "completed"
    },
    "tags": []
   },
   "outputs": [
    {
     "data": {
      "text/plain": [
       "(336, 324)"
      ]
     },
     "execution_count": 7,
     "metadata": {},
     "output_type": "execute_result"
    }
   ],
   "source": [
    "final_variant_scores_df = pd.read_csv(final_variant_scores)\n",
    "\n",
    "# renumber positions for the light chain starting at 1\n",
    "mask = final_variant_scores_df[\"chain\"] == \"L\"\n",
    "final_variant_scores_df.loc[mask, \"position\"] -= final_variant_scores_df.loc[mask, \"position\"].min() - 1\n",
    "\n",
    "final_variant_scores_df = final_variant_scores_df[final_variant_scores_df[\"chain\"] != \"link\"]\n",
    "# get the unique \"codon\" entry for final_variant_scores_df.groupby([\"chain\", \"site\"])\n",
    "unique_codons = final_variant_scores_df.groupby([\"chain\", \"position\"])[\"codon\"].unique()\n",
    "# let unique_codons be the first entry of unique_codons\n",
    "unique_codons = unique_codons.apply(lambda x: x[0])\n",
    "# concatenate unique_codons for chain=\"H\" to be one string, naive_H, and for chain=\"L\" to be one string, naive_L\n",
    "naive_H = \"\".join(unique_codons.loc[\"H\"])\n",
    "naive_L = \"\".join(unique_codons.loc[\"L\"])\n",
    "\n",
    "len(naive_H), len(naive_L)"
   ]
  },
  {
   "cell_type": "markdown",
   "id": "f766f6b3",
   "metadata": {
    "papermill": {
     "duration": 0.007891,
     "end_time": "2025-04-04T17:42:23.128313",
     "exception": false,
     "start_time": "2025-04-04T17:42:23.120422",
     "status": "completed"
    },
    "tags": []
   },
   "source": [
    "#### Now let's look at the sequence differences\n",
    "\n",
    "Note above that the naive sequence length is 1 codon longer than the codon-boundary-trimmed 10x data, so we will need to trim the data explicitly."
   ]
  },
  {
   "cell_type": "code",
   "execution_count": 8,
   "id": "7665636f",
   "metadata": {
    "execution": {
     "iopub.execute_input": "2025-04-04T17:42:23.145971Z",
     "iopub.status.busy": "2025-04-04T17:42:23.145629Z",
     "iopub.status.idle": "2025-04-04T17:42:23.690388Z",
     "shell.execute_reply": "2025-04-04T17:42:23.689862Z"
    },
    "papermill": {
     "duration": 0.556531,
     "end_time": "2025-04-04T17:42:23.693028",
     "exception": false,
     "start_time": "2025-04-04T17:42:23.136497",
     "status": "completed"
    },
    "tags": []
   },
   "outputs": [
    {
     "data": {
      "image/png": "[encoded data removed]",
      "text/plain": [
       "<Figure size 1200x400 with 2 Axes>"
      ]
     },
     "metadata": {},
     "output_type": "display_data"
    }
   ],
   "source": [
    "# for nt_seq_H entry, calculate the number of differences from naive_H\n",
    "def diff(seq1, seq2):\n",
    "    assert len(seq1) == len(seq2), f\"Sequences must be of the same length: {len(seq1)} != {len(seq2)}\"\n",
    "    return sum([1 for a, b in zip(seq1, seq2) if a != b])\n",
    "\n",
    "seq_data_df[\"diff_H\"] = seq_data_df[\"nt_seq_H\"].apply(lambda x: diff(x, naive_H))\n",
    "seq_data_df[\"diff_L\"] = seq_data_df[\"nt_seq_L\"].apply(lambda x: diff(x, naive_L[:321]))\n",
    "\n",
    "# make histograms of diff_H and diff_L\n",
    "plt.figure(figsize=(12, 4))\n",
    "\n",
    "# Plot both histograms side by side\n",
    "plt.subplot(121)\n",
    "plt.hist(seq_data_df[\"diff_H\"], bins=50, color=\"blue\", alpha=0.7)\n",
    "plt.title(\"Differences from naive_H\")\n",
    "plt.xlabel(\"Number of differences\")\n",
    "plt.ylabel(\"Frequency\")\n",
    "\n",
    "plt.subplot(122)\n",
    "plt.hist(seq_data_df[\"diff_L\"], bins=50, color=\"orange\", alpha=0.7)\n",
    "plt.title(\"Differences from naive_L\")\n",
    "plt.xlabel(\"Number of differences\")\n",
    "\n",
    "plt.tight_layout()\n",
    "plt.show()\n",
    "\n",
    "# drop the diff_H and diff_L columns\n",
    "seq_data_df = seq_data_df.drop(columns=[\"diff_H\", \"diff_L\"])\n"
   ]
  },
  {
   "cell_type": "code",
   "execution_count": 9,
   "id": "ebb3be42",
   "metadata": {
    "execution": {
     "iopub.execute_input": "2025-04-04T17:42:23.718869Z",
     "iopub.status.busy": "2025-04-04T17:42:23.718189Z",
     "iopub.status.idle": "2025-04-04T17:42:23.739376Z",
     "shell.execute_reply": "2025-04-04T17:42:23.738433Z"
    },
    "papermill": {
     "duration": 0.03229,
     "end_time": "2025-04-04T17:42:23.740850",
     "exception": false,
     "start_time": "2025-04-04T17:42:23.708560",
     "status": "completed"
    },
    "tags": []
   },
   "outputs": [
    {
     "name": "stdout",
     "output_type": "stream",
     "text": [
      "Before downsampling:\n",
      "time (days)\n",
      "8     1499\n",
      "11    1225\n",
      "17    1011\n",
      "14    1005\n",
      "20     780\n",
      "70     701\n",
      "5      120\n",
      "Name: count, dtype: int64\n",
      "\n",
      " After downsampling:\n",
      "time (days)\n",
      "5     100\n",
      "8     100\n",
      "11    100\n",
      "14    100\n",
      "17    100\n",
      "20    100\n",
      "70    100\n",
      "Name: count, dtype: int64\n"
     ]
    }
   ],
   "source": [
    "downsampling_count = 100\n",
    "\n",
    "print(\"Before downsampling:\")\n",
    "print(seq_data_df[\"time (days)\"].value_counts())\n",
    "\n",
    "np.random.seed(42)\n",
    "\n",
    "# Create a new empty DataFrame to hold results\n",
    "result_df = pd.DataFrame()\n",
    "\n",
    "# Process each time value\n",
    "for time_val, group in seq_data_df.groupby(\"time (days)\"):\n",
    "    n_samples = min(downsampling_count, len(group))\n",
    "    sampled = group.sample(n=n_samples, replace=False, random_state=42)\n",
    "    result_df = pd.concat([result_df, sampled])\n",
    "\n",
    "# Reset index of final result\n",
    "result_df = result_df.reset_index(drop=True)\n",
    "\n",
    "# Verify the results\n",
    "print(\"\\n After downsampling:\")\n",
    "seq_data_df = result_df.copy()\n",
    "print(seq_data_df[\"time (days)\"].value_counts())"
   ]
  },
  {
   "cell_type": "code",
   "execution_count": 10,
   "id": "3495a97c",
   "metadata": {
    "execution": {
     "iopub.execute_input": "2025-04-04T17:42:23.764501Z",
     "iopub.status.busy": "2025-04-04T17:42:23.764148Z",
     "iopub.status.idle": "2025-04-04T17:42:23.771388Z",
     "shell.execute_reply": "2025-04-04T17:42:23.770731Z"
    },
    "papermill": {
     "duration": 0.019377,
     "end_time": "2025-04-04T17:42:23.773289",
     "exception": false,
     "start_time": "2025-04-04T17:42:23.753912",
     "status": "completed"
    },
    "tags": []
   },
   "outputs": [],
   "source": [
    "# Create the mutability dictionary directly from the dataframe\n",
    "mutability_dict = dict(zip(fivemer_mut_df['Fivemer'], fivemer_mut_df['Mutability']))\n",
    "\n",
    "def get_sequence_mutability(sequence: str) -> np.ndarray:\n",
    "    \"\"\"\n",
    "    Compute raw mutability scores for each position in a DNA sequence.\n",
    "    \n",
    "    Args:\n",
    "        sequence: A DNA sequence (e.g., \"GAGGTGCAGCTT...\")\n",
    "        \n",
    "    Returns:\n",
    "        numpy array with raw mutability scores\n",
    "    \"\"\"\n",
    "    sequence = sequence.upper()\n",
    "    padded_seq = \"NN\" + sequence + \"NN\"\n",
    "    mutability_scores = np.zeros(len(sequence))\n",
    "    \n",
    "    for i in range(len(sequence)):\n",
    "        fivemer = padded_seq[i:i+5]\n",
    "        mutability_scores[i] = mutability_dict[fivemer]\n",
    "    \n",
    "    return mutability_scores\n",
    "\n",
    "\n",
    "def compute_normalized_mutability_pair(heavy_chain: str, light_chain: str) -> Tuple[np.ndarray, np.ndarray]:\n",
    "    \"\"\"\n",
    "    Compute mutability scores for heavy and light chain sequences, then normalize\n",
    "    them as if they were a single probability vector.\n",
    "    \n",
    "    Args:\n",
    "        heavy_chain: DNA sequence for heavy chain\n",
    "        light_chain: DNA sequence for light chain\n",
    "        \n",
    "    Returns:\n",
    "        Tuple of two numpy arrays with normalized mutability scores\n",
    "    \"\"\"\n",
    "    heavy_mutability = get_sequence_mutability(heavy_chain)\n",
    "    light_mutability = get_sequence_mutability(light_chain)\n",
    "    \n",
    "    total_mutability = np.sum(heavy_mutability) + np.sum(light_mutability)\n",
    "    \n",
    "    # Normalize both sequences using the same total\n",
    "    heavy_normalized = heavy_mutability / total_mutability\n",
    "    light_normalized = light_mutability / total_mutability\n",
    "    \n",
    "    return heavy_normalized, light_normalized"
   ]
  },
  {
   "cell_type": "code",
   "execution_count": 11,
   "id": "75ca51ce",
   "metadata": {
    "execution": {
     "iopub.execute_input": "2025-04-04T17:42:23.802033Z",
     "iopub.status.busy": "2025-04-04T17:42:23.801597Z",
     "iopub.status.idle": "2025-04-04T17:42:23.970219Z",
     "shell.execute_reply": "2025-04-04T17:42:23.969444Z"
    },
    "papermill": {
     "duration": 0.181383,
     "end_time": "2025-04-04T17:42:23.971188",
     "exception": false,
     "start_time": "2025-04-04T17:42:23.789805",
     "status": "completed"
    },
    "tags": []
   },
   "outputs": [],
   "source": [
    "# Apply the function to each pair of sequences in the dataframe\n",
    "normalized_mutability_results = []\n",
    "\n",
    "for _, row in seq_data_df.iterrows():\n",
    "    heavy_chain = row['nt_seq_H']\n",
    "    light_chain = row['nt_seq_L']\n",
    "    \n",
    "    heavy_norm, light_norm = compute_normalized_mutability_pair(heavy_chain, light_chain)\n",
    "    normalized_mutability_results.append((heavy_norm, light_norm))\n",
    "\n",
    "# Unpack the results and add them to the dataframe\n",
    "seq_data_df['norm_mutability_H'] = [result[0] for result in normalized_mutability_results]\n",
    "seq_data_df['norm_mutability_L'] = [result[1] for result in normalized_mutability_results]"
   ]
  },
  {
   "cell_type": "code",
   "execution_count": 12,
   "id": "42b32edc",
   "metadata": {
    "execution": {
     "iopub.execute_input": "2025-04-04T17:42:23.991166Z",
     "iopub.status.busy": "2025-04-04T17:42:23.990843Z",
     "iopub.status.idle": "2025-04-04T17:42:24.364362Z",
     "shell.execute_reply": "2025-04-04T17:42:24.363614Z"
    },
    "papermill": {
     "duration": 0.389453,
     "end_time": "2025-04-04T17:42:24.369771",
     "exception": false,
     "start_time": "2025-04-04T17:42:23.980318",
     "status": "completed"
    },
    "tags": []
   },
   "outputs": [
    {
     "data": {
      "image/png": "[encoded data removed]",
      "text/plain": [
       "<Figure size 1200x400 with 2 Axes>"
      ]
     },
     "metadata": {},
     "output_type": "display_data"
    }
   ],
   "source": [
    "plt.figure(figsize=(12, 4))\n",
    "plt.subplot(121)\n",
    "plt.hist(seq_data_df['norm_mutability_H'].iloc[0], bins=50, color=\"blue\", alpha=0.7)\n",
    "plt.title(\"Normalized Mutability H\")\n",
    "plt.xlabel(\"Normalized Mutability\")\n",
    "plt.ylabel(\"Frequency\")\n",
    "plt.subplot(122)\n",
    "plt.hist(seq_data_df['norm_mutability_L'].iloc[0], bins=50, color=\"orange\", alpha=0.7)\n",
    "plt.title(\"Normalized Mutability L\")\n",
    "plt.xlabel(\"Normalized Mutability\")\n",
    "plt.tight_layout()\n",
    "\n",
    "assert np.isclose(seq_data_df['norm_mutability_H'].iloc[0].sum() + seq_data_df['norm_mutability_L'].iloc[0].sum(), 1.0), \"Normalized mutability scores do not sum to 1\"\n"
   ]
  },
  {
   "cell_type": "code",
   "execution_count": 13,
   "id": "1467330f",
   "metadata": {
    "execution": {
     "iopub.execute_input": "2025-04-04T17:42:24.394661Z",
     "iopub.status.busy": "2025-04-04T17:42:24.394331Z",
     "iopub.status.idle": "2025-04-04T17:42:24.402163Z",
     "shell.execute_reply": "2025-04-04T17:42:24.401370Z"
    },
    "papermill": {
     "duration": 0.019156,
     "end_time": "2025-04-04T17:42:24.403758",
     "exception": false,
     "start_time": "2025-04-04T17:42:24.384602",
     "status": "completed"
    },
    "tags": []
   },
   "outputs": [],
   "source": [
    "def calculate_aa_mutation_probabilities(seq_data_df, fivemer_sub_df):\n",
    "    # Precompute codon table using Biopython\n",
    "    standard_table = CodonTable.standard_dna_table\n",
    "    codon_table = {}\n",
    "    for codon, aa in standard_table.forward_table.items():\n",
    "        codon_table[codon] = aa\n",
    "    # Add stop codons\n",
    "    for codon in standard_table.stop_codons:\n",
    "        codon_table[codon] = '*'\n",
    "    \n",
    "    # Precompute fivemer substitution lookup\n",
    "    fivemer_lookup = {}\n",
    "    for _, row in fivemer_sub_df.iterrows():\n",
    "        fivemer = row['Fivemer']\n",
    "        fivemer_lookup[fivemer] = {\n",
    "            'A': row['A'],\n",
    "            'C': row['C'],\n",
    "            'G': row['G'],\n",
    "            'T': row['T']\n",
    "        }\n",
    "    \n",
    "    aa_mutation_probs = {}\n",
    "    \n",
    "    # Process each sequence\n",
    "    for idx, row in seq_data_df.iterrows():\n",
    "        # Pad sequences for 5mer context only\n",
    "        padded_seq_H = \"NN\" + row['nt_seq_H'] + \"NN\"\n",
    "        padded_seq_L = \"NN\" + row['nt_seq_L'] + \"NN\"\n",
    "        \n",
    "        # Original mutability vectors (no padding needed)\n",
    "        mut_H = row['norm_mutability_H']\n",
    "        mut_L = row['norm_mutability_L']\n",
    "        \n",
    "        # Process heavy chain\n",
    "        process_chain(padded_seq_H, mut_H, 'H', fivemer_lookup, codon_table, aa_mutation_probs)\n",
    "        \n",
    "        # Process light chain\n",
    "        process_chain(padded_seq_L, mut_L, 'L', fivemer_lookup, codon_table, aa_mutation_probs)\n",
    "    \n",
    "    # Convert to dataframe\n",
    "    aa_mut_prob_df = pd.DataFrame({\n",
    "        'aa_mut': list(aa_mutation_probs.keys()),\n",
    "        'prob_tot': list(aa_mutation_probs.values())\n",
    "    })\n",
    "    \n",
    "    return aa_mut_prob_df\n",
    "\n",
    "def process_chain(padded_seq, mutability, chain, fivemer_lookup, codon_table, aa_mutation_probs):\n",
    "    # Original sequence without padding\n",
    "    orig_seq = padded_seq[2:-2]\n",
    "    \n",
    "    # Process each position in the original sequence\n",
    "    for pos in range(len(orig_seq)):\n",
    "        # Get the original nucleotide\n",
    "        orig_nt = orig_seq[pos]\n",
    "        \n",
    "        # Get the padded position (for fivemer context)\n",
    "        padded_pos = pos + 2\n",
    "        \n",
    "        # Get the fivemer centered at this position\n",
    "        fivemer = padded_seq[padded_pos-2:padded_pos+3]\n",
    "        \n",
    "        # Get the codon that this nucleotide is part of\n",
    "        codon_pos = pos - (pos % 3)\n",
    "        orig_codon = orig_seq[codon_pos:codon_pos + 3]\n",
    "        \n",
    "        # Get the original amino acid\n",
    "        orig_aa = codon_table[orig_codon]\n",
    "        \n",
    "        # Calculate 1-indexed amino acid position\n",
    "        aa_pos = (codon_pos // 3) + 1\n",
    "        \n",
    "        # Get the mutability at this position\n",
    "        mut_prob = mutability[pos]\n",
    "        \n",
    "        # For each possible substitution\n",
    "        for new_nt in 'ACGT':\n",
    "            # Skip self-substitutions on the nucleotide level\n",
    "            if new_nt == orig_nt:\n",
    "                continue\n",
    "            \n",
    "            # Calculate the probability of this substitution\n",
    "            sub_prob = fivemer_lookup[fivemer][new_nt]\n",
    "            nt_mut_prob = mut_prob * sub_prob\n",
    "            \n",
    "            # Create the new codon\n",
    "            codon_idx_in_triplet = pos % 3\n",
    "            new_codon = list(orig_codon)\n",
    "            new_codon[codon_idx_in_triplet] = new_nt\n",
    "            new_codon = ''.join(new_codon)\n",
    "            \n",
    "            # Get the new amino acid\n",
    "            new_aa = codon_table[new_codon]\n",
    "            \n",
    "            # Record all mutations, including self-mutations at AA level\n",
    "            aa_mut = f\"{orig_aa}{aa_pos}({chain}){new_aa}\"\n",
    "            \n",
    "            # Update the probability for this amino acid mutation\n",
    "            if aa_mut in aa_mutation_probs:\n",
    "                aa_mutation_probs[aa_mut] += nt_mut_prob\n",
    "            else:\n",
    "                aa_mutation_probs[aa_mut] = nt_mut_prob"
   ]
  },
  {
   "cell_type": "code",
   "execution_count": 14,
   "id": "aeaedffe",
   "metadata": {
    "execution": {
     "iopub.execute_input": "2025-04-04T17:42:24.428320Z",
     "iopub.status.busy": "2025-04-04T17:42:24.427462Z",
     "iopub.status.idle": "2025-04-04T17:42:26.125984Z",
     "shell.execute_reply": "2025-04-04T17:42:26.124218Z"
    },
    "papermill": {
     "duration": 1.712816,
     "end_time": "2025-04-04T17:42:26.128704",
     "exception": false,
     "start_time": "2025-04-04T17:42:24.415888",
     "status": "completed"
    },
    "tags": []
   },
   "outputs": [],
   "source": [
    "# Group the sequences by time and create a dictionary of results\n",
    "mut_probs_by_time = {}\n",
    "for time_value, group_df in seq_data_df.groupby('time (days)'):\n",
    "    mut_probs_by_time[time_value] = calculate_aa_mutation_probabilities(group_df, fivemer_sub_df)"
   ]
  },
  {
   "cell_type": "code",
   "execution_count": 15,
   "id": "a45d74b6",
   "metadata": {
    "execution": {
     "iopub.execute_input": "2025-04-04T17:42:26.162617Z",
     "iopub.status.busy": "2025-04-04T17:42:26.162021Z",
     "iopub.status.idle": "2025-04-04T17:42:26.171032Z",
     "shell.execute_reply": "2025-04-04T17:42:26.170179Z"
    },
    "papermill": {
     "duration": 0.027833,
     "end_time": "2025-04-04T17:42:26.172937",
     "exception": false,
     "start_time": "2025-04-04T17:42:26.145104",
     "status": "completed"
    },
    "tags": []
   },
   "outputs": [],
   "source": [
    "def collapse_by_prefix(df):\n",
    "    # Create a copy of the dataframe to avoid modifying the original\n",
    "    temp_df = df.copy()\n",
    "    \n",
    "    # Extract prefix (all characters except the last) from aa_mut column\n",
    "    temp_df['prefix'] = temp_df['aa_mut'].str[:-1]\n",
    "    \n",
    "    # Group by prefix and sum the probabilities\n",
    "    result_df = temp_df.groupby('prefix')['prob_tot'].sum().reset_index()\n",
    "    \n",
    "    # Rename columns for clarity\n",
    "    result_df = result_df.rename(columns={'prefix': 'aa_mut'})\n",
    "    \n",
    "    # Extract the numeric part for sorting\n",
    "    # This assumes format like E1(H) where 1 is the number to sort by\n",
    "    result_df['sort_key'] = result_df['aa_mut'].str.extract(r'[A-Z](\\d+)')\n",
    "    result_df['sort_key'] = result_df['sort_key'].astype(int)\n",
    "    \n",
    "    # Sort by the numeric value and drop the helper column\n",
    "    result_df = result_df.sort_values('sort_key').drop(columns=['sort_key'])\n",
    "    \n",
    "    return result_df"
   ]
  },
  {
   "cell_type": "markdown",
   "id": "89b8b1dd",
   "metadata": {
    "papermill": {
     "duration": 0.010929,
     "end_time": "2025-04-04T17:42:26.197313",
     "exception": false,
     "start_time": "2025-04-04T17:42:26.186384",
     "status": "completed"
    },
    "tags": []
   },
   "source": [
    "As a check, we can see that there are no non-naive original amino acids at time 5:"
   ]
  },
  {
   "cell_type": "code",
   "execution_count": 16,
   "id": "0dbd9e63",
   "metadata": {
    "execution": {
     "iopub.execute_input": "2025-04-04T17:42:26.219443Z",
     "iopub.status.busy": "2025-04-04T17:42:26.219200Z",
     "iopub.status.idle": "2025-04-04T17:42:26.248118Z",
     "shell.execute_reply": "2025-04-04T17:42:26.247680Z"
    },
    "papermill": {
     "duration": 0.04199,
     "end_time": "2025-04-04T17:42:26.250176",
     "exception": false,
     "start_time": "2025-04-04T17:42:26.208186",
     "status": "completed"
    },
    "tags": []
   },
   "outputs": [
    {
     "data": {
      "text/html": [
       "<div>\n",
       "<style scoped>\n",
       "    .dataframe tbody tr th:only-of-type {\n",
       "        vertical-align: middle;\n",
       "    }\n",
       "\n",
       "    .dataframe tbody tr th {\n",
       "        vertical-align: top;\n",
       "    }\n",
       "\n",
       "    .dataframe thead th {\n",
       "        text-align: right;\n",
       "    }\n",
       "</style>\n",
       "<table border=\"1\" class=\"dataframe\">\n",
       "  <thead>\n",
       "    <tr style=\"text-align: right;\">\n",
       "      <th></th>\n",
       "      <th>aa_mut</th>\n",
       "      <th>prob_tot</th>\n",
       "    </tr>\n",
       "  </thead>\n",
       "  <tbody>\n",
       "    <tr>\n",
       "      <th>15</th>\n",
       "      <td>D1(L)</td>\n",
       "      <td>0.183370</td>\n",
       "    </tr>\n",
       "    <tr>\n",
       "      <th>28</th>\n",
       "      <td>E1(H)</td>\n",
       "      <td>0.280377</td>\n",
       "    </tr>\n",
       "    <tr>\n",
       "      <th>70</th>\n",
       "      <td>I2(L)</td>\n",
       "      <td>0.194248</td>\n",
       "    </tr>\n",
       "    <tr>\n",
       "      <th>213</th>\n",
       "      <td>V2(H)</td>\n",
       "      <td>0.769838</td>\n",
       "    </tr>\n",
       "    <tr>\n",
       "      <th>217</th>\n",
       "      <td>V3(L)</td>\n",
       "      <td>0.337534</td>\n",
       "    </tr>\n",
       "    <tr>\n",
       "      <th>...</th>\n",
       "      <td>...</td>\n",
       "      <td>...</td>\n",
       "    </tr>\n",
       "    <tr>\n",
       "      <th>1</th>\n",
       "      <td>A109(H)</td>\n",
       "      <td>0.004566</td>\n",
       "    </tr>\n",
       "    <tr>\n",
       "      <th>183</th>\n",
       "      <td>T109(H)</td>\n",
       "      <td>0.497187</td>\n",
       "    </tr>\n",
       "    <tr>\n",
       "      <th>209</th>\n",
       "      <td>V110(H)</td>\n",
       "      <td>0.216343</td>\n",
       "    </tr>\n",
       "    <tr>\n",
       "      <th>148</th>\n",
       "      <td>S111(H)</td>\n",
       "      <td>0.225715</td>\n",
       "    </tr>\n",
       "    <tr>\n",
       "      <th>149</th>\n",
       "      <td>S112(H)</td>\n",
       "      <td>0.145041</td>\n",
       "    </tr>\n",
       "  </tbody>\n",
       "</table>\n",
       "<p>244 rows × 2 columns</p>\n",
       "</div>"
      ],
      "text/plain": [
       "      aa_mut  prob_tot\n",
       "15     D1(L)  0.183370\n",
       "28     E1(H)  0.280377\n",
       "70     I2(L)  0.194248\n",
       "213    V2(H)  0.769838\n",
       "217    V3(L)  0.337534\n",
       "..       ...       ...\n",
       "1    A109(H)  0.004566\n",
       "183  T109(H)  0.497187\n",
       "209  V110(H)  0.216343\n",
       "148  S111(H)  0.225715\n",
       "149  S112(H)  0.145041\n",
       "\n",
       "[244 rows x 2 columns]"
      ]
     },
     "execution_count": 16,
     "metadata": {},
     "output_type": "execute_result"
    }
   ],
   "source": [
    "collapse_by_prefix(mut_probs_by_time[5])"
   ]
  },
  {
   "cell_type": "markdown",
   "id": "c45a103c",
   "metadata": {
    "papermill": {
     "duration": 0.015745,
     "end_time": "2025-04-04T17:42:26.295840",
     "exception": false,
     "start_time": "2025-04-04T17:42:26.280095",
     "status": "completed"
    },
    "tags": []
   },
   "source": [
    "But there are at time 70:"
   ]
  },
  {
   "cell_type": "code",
   "execution_count": 17,
   "id": "8e7da566",
   "metadata": {
    "execution": {
     "iopub.execute_input": "2025-04-04T17:42:26.320110Z",
     "iopub.status.busy": "2025-04-04T17:42:26.319590Z",
     "iopub.status.idle": "2025-04-04T17:42:26.341160Z",
     "shell.execute_reply": "2025-04-04T17:42:26.340611Z"
    },
    "papermill": {
     "duration": 0.036007,
     "end_time": "2025-04-04T17:42:26.342831",
     "exception": false,
     "start_time": "2025-04-04T17:42:26.306824",
     "status": "completed"
    },
    "tags": []
   },
   "outputs": [
    {
     "data": {
      "text/html": [
       "<div>\n",
       "<style scoped>\n",
       "    .dataframe tbody tr th:only-of-type {\n",
       "        vertical-align: middle;\n",
       "    }\n",
       "\n",
       "    .dataframe tbody tr th {\n",
       "        vertical-align: top;\n",
       "    }\n",
       "\n",
       "    .dataframe thead th {\n",
       "        text-align: right;\n",
       "    }\n",
       "</style>\n",
       "<table border=\"1\" class=\"dataframe\">\n",
       "  <thead>\n",
       "    <tr style=\"text-align: right;\">\n",
       "      <th></th>\n",
       "      <th>aa_mut</th>\n",
       "      <th>prob_tot</th>\n",
       "    </tr>\n",
       "  </thead>\n",
       "  <tbody>\n",
       "    <tr>\n",
       "      <th>36</th>\n",
       "      <td>D1(L)</td>\n",
       "      <td>0.197975</td>\n",
       "    </tr>\n",
       "    <tr>\n",
       "      <th>55</th>\n",
       "      <td>E1(H)</td>\n",
       "      <td>0.295554</td>\n",
       "    </tr>\n",
       "    <tr>\n",
       "      <th>432</th>\n",
       "      <td>V1(H)</td>\n",
       "      <td>0.016024</td>\n",
       "    </tr>\n",
       "    <tr>\n",
       "      <th>441</th>\n",
       "      <td>V2(H)</td>\n",
       "      <td>0.827921</td>\n",
       "    </tr>\n",
       "    <tr>\n",
       "      <th>156</th>\n",
       "      <td>I2(L)</td>\n",
       "      <td>0.212699</td>\n",
       "    </tr>\n",
       "    <tr>\n",
       "      <th>...</th>\n",
       "      <td>...</td>\n",
       "      <td>...</td>\n",
       "    </tr>\n",
       "    <tr>\n",
       "      <th>154</th>\n",
       "      <td>I110(H)</td>\n",
       "      <td>0.006572</td>\n",
       "    </tr>\n",
       "    <tr>\n",
       "      <th>3</th>\n",
       "      <td>A111(H)</td>\n",
       "      <td>0.003447</td>\n",
       "    </tr>\n",
       "    <tr>\n",
       "      <th>336</th>\n",
       "      <td>S111(H)</td>\n",
       "      <td>0.239302</td>\n",
       "    </tr>\n",
       "    <tr>\n",
       "      <th>337</th>\n",
       "      <td>S112(H)</td>\n",
       "      <td>0.153791</td>\n",
       "    </tr>\n",
       "    <tr>\n",
       "      <th>394</th>\n",
       "      <td>T112(H)</td>\n",
       "      <td>0.005011</td>\n",
       "    </tr>\n",
       "  </tbody>\n",
       "</table>\n",
       "<p>493 rows × 2 columns</p>\n",
       "</div>"
      ],
      "text/plain": [
       "      aa_mut  prob_tot\n",
       "36     D1(L)  0.197975\n",
       "55     E1(H)  0.295554\n",
       "432    V1(H)  0.016024\n",
       "441    V2(H)  0.827921\n",
       "156    I2(L)  0.212699\n",
       "..       ...       ...\n",
       "154  I110(H)  0.006572\n",
       "3    A111(H)  0.003447\n",
       "336  S111(H)  0.239302\n",
       "337  S112(H)  0.153791\n",
       "394  T112(H)  0.005011\n",
       "\n",
       "[493 rows x 2 columns]"
      ]
     },
     "execution_count": 17,
     "metadata": {},
     "output_type": "execute_result"
    }
   ],
   "source": [
    "collapse_by_prefix(mut_probs_by_time[70])"
   ]
  },
  {
   "cell_type": "code",
   "execution_count": 18,
   "id": "58056c04",
   "metadata": {
    "execution": {
     "iopub.execute_input": "2025-04-04T17:42:26.370575Z",
     "iopub.status.busy": "2025-04-04T17:42:26.370077Z",
     "iopub.status.idle": "2025-04-04T17:42:26.383265Z",
     "shell.execute_reply": "2025-04-04T17:42:26.382849Z"
    },
    "papermill": {
     "duration": 0.026583,
     "end_time": "2025-04-04T17:42:26.385101",
     "exception": false,
     "start_time": "2025-04-04T17:42:26.358518",
     "status": "completed"
    },
    "tags": []
   },
   "outputs": [],
   "source": [
    "def parse_mutation_string(mutation_str):\n",
    "    \"\"\"Parse mutation string like 'E1(H)K' into components.\"\"\"\n",
    "    from_aa = mutation_str[0]\n",
    "    to_aa = mutation_str[-1]\n",
    "    \n",
    "    # Extract position and chain\n",
    "    parts = mutation_str[1:-1].split('(')\n",
    "    position = int(parts[0])\n",
    "    chain = parts[1][:-1]  # Remove closing parenthesis\n",
    "    \n",
    "    return from_aa, position, chain, to_aa\n",
    "\n",
    "def compute_mutation_deltas(mut_probs_df, final_variant_scores_df):\n",
    "    \"\"\"Add delta_bind_CGG column to mut_probs_df with binding score changes.\"\"\"\n",
    "    # Build lookup dictionary for binding scores\n",
    "    binding_scores = {}\n",
    "    for _, row in final_variant_scores_df.iterrows():\n",
    "        position = row['position']\n",
    "        chain = row['chain']\n",
    "        amino_acid = row['mutant']\n",
    "        key = (position, chain, amino_acid)\n",
    "        binding_scores[key] = row['delta_bind_CGG']\n",
    "    \n",
    "    # Calculate deltas for each mutation and add to dataframe\n",
    "    delta_values = []\n",
    "    for _, row in mut_probs_df.iterrows():\n",
    "        mutation = row['aa_mut']\n",
    "        from_aa, position, chain, to_aa = parse_mutation_string(mutation)\n",
    "        \n",
    "        # Handle stop codons\n",
    "        if to_aa == '*':\n",
    "            delta_values.append(np.nan)\n",
    "            continue\n",
    "        \n",
    "        from_key = (position, chain, from_aa)\n",
    "        to_key = (position, chain, to_aa)\n",
    "        \n",
    "        assert from_key in binding_scores, f\"Could not find binding score for {from_key}\"\n",
    "        assert to_key in binding_scores, f\"Could not find binding score for {to_key}\"\n",
    "        \n",
    "        from_score = binding_scores[from_key]\n",
    "        to_score = binding_scores[to_key]\n",
    "        \n",
    "        delta_values.append(to_score - from_score)\n",
    "    \n",
    "    # Add the delta values as a new column\n",
    "    mut_probs_df['delta_bind_CGG'] = delta_values\n",
    "    \n",
    "    # Verify against expected deltas\n",
    "    for _, row in final_variant_scores_df.iterrows():\n",
    "        if row['wildtype'] == row['mutant']:\n",
    "            continue  # Skip wild-type entries\n",
    "        \n",
    "        mutation_str = f\"{row['wildtype']}{row['position']}({row['chain']}){row['mutant']}\"\n",
    "        mutation_indices = mut_probs_df.index[mut_probs_df['aa_mut'] == mutation_str].tolist()\n",
    "        \n",
    "        if len(mutation_indices) > 0:\n",
    "            calculated_delta = mut_probs_df.loc[mutation_indices[0], 'delta_bind_CGG']\n",
    "            expected_delta = row['delta_bind_CGG']\n",
    "            \n",
    "            # Skip NaN values\n",
    "            if np.isnan(calculated_delta) or np.isnan(expected_delta):\n",
    "                continue\n",
    "                \n",
    "            if not np.isclose(calculated_delta, expected_delta, atol=1e-4):\n",
    "                print(f\"Calculated delta {calculated_delta} doesn't match expected {expected_delta} for {mutation_str}\")\n",
    "    \n",
    "    return mut_probs_df"
   ]
  },
  {
   "cell_type": "code",
   "execution_count": 19,
   "id": "ebcd745b",
   "metadata": {
    "execution": {
     "iopub.execute_input": "2025-04-04T17:42:26.417928Z",
     "iopub.status.busy": "2025-04-04T17:42:26.417629Z",
     "iopub.status.idle": "2025-04-04T17:42:34.875273Z",
     "shell.execute_reply": "2025-04-04T17:42:34.874406Z"
    },
    "papermill": {
     "duration": 8.47649,
     "end_time": "2025-04-04T17:42:34.877754",
     "exception": false,
     "start_time": "2025-04-04T17:42:26.401264",
     "status": "completed"
    },
    "tags": []
   },
   "outputs": [],
   "source": [
    "for mut_probs in mut_probs_by_time.values():\n",
    "    compute_mutation_deltas(mut_probs, final_variant_scores_df)"
   ]
  },
  {
   "cell_type": "code",
   "execution_count": 20,
   "id": "a9fd99fe",
   "metadata": {
    "execution": {
     "iopub.execute_input": "2025-04-04T17:42:34.906295Z",
     "iopub.status.busy": "2025-04-04T17:42:34.906013Z",
     "iopub.status.idle": "2025-04-04T17:42:34.912267Z",
     "shell.execute_reply": "2025-04-04T17:42:34.911791Z"
    },
    "papermill": {
     "duration": 0.019043,
     "end_time": "2025-04-04T17:42:34.913865",
     "exception": false,
     "start_time": "2025-04-04T17:42:34.894822",
     "status": "completed"
    },
    "tags": []
   },
   "outputs": [],
   "source": [
    "def plot_weighted_histogram(ax, df, bins=40, color='steelblue', alpha=0.7):\n",
    "    \"\"\"\n",
    "    Plot a probability-weighted histogram of delta_bind_CGG values.\n",
    "    \n",
    "    Parameters:\n",
    "    -----------\n",
    "    ax : matplotlib.axes.Axes\n",
    "        The axes to plot on.\n",
    "    df : pandas.DataFrame\n",
    "        DataFrame containing 'prob_tot' and 'delta_bind_CGG' columns.\n",
    "    bins : int or sequence\n",
    "        Number of bins or bin edges for histogram.\n",
    "    color : str\n",
    "        Color for the histogram bars.\n",
    "    alpha : float\n",
    "        Transparency of histogram bars.\n",
    "    \"\"\"\n",
    "    # Filter out rows with NaN in delta_bind_CGG\n",
    "    valid_data = df.dropna(subset=['delta_bind_CGG'])\n",
    "    \n",
    "    if len(valid_data) == 0:\n",
    "        ax.text(0.5, 0.5, \"No valid data\", ha='center', va='center')\n",
    "        return\n",
    "    \n",
    "    # Get weights and values\n",
    "    weights = valid_data['prob_tot'].values\n",
    "    values = valid_data['delta_bind_CGG'].values\n",
    "    \n",
    "    # Normalize weights to sum to 1\n",
    "    weights = weights / weights.sum()\n",
    "    \n",
    "    # Create bin edges ensuring we have bins at -1 and 1 for the clipped values\n",
    "    bin_edges = np.linspace(-1, 1, bins)\n",
    "    \n",
    "    # Count outliers to annotate them\n",
    "    below_min = np.sum(weights[values < -1])\n",
    "    above_max = np.sum(weights[values > 1])\n",
    "    \n",
    "    # Create capped values, binning outliers at the boundaries\n",
    "    capped_values = np.clip(values, -1, 1)\n",
    "    \n",
    "    # Plot histogram\n",
    "    hist = ax.hist(\n",
    "        capped_values,\n",
    "        weights=weights,\n",
    "        bins=bin_edges,\n",
    "        color=color,\n",
    "        alpha=alpha,\n",
    "        edgecolor='black',\n",
    "        linewidth=0.5\n",
    "    )\n",
    "    \n",
    "    # Annotate outliers if they exist\n",
    "    if below_min > 0:\n",
    "        ax.text(-0.98, hist[0][0] * 1.1, f\"{below_min:.3f}\", \n",
    "                va='bottom', ha='left', fontsize=8)\n",
    "    \n",
    "    if above_max > 0:\n",
    "        ax.text(0.98, hist[0][-1] * 1.1, f\"{above_max:.3f}\", \n",
    "                va='bottom', ha='right', fontsize=8)\n",
    "    \n",
    "    # Despine\n",
    "    sns.despine(ax=ax)\n",
    "    \n",
    "    # Add labels\n",
    "    ax.set_xlabel('Δ Binding (CGG)')\n",
    "    ax.set_ylabel('Probability Density')\n",
    "    \n",
    "    # Set x-axis limits\n",
    "    ax.set_xlim(-1.05, 1.05)\n",
    "    \n",
    "    # Show the actual data stats to help debug\n",
    "    ax.text(\n",
    "        0.02, 0.98, \n",
    "        f\"Mean: {np.average(values, weights=weights):.3f}\\nStd: {np.sqrt(np.average((values-np.average(values, weights=weights))**2, weights=weights)):.3f}\", \n",
    "        transform=ax.transAxes,\n",
    "        va='top', ha='left', \n",
    "        fontsize=8,\n",
    "        bbox=dict(facecolor='white', alpha=0.7)\n",
    "    )"
   ]
  },
  {
   "cell_type": "code",
   "execution_count": 21,
   "id": "6b1ba150",
   "metadata": {
    "execution": {
     "iopub.execute_input": "2025-04-04T17:42:34.940875Z",
     "iopub.status.busy": "2025-04-04T17:42:34.940595Z",
     "iopub.status.idle": "2025-04-04T17:42:35.871547Z",
     "shell.execute_reply": "2025-04-04T17:42:35.870698Z"
    },
    "papermill": {
     "duration": 0.946599,
     "end_time": "2025-04-04T17:42:35.875112",
     "exception": false,
     "start_time": "2025-04-04T17:42:34.928513",
     "status": "completed"
    },
    "tags": []
   },
   "outputs": [
    {
     "data": {
      "image/png": "[encoded data removed]",
      "text/plain": [
       "<Figure size 1000x1050 with 7 Axes>"
      ]
     },
     "metadata": {},
     "output_type": "display_data"
    }
   ],
   "source": [
    "# Create a figure with subplots for each timepoint\n",
    "fig, axes = plt.subplots(\n",
    "    len(mut_probs_by_time), \n",
    "    1, \n",
    "    figsize=(10, 1.5 * len(mut_probs_by_time)),\n",
    "    sharex=True,\n",
    "    constrained_layout=True\n",
    ")\n",
    "\n",
    "# If there's only one timepoint, axes won't be an array\n",
    "if len(mut_probs_by_time) == 1:\n",
    "    axes = np.array([axes])\n",
    "\n",
    "# Colors for the histograms\n",
    "colors = sns.color_palette(\"viridis\", len(mut_probs_by_time))\n",
    "\n",
    "# Plot each timepoint\n",
    "for i, (timepoint, df) in enumerate(sorted(mut_probs_by_time.items())):\n",
    "    # Make a copy to avoid modifying the original data\n",
    "    plot_df = df.copy()\n",
    "    \n",
    "    # Ensure we're working with different data for each timepoint\n",
    "    plot_weighted_histogram(\n",
    "        axes[i], \n",
    "        plot_df, \n",
    "        bins=40, \n",
    "        color=colors[i]\n",
    "    )\n",
    "    axes[i].set_title(f\"Time {timepoint}\")\n",
    "    \n",
    "    # For all but the last plot, remove x-axis labels\n",
    "    if i < len(mut_probs_by_time) - 1:\n",
    "        axes[i].set_xlabel(\"\")\n",
    "\n",
    "# Add an overall title\n",
    "fig.suptitle(\"Probability-Weighted Distribution of Δ Binding (CGG) Over Time\", y=1.02)\n",
    "\n",
    "# Show the plot\n",
    "plt.show()"
   ]
  },
  {
   "cell_type": "code",
   "execution_count": 22,
   "id": "a34f6bc1",
   "metadata": {
    "execution": {
     "iopub.execute_input": "2025-04-04T17:42:35.910148Z",
     "iopub.status.busy": "2025-04-04T17:42:35.909589Z",
     "iopub.status.idle": "2025-04-04T17:42:36.207636Z",
     "shell.execute_reply": "2025-04-04T17:42:36.206885Z"
    },
    "papermill": {
     "duration": 0.316729,
     "end_time": "2025-04-04T17:42:36.210678",
     "exception": false,
     "start_time": "2025-04-04T17:42:35.893949",
     "status": "completed"
    },
    "tags": []
   },
   "outputs": [
    {
     "data": {
      "image/png": "[encoded data removed]",
      "text/plain": [
       "<Figure size 1000x600 with 1 Axes>"
      ]
     },
     "metadata": {},
     "output_type": "display_data"
    }
   ],
   "source": [
    "def plot_weighted_ecdf(ax, mut_probs_by_time, colors=None):\n",
    "    \"\"\"\n",
    "    Plot probability-weighted ECDFs of delta_bind_CGG values for multiple timepoints.\n",
    "    \n",
    "    Parameters:\n",
    "    -----------\n",
    "    ax : matplotlib.axes.Axes\n",
    "        The axes to plot on.\n",
    "    mut_probs_by_time : dict\n",
    "        Dictionary mapping timepoint to DataFrames containing 'prob_tot' and 'delta_bind_CGG' columns.\n",
    "    colors : list or None\n",
    "        Colors for each timepoint ECDF line. If None, a default color palette will be used.\n",
    "    \"\"\"\n",
    "    # Create a default color palette if not provided\n",
    "    if colors is None:\n",
    "        colors = sns.color_palette(\"viridis\", len(mut_probs_by_time))\n",
    "    \n",
    "    # Plot ECDF for each timepoint\n",
    "    for i, (timepoint, df) in enumerate(sorted(mut_probs_by_time.items())):\n",
    "        # Filter out rows with NaN in delta_bind_CGG\n",
    "        valid_data = df.dropna(subset=['delta_bind_CGG'])\n",
    "        \n",
    "        if len(valid_data) == 0:\n",
    "            continue\n",
    "        \n",
    "        # Get weights and values\n",
    "        weights = valid_data['prob_tot'].values\n",
    "        values = valid_data['delta_bind_CGG'].values\n",
    "        \n",
    "        # Normalize weights to sum to 1\n",
    "        weights = weights / weights.sum()\n",
    "        \n",
    "        # Sort values and compute cumulative probabilities\n",
    "        sorted_indices = np.argsort(values)\n",
    "        sorted_values = values[sorted_indices]\n",
    "        sorted_weights = weights[sorted_indices]\n",
    "        cumulative_prob = np.cumsum(sorted_weights)\n",
    "        \n",
    "        # Plot ECDF\n",
    "        ax.step(\n",
    "            sorted_values, \n",
    "            cumulative_prob, \n",
    "            where='post',\n",
    "            color=colors[i], \n",
    "            linewidth=2,\n",
    "            label=f\"Time {timepoint}\"\n",
    "        )\n",
    "        \n",
    "        # Annotate points below -1 and above 1 if they exist\n",
    "        below_min = np.sum(weights[values < -1])\n",
    "        if below_min > 0:\n",
    "            ax.plot([-1], [below_min], 'o', color=colors[i], markersize=5)\n",
    "            ax.text(-1, below_min, f\" {below_min:.3f}\", va='center', fontsize=8)\n",
    "        \n",
    "        # Find the cumulative probability at value = 1\n",
    "        above_max_idx = np.searchsorted(sorted_values, 1, side='right') - 1\n",
    "        if above_max_idx >= 0:\n",
    "            cum_prob_at_max = cumulative_prob[above_max_idx]\n",
    "            ax.plot([1], [cum_prob_at_max], 'o', color=colors[i], markersize=5)\n",
    "            \n",
    "            # Only annotate if there are values above 1\n",
    "            if cum_prob_at_max < 1:\n",
    "                ax.text(1, cum_prob_at_max, f\" {cum_prob_at_max:.3f}\", va='center', fontsize=8)\n",
    "    \n",
    "    # Add grid, legend, and labels\n",
    "    ax.grid(True, linestyle='--', alpha=0.7)\n",
    "    ax.legend(loc='best')\n",
    "    ax.set_xlabel('Δ Binding (CGG)')\n",
    "    ax.set_ylabel('Cumulative Probability')\n",
    "    \n",
    "    # Set axis limits\n",
    "    ax.set_xlim(-1.05, 1.05)\n",
    "    ax.set_ylim(0, 1.02)\n",
    "    \n",
    "    # Despine\n",
    "    sns.despine(ax=ax)\n",
    "\n",
    "# Create a figure with a single axes\n",
    "fig, ax = plt.subplots(figsize=(10, 6), constrained_layout=True)\n",
    "\n",
    "# Colors for the ECDFs\n",
    "colors = sns.color_palette(\"viridis\", len(mut_probs_by_time))\n",
    "\n",
    "# Plot all timepoints on the same axes\n",
    "plot_weighted_ecdf(ax, mut_probs_by_time, colors=colors)\n",
    "\n",
    "# Add a title\n",
    "ax.set_title(\"Probability-Weighted ECDFs of Δ Binding (CGG) Over Time\")\n",
    "\n",
    "# Show the plot\n",
    "plt.show()"
   ]
  }
 ],
 "metadata": {
  "kernelspec": {
   "display_name": ".venv",
   "language": "python",
   "name": "python3"
  },
  "language_info": {
   "codemirror_mode": {
    "name": "ipython",
    "version": 3
   },
   "file_extension": ".py",
   "mimetype": "text/x-python",
   "name": "python",
   "nbconvert_exporter": "python",
   "pygments_lexer": "ipython3",
   "version": "3.10.16"
  },
  "papermill": {
   "default_parameters": {},
   "duration": 24.371878,
   "end_time": "2025-04-04T17:42:36.651568",
   "environment_variables": {},
   "exception": null,
   "input_path": "mutation-profile-10x.ipynb",
   "output_path": "mutation-profile-10x.ipynb",
   "parameters": {
    "final_variant_scores": "final_variant_scores.csv",
    "fivemer_mut_path": "MK_RS5NF_mutability.csv",
    "fivemer_sub_path": "MK_RS5NF_substitution.csv",
    "seq_data_path": "data.csv"
   },
   "start_time": "2025-04-04T17:42:12.279690",
   "version": "2.6.0"
  }
 },
 "nbformat": 4,
 "nbformat_minor": 5
}