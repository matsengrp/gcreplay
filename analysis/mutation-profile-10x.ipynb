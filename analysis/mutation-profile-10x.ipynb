{
 "cells": [
  {
   "cell_type": "code",
   "execution_count": 1,
   "metadata": {},
   "outputs": [],
   "source": [
    "import os\n",
    "import tempfile\n",
    "cache_dir = tempfile.mkdtemp()\n",
    "os.environ['XDG_CACHE_HOME'] = cache_dir\n",
    "import re\n",
    "\n",
    "from typing import Tuple\n",
    "\n",
    "import numpy as np\n",
    "import pandas as pd\n",
    "import matplotlib.pyplot as plt\n",
    "import seaborn as sns\n",
    "\n",
    "from Bio.Seq import Seq\n",
    "from Bio.Data import CodonTable\n"
   ]
  },
  {
   "cell_type": "code",
   "execution_count": 2,
   "metadata": {},
   "outputs": [],
   "source": [
    "fivemer_mut_path = \"../data/mutability/MK_RS5NF_mutability.csv\"\n",
    "fivemer_sub_path = \"../data/mutability/MK_RS5NF_substitution.csv\"\n",
    "seq_data_path = \"../results/notebooks/10x/data.csv\"\n",
    "final_variant_scores = \"data/dms/final_variant_scores.csv\""
   ]
  },
  {
   "cell_type": "markdown",
   "metadata": {},
   "source": [
    "* Pad the sequence with Ns and get per-site mutabilities and substitutions for each chain\n",
    "* Concatenate those and the unpadded sequences\n",
    "* Normalize the mutabilities because we are conditioning on there being a mutation\n",
    "* For every mutation at every site, get its probability and amino-acid level effect\n",
    "    * if it WT, we \n",
    "Get per-site mutabilities and then transform them into codon things?"
   ]
  },
  {
   "cell_type": "code",
   "execution_count": 3,
   "metadata": {},
   "outputs": [],
   "source": [
    "fivemer_mut_df = pd.read_csv(fivemer_mut_path, sep=\" \", header=0)\n",
    "fivemer_sub_df = pd.read_csv(fivemer_sub_path, sep=\" \", header=0)\n",
    "fivemer_mut_df.head().to_clipboard()\n",
    "fivemer_sub_df.head().to_clipboard()\n"
   ]
  },
  {
   "cell_type": "markdown",
   "metadata": {},
   "source": [
    "#### Read in the sequences and trim to codon boundary"
   ]
  },
  {
   "cell_type": "code",
   "execution_count": 4,
   "metadata": {},
   "outputs": [
    {
     "name": "stdout",
     "output_type": "stream",
     "text": [
      "Length of nt_seq_H: [336]\n",
      "Length of nt_seq_L: [321]\n"
     ]
    }
   ],
   "source": [
    "seq_data_df = pd.read_csv(seq_data_path, usecols=[\"nt_seq_H\", \"nt_seq_L\", \"time (days)\"])\n",
    "\n",
    "# Check for missing values in the sequence columns\n",
    "assert seq_data_df[\"nt_seq_H\"].isnull().sum() == 0\n",
    "assert seq_data_df[\"nt_seq_L\"].isnull().sum() == 0\n",
    "\n",
    "# Trim sequences to codon boundary\n",
    "seq_data_df[\"nt_seq_H\"] = seq_data_df[\"nt_seq_H\"].apply(lambda x: str(x)[:len(str(x)) // 3 * 3])\n",
    "seq_data_df[\"nt_seq_L\"] = seq_data_df[\"nt_seq_L\"].apply(lambda x: str(x)[:len(str(x)) // 3 * 3])\n",
    "\n",
    "# print the length of all the seq columns\n",
    "print(\"Length of nt_seq_H:\", seq_data_df[\"nt_seq_H\"].str.len().unique())\n",
    "print(\"Length of nt_seq_L:\", seq_data_df[\"nt_seq_L\"].str.len().unique())"
   ]
  },
  {
   "cell_type": "code",
   "execution_count": 5,
   "metadata": {},
   "outputs": [
    {
     "data": {
      "text/plain": [
       "('GAGGTGCAGCTTCAGGAGTCAGGACCTAGCCTCGTGAAACCTTCTCAGACTCTGTCCCTCACCTGTTCTGTCACTGGCGACTCCATCACCAGTGGTTACTGGAACTGGATCCGGAAATTCCCAGGGAATAAACTTGAGTACATGGGGTACATCAGCTACAGTGGTAGCACTTACTCCAATCCATCTCTCAAAAGTCGAATCTCCATCACTCGAGACACATCCAAGAACCAGTACTACCTGCAGTTGAATTCTGTGACTACTGAGGACACAGCCACATATTACTGTGCAAGGGACTTCGATGTCTGGGGCGCAGGGACCACGGTCACCGTCTCCTCA',\n",
       " 'GACATTGTGATGACTCAGTCTCAAAAATTCATGTCCACATCAGTAGGAGACAGGGTCAGCGTCACCTGCAAGGCCAGCCAGAATGTGGGTACTAATGTAGGCTGGTATCAACAGAAACCAGGGCAATCTCCTAAAGCACTGATTTACTCGGCATCCTACAGGTACAGTGGAGTCCCTGATCGCTTCACAGGCAGTGGATCTGGGACAGATTTCACTCTCACCATCAGCAATGTGCAGTCTGAAGACTTGGCAGAGTATTTCTGTCAGCAATATAACAGCTATCCTCTCACGTTCGGCTCGGGGACTAAGCTAGAAATAAAA')"
      ]
     },
     "execution_count": 5,
     "metadata": {},
     "output_type": "execute_result"
    }
   ],
   "source": [
    "# get the first sequence\n",
    "seq_data_df[\"nt_seq_H\"].iloc[0], seq_data_df[\"nt_seq_L\"].iloc[0]"
   ]
  },
  {
   "cell_type": "code",
   "execution_count": 6,
   "metadata": {},
   "outputs": [
    {
     "data": {
      "text/plain": [
       "(336, 324)"
      ]
     },
     "execution_count": 6,
     "metadata": {},
     "output_type": "execute_result"
    }
   ],
   "source": [
    "final_variant_scores_df = pd.read_csv(final_variant_scores)\n",
    "final_variant_scores_df = final_variant_scores_df[final_variant_scores_df[\"chain\"] != \"link\"]\n",
    "# get the unique \"codon\" entry for final_variant_scores_df.groupby([\"chain\", \"site\"])\n",
    "unique_codons = final_variant_scores_df.groupby([\"chain\", \"position\"])[\"codon\"].unique()\n",
    "# let unique_codons be the first entry of unique_codons\n",
    "unique_codons = unique_codons.apply(lambda x: x[0])\n",
    "# concatenate unique_codons for chain=\"H\" to be one string, naive_H, and for chain=\"L\" to be one string, naive_L\n",
    "naive_H = \"\".join(unique_codons.loc[\"H\"])\n",
    "naive_L = \"\".join(unique_codons.loc[\"L\"])\n",
    "\n",
    "len(naive_H), len(naive_L)"
   ]
  },
  {
   "cell_type": "markdown",
   "metadata": {},
   "source": [
    "Note above that the naive sequence length is 1 codon longer than the codon-boundary-trimmed 10x data, so we will need to trim the data explicitly."
   ]
  },
  {
   "cell_type": "code",
   "execution_count": 7,
   "metadata": {},
   "outputs": [
    {
     "data": {
      "image/png": "[encoded data removed]",
      "text/plain": [
       "<Figure size 1200x400 with 2 Axes>"
      ]
     },
     "metadata": {},
     "output_type": "display_data"
    }
   ],
   "source": [
    "# for nt_seq_H entry, calculate the number of differences from naive_H\n",
    "def diff(seq1, seq2):\n",
    "    assert len(seq1) == len(seq2), f\"Sequences must be of the same length: {len(seq1)} != {len(seq2)}\"\n",
    "    return sum([1 for a, b in zip(seq1, seq2) if a != b])\n",
    "\n",
    "seq_data_df[\"diff_H\"] = seq_data_df[\"nt_seq_H\"].apply(lambda x: diff(x, naive_H))\n",
    "seq_data_df[\"diff_L\"] = seq_data_df[\"nt_seq_L\"].apply(lambda x: diff(x, naive_L[:321]))\n",
    "\n",
    "# make histograms of diff_H and diff_L\n",
    "plt.figure(figsize=(12, 4))\n",
    "\n",
    "# Plot both histograms side by side\n",
    "plt.subplot(121)\n",
    "plt.hist(seq_data_df[\"diff_H\"], bins=50, color=\"blue\", alpha=0.7)\n",
    "plt.title(\"Differences from naive_H\")\n",
    "plt.xlabel(\"Number of differences\")\n",
    "plt.ylabel(\"Frequency\")\n",
    "\n",
    "plt.subplot(122)\n",
    "plt.hist(seq_data_df[\"diff_L\"], bins=50, color=\"orange\", alpha=0.7)\n",
    "plt.title(\"Differences from naive_L\")\n",
    "plt.xlabel(\"Number of differences\")\n",
    "\n",
    "plt.tight_layout()\n",
    "plt.show()\n",
    "\n",
    "# drop the diff_H and diff_L columns\n",
    "seq_data_df = seq_data_df.drop(columns=[\"diff_H\", \"diff_L\"])\n"
   ]
  },
  {
   "cell_type": "code",
   "execution_count": 8,
   "metadata": {},
   "outputs": [
    {
     "name": "stdout",
     "output_type": "stream",
     "text": [
      "Before downsampling:\n",
      "time (days)\n",
      "8     1499\n",
      "11    1225\n",
      "17    1011\n",
      "14    1005\n",
      "20     780\n",
      "70     701\n",
      "5      120\n",
      "Name: count, dtype: int64\n",
      "\n",
      " After downsampling:\n",
      "time (days)\n",
      "5     100\n",
      "8     100\n",
      "11    100\n",
      "14    100\n",
      "17    100\n",
      "20    100\n",
      "70    100\n",
      "Name: count, dtype: int64\n"
     ]
    }
   ],
   "source": [
    "downsampling_count = 100\n",
    "\n",
    "print(\"Before downsampling:\")\n",
    "print(seq_data_df[\"time (days)\"].value_counts())\n",
    "\n",
    "np.random.seed(42)\n",
    "\n",
    "# Create a new empty DataFrame to hold results\n",
    "result_df = pd.DataFrame()\n",
    "\n",
    "# Process each time value\n",
    "for time_val, group in seq_data_df.groupby(\"time (days)\"):\n",
    "    n_samples = min(downsampling_count, len(group))\n",
    "    sampled = group.sample(n=n_samples, replace=False, random_state=42)\n",
    "    result_df = pd.concat([result_df, sampled])\n",
    "\n",
    "# Reset index of final result\n",
    "result_df = result_df.reset_index(drop=True)\n",
    "\n",
    "# Verify the results\n",
    "print(\"\\n After downsampling:\")\n",
    "seq_data_df = result_df.copy()\n",
    "print(seq_data_df[\"time (days)\"].value_counts())"
   ]
  },
  {
   "cell_type": "code",
   "execution_count": 9,
   "metadata": {},
   "outputs": [],
   "source": [
    "# Create the mutability dictionary directly from the dataframe\n",
    "mutability_dict = dict(zip(fivemer_mut_df['Fivemer'], fivemer_mut_df['Mutability']))\n",
    "\n",
    "def get_sequence_mutability(sequence: str) -> np.ndarray:\n",
    "    \"\"\"\n",
    "    Compute raw mutability scores for each position in a DNA sequence.\n",
    "    \n",
    "    Args:\n",
    "        sequence: A DNA sequence (e.g., \"GAGGTGCAGCTT...\")\n",
    "        \n",
    "    Returns:\n",
    "        numpy array with raw mutability scores\n",
    "    \"\"\"\n",
    "    sequence = sequence.upper()\n",
    "    padded_seq = \"NN\" + sequence + \"NN\"\n",
    "    mutability_scores = np.zeros(len(sequence))\n",
    "    \n",
    "    for i in range(len(sequence)):\n",
    "        fivemer = padded_seq[i:i+5]\n",
    "        mutability_scores[i] = mutability_dict[fivemer]\n",
    "    \n",
    "    return mutability_scores\n",
    "\n",
    "\n",
    "def compute_normalized_mutability_pair(heavy_chain: str, light_chain: str) -> Tuple[np.ndarray, np.ndarray]:\n",
    "    \"\"\"\n",
    "    Compute mutability scores for heavy and light chain sequences, then normalize\n",
    "    them as if they were a single probability vector.\n",
    "    \n",
    "    Args:\n",
    "        heavy_chain: DNA sequence for heavy chain\n",
    "        light_chain: DNA sequence for light chain\n",
    "        \n",
    "    Returns:\n",
    "        Tuple of two numpy arrays with normalized mutability scores\n",
    "    \"\"\"\n",
    "    heavy_mutability = get_sequence_mutability(heavy_chain)\n",
    "    light_mutability = get_sequence_mutability(light_chain)\n",
    "    \n",
    "    total_mutability = np.sum(heavy_mutability) + np.sum(light_mutability)\n",
    "    \n",
    "    # Normalize both sequences using the same total\n",
    "    heavy_normalized = heavy_mutability / total_mutability\n",
    "    light_normalized = light_mutability / total_mutability\n",
    "    \n",
    "    return heavy_normalized, light_normalized"
   ]
  },
  {
   "cell_type": "code",
   "execution_count": 10,
   "metadata": {},
   "outputs": [],
   "source": [
    "# Apply the function to each pair of sequences in the dataframe\n",
    "normalized_mutability_results = []\n",
    "\n",
    "for _, row in seq_data_df.iterrows():\n",
    "    heavy_chain = row['nt_seq_H']\n",
    "    light_chain = row['nt_seq_L']\n",
    "    \n",
    "    heavy_norm, light_norm = compute_normalized_mutability_pair(heavy_chain, light_chain)\n",
    "    normalized_mutability_results.append((heavy_norm, light_norm))\n",
    "\n",
    "# Unpack the results and add them to the dataframe\n",
    "seq_data_df['norm_mutability_H'] = [result[0] for result in normalized_mutability_results]\n",
    "seq_data_df['norm_mutability_L'] = [result[1] for result in normalized_mutability_results]"
   ]
  },
  {
   "cell_type": "code",
   "execution_count": 11,
   "metadata": {},
   "outputs": [
    {
     "data": {
      "image/png": "[encoded data removed]",
      "text/plain": [
       "<Figure size 1200x400 with 2 Axes>"
      ]
     },
     "metadata": {},
     "output_type": "display_data"
    }
   ],
   "source": [
    "# make a loy-y histogram of the first row of normalized mutability scores\n",
    "plt.figure(figsize=(12, 4))\n",
    "plt.subplot(121)\n",
    "plt.hist(seq_data_df['norm_mutability_H'].iloc[0], bins=50, color=\"blue\", alpha=0.7)\n",
    "plt.title(\"Normalized Mutability H\")\n",
    "plt.xlabel(\"Normalized Mutability\")\n",
    "plt.ylabel(\"Frequency\")\n",
    "plt.subplot(122)\n",
    "plt.hist(seq_data_df['norm_mutability_L'].iloc[0], bins=50, color=\"orange\", alpha=0.7)\n",
    "plt.title(\"Normalized Mutability L\")\n",
    "plt.xlabel(\"Normalized Mutability\")\n",
    "plt.tight_layout()\n",
    "\n",
    "assert np.isclose(seq_data_df['norm_mutability_H'].iloc[0].sum() + seq_data_df['norm_mutability_L'].iloc[0].sum(), 1.0), \"Normalized mutability scores do not sum to 1\"\n"
   ]
  },
  {
   "cell_type": "code",
   "execution_count": 12,
   "metadata": {},
   "outputs": [
    {
     "data": {
      "application/vnd.microsoft.datawrangler.viewer.v0+json": {
       "columns": [
        {
         "name": "index",
         "rawType": "int64",
         "type": "integer"
        },
        {
         "name": "target",
         "rawType": "object",
         "type": "string"
        },
        {
         "name": "wildtype",
         "rawType": "object",
         "type": "string"
        },
        {
         "name": "position",
         "rawType": "int64",
         "type": "integer"
        },
        {
         "name": "position_IMGT",
         "rawType": "float64",
         "type": "float"
        },
        {
         "name": "chain",
         "rawType": "object",
         "type": "string"
        },
        {
         "name": "annotation",
         "rawType": "object",
         "type": "string"
        },
        {
         "name": "mutant",
         "rawType": "object",
         "type": "string"
        },
        {
         "name": "mutation",
         "rawType": "object",
         "type": "string"
        },
        {
         "name": "codon",
         "rawType": "object",
         "type": "string"
        },
        {
         "name": "single_nt",
         "rawType": "object",
         "type": "unknown"
        },
        {
         "name": "bind_CGG",
         "rawType": "float64",
         "type": "float"
        },
        {
         "name": "delta_bind_CGG",
         "rawType": "float64",
         "type": "float"
        },
        {
         "name": "n_bc_bind_CGG",
         "rawType": "int64",
         "type": "integer"
        },
        {
         "name": "n_libs_bind_CGG",
         "rawType": "int64",
         "type": "integer"
        },
        {
         "name": "expr",
         "rawType": "float64",
         "type": "float"
        },
        {
         "name": "delta_expr",
         "rawType": "float64",
         "type": "float"
        },
        {
         "name": "n_bc_expr",
         "rawType": "int64",
         "type": "integer"
        },
        {
         "name": "n_libs_expr",
         "rawType": "int64",
         "type": "integer"
        }
       ],
       "conversionMethod": "pd.DataFrame",
       "ref": "64d24ea8-c14d-4b5d-ae1e-c72c365dcc4e",
       "rows": [
        [
         "0",
         "CGG_naive",
         "E",
         "1",
         "1.0",
         "H",
         "FWRH1",
         "A",
         "E1(H)A",
         "GAG",
         "True",
         "8.74239",
         "0.11933",
         "20",
         "2",
         "10.45318",
         "-0.00246",
         "20",
         "2"
        ],
        [
         "1",
         "CGG_naive",
         "E",
         "1",
         "1.0",
         "H",
         "FWRH1",
         "C",
         "E1(H)C",
         "GAG",
         "False",
         "8.60813",
         "-0.01492",
         "22",
         "2",
         "10.33348",
         "-0.12216",
         "22",
         "2"
        ],
        [
         "2",
         "CGG_naive",
         "E",
         "1",
         "1.0",
         "H",
         "FWRH1",
         "D",
         "E1(H)D",
         "GAG",
         "True",
         "8.63554",
         "0.01249",
         "18",
         "2",
         "10.50438",
         "0.04874",
         "18",
         "2"
        ],
        [
         "3",
         "CGG_naive",
         "E",
         "1",
         "1.0",
         "H",
         "FWRH1",
         "E",
         "E1(H)E",
         "GAG",
         "True",
         "8.62305",
         "0.0",
         "23285",
         "2",
         "10.45565",
         "0.0",
         "23285",
         "2"
        ],
        [
         "4",
         "CGG_naive",
         "E",
         "1",
         "1.0",
         "H",
         "FWRH1",
         "F",
         "E1(H)F",
         "GAG",
         "False",
         "8.75738",
         "0.13433",
         "29",
         "2",
         "10.34185",
         "-0.11379",
         "29",
         "2"
        ]
       ],
       "shape": {
        "columns": 18,
        "rows": 5
       }
      },
      "text/html": [
       "<div>\n",
       "<style scoped>\n",
       "    .dataframe tbody tr th:only-of-type {\n",
       "        vertical-align: middle;\n",
       "    }\n",
       "\n",
       "    .dataframe tbody tr th {\n",
       "        vertical-align: top;\n",
       "    }\n",
       "\n",
       "    .dataframe thead th {\n",
       "        text-align: right;\n",
       "    }\n",
       "</style>\n",
       "<table border=\"1\" class=\"dataframe\">\n",
       "  <thead>\n",
       "    <tr style=\"text-align: right;\">\n",
       "      <th></th>\n",
       "      <th>target</th>\n",
       "      <th>wildtype</th>\n",
       "      <th>position</th>\n",
       "      <th>position_IMGT</th>\n",
       "      <th>chain</th>\n",
       "      <th>annotation</th>\n",
       "      <th>mutant</th>\n",
       "      <th>mutation</th>\n",
       "      <th>codon</th>\n",
       "      <th>single_nt</th>\n",
       "      <th>bind_CGG</th>\n",
       "      <th>delta_bind_CGG</th>\n",
       "      <th>n_bc_bind_CGG</th>\n",
       "      <th>n_libs_bind_CGG</th>\n",
       "      <th>expr</th>\n",
       "      <th>delta_expr</th>\n",
       "      <th>n_bc_expr</th>\n",
       "      <th>n_libs_expr</th>\n",
       "    </tr>\n",
       "  </thead>\n",
       "  <tbody>\n",
       "    <tr>\n",
       "      <th>0</th>\n",
       "      <td>CGG_naive</td>\n",
       "      <td>E</td>\n",
       "      <td>1</td>\n",
       "      <td>1.0</td>\n",
       "      <td>H</td>\n",
       "      <td>FWRH1</td>\n",
       "      <td>A</td>\n",
       "      <td>E1(H)A</td>\n",
       "      <td>GAG</td>\n",
       "      <td>True</td>\n",
       "      <td>8.74239</td>\n",
       "      <td>0.11933</td>\n",
       "      <td>20</td>\n",
       "      <td>2</td>\n",
       "      <td>10.45318</td>\n",
       "      <td>-0.00246</td>\n",
       "      <td>20</td>\n",
       "      <td>2</td>\n",
       "    </tr>\n",
       "    <tr>\n",
       "      <th>1</th>\n",
       "      <td>CGG_naive</td>\n",
       "      <td>E</td>\n",
       "      <td>1</td>\n",
       "      <td>1.0</td>\n",
       "      <td>H</td>\n",
       "      <td>FWRH1</td>\n",
       "      <td>C</td>\n",
       "      <td>E1(H)C</td>\n",
       "      <td>GAG</td>\n",
       "      <td>False</td>\n",
       "      <td>8.60813</td>\n",
       "      <td>-0.01492</td>\n",
       "      <td>22</td>\n",
       "      <td>2</td>\n",
       "      <td>10.33348</td>\n",
       "      <td>-0.12216</td>\n",
       "      <td>22</td>\n",
       "      <td>2</td>\n",
       "    </tr>\n",
       "    <tr>\n",
       "      <th>2</th>\n",
       "      <td>CGG_naive</td>\n",
       "      <td>E</td>\n",
       "      <td>1</td>\n",
       "      <td>1.0</td>\n",
       "      <td>H</td>\n",
       "      <td>FWRH1</td>\n",
       "      <td>D</td>\n",
       "      <td>E1(H)D</td>\n",
       "      <td>GAG</td>\n",
       "      <td>True</td>\n",
       "      <td>8.63554</td>\n",
       "      <td>0.01249</td>\n",
       "      <td>18</td>\n",
       "      <td>2</td>\n",
       "      <td>10.50438</td>\n",
       "      <td>0.04874</td>\n",
       "      <td>18</td>\n",
       "      <td>2</td>\n",
       "    </tr>\n",
       "    <tr>\n",
       "      <th>3</th>\n",
       "      <td>CGG_naive</td>\n",
       "      <td>E</td>\n",
       "      <td>1</td>\n",
       "      <td>1.0</td>\n",
       "      <td>H</td>\n",
       "      <td>FWRH1</td>\n",
       "      <td>E</td>\n",
       "      <td>E1(H)E</td>\n",
       "      <td>GAG</td>\n",
       "      <td>True</td>\n",
       "      <td>8.62305</td>\n",
       "      <td>0.00000</td>\n",
       "      <td>23285</td>\n",
       "      <td>2</td>\n",
       "      <td>10.45565</td>\n",
       "      <td>0.00000</td>\n",
       "      <td>23285</td>\n",
       "      <td>2</td>\n",
       "    </tr>\n",
       "    <tr>\n",
       "      <th>4</th>\n",
       "      <td>CGG_naive</td>\n",
       "      <td>E</td>\n",
       "      <td>1</td>\n",
       "      <td>1.0</td>\n",
       "      <td>H</td>\n",
       "      <td>FWRH1</td>\n",
       "      <td>F</td>\n",
       "      <td>E1(H)F</td>\n",
       "      <td>GAG</td>\n",
       "      <td>False</td>\n",
       "      <td>8.75738</td>\n",
       "      <td>0.13433</td>\n",
       "      <td>29</td>\n",
       "      <td>2</td>\n",
       "      <td>10.34185</td>\n",
       "      <td>-0.11379</td>\n",
       "      <td>29</td>\n",
       "      <td>2</td>\n",
       "    </tr>\n",
       "  </tbody>\n",
       "</table>\n",
       "</div>"
      ],
      "text/plain": [
       "      target wildtype  position  position_IMGT chain annotation mutant  \\\n",
       "0  CGG_naive        E         1            1.0     H      FWRH1      A   \n",
       "1  CGG_naive        E         1            1.0     H      FWRH1      C   \n",
       "2  CGG_naive        E         1            1.0     H      FWRH1      D   \n",
       "3  CGG_naive        E         1            1.0     H      FWRH1      E   \n",
       "4  CGG_naive        E         1            1.0     H      FWRH1      F   \n",
       "\n",
       "  mutation codon single_nt  bind_CGG  delta_bind_CGG  n_bc_bind_CGG  \\\n",
       "0   E1(H)A   GAG      True   8.74239         0.11933             20   \n",
       "1   E1(H)C   GAG     False   8.60813        -0.01492             22   \n",
       "2   E1(H)D   GAG      True   8.63554         0.01249             18   \n",
       "3   E1(H)E   GAG      True   8.62305         0.00000          23285   \n",
       "4   E1(H)F   GAG     False   8.75738         0.13433             29   \n",
       "\n",
       "   n_libs_bind_CGG      expr  delta_expr  n_bc_expr  n_libs_expr  \n",
       "0                2  10.45318    -0.00246         20            2  \n",
       "1                2  10.33348    -0.12216         22            2  \n",
       "2                2  10.50438     0.04874         18            2  \n",
       "3                2  10.45565     0.00000      23285            2  \n",
       "4                2  10.34185    -0.11379         29            2  "
      ]
     },
     "execution_count": 12,
     "metadata": {},
     "output_type": "execute_result"
    }
   ],
   "source": [
    "# drop the position_IMGT, annotation, single_nt columns\n",
    "# final_variant_scores_df = final_variant_scores_df.drop(columns=[\"position_IMGT\", \"annotation\", \"single_nt\"])\n",
    "final_variant_scores_df.head()"
   ]
  },
  {
   "cell_type": "code",
   "execution_count": 13,
   "metadata": {},
   "outputs": [],
   "source": [
    "def calculate_aa_mutation_probabilities(seq_data_df, fivemer_sub_df):\n",
    "    # Precompute codon table using Biopython\n",
    "    standard_table = CodonTable.standard_dna_table\n",
    "    codon_table = {}\n",
    "    for codon, aa in standard_table.forward_table.items():\n",
    "        codon_table[codon] = aa\n",
    "    # Add stop codons\n",
    "    for codon in standard_table.stop_codons:\n",
    "        codon_table[codon] = '*'\n",
    "    \n",
    "    # Precompute fivemer substitution lookup\n",
    "    fivemer_lookup = {}\n",
    "    for _, row in fivemer_sub_df.iterrows():\n",
    "        fivemer = row['Fivemer']\n",
    "        fivemer_lookup[fivemer] = {\n",
    "            'A': row['A'],\n",
    "            'C': row['C'],\n",
    "            'G': row['G'],\n",
    "            'T': row['T']\n",
    "        }\n",
    "    \n",
    "    aa_mutation_probs = {}\n",
    "    \n",
    "    # Process each sequence\n",
    "    for idx, row in seq_data_df.iterrows():\n",
    "        # Pad sequences for 5mer context only\n",
    "        padded_seq_H = \"NN\" + row['nt_seq_H'] + \"NN\"\n",
    "        padded_seq_L = \"NN\" + row['nt_seq_L'] + \"NN\"\n",
    "        \n",
    "        # Original mutability vectors (no padding needed)\n",
    "        mut_H = row['norm_mutability_H']\n",
    "        mut_L = row['norm_mutability_L']\n",
    "        \n",
    "        # Process heavy chain\n",
    "        process_chain(padded_seq_H, mut_H, 'H', fivemer_lookup, codon_table, aa_mutation_probs)\n",
    "        \n",
    "        # Process light chain\n",
    "        process_chain(padded_seq_L, mut_L, 'L', fivemer_lookup, codon_table, aa_mutation_probs)\n",
    "    \n",
    "    # Convert to dataframe\n",
    "    aa_mut_prob_df = pd.DataFrame({\n",
    "        'aa_mut': list(aa_mutation_probs.keys()),\n",
    "        'prob_tot': list(aa_mutation_probs.values())\n",
    "    })\n",
    "    \n",
    "    return aa_mut_prob_df\n",
    "\n",
    "def process_chain(padded_seq, mutability, chain, fivemer_lookup, codon_table, aa_mutation_probs):\n",
    "    # Original sequence without padding\n",
    "    orig_seq = padded_seq[2:-2]\n",
    "    \n",
    "    # Process each position in the original sequence\n",
    "    for pos in range(len(orig_seq)):\n",
    "        # Get the original nucleotide\n",
    "        orig_nt = orig_seq[pos]\n",
    "        \n",
    "        # Get the padded position (for fivemer context)\n",
    "        padded_pos = pos + 2\n",
    "        \n",
    "        # Get the fivemer centered at this position\n",
    "        fivemer = padded_seq[padded_pos-2:padded_pos+3]\n",
    "        \n",
    "        # Get the codon that this nucleotide is part of\n",
    "        codon_pos = pos - (pos % 3)\n",
    "        orig_codon = orig_seq[codon_pos:codon_pos + 3]\n",
    "        \n",
    "        # Get the original amino acid\n",
    "        orig_aa = codon_table[orig_codon]\n",
    "        \n",
    "        # Calculate 1-indexed amino acid position\n",
    "        aa_pos = (codon_pos // 3) + 1\n",
    "        \n",
    "        # Get the mutability at this position\n",
    "        mut_prob = mutability[pos]\n",
    "        \n",
    "        # For each possible substitution\n",
    "        for new_nt in 'ACGT':\n",
    "            # Skip self-substitutions on the nucleotide level\n",
    "            if new_nt == orig_nt:\n",
    "                continue\n",
    "            \n",
    "            # Calculate the probability of this substitution\n",
    "            sub_prob = fivemer_lookup[fivemer][new_nt]\n",
    "            nt_mut_prob = mut_prob * sub_prob\n",
    "            \n",
    "            # Create the new codon\n",
    "            codon_idx_in_triplet = pos % 3\n",
    "            new_codon = list(orig_codon)\n",
    "            new_codon[codon_idx_in_triplet] = new_nt\n",
    "            new_codon = ''.join(new_codon)\n",
    "            \n",
    "            # Get the new amino acid\n",
    "            new_aa = codon_table[new_codon]\n",
    "            \n",
    "            # Record all mutations, including self-mutations at AA level\n",
    "            aa_mut = f\"{orig_aa}{aa_pos}({chain}){new_aa}\"\n",
    "            \n",
    "            # Update the probability for this amino acid mutation\n",
    "            if aa_mut in aa_mutation_probs:\n",
    "                aa_mutation_probs[aa_mut] += nt_mut_prob\n",
    "            else:\n",
    "                aa_mutation_probs[aa_mut] = nt_mut_prob"
   ]
  },
  {
   "cell_type": "code",
   "execution_count": 14,
   "metadata": {},
   "outputs": [],
   "source": [
    "# Group the sequences by time and create a dictionary of results\n",
    "mut_probs_by_time = {}\n",
    "for time_value, group_df in seq_data_df.groupby('time (days)'):\n",
    "    mut_probs_by_time[time_value] = calculate_aa_mutation_probabilities(group_df, fivemer_sub_df)"
   ]
  },
  {
   "cell_type": "code",
   "execution_count": 15,
   "metadata": {},
   "outputs": [],
   "source": [
    "def collapse_by_prefix(df):\n",
    "    # Extract prefix (all characters except the last) from aa_mut column\n",
    "    df['prefix'] = df['aa_mut'].str[:-1]\n",
    "    \n",
    "    # Group by prefix and sum the probabilities\n",
    "    result_df = df.groupby('prefix')['prob_tot'].sum().reset_index()\n",
    "    \n",
    "    # Rename columns for clarity\n",
    "    result_df = result_df.rename(columns={'prefix': 'aa_mut'})\n",
    "    \n",
    "    # Extract the numeric part for sorting\n",
    "    # This assumes format like E1(H) where 1 is the number to sort by\n",
    "    result_df['sort_key'] = result_df['aa_mut'].str.extract(r'[A-Z](\\d+)')\n",
    "    result_df['sort_key'] = result_df['sort_key'].astype(int)\n",
    "    \n",
    "    # Sort by the numeric value and drop the helper column\n",
    "    result_df = result_df.sort_values('sort_key').drop(columns=['sort_key'])\n",
    "    \n",
    "    return result_df"
   ]
  },
  {
   "cell_type": "markdown",
   "metadata": {},
   "source": [
    "As a check, we can see that there are no non-naive original amino acids at time 5:"
   ]
  },
  {
   "cell_type": "code",
   "execution_count": 16,
   "metadata": {},
   "outputs": [
    {
     "data": {
      "application/vnd.microsoft.datawrangler.viewer.v0+json": {
       "columns": [
        {
         "name": "index",
         "rawType": "int64",
         "type": "integer"
        },
        {
         "name": "aa_mut",
         "rawType": "object",
         "type": "string"
        },
        {
         "name": "prob_tot",
         "rawType": "float64",
         "type": "float"
        }
       ],
       "conversionMethod": "pd.DataFrame",
       "ref": "ae79fe14-cbd6-445b-8682-c18f908cb72c",
       "rows": [
        [
         "28",
         "E1(H)",
         "0.2803774544118207"
        ],
        [
         "15",
         "D1(L)",
         "0.18336989794416736"
        ],
        [
         "70",
         "I2(L)",
         "0.19424846353163677"
        ],
        [
         "213",
         "V2(H)",
         "0.7698381645028545"
        ],
        [
         "127",
         "Q3(H)",
         "1.2718965793082764"
        ],
        [
         "217",
         "V3(L)",
         "0.337534379522071"
        ],
        [
         "93",
         "L4(H)",
         "1.013434688982343"
        ],
        [
         "104",
         "M4(L)",
         "0.1643719415678769"
        ],
        [
         "219",
         "V4(L)",
         "0.0038224114020196623"
        ],
        [
         "192",
         "T5(L)",
         "0.2881903618846205"
        ],
        [
         "131",
         "Q5(H)",
         "0.2633504905143943"
        ],
        [
         "132",
         "Q6(L)",
         "0.2300236394168909"
        ],
        [
         "32",
         "E6(H)",
         "0.24226074931530026"
        ],
        [
         "172",
         "S7(H)",
         "0.1340427960405013"
        ],
        [
         "173",
         "S7(L)",
         "0.17203831139476583"
        ],
        [
         "135",
         "Q8(L)",
         "0.22901970577390235"
        ],
        [
         "64",
         "G8(H)",
         "0.23267267651394316"
        ],
        [
         "123",
         "P9(H)",
         "0.29215947137826226"
        ],
        [
         "88",
         "K9(L)",
         "0.32818866759355814"
        ],
        [
         "146",
         "S10(H)",
         "0.832808168145497"
        ],
        [
         "36",
         "F10(L)",
         "0.19303263801676854"
        ],
        [
         "103",
         "M11(L)",
         "0.0988724766450926"
        ],
        [
         "90",
         "L11(H)",
         "0.15149645367189885"
        ],
        [
         "150",
         "S12(L)",
         "0.16766815188888573"
        ],
        [
         "210",
         "V12(H)",
         "0.4299189262410578"
        ],
        [
         "80",
         "K13(H)",
         "0.3239794900949607"
        ],
        [
         "184",
         "T13(L)",
         "0.32790352802318035"
        ],
        [
         "117",
         "P14(H)",
         "0.43979490937461996"
        ],
        [
         "151",
         "S14(L)",
         "0.23808851494901598"
        ],
        [
         "211",
         "V15(L)",
         "0.8158862434949624"
        ],
        [
         "152",
         "S15(H)",
         "0.1886369473484077"
        ],
        [
         "50",
         "G16(L)",
         "0.3521786373621473"
        ],
        [
         "125",
         "Q16(H)",
         "0.25627472127916795"
        ],
        [
         "17",
         "D17(L)",
         "0.2510601161725672"
        ],
        [
         "185",
         "T17(H)",
         "0.27947918021416124"
        ],
        [
         "91",
         "L18(H)",
         "0.12627254435288487"
        ],
        [
         "139",
         "R18(L)",
         "0.14455213709404113"
        ],
        [
         "153",
         "S19(H)",
         "0.12611540083990508"
        ],
        [
         "212",
         "V19(L)",
         "0.20460096112706525"
        ],
        [
         "92",
         "L20(H)",
         "0.12612724335899123"
        ],
        [
         "154",
         "S20(L)",
         "0.5773903093388074"
        ],
        [
         "186",
         "T21(H)",
         "0.2852665550065534"
        ],
        [
         "214",
         "V21(L)",
         "0.09050286497687737"
        ],
        [
         "187",
         "T22(L)",
         "0.2852665550065534"
        ],
        [
         "9",
         "C22(H)",
         "0.8277193718674926"
        ],
        [
         "10",
         "C23(L)",
         "0.8324967484939718"
        ],
        [
         "155",
         "S23(H)",
         "0.16122015005169485"
        ],
        [
         "215",
         "V24(H)",
         "0.10863384191650462"
        ],
        [
         "81",
         "K24(L)",
         "0.23902514215320714"
        ],
        [
         "2",
         "A25(L)",
         "0.10232828134348378"
        ]
       ],
       "shape": {
        "columns": 2,
        "rows": 244
       }
      },
      "text/html": [
       "<div>\n",
       "<style scoped>\n",
       "    .dataframe tbody tr th:only-of-type {\n",
       "        vertical-align: middle;\n",
       "    }\n",
       "\n",
       "    .dataframe tbody tr th {\n",
       "        vertical-align: top;\n",
       "    }\n",
       "\n",
       "    .dataframe thead th {\n",
       "        text-align: right;\n",
       "    }\n",
       "</style>\n",
       "<table border=\"1\" class=\"dataframe\">\n",
       "  <thead>\n",
       "    <tr style=\"text-align: right;\">\n",
       "      <th></th>\n",
       "      <th>aa_mut</th>\n",
       "      <th>prob_tot</th>\n",
       "    </tr>\n",
       "  </thead>\n",
       "  <tbody>\n",
       "    <tr>\n",
       "      <th>28</th>\n",
       "      <td>E1(H)</td>\n",
       "      <td>0.280377</td>\n",
       "    </tr>\n",
       "    <tr>\n",
       "      <th>15</th>\n",
       "      <td>D1(L)</td>\n",
       "      <td>0.183370</td>\n",
       "    </tr>\n",
       "    <tr>\n",
       "      <th>70</th>\n",
       "      <td>I2(L)</td>\n",
       "      <td>0.194248</td>\n",
       "    </tr>\n",
       "    <tr>\n",
       "      <th>213</th>\n",
       "      <td>V2(H)</td>\n",
       "      <td>0.769838</td>\n",
       "    </tr>\n",
       "    <tr>\n",
       "      <th>127</th>\n",
       "      <td>Q3(H)</td>\n",
       "      <td>1.271897</td>\n",
       "    </tr>\n",
       "    <tr>\n",
       "      <th>...</th>\n",
       "      <td>...</td>\n",
       "      <td>...</td>\n",
       "    </tr>\n",
       "    <tr>\n",
       "      <th>183</th>\n",
       "      <td>T109(H)</td>\n",
       "      <td>0.497187</td>\n",
       "    </tr>\n",
       "    <tr>\n",
       "      <th>1</th>\n",
       "      <td>A109(H)</td>\n",
       "      <td>0.004566</td>\n",
       "    </tr>\n",
       "    <tr>\n",
       "      <th>209</th>\n",
       "      <td>V110(H)</td>\n",
       "      <td>0.216343</td>\n",
       "    </tr>\n",
       "    <tr>\n",
       "      <th>148</th>\n",
       "      <td>S111(H)</td>\n",
       "      <td>0.225715</td>\n",
       "    </tr>\n",
       "    <tr>\n",
       "      <th>149</th>\n",
       "      <td>S112(H)</td>\n",
       "      <td>0.145041</td>\n",
       "    </tr>\n",
       "  </tbody>\n",
       "</table>\n",
       "<p>244 rows × 2 columns</p>\n",
       "</div>"
      ],
      "text/plain": [
       "      aa_mut  prob_tot\n",
       "28     E1(H)  0.280377\n",
       "15     D1(L)  0.183370\n",
       "70     I2(L)  0.194248\n",
       "213    V2(H)  0.769838\n",
       "127    Q3(H)  1.271897\n",
       "..       ...       ...\n",
       "183  T109(H)  0.497187\n",
       "1    A109(H)  0.004566\n",
       "209  V110(H)  0.216343\n",
       "148  S111(H)  0.225715\n",
       "149  S112(H)  0.145041\n",
       "\n",
       "[244 rows x 2 columns]"
      ]
     },
     "execution_count": 16,
     "metadata": {},
     "output_type": "execute_result"
    }
   ],
   "source": [
    "collapse_by_prefix(mut_probs_by_time[5])"
   ]
  },
  {
   "cell_type": "markdown",
   "metadata": {},
   "source": [
    "But there are at time 70:"
   ]
  },
  {
   "cell_type": "code",
   "execution_count": 18,
   "metadata": {},
   "outputs": [
    {
     "data": {
      "application/vnd.microsoft.datawrangler.viewer.v0+json": {
       "columns": [
        {
         "name": "index",
         "rawType": "int64",
         "type": "integer"
        },
        {
         "name": "aa_mut",
         "rawType": "object",
         "type": "string"
        },
        {
         "name": "prob_tot",
         "rawType": "float64",
         "type": "float"
        }
       ],
       "conversionMethod": "pd.DataFrame",
       "ref": "a4a382ee-ca84-4075-b2e1-e4388648e847",
       "rows": [
        [
         "36",
         "D1(L)",
         "0.19797510553784492"
        ],
        [
         "55",
         "E1(H)",
         "0.29555403805301744"
        ],
        [
         "432",
         "V1(H)",
         "0.016023921595146574"
        ],
        [
         "441",
         "V2(H)",
         "0.8279210690509329"
        ],
        [
         "156",
         "I2(L)",
         "0.21269865681242572"
        ],
        [
         "307",
         "R3(H)",
         "0.018254988835192526"
        ],
        [
         "447",
         "V3(L)",
         "0.3703935988697823"
        ],
        [
         "134",
         "H3(H)",
         "0.0031466197145230495"
        ],
        [
         "287",
         "Q3(H)",
         "1.282660333346605"
        ],
        [
         "211",
         "L4(H)",
         "1.0359672968535993"
        ],
        [
         "450",
         "V4(H)",
         "0.004006052629311237"
        ],
        [
         "228",
         "M4(L)",
         "0.17926803309866576"
        ],
        [
         "269",
         "P4(H)",
         "0.005007102982553192"
        ],
        [
         "292",
         "Q5(H)",
         "0.2792931781600144"
        ],
        [
         "316",
         "R5(H)",
         "0.0033448858076513197"
        ],
        [
         "408",
         "T5(L)",
         "0.30931164339030487"
        ],
        [
         "123",
         "G6(H)",
         "0.0030475103899802753"
        ],
        [
         "293",
         "Q6(L)",
         "0.2509670889522159"
        ],
        [
         "17",
         "A6(H)",
         "0.002553631956630422"
        ],
        [
         "66",
         "E6(H)",
         "0.2569306648038012"
        ],
        [
         "277",
         "P7(L)",
         "0.030241247283841116"
        ],
        [
         "371",
         "S7(L)",
         "0.1751541699318473"
        ],
        [
         "370",
         "S7(H)",
         "0.14394109497776544"
        ],
        [
         "130",
         "G8(H)",
         "0.25068503576750867"
        ],
        [
         "298",
         "Q8(L)",
         "0.25400482977637123"
        ],
        [
         "329",
         "R9(L)",
         "0.020294220967573252"
        ],
        [
         "301",
         "Q9(L)",
         "0.007866495852291894"
        ],
        [
         "427",
         "T9(H)",
         "0.010577335312178889"
        ],
        [
         "281",
         "P9(H)",
         "0.30779674168286425"
        ],
        [
         "263",
         "N9(L)",
         "0.009981065844139953"
        ],
        [
         "198",
         "K9(L)",
         "0.3263997516462533"
        ],
        [
         "73",
         "E9(L)",
         "0.009671926058962969"
        ],
        [
         "303",
         "R10(L)",
         "0.01113422902563443"
        ],
        [
         "234",
         "N10(H)",
         "0.014358350517304006"
        ],
        [
         "201",
         "L10(L)",
         "0.008901504258183306"
        ],
        [
         "333",
         "S10(H)",
         "0.8527022679911447"
        ],
        [
         "74",
         "F10(L)",
         "0.20047455352922938"
        ],
        [
         "150",
         "I10(L)",
         "0.013569941251575285"
        ],
        [
         "204",
         "L11(H)",
         "0.16862114360489233"
        ],
        [
         "205",
         "L11(L)",
         "0.00977043209737651"
        ],
        [
         "227",
         "M11(L)",
         "0.10078811972346523"
        ],
        [
         "393",
         "T11(L)",
         "0.007911156195303713"
        ],
        [
         "338",
         "S12(L)",
         "0.18157082230693322"
        ],
        [
         "438",
         "V12(H)",
         "0.4623079350571699"
        ],
        [
         "395",
         "T13(L)",
         "0.3507281949924737"
        ],
        [
         "183",
         "K13(H)",
         "0.34636967062843693"
        ],
        [
         "238",
         "N13(H)",
         "0.003540946963441574"
        ],
        [
         "339",
         "S13(L)",
         "0.0010907315333125412"
        ],
        [
         "267",
         "P14(H)",
         "0.4802483344763019"
        ],
        [
         "340",
         "S14(L)",
         "0.252417490170966"
        ]
       ],
       "shape": {
        "columns": 2,
        "rows": 493
       }
      },
      "text/html": [
       "<div>\n",
       "<style scoped>\n",
       "    .dataframe tbody tr th:only-of-type {\n",
       "        vertical-align: middle;\n",
       "    }\n",
       "\n",
       "    .dataframe tbody tr th {\n",
       "        vertical-align: top;\n",
       "    }\n",
       "\n",
       "    .dataframe thead th {\n",
       "        text-align: right;\n",
       "    }\n",
       "</style>\n",
       "<table border=\"1\" class=\"dataframe\">\n",
       "  <thead>\n",
       "    <tr style=\"text-align: right;\">\n",
       "      <th></th>\n",
       "      <th>aa_mut</th>\n",
       "      <th>prob_tot</th>\n",
       "    </tr>\n",
       "  </thead>\n",
       "  <tbody>\n",
       "    <tr>\n",
       "      <th>36</th>\n",
       "      <td>D1(L)</td>\n",
       "      <td>0.197975</td>\n",
       "    </tr>\n",
       "    <tr>\n",
       "      <th>55</th>\n",
       "      <td>E1(H)</td>\n",
       "      <td>0.295554</td>\n",
       "    </tr>\n",
       "    <tr>\n",
       "      <th>432</th>\n",
       "      <td>V1(H)</td>\n",
       "      <td>0.016024</td>\n",
       "    </tr>\n",
       "    <tr>\n",
       "      <th>441</th>\n",
       "      <td>V2(H)</td>\n",
       "      <td>0.827921</td>\n",
       "    </tr>\n",
       "    <tr>\n",
       "      <th>156</th>\n",
       "      <td>I2(L)</td>\n",
       "      <td>0.212699</td>\n",
       "    </tr>\n",
       "    <tr>\n",
       "      <th>...</th>\n",
       "      <td>...</td>\n",
       "      <td>...</td>\n",
       "    </tr>\n",
       "    <tr>\n",
       "      <th>154</th>\n",
       "      <td>I110(H)</td>\n",
       "      <td>0.006572</td>\n",
       "    </tr>\n",
       "    <tr>\n",
       "      <th>336</th>\n",
       "      <td>S111(H)</td>\n",
       "      <td>0.239302</td>\n",
       "    </tr>\n",
       "    <tr>\n",
       "      <th>3</th>\n",
       "      <td>A111(H)</td>\n",
       "      <td>0.003447</td>\n",
       "    </tr>\n",
       "    <tr>\n",
       "      <th>337</th>\n",
       "      <td>S112(H)</td>\n",
       "      <td>0.153791</td>\n",
       "    </tr>\n",
       "    <tr>\n",
       "      <th>394</th>\n",
       "      <td>T112(H)</td>\n",
       "      <td>0.005011</td>\n",
       "    </tr>\n",
       "  </tbody>\n",
       "</table>\n",
       "<p>493 rows × 2 columns</p>\n",
       "</div>"
      ],
      "text/plain": [
       "      aa_mut  prob_tot\n",
       "36     D1(L)  0.197975\n",
       "55     E1(H)  0.295554\n",
       "432    V1(H)  0.016024\n",
       "441    V2(H)  0.827921\n",
       "156    I2(L)  0.212699\n",
       "..       ...       ...\n",
       "154  I110(H)  0.006572\n",
       "336  S111(H)  0.239302\n",
       "3    A111(H)  0.003447\n",
       "337  S112(H)  0.153791\n",
       "394  T112(H)  0.005011\n",
       "\n",
       "[493 rows x 2 columns]"
      ]
     },
     "execution_count": 18,
     "metadata": {},
     "output_type": "execute_result"
    }
   ],
   "source": [
    "collapse_by_prefix(mut_probs_by_time[70])"
   ]
  }
 ],
 "metadata": {
  "kernelspec": {
   "display_name": ".venv",
   "language": "python",
   "name": "python3"
  },
  "language_info": {
   "codemirror_mode": {
    "name": "ipython",
    "version": 3
   },
   "file_extension": ".py",
   "mimetype": "text/x-python",
   "name": "python",
   "nbconvert_exporter": "python",
   "pygments_lexer": "ipython3",
   "version": "3.11.9"
  }
 },
 "nbformat": 4,
 "nbformat_minor": 2
}
