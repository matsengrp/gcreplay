version https://git-lfs.github.com/spec/v1
oid sha256:3a3b201ec7a307bf083ad37071d1a9aba13ae38b58d2402647396e243f6b6b16
size 2284872
