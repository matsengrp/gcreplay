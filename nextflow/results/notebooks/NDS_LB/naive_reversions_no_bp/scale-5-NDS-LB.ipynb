version https://git-lfs.github.com/spec/v1
oid sha256:622e8075d1507e072f72db56fbe7cbd5e8a52a526a0c55a4c3a48bd4a7ccebbe
size 2093928
