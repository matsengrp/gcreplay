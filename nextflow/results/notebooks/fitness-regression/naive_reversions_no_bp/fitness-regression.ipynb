version https://git-lfs.github.com/spec/v1
oid sha256:119cafc4fb8d198820b0d4dc03006c706afe6d538cfcbdbf8459c6d063883c0f
size 889219
