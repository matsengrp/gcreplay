version https://git-lfs.github.com/spec/v1
oid sha256:9220f27c6c1cc0f58418303588d9bd1ce0307bc48455be60b93bffd9a07428dc
size 2284866
