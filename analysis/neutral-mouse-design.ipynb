{
 "cells": [
  {
   "attachments": {},
   "cell_type": "markdown",
   "metadata": {},
   "source": [
    "# Neutral mouse experimental design\n",
    "\n",
    "In the neutral mouse, we will sparsely sample GC B cells in bulk from lymph nodes. We want to design a sampling procedure that gives us good estimates for the rates of all (or most) possible mutations.\n",
    "\n",
    "## Assumptions\n",
    "- We sample $n>>1$ iid sequences from independent lineages, so we don't consider the possibility of shared ancestry of mutations.\n",
    "- The number of mutations in each sequence of length $\\ell$ is a Poisson rv with mean $\\lambda << \\ell$.\n",
    "- Each particular mutation event in a sequence occurs at site $i$ and goes to alternative nucleotide $j$ wp $M_{ij}$, where matrix $M\\in\\mathbb{R}_+^{\\ell \\times 3}$ represents the mutabilities and substitution biases at each site, normalized such that $\\sum_{ij}M_{ij}=1$. Since $\\lambda << \\ell$, we can neglect multiple hits.\n",
    "\n",
    "Let rv $X_{ij}\\in\\mathbb{N}_0$ denote the number of mutations at site $i$ to alternative nt $j$ seen across all $n$ sequences.\n",
    "Standard results on Poissonization of multinomials give\n",
    "$$\n",
    "X_{ij}\\sim\\text{Pois}(n \\lambda M_{ij}).\n",
    "$$\n",
    "\n",
    "## Dropout design criterion\n",
    "\n",
    "Our design objective will be to control the number of vanishing elements of $X_{ij}$ (we need to observe mutation counts to get a point estimate of their rates).\n",
    "Define the dropout rv $D = \\sum_{ij}\\mathbf{1}_{0}(X_{ij}).$\n",
    "Note that $D$ is a [Poisson binomial](https://en.wikipedia.org/wiki/Poisson_binomial_distribution) random variable.\n",
    "\n",
    "Now,\n",
    "$$\n",
    "\\mathbb{E}[D] = \\sum_{ij}\\mathbb{P}(X_{ij}=0) = \\sum_{ij}e^{-n \\lambda M_{ij}},\n",
    "$$\n",
    "and\n",
    "$$\n",
    "\\text{Var}[D] = \\sum_{ij}\\left(1-\\mathbb{P}(X_{ij}=0)\\right)\\mathbb{P}(X_{ij}=0) = \\sum_{ij}\\left(1-e^{-n \\lambda M_{ij}}\\right)e^{-n \\lambda M_{ij}}.\n",
    "$$\n",
    "\n",
    "**Note:** it would be better to work with a quantile function for the Poisson binomial instead of mean and variance, but that would require taking discrete Fourier transforms of the characteristic function (how annoying).\n",
    "\n",
    "Also denote the fraction of dropout sites $\\tilde D = \\frac{D}{3\\ell}$.\n",
    "\n",
    "## Computations with an empirical mutability model\n",
    "\n",
    "For the purpose of this design exercise, we will use 5-mer context model (Yaari et al.)."
   ]
  },
  {
   "cell_type": "code",
   "execution_count": 1,
   "metadata": {},
   "outputs": [],
   "source": [
    "import numpy as np\n",
    "import scipy\n",
    "import pandas as pd\n",
    "import matplotlib.pyplot as plt\n",
    "\n",
    "import glob\n",
    "import pickle"
   ]
  },
  {
   "cell_type": "code",
   "execution_count": 2,
   "metadata": {},
   "outputs": [
    {
     "data": {
      "text/plain": [
       "Fivemer\n",
       "AAAAA    0.000596\n",
       "AAAAC    0.000865\n",
       "AAAAG    0.000418\n",
       "AAAAT    0.000588\n",
       "AAAAN    0.000617\n",
       "           ...   \n",
       "NNTNA    0.000272\n",
       "NNTNC    0.000398\n",
       "NNTNG    0.000365\n",
       "NNTNT    0.000383\n",
       "NNTNN    0.000354\n",
       "Name: Mutability, Length: 2500, dtype: float64"
      ]
     },
     "execution_count": 2,
     "metadata": {},
     "output_type": "execute_result"
    }
   ],
   "source": [
    "mutability = pd.read_csv(\"../nextflow/data/mutability/MK_RS5NF_mutability.csv\", sep=\" \", index_col=0).squeeze(\"columns\")\n",
    "mutability"
   ]
  },
  {
   "cell_type": "code",
   "execution_count": 3,
   "metadata": {},
   "outputs": [
    {
     "data": {
      "text/html": [
       "<div>\n",
       "<style scoped>\n",
       "    .dataframe tbody tr th:only-of-type {\n",
       "        vertical-align: middle;\n",
       "    }\n",
       "\n",
       "    .dataframe tbody tr th {\n",
       "        vertical-align: top;\n",
       "    }\n",
       "\n",
       "    .dataframe thead th {\n",
       "        text-align: right;\n",
       "    }\n",
       "</style>\n",
       "<table border=\"1\" class=\"dataframe\">\n",
       "  <thead>\n",
       "    <tr style=\"text-align: right;\">\n",
       "      <th></th>\n",
       "      <th>A</th>\n",
       "      <th>C</th>\n",
       "      <th>G</th>\n",
       "      <th>T</th>\n",
       "    </tr>\n",
       "    <tr>\n",
       "      <th>Fivemer</th>\n",
       "      <th></th>\n",
       "      <th></th>\n",
       "      <th></th>\n",
       "      <th></th>\n",
       "    </tr>\n",
       "  </thead>\n",
       "  <tbody>\n",
       "    <tr>\n",
       "      <th>AAAAA</th>\n",
       "      <td>0.000000</td>\n",
       "      <td>0.168399</td>\n",
       "      <td>0.727651</td>\n",
       "      <td>0.103950</td>\n",
       "    </tr>\n",
       "    <tr>\n",
       "      <th>AAAAC</th>\n",
       "      <td>0.000000</td>\n",
       "      <td>0.191268</td>\n",
       "      <td>0.704782</td>\n",
       "      <td>0.103950</td>\n",
       "    </tr>\n",
       "    <tr>\n",
       "      <th>AAAAG</th>\n",
       "      <td>0.000000</td>\n",
       "      <td>0.166320</td>\n",
       "      <td>0.723493</td>\n",
       "      <td>0.110187</td>\n",
       "    </tr>\n",
       "    <tr>\n",
       "      <th>AAAAT</th>\n",
       "      <td>0.000000</td>\n",
       "      <td>0.090909</td>\n",
       "      <td>0.863636</td>\n",
       "      <td>0.045455</td>\n",
       "    </tr>\n",
       "    <tr>\n",
       "      <th>AAAAN</th>\n",
       "      <td>0.000000</td>\n",
       "      <td>0.154224</td>\n",
       "      <td>0.754890</td>\n",
       "      <td>0.090885</td>\n",
       "    </tr>\n",
       "    <tr>\n",
       "      <th>...</th>\n",
       "      <td>...</td>\n",
       "      <td>...</td>\n",
       "      <td>...</td>\n",
       "      <td>...</td>\n",
       "    </tr>\n",
       "    <tr>\n",
       "      <th>NNTNA</th>\n",
       "      <td>0.276383</td>\n",
       "      <td>0.526126</td>\n",
       "      <td>0.197491</td>\n",
       "      <td>0.000000</td>\n",
       "    </tr>\n",
       "    <tr>\n",
       "      <th>NNTNC</th>\n",
       "      <td>0.263436</td>\n",
       "      <td>0.547941</td>\n",
       "      <td>0.188623</td>\n",
       "      <td>0.000000</td>\n",
       "    </tr>\n",
       "    <tr>\n",
       "      <th>NNTNG</th>\n",
       "      <td>0.265640</td>\n",
       "      <td>0.540766</td>\n",
       "      <td>0.193594</td>\n",
       "      <td>0.000000</td>\n",
       "    </tr>\n",
       "    <tr>\n",
       "      <th>NNTNT</th>\n",
       "      <td>0.262245</td>\n",
       "      <td>0.552303</td>\n",
       "      <td>0.185451</td>\n",
       "      <td>0.000000</td>\n",
       "    </tr>\n",
       "    <tr>\n",
       "      <th>NNTNN</th>\n",
       "      <td>0.266926</td>\n",
       "      <td>0.541784</td>\n",
       "      <td>0.191290</td>\n",
       "      <td>0.000000</td>\n",
       "    </tr>\n",
       "  </tbody>\n",
       "</table>\n",
       "<p>2500 rows × 4 columns</p>\n",
       "</div>"
      ],
      "text/plain": [
       "                A         C         G         T\n",
       "Fivemer                                        \n",
       "AAAAA    0.000000  0.168399  0.727651  0.103950\n",
       "AAAAC    0.000000  0.191268  0.704782  0.103950\n",
       "AAAAG    0.000000  0.166320  0.723493  0.110187\n",
       "AAAAT    0.000000  0.090909  0.863636  0.045455\n",
       "AAAAN    0.000000  0.154224  0.754890  0.090885\n",
       "...           ...       ...       ...       ...\n",
       "NNTNA    0.276383  0.526126  0.197491  0.000000\n",
       "NNTNC    0.263436  0.547941  0.188623  0.000000\n",
       "NNTNG    0.265640  0.540766  0.193594  0.000000\n",
       "NNTNT    0.262245  0.552303  0.185451  0.000000\n",
       "NNTNN    0.266926  0.541784  0.191290  0.000000\n",
       "\n",
       "[2500 rows x 4 columns]"
      ]
     },
     "execution_count": 3,
     "metadata": {},
     "output_type": "execute_result"
    }
   ],
   "source": [
    "substitution = pd.read_csv(\"../nextflow/data/mutability/MK_RS5NF_substitution.csv\", sep=\" \", index_col=0)\n",
    "substitution"
   ]
  },
  {
   "attachments": {},
   "cell_type": "markdown",
   "metadata": {},
   "source": [
    "Load a replay tree object, so we can grab the root naive chIgy sequence."
   ]
  },
  {
   "cell_type": "code",
   "execution_count": 4,
   "metadata": {},
   "outputs": [],
   "source": [
    "results = \"../nextflow/results/latest\"\n",
    "files = sorted(glob.glob(f\"{results}/gctrees/PR*/gctree.p\"))\n",
    "tree = pickle.load(open(files[0], \"rb\"))"
   ]
  },
  {
   "attachments": {},
   "cell_type": "markdown",
   "metadata": {},
   "source": [
    "Get the concatenated heavy/light chain naive sequence, and split into heavy and light chains."
   ]
  },
  {
   "cell_type": "code",
   "execution_count": 5,
   "metadata": {},
   "outputs": [],
   "source": [
    "naive = tree.tree.sequence\n",
    "\n",
    "# the index of the first light chain base in the concatenated sequence\n",
    "igk_idx = 336"
   ]
  },
  {
   "attachments": {},
   "cell_type": "markdown",
   "metadata": {},
   "source": [
    "5-mer contexts for chIgy"
   ]
  },
  {
   "cell_type": "code",
   "execution_count": 6,
   "metadata": {},
   "outputs": [],
   "source": [
    "padded_igh = \"NN\" + naive[:igk_idx] + \"NN\"\n",
    "padded_igk = \"NN\" + naive[igk_idx:] + \"NN\"\n",
    "# mutabilities of each nucleotide\n",
    "contexts = [padded_igh[(i - 2) : (i + 3)]\n",
    "                for i in range(2, len(padded_igh) - 2)\n",
    "               ] + [padded_igk[(i - 2) : (i + 3)]\n",
    "                    for i in range(2, len(padded_igk) - 2)\n",
    "                   ]"
   ]
  },
  {
   "attachments": {},
   "cell_type": "markdown",
   "metadata": {},
   "source": [
    "Construct $M$ matrix"
   ]
  },
  {
   "cell_type": "code",
   "execution_count": 7,
   "metadata": {},
   "outputs": [],
   "source": [
    "M = mutability[contexts].values[:, None] * substitution.loc[contexts, :].values\n",
    "\n",
    "# normalize\n",
    "M /= M.sum()\n",
    "\n",
    "# exclude the 0 elements, which represent non-mutation (set then to NaN)\n",
    "M = np.where(M == 0, np.nan, M)\n",
    "assert all(np.isnan(M).sum(1) == 1)"
   ]
  },
  {
   "attachments": {},
   "cell_type": "markdown",
   "metadata": {},
   "source": [
    "Use the formulae above for the expectation and variance of the dropout statistic $D$."
   ]
  },
  {
   "cell_type": "code",
   "execution_count": 8,
   "metadata": {},
   "outputs": [],
   "source": [
    "def D_mean_std(n, λ, M):\n",
    "    p = np.exp(-n * λ * M)\n",
    "    p_sum = np.nansum(p)\n",
    "    p_squared_sum = np.nansum(p ** 2)\n",
    "    return p_sum, np.sqrt(p_sum - p_squared_sum)"
   ]
  },
  {
   "attachments": {},
   "cell_type": "markdown",
   "metadata": {},
   "source": [
    "Assuming a value for $\\lambda$, let's plot the dropout fraction $\\tilde D$ over a range of sample sizes $n$."
   ]
  },
  {
   "cell_type": "code",
   "execution_count": 11,
   "metadata": {},
   "outputs": [],
   "source": [
    "λ = 2\n",
    "\n",
    "n_grid = np.logspace(0, 6)\n",
    "\n",
    "D_mean_grid, D_std_grid = zip(*(D_mean_std(n, λ, M) for n in n_grid))\n",
    "D_mean_grid = np.array(D_mean_grid)\n",
    "D_std_grid = np.array(D_std_grid)"
   ]
  },
  {
   "cell_type": "code",
   "execution_count": 15,
   "metadata": {},
   "outputs": [
    {
     "data": {
      "image/png": "[encoded data removed]",
      "text/plain": [
       "<Figure size 450x300 with 1 Axes>"
      ]
     },
     "metadata": {},
     "output_type": "display_data"
    }
   ],
   "source": [
    "l = M.shape[0] * (M.shape[1] - 1)\n",
    "n_stds = 5\n",
    "\n",
    "plt.figure(figsize=(4.5, 3))\n",
    "plt.plot(n_grid, D_mean_grid / l, label=\"$\\mu$\")\n",
    "plt.fill_between(n_grid, (D_mean_grid - n_stds * D_std_grid) / l, (D_mean_grid + n_stds * D_std_grid) / l, alpha=0.2, label=f\"$\\mu\\pm {n_stds} \\sigma$\")\n",
    "plt.xscale(\"log\")\n",
    "plt.legend()\n",
    "plt.xlabel(\"$n$\")\n",
    "plt.ylabel(r\"$\\tilde D$\")\n",
    "plt.tight_layout()\n",
    "plt.show()"
   ]
  },
  {
   "cell_type": "code",
   "execution_count": null,
   "metadata": {},
   "outputs": [],
   "source": []
  }
 ],
 "metadata": {
  "kernelspec": {
   "display_name": "replay",
   "language": "python",
   "name": "python3"
  },
  "language_info": {
   "codemirror_mode": {
    "name": "ipython",
    "version": 3
   },
   "file_extension": ".py",
   "mimetype": "text/x-python",
   "name": "python",
   "nbconvert_exporter": "python",
   "pygments_lexer": "ipython3",
   "version": "3.9.13"
  },
  "orig_nbformat": 4,
  "vscode": {
   "interpreter": {
    "hash": "fbf069d0f1636ca25b106baaa32a68da1956a5c6407b46ee0785d95d14217f80"
   }
  }
 },
 "nbformat": 4,
 "nbformat_minor": 2
}
