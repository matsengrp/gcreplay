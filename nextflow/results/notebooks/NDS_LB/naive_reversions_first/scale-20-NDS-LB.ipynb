version https://git-lfs.github.com/spec/v1
oid sha256:e8502448cb23cb77e17be8c88abe53ab21510f023918bb521cd9f234303f17bb
size 1892573
