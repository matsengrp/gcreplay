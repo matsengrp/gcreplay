{
 "cells": [
  {
   "cell_type": "markdown",
   "id": "e35fe183",
   "metadata": {},
   "source": [
    "# IMGT - PARTIS annotation comparison\n",
    "\n",
    "In this notebook we will look at some summary stats of the IMGT output provided by Tatsuya and the equivilent output by partis "
   ]
  },
  {
   "cell_type": "code",
   "execution_count": 10,
   "id": "3fa34a23",
   "metadata": {},
   "outputs": [],
   "source": [
    "import numpy as np\n",
    "import pandas as pd\n",
    "import matplotlib.pyplot as plt\n",
    "from plotnine import *\n",
    "from matplotlib_venn import venn2, venn3_circles\n",
    "from Bio import SeqIO\n",
    "import re\n",
    "%matplotlib inline"
   ]
  },
  {
   "cell_type": "markdown",
   "id": "1514977a",
   "metadata": {},
   "source": [
    "# Input fasta comparison\n",
    "\n",
    "**First, we want to comapare the raw sequences being annotated to sanity check the nextflow pipeline up to annotation.**"
   ]
  },
  {
   "cell_type": "code",
   "execution_count": 11,
   "id": "640d5e59",
   "metadata": {},
   "outputs": [
    {
     "name": "stdout",
     "output_type": "stream",
     "text": [
      ">PR-1-6.211203.P14.B08.K.R.1-375\n",
      "GTGTTGATGGAGACATTCTTGATGACTCAGTCTCAAAAATTCATGTCCACATCAGTCGGAGACAGGGTCAGCGTCACCTGCAAGGCCAGTCAGAATGTGGGTACTAATGTAGGCTGGTGTCAACAGAAACCAGGGCAATCTCCTAAAGCACTGATTTACTCGGCATCGTACAGGTACAGTGGAGTCCCTGATCGCTTCACAGGCAGTGGATCTGGGACAGATTTCACTCTCACCATCAGCAATGTGCAGTCTGAAGACTTGGCAGAGTATTTCTGTCAGCAATATAAGAACTATCCTATCACGTTCGGCTCGGGGACTAAGCTAGAAATAAAACGGGCTGATGCTGCACCAACTGTATCCATCTAATTAGCGT\n",
      "11738 ../../results/2022-02-09/ranked_bcr_sequences_per_well/PR-1-6.fasta\n",
      "658\n"
     ]
    }
   ],
   "source": [
    "! head -n 2 ../../results/2022-02-09/ranked_bcr_sequences_per_well/PR-1-6.fasta\n",
    "! wc -l ../../results/2022-02-09/ranked_bcr_sequences_per_well/PR-1-6.fasta\n",
    "! grep \"unmatched\" ../../results/2022-02-09/ranked_bcr_sequences_per_well/PR-1-6.fasta | wc -l"
   ]
  },
  {
   "cell_type": "code",
   "execution_count": 12,
   "id": "f85df4f6",
   "metadata": {},
   "outputs": [
    {
     "data": {
      "text/plain": [
       "5211.0"
      ]
     },
     "execution_count": 12,
     "metadata": {},
     "output_type": "execute_result"
    }
   ],
   "source": [
    "(11738/2) - 658"
   ]
  },
  {
   "cell_type": "markdown",
   "id": "e8b534d2",
   "metadata": {},
   "source": [
    "**parsing the headers from nextflow pipeline**"
   ]
  },
  {
   "cell_type": "code",
   "execution_count": 13,
   "id": "4940fe15",
   "metadata": {},
   "outputs": [
    {
     "data": {
      "text/plain": [
       "{'identifier': 'PR-1-6.211203.P14.B08.K.R.1-375',\n",
       " 'plate': 'P14',\n",
       " 'well': 'B08',\n",
       " 'chain': 'K',\n",
       " 'rank': 1,\n",
       " 'count': 375}"
      ]
     },
     "execution_count": 13,
     "metadata": {},
     "output_type": "execute_result"
    }
   ],
   "source": [
    "def parse_nextflow_header(header: str):\n",
    "    \"\"\"parse fasta header and return rank, counts, well, plate, and chain, \n",
    "    we do not expect the `>` to be included in the header\"\"\"\n",
    "    if \"unmatched\" in header: return -1\n",
    "    \n",
    "    pr, date, plate, well, chain, _, rank_count = header.split(\".\")\n",
    "    bcr_ranking, bcr_count  = rank_count.split(\"-\")\n",
    "    \n",
    "    return {\n",
    "        \"identifier\":header, \n",
    "        \"plate\":plate, \n",
    "        \"well\":well, \n",
    "        \"chain\":chain, \n",
    "        \"rank\":int(bcr_ranking), \n",
    "        \"count\":int(bcr_count)\n",
    "    }\n",
    "\n",
    "parse_nextflow_header(\"PR-1-6.211203.P14.B08.K.R.1-375\")"
   ]
  },
  {
   "cell_type": "code",
   "execution_count": 14,
   "id": "5777ce1e",
   "metadata": {},
   "outputs": [
    {
     "name": "stdout",
     "output_type": "stream",
     "text": [
      ">211210P01A01H_1-1\n",
      "GAGGTGCAGCTTCAGGAGTCAGGACCTAGCCTCGTGAAACCTTCTCAGACTCTGTCCCTCACCTGTTCTGTCACTGGCGACTCCATCACCAGTGGTTACTGGAACTGGATCCGGAAATTCCCAGGGAGTAAACTTGAGTACATGGGTTTCATAAACTACAGTGGTAACACTTACTACAATCCATCTCTCAAAAGTCGAATCTCCATCACTCGAGACACATCCAAGAACCAGTCCTACCTGCAGTTGAATTCTGTGACCACTGAGGACACAGCCACATATTACTGTGCAAGGGACTTCGATGTCTGGGGCGCAGGGACCACGGTCACCGTCTCCTCAGCCAAAACAACACCCCCATCAGTCTATCCACTGGCCCCTGGGTGTGGAGATACAACTGGTTCCTCTGTGACTCTGGGATGCCTGGTCAAGGGTTATTTCCCTGAGCTGCCGGTCAG\n",
      "10574 ../2022-01-16-tatsuya-bioinformatics/211210PR1.6f.fasta\n",
      "76\n"
     ]
    }
   ],
   "source": [
    "! head -n 2 ../2022-01-16-tatsuya-bioinformatics/211210PR1.6f.fasta\n",
    "! wc -l ../2022-01-16-tatsuya-bioinformatics/211210PR1.6f.fasta\n",
    "! grep \"unmatched\" ../2022-01-16-tatsuya-bioinformatics/211210PR1.6f.fasta | wc -l"
   ]
  },
  {
   "cell_type": "code",
   "execution_count": 15,
   "id": "92a23d6b",
   "metadata": {},
   "outputs": [
    {
     "data": {
      "text/plain": [
       "5211.0"
      ]
     },
     "execution_count": 15,
     "metadata": {},
     "output_type": "execute_result"
    }
   ],
   "source": [
    "(10574/2) - 76"
   ]
  },
  {
   "cell_type": "markdown",
   "id": "c51514ca",
   "metadata": {},
   "source": [
    "**parsing the headers from tatsuya's bash scripting**"
   ]
  },
  {
   "cell_type": "code",
   "execution_count": 16,
   "id": "8bfc7892",
   "metadata": {},
   "outputs": [
    {
     "data": {
      "text/plain": [
       "{'identifier': '211210P01A01H_1-1',\n",
       " 'plate': 'P01',\n",
       " 'well': 'A01',\n",
       " 'chain': 'H',\n",
       " 'rank': 1,\n",
       " 'count': 1}"
      ]
     },
     "execution_count": 16,
     "metadata": {},
     "output_type": "execute_result"
    }
   ],
   "source": [
    "def parse_tatsuya_header(header: str):\n",
    "    \"\"\"parse fasta header and return rank, counts, well, plate, and chain, \n",
    "    we do not expect the `>` to be included in the header\"\"\"\n",
    "    if \"unmatched\" in header: return -1\n",
    "    \n",
    "    prefix, rank_count = header.split(\"_\")\n",
    "    bcr_ranking, bcr_count  = rank_count.split(\"-\")\n",
    "    \n",
    "    # pattern match for plate, well, chain\n",
    "    plate = re.search(r'([P][0-9]+)', prefix).group(0)\n",
    "    well = re.search(r'([A-L][0-9]+)', prefix).group(0)\n",
    "    chain = prefix[-1]\n",
    "    return {\n",
    "        \"identifier\":header, \n",
    "        \"plate\":plate, \n",
    "        \"well\":well, \n",
    "        \"chain\":chain, \n",
    "        \"rank\":int(bcr_ranking), \n",
    "        \"count\":int(bcr_count)\n",
    "    }\n",
    "\n",
    "parse_tatsuya_header(\"211210P01A01H_1-1\")"
   ]
  },
  {
   "cell_type": "markdown",
   "id": "bc628602",
   "metadata": {},
   "source": [
    "**write a function that will format the pertinant information from the id parsing function and parit those as their own columns in a dataframe.**"
   ]
  },
  {
   "cell_type": "code",
   "execution_count": 17,
   "id": "8c9fd04e",
   "metadata": {},
   "outputs": [],
   "source": [
    "def bcr_fasta_to_df(fasta_fp, id_parse_fn):\n",
    "    \"\"\"convert a fasta file pointer to dataframe after parsing the id with some function returning\n",
    "    the columns defined (less the sequence column)\"\"\"\n",
    "    \n",
    "    columns = ['identifier', 'plate', 'well', 'chain', 'rank', 'count', 'sequence']\n",
    "    ret  = pd.DataFrame({c:[] for c in columns})\n",
    "    with open(fasta_fp) as fasta_file:  # Will close handle cleanly\n",
    "        for seq_record in SeqIO.parse(fasta_file, 'fasta'):  # (generator)\n",
    "            bcr_meta = id_parse_fn(seq_record.id)\n",
    "            if bcr_meta != -1:\n",
    "                bcr_meta[\"sequence\"] = str(seq_record.seq)\n",
    "                ret = ret.append(pd.Series(bcr_meta), ignore_index=True)\n",
    "    return ret"
   ]
  },
  {
   "cell_type": "code",
   "execution_count": 18,
   "id": "82aa8349",
   "metadata": {},
   "outputs": [
    {
     "data": {
      "text/html": [
       "<div>\n",
       "<style scoped>\n",
       "    .dataframe tbody tr th:only-of-type {\n",
       "        vertical-align: middle;\n",
       "    }\n",
       "\n",
       "    .dataframe tbody tr th {\n",
       "        vertical-align: top;\n",
       "    }\n",
       "\n",
       "    .dataframe thead th {\n",
       "        text-align: right;\n",
       "    }\n",
       "</style>\n",
       "<table border=\"1\" class=\"dataframe\">\n",
       "  <thead>\n",
       "    <tr style=\"text-align: right;\">\n",
       "      <th></th>\n",
       "      <th>rank</th>\n",
       "      <th>count</th>\n",
       "    </tr>\n",
       "  </thead>\n",
       "  <tbody>\n",
       "    <tr>\n",
       "      <th>count</th>\n",
       "      <td>5211.000000</td>\n",
       "      <td>5211.000000</td>\n",
       "    </tr>\n",
       "    <tr>\n",
       "      <th>mean</th>\n",
       "      <td>1.961236</td>\n",
       "      <td>111.778162</td>\n",
       "    </tr>\n",
       "    <tr>\n",
       "      <th>std</th>\n",
       "      <td>0.818708</td>\n",
       "      <td>197.086248</td>\n",
       "    </tr>\n",
       "    <tr>\n",
       "      <th>min</th>\n",
       "      <td>1.000000</td>\n",
       "      <td>1.000000</td>\n",
       "    </tr>\n",
       "    <tr>\n",
       "      <th>25%</th>\n",
       "      <td>1.000000</td>\n",
       "      <td>5.000000</td>\n",
       "    </tr>\n",
       "    <tr>\n",
       "      <th>50%</th>\n",
       "      <td>2.000000</td>\n",
       "      <td>18.000000</td>\n",
       "    </tr>\n",
       "    <tr>\n",
       "      <th>75%</th>\n",
       "      <td>3.000000</td>\n",
       "      <td>74.000000</td>\n",
       "    </tr>\n",
       "    <tr>\n",
       "      <th>max</th>\n",
       "      <td>3.000000</td>\n",
       "      <td>893.000000</td>\n",
       "    </tr>\n",
       "  </tbody>\n",
       "</table>\n",
       "</div>"
      ],
      "text/plain": [
       "              rank        count\n",
       "count  5211.000000  5211.000000\n",
       "mean      1.961236   111.778162\n",
       "std       0.818708   197.086248\n",
       "min       1.000000     1.000000\n",
       "25%       1.000000     5.000000\n",
       "50%       2.000000    18.000000\n",
       "75%       3.000000    74.000000\n",
       "max       3.000000   893.000000"
      ]
     },
     "execution_count": 18,
     "metadata": {},
     "output_type": "execute_result"
    }
   ],
   "source": [
    "nextflow_input_bcrs = bcr_fasta_to_df(\n",
    "    \"../../results/2022-02-09/ranked_bcr_sequences_per_well/PR-1-6.fasta\",\n",
    "    parse_nextflow_header\n",
    ")\n",
    "nextflow_input_bcrs.describe()"
   ]
  },
  {
   "cell_type": "code",
   "execution_count": 19,
   "id": "d638400a",
   "metadata": {},
   "outputs": [
    {
     "data": {
      "text/html": [
       "<div>\n",
       "<style scoped>\n",
       "    .dataframe tbody tr th:only-of-type {\n",
       "        vertical-align: middle;\n",
       "    }\n",
       "\n",
       "    .dataframe tbody tr th {\n",
       "        vertical-align: top;\n",
       "    }\n",
       "\n",
       "    .dataframe thead th {\n",
       "        text-align: right;\n",
       "    }\n",
       "</style>\n",
       "<table border=\"1\" class=\"dataframe\">\n",
       "  <thead>\n",
       "    <tr style=\"text-align: right;\">\n",
       "      <th></th>\n",
       "      <th>rank</th>\n",
       "      <th>count</th>\n",
       "    </tr>\n",
       "  </thead>\n",
       "  <tbody>\n",
       "    <tr>\n",
       "      <th>count</th>\n",
       "      <td>5211.000000</td>\n",
       "      <td>5211.000000</td>\n",
       "    </tr>\n",
       "    <tr>\n",
       "      <th>mean</th>\n",
       "      <td>1.961236</td>\n",
       "      <td>111.778162</td>\n",
       "    </tr>\n",
       "    <tr>\n",
       "      <th>std</th>\n",
       "      <td>0.818708</td>\n",
       "      <td>197.086248</td>\n",
       "    </tr>\n",
       "    <tr>\n",
       "      <th>min</th>\n",
       "      <td>1.000000</td>\n",
       "      <td>1.000000</td>\n",
       "    </tr>\n",
       "    <tr>\n",
       "      <th>25%</th>\n",
       "      <td>1.000000</td>\n",
       "      <td>5.000000</td>\n",
       "    </tr>\n",
       "    <tr>\n",
       "      <th>50%</th>\n",
       "      <td>2.000000</td>\n",
       "      <td>18.000000</td>\n",
       "    </tr>\n",
       "    <tr>\n",
       "      <th>75%</th>\n",
       "      <td>3.000000</td>\n",
       "      <td>74.000000</td>\n",
       "    </tr>\n",
       "    <tr>\n",
       "      <th>max</th>\n",
       "      <td>3.000000</td>\n",
       "      <td>893.000000</td>\n",
       "    </tr>\n",
       "  </tbody>\n",
       "</table>\n",
       "</div>"
      ],
      "text/plain": [
       "              rank        count\n",
       "count  5211.000000  5211.000000\n",
       "mean      1.961236   111.778162\n",
       "std       0.818708   197.086248\n",
       "min       1.000000     1.000000\n",
       "25%       1.000000     5.000000\n",
       "50%       2.000000    18.000000\n",
       "75%       3.000000    74.000000\n",
       "max       3.000000   893.000000"
      ]
     },
     "execution_count": 19,
     "metadata": {},
     "output_type": "execute_result"
    }
   ],
   "source": [
    "tatsuya_input_bcrs = bcr_fasta_to_df(\n",
    "    \"../2022-01-16-tatsuya-bioinformatics/211210PR1.6f.fasta\", \n",
    "    parse_tatsuya_header\n",
    ")\n",
    "tatsuya_input_bcrs.describe()"
   ]
  },
  {
   "cell_type": "markdown",
   "id": "70a57a7b",
   "metadata": {},
   "source": [
    "**When we throw out the unmatched, the fasta's are the same size, check**"
   ]
  },
  {
   "cell_type": "markdown",
   "id": "9ac5a001",
   "metadata": {},
   "source": [
    "**Now, let's take a look at the set comparison of plate/well specific sequences. Note that we're not going to count rank as a unique quality, it's likely the order of the sequences are different i.e.fastq_collapse step will just have different ranks for different BCR's which possibly had the same counts. Concretely, the figure below is showing the set intersection of BCR's that differ, in total, between the two workflows**"
   ]
  },
  {
   "cell_type": "code",
   "execution_count": 20,
   "id": "11d6288b",
   "metadata": {},
   "outputs": [
    {
     "data": {
      "image/png": "[encoded data removed]",
      "text/plain": [
       "<Figure size 432x432 with 1 Axes>"
      ]
     },
     "metadata": {},
     "output_type": "display_data"
    }
   ],
   "source": [
    "fig, ax = plt.subplots(figsize=[6,6])\n",
    "unique_bcr_qualities = [\"plate\", \"well\",\"chain\", \"sequence\"]\n",
    "nf_well_bcrs = set(nextflow_input_bcrs.groupby(unique_bcr_qualities).groups)\n",
    "tat_well_bcrs = set(tatsuya_input_bcrs.groupby(unique_bcr_qualities).groups)\n",
    "v = venn2([nf_well_bcrs, tat_well_bcrs], [\"nextflow\", \"tatsuya\"], ax=ax)\n",
    "ax.set_title(\"venn diagram of well/plate/chain specific \\nranked BCR seqs from both methods\\npre-annotation\")\n",
    "fig.savefig(\"input-sequence-differences.png\")\n",
    "plt.tight_layout()\n",
    "plt.show()"
   ]
  },
  {
   "cell_type": "markdown",
   "id": "c5fbf680",
   "metadata": {},
   "source": [
    "**well, lets make sure the sequences from the same plate/well, have the same count, yea?**"
   ]
  },
  {
   "cell_type": "code",
   "execution_count": 21,
   "id": "03b97d5d",
   "metadata": {},
   "outputs": [
    {
     "name": "stdout",
     "output_type": "stream",
     "text": [
      "success! Sequences that appear in both methods have the exact same count!\n"
     ]
    }
   ],
   "source": [
    "in_both = set.intersection(nf_well_bcrs, tat_well_bcrs)\n",
    "for rkd_bcr in iter(in_both):\n",
    "    queries = []\n",
    "    for i, attr in enumerate(unique_bcr_qualities):\n",
    "        queries.append(f\"({attr} == '{rkd_bcr[i]}')\")\n",
    "    query_string = \" & \".join(queries)\n",
    "    nf_bcr = nextflow_input_bcrs.query(query_string, engine='python')\n",
    "    tat_bcr = tatsuya_input_bcrs.query(query_string, engine='python')\n",
    "    assert nf_bcr[\"count\"].values[0] == tat_bcr[\"count\"].values[0]\n",
    "print(\"success! Sequences that appear in both methods have the exact same count!\")"
   ]
  },
  {
   "cell_type": "markdown",
   "id": "0d63789f",
   "metadata": {},
   "source": [
    "**Okay, interesting, let's make sure the exlusive BCR's to each pipeline are trivial by making sure counts are low, and this truly is just an ordering issue** "
   ]
  },
  {
   "cell_type": "code",
   "execution_count": 22,
   "id": "f6fafbe4",
   "metadata": {},
   "outputs": [
    {
     "data": {
      "text/html": [
       "<div>\n",
       "<style scoped>\n",
       "    .dataframe tbody tr th:only-of-type {\n",
       "        vertical-align: middle;\n",
       "    }\n",
       "\n",
       "    .dataframe tbody tr th {\n",
       "        vertical-align: top;\n",
       "    }\n",
       "\n",
       "    .dataframe thead th {\n",
       "        text-align: right;\n",
       "    }\n",
       "</style>\n",
       "<table border=\"1\" class=\"dataframe\">\n",
       "  <thead>\n",
       "    <tr style=\"text-align: right;\">\n",
       "      <th></th>\n",
       "      <th>identifier</th>\n",
       "      <th>plate</th>\n",
       "      <th>well</th>\n",
       "      <th>chain</th>\n",
       "      <th>rank</th>\n",
       "      <th>count</th>\n",
       "      <th>sequence</th>\n",
       "    </tr>\n",
       "  </thead>\n",
       "  <tbody>\n",
       "    <tr>\n",
       "      <th>39</th>\n",
       "      <td>211210P01B06H_3-1</td>\n",
       "      <td>P01</td>\n",
       "      <td>B06</td>\n",
       "      <td>H</td>\n",
       "      <td>3.0</td>\n",
       "      <td>1.0</td>\n",
       "      <td>GAGGTGCAGCTTCAGGAGTCAGGACCTAGCCTCGTGAAACCTTCTC...</td>\n",
       "    </tr>\n",
       "    <tr>\n",
       "      <th>51</th>\n",
       "      <td>211210P01B12H_2-1</td>\n",
       "      <td>P01</td>\n",
       "      <td>B12</td>\n",
       "      <td>H</td>\n",
       "      <td>2.0</td>\n",
       "      <td>1.0</td>\n",
       "      <td>GAGGTGCAGCTTCAGGAGTCAGGACCTAGCCCCGTGAAACCTTCTC...</td>\n",
       "    </tr>\n",
       "    <tr>\n",
       "      <th>54</th>\n",
       "      <td>211210P01B12K_2-1</td>\n",
       "      <td>P01</td>\n",
       "      <td>B12</td>\n",
       "      <td>K</td>\n",
       "      <td>2.0</td>\n",
       "      <td>1.0</td>\n",
       "      <td>TAGAAAGCGACGGGAGTTCACAGACTGCAACCGGTGTACATTCCGA...</td>\n",
       "    </tr>\n",
       "    <tr>\n",
       "      <th>71</th>\n",
       "      <td>211210P01C08H_2-1</td>\n",
       "      <td>P01</td>\n",
       "      <td>C08</td>\n",
       "      <td>H</td>\n",
       "      <td>2.0</td>\n",
       "      <td>1.0</td>\n",
       "      <td>GAGGTGCAGCTTCAGGAGTCAGGACCTAGCCTCGTGAAACCTTCTC...</td>\n",
       "    </tr>\n",
       "    <tr>\n",
       "      <th>79</th>\n",
       "      <td>211210P01D01H_2-1</td>\n",
       "      <td>P01</td>\n",
       "      <td>D01</td>\n",
       "      <td>H</td>\n",
       "      <td>2.0</td>\n",
       "      <td>1.0</td>\n",
       "      <td>GAGGTGCAGCTTCAGGAGTCAGGACCTAGCCTCGTGAAACCTTCTC...</td>\n",
       "    </tr>\n",
       "  </tbody>\n",
       "</table>\n",
       "</div>"
      ],
      "text/plain": [
       "           identifier plate well chain  rank  count  \\\n",
       "39  211210P01B06H_3-1   P01  B06     H   3.0    1.0   \n",
       "51  211210P01B12H_2-1   P01  B12     H   2.0    1.0   \n",
       "54  211210P01B12K_2-1   P01  B12     K   2.0    1.0   \n",
       "71  211210P01C08H_2-1   P01  C08     H   2.0    1.0   \n",
       "79  211210P01D01H_2-1   P01  D01     H   2.0    1.0   \n",
       "\n",
       "                                             sequence  \n",
       "39  GAGGTGCAGCTTCAGGAGTCAGGACCTAGCCTCGTGAAACCTTCTC...  \n",
       "51  GAGGTGCAGCTTCAGGAGTCAGGACCTAGCCCCGTGAAACCTTCTC...  \n",
       "54  TAGAAAGCGACGGGAGTTCACAGACTGCAACCGGTGTACATTCCGA...  \n",
       "71  GAGGTGCAGCTTCAGGAGTCAGGACCTAGCCTCGTGAAACCTTCTC...  \n",
       "79  GAGGTGCAGCTTCAGGAGTCAGGACCTAGCCTCGTGAAACCTTCTC...  "
      ]
     },
     "execution_count": 22,
     "metadata": {},
     "output_type": "execute_result"
    }
   ],
   "source": [
    "# compute entire df of the green\n",
    "tat_but_not_nf = tat_well_bcrs - nf_well_bcrs\n",
    "tat_but_not_nf_df = tatsuya_input_bcrs.loc[[\n",
    "    index for index, row in tatsuya_input_bcrs.iterrows()\n",
    "    if (row.plate, row.well, row.chain, row.sequence) in tat_but_not_nf\n",
    "]]\n",
    "tat_but_not_nf_df.head()"
   ]
  },
  {
   "cell_type": "code",
   "execution_count": 23,
   "id": "c4246390",
   "metadata": {},
   "outputs": [
    {
     "data": {
      "text/html": [
       "<div>\n",
       "<style scoped>\n",
       "    .dataframe tbody tr th:only-of-type {\n",
       "        vertical-align: middle;\n",
       "    }\n",
       "\n",
       "    .dataframe tbody tr th {\n",
       "        vertical-align: top;\n",
       "    }\n",
       "\n",
       "    .dataframe thead th {\n",
       "        text-align: right;\n",
       "    }\n",
       "</style>\n",
       "<table border=\"1\" class=\"dataframe\">\n",
       "  <thead>\n",
       "    <tr style=\"text-align: right;\">\n",
       "      <th></th>\n",
       "      <th>rank</th>\n",
       "      <th>count</th>\n",
       "    </tr>\n",
       "  </thead>\n",
       "  <tbody>\n",
       "    <tr>\n",
       "      <th>count</th>\n",
       "      <td>566.000000</td>\n",
       "      <td>566.000000</td>\n",
       "    </tr>\n",
       "    <tr>\n",
       "      <th>mean</th>\n",
       "      <td>2.454064</td>\n",
       "      <td>2.432862</td>\n",
       "    </tr>\n",
       "    <tr>\n",
       "      <th>std</th>\n",
       "      <td>0.741089</td>\n",
       "      <td>2.316141</td>\n",
       "    </tr>\n",
       "    <tr>\n",
       "      <th>min</th>\n",
       "      <td>1.000000</td>\n",
       "      <td>1.000000</td>\n",
       "    </tr>\n",
       "    <tr>\n",
       "      <th>25%</th>\n",
       "      <td>2.000000</td>\n",
       "      <td>1.000000</td>\n",
       "    </tr>\n",
       "    <tr>\n",
       "      <th>50%</th>\n",
       "      <td>3.000000</td>\n",
       "      <td>1.000000</td>\n",
       "    </tr>\n",
       "    <tr>\n",
       "      <th>75%</th>\n",
       "      <td>3.000000</td>\n",
       "      <td>4.000000</td>\n",
       "    </tr>\n",
       "    <tr>\n",
       "      <th>max</th>\n",
       "      <td>3.000000</td>\n",
       "      <td>15.000000</td>\n",
       "    </tr>\n",
       "  </tbody>\n",
       "</table>\n",
       "</div>"
      ],
      "text/plain": [
       "             rank       count\n",
       "count  566.000000  566.000000\n",
       "mean     2.454064    2.432862\n",
       "std      0.741089    2.316141\n",
       "min      1.000000    1.000000\n",
       "25%      2.000000    1.000000\n",
       "50%      3.000000    1.000000\n",
       "75%      3.000000    4.000000\n",
       "max      3.000000   15.000000"
      ]
     },
     "execution_count": 23,
     "metadata": {},
     "output_type": "execute_result"
    }
   ],
   "source": [
    "tat_but_not_nf_df.describe()"
   ]
  },
  {
   "cell_type": "code",
   "execution_count": 24,
   "id": "a84ea0e5",
   "metadata": {},
   "outputs": [
    {
     "data": {
      "text/html": [
       "<div>\n",
       "<style scoped>\n",
       "    .dataframe tbody tr th:only-of-type {\n",
       "        vertical-align: middle;\n",
       "    }\n",
       "\n",
       "    .dataframe tbody tr th {\n",
       "        vertical-align: top;\n",
       "    }\n",
       "\n",
       "    .dataframe thead th {\n",
       "        text-align: right;\n",
       "    }\n",
       "</style>\n",
       "<table border=\"1\" class=\"dataframe\">\n",
       "  <thead>\n",
       "    <tr style=\"text-align: right;\">\n",
       "      <th></th>\n",
       "      <th>identifier</th>\n",
       "      <th>plate</th>\n",
       "      <th>well</th>\n",
       "      <th>chain</th>\n",
       "      <th>rank</th>\n",
       "      <th>count</th>\n",
       "      <th>sequence</th>\n",
       "    </tr>\n",
       "  </thead>\n",
       "  <tbody>\n",
       "    <tr>\n",
       "      <th>2</th>\n",
       "      <td>PR-1-6.211203.P14.B08.K.R.3-6</td>\n",
       "      <td>P14</td>\n",
       "      <td>B08</td>\n",
       "      <td>K</td>\n",
       "      <td>3.0</td>\n",
       "      <td>6.0</td>\n",
       "      <td>GTGTTGATGGAGACATTCTTGATGACTCAGTCTCAAAAATTCATGT...</td>\n",
       "    </tr>\n",
       "    <tr>\n",
       "      <th>63</th>\n",
       "      <td>PR-1-6.211203.P14.C06.H.R.3-2</td>\n",
       "      <td>P14</td>\n",
       "      <td>C06</td>\n",
       "      <td>H</td>\n",
       "      <td>3.0</td>\n",
       "      <td>2.0</td>\n",
       "      <td>GAGGTGCAGCTTCAGGAGTCAGGACCTAGCCTCGTGAAACCTTCTC...</td>\n",
       "    </tr>\n",
       "    <tr>\n",
       "      <th>112</th>\n",
       "      <td>PR-1-6.211203.P14.D01.H.R.3-2</td>\n",
       "      <td>P14</td>\n",
       "      <td>D01</td>\n",
       "      <td>H</td>\n",
       "      <td>3.0</td>\n",
       "      <td>2.0</td>\n",
       "      <td>GAGGTGCAGCTTCAGGAGTCAGGACCTAGCCTCGTGAAACCTTCTC...</td>\n",
       "    </tr>\n",
       "    <tr>\n",
       "      <th>118</th>\n",
       "      <td>PR-1-6.211203.P14.D02.H.R.3-2</td>\n",
       "      <td>P14</td>\n",
       "      <td>D02</td>\n",
       "      <td>H</td>\n",
       "      <td>3.0</td>\n",
       "      <td>2.0</td>\n",
       "      <td>GAGGTGCAGGTTCAGGAGTCAGGACCAAGCCTCGTGAAACCTTCTC...</td>\n",
       "    </tr>\n",
       "    <tr>\n",
       "      <th>121</th>\n",
       "      <td>PR-1-6.211203.P14.D03.H.R.3-2</td>\n",
       "      <td>P14</td>\n",
       "      <td>D03</td>\n",
       "      <td>H</td>\n",
       "      <td>3.0</td>\n",
       "      <td>2.0</td>\n",
       "      <td>GAGGTGCAGCTTCAGGAGTCAGGACCTAGCCTCGTGAAACCCTCTC...</td>\n",
       "    </tr>\n",
       "  </tbody>\n",
       "</table>\n",
       "</div>"
      ],
      "text/plain": [
       "                        identifier plate well chain  rank  count  \\\n",
       "2    PR-1-6.211203.P14.B08.K.R.3-6   P14  B08     K   3.0    6.0   \n",
       "63   PR-1-6.211203.P14.C06.H.R.3-2   P14  C06     H   3.0    2.0   \n",
       "112  PR-1-6.211203.P14.D01.H.R.3-2   P14  D01     H   3.0    2.0   \n",
       "118  PR-1-6.211203.P14.D02.H.R.3-2   P14  D02     H   3.0    2.0   \n",
       "121  PR-1-6.211203.P14.D03.H.R.3-2   P14  D03     H   3.0    2.0   \n",
       "\n",
       "                                              sequence  \n",
       "2    GTGTTGATGGAGACATTCTTGATGACTCAGTCTCAAAAATTCATGT...  \n",
       "63   GAGGTGCAGCTTCAGGAGTCAGGACCTAGCCTCGTGAAACCTTCTC...  \n",
       "112  GAGGTGCAGCTTCAGGAGTCAGGACCTAGCCTCGTGAAACCTTCTC...  \n",
       "118  GAGGTGCAGGTTCAGGAGTCAGGACCAAGCCTCGTGAAACCTTCTC...  \n",
       "121  GAGGTGCAGCTTCAGGAGTCAGGACCTAGCCTCGTGAAACCCTCTC...  "
      ]
     },
     "execution_count": 24,
     "metadata": {},
     "output_type": "execute_result"
    }
   ],
   "source": [
    "# compute entire df of the red\n",
    "nf_but_not_tat = nf_well_bcrs - tat_well_bcrs\n",
    "nf_but_not_tat_df = nextflow_input_bcrs.loc[[\n",
    "    index for index, row in nextflow_input_bcrs.iterrows()\n",
    "    if (row.plate, row.well, row.chain, row.sequence) in nf_but_not_tat\n",
    "]]\n",
    "nf_but_not_tat_df.head()"
   ]
  },
  {
   "cell_type": "code",
   "execution_count": 25,
   "id": "233f07b7",
   "metadata": {},
   "outputs": [
    {
     "data": {
      "text/html": [
       "<div>\n",
       "<style scoped>\n",
       "    .dataframe tbody tr th:only-of-type {\n",
       "        vertical-align: middle;\n",
       "    }\n",
       "\n",
       "    .dataframe tbody tr th {\n",
       "        vertical-align: top;\n",
       "    }\n",
       "\n",
       "    .dataframe thead th {\n",
       "        text-align: right;\n",
       "    }\n",
       "</style>\n",
       "<table border=\"1\" class=\"dataframe\">\n",
       "  <thead>\n",
       "    <tr style=\"text-align: right;\">\n",
       "      <th></th>\n",
       "      <th>rank</th>\n",
       "      <th>count</th>\n",
       "    </tr>\n",
       "  </thead>\n",
       "  <tbody>\n",
       "    <tr>\n",
       "      <th>count</th>\n",
       "      <td>566.000000</td>\n",
       "      <td>566.000000</td>\n",
       "    </tr>\n",
       "    <tr>\n",
       "      <th>mean</th>\n",
       "      <td>2.416961</td>\n",
       "      <td>2.432862</td>\n",
       "    </tr>\n",
       "    <tr>\n",
       "      <th>std</th>\n",
       "      <td>0.761458</td>\n",
       "      <td>2.316141</td>\n",
       "    </tr>\n",
       "    <tr>\n",
       "      <th>min</th>\n",
       "      <td>1.000000</td>\n",
       "      <td>1.000000</td>\n",
       "    </tr>\n",
       "    <tr>\n",
       "      <th>25%</th>\n",
       "      <td>2.000000</td>\n",
       "      <td>1.000000</td>\n",
       "    </tr>\n",
       "    <tr>\n",
       "      <th>50%</th>\n",
       "      <td>3.000000</td>\n",
       "      <td>1.000000</td>\n",
       "    </tr>\n",
       "    <tr>\n",
       "      <th>75%</th>\n",
       "      <td>3.000000</td>\n",
       "      <td>4.000000</td>\n",
       "    </tr>\n",
       "    <tr>\n",
       "      <th>max</th>\n",
       "      <td>3.000000</td>\n",
       "      <td>15.000000</td>\n",
       "    </tr>\n",
       "  </tbody>\n",
       "</table>\n",
       "</div>"
      ],
      "text/plain": [
       "             rank       count\n",
       "count  566.000000  566.000000\n",
       "mean     2.416961    2.432862\n",
       "std      0.761458    2.316141\n",
       "min      1.000000    1.000000\n",
       "25%      2.000000    1.000000\n",
       "50%      3.000000    1.000000\n",
       "75%      3.000000    4.000000\n",
       "max      3.000000   15.000000"
      ]
     },
     "execution_count": 25,
     "metadata": {},
     "output_type": "execute_result"
    }
   ],
   "source": [
    "nf_but_not_tat_df.describe()"
   ]
  },
  {
   "cell_type": "markdown",
   "id": "cae740b8",
   "metadata": {},
   "source": [
    "**okay, moral of the story is that this is just randomness on which horrible BCR's get chosen. We'll also make sure there's nothign weird**"
   ]
  },
  {
   "cell_type": "markdown",
   "id": "d3989c7e",
   "metadata": {},
   "source": [
    "# Post annotation \n",
    "\n",
    "## (Tatsuya + IMGT PR1.6)\n",
    "\n",
    "Data that came from tatsuya doing the demultiplexing and counting \"by hand\" then annoating using high vquest IMGT tool. We'll be following along with the original steps done in the r markdown for 1.6\n",
    "\n",
    "### Database generation\n",
    "\n",
    "* Raw file is an output of the IMGT's high-vquest. Make sure to export AIRR format as well, to make processing simpler (i.e. less files to import for simplicity).\n",
    "\n",
    "* Process both IgH and IgK at the same time as per PCR strategy.\n",
    "\n",
    "* below we read in the "
   ]
  },
  {
   "cell_type": "code",
   "execution_count": 26,
   "id": "06159b1b",
   "metadata": {},
   "outputs": [
    {
     "name": "stdout",
     "output_type": "stream",
     "text": [
      "<class 'pandas.core.frame.DataFrame'>\n",
      "RangeIndex: 5287 entries, 0 to 5286\n",
      "Data columns (total 23 columns):\n",
      " #   Column              Non-Null Count  Dtype \n",
      "---  ------              --------------  ----- \n",
      " 0   num                 5287 non-null   int64 \n",
      " 1   ID                  5287 non-null   object\n",
      " 2   locus               4853 non-null   object\n",
      " 3   V                   4853 non-null   object\n",
      " 4   D                   54 non-null     object\n",
      " 5   J                   4713 non-null   object\n",
      " 6   Productive          4853 non-null   object\n",
      " 7   AAjunction          4687 non-null   object\n",
      " 8   seq_nt              5287 non-null   object\n",
      " 9   seq_nt_length       5287 non-null   int64 \n",
      " 10  nt_mut              4853 non-null   object\n",
      " 11  nt_mut_silent       4853 non-null   object\n",
      " 12  nt_mut_replacement  4853 non-null   object\n",
      " 13  aa_replacement      4853 non-null   object\n",
      " 14  Vchanges            4640 non-null   object\n",
      " 15  seq_aa              5287 non-null   object\n",
      " 16  seq_aa_length       5287 non-null   int64 \n",
      " 17  seq_input           5287 non-null   object\n",
      " 18  gapped seq_nt       4853 non-null   object\n",
      " 19  gapped seq_aa       4853 non-null   object\n",
      " 20  v_cigar             4853 non-null   object\n",
      " 21  d_cigar             54 non-null     object\n",
      " 22  j_cigar             4713 non-null   object\n",
      "dtypes: int64(3), object(20)\n",
      "memory usage: 950.1+ KB\n"
     ]
    }
   ],
   "source": [
    "imgt_path = \"../2022-01-16-tatsuya-bioinformatics/PR1_6_IMGT_OUT/\"\n",
    "imgt_airr= pd.read_csv(\"../partis_test/vquest_org.csv\")\n",
    "imgt_airr.info()"
   ]
  },
  {
   "cell_type": "markdown",
   "id": "e58f7e46",
   "metadata": {},
   "source": [
    "# Partis Data\n",
    "\n",
    "## (Nextflow pipeline + Partis PR1.6)\n",
    "\n",
    "Data that came from the pipeline then annotated by partis tool.\n",
    "\n",
    "### Database generation\n",
    "\n",
    "There is a vast amount of information. The main difference with IMGT is that we are annotating using a custom database for the germline engineered sequences. The AIRR output from partis is split into both IDK and IGH immedietly. We simply append one to the other to make the complete output\n"
   ]
  },
  {
   "cell_type": "markdown",
   "id": "971e99fa",
   "metadata": {},
   "source": [
    "**Read and peak at partis data**"
   ]
  },
  {
   "cell_type": "code",
   "execution_count": 27,
   "id": "fa79984c",
   "metadata": {},
   "outputs": [],
   "source": [
    "partis_output_dir = \"../../results/2022-02-09/partis_annotation/PR-1-6/\"\n",
    "partis_igk = pd.read_csv(partis_output_dir+\"engrd/single-chain/partition-igk.tsv\", sep=\"\\t\")\n",
    "partis_igh = pd.read_csv(partis_output_dir+\"engrd/single-chain/partition-igh.tsv\", sep=\"\\t\")"
   ]
  },
  {
   "cell_type": "code",
   "execution_count": 28,
   "id": "7d1299cf",
   "metadata": {},
   "outputs": [],
   "source": [
    "# partis_igk.info()"
   ]
  },
  {
   "cell_type": "code",
   "execution_count": 29,
   "id": "23ad55a2",
   "metadata": {},
   "outputs": [],
   "source": [
    "partis_igk = partis_igk[partis_igk[\"seqs_aa\"].notna()]\n",
    "partis_igh = partis_igh[partis_igh[\"seqs_aa\"].notna()]"
   ]
  },
  {
   "cell_type": "markdown",
   "id": "106b5250",
   "metadata": {},
   "source": [
    "**Now, we must merge the original sequences in for isotype matching and memo'ization sake**"
   ]
  },
  {
   "cell_type": "markdown",
   "id": "5b6d6a95",
   "metadata": {},
   "source": [
    "**partis ends each aa sequence with 'x' because of the extra aa, remove it, let's check and remove if so**"
   ]
  },
  {
   "cell_type": "code",
   "execution_count": 30,
   "id": "6234550d",
   "metadata": {},
   "outputs": [
    {
     "name": "stdout",
     "output_type": "stream",
     "text": [
      "0 1962 84\n"
     ]
    }
   ],
   "source": [
    "ends_tvss, ends_tvssx, ends_neither = 0, 0, 0\n",
    "# not_na_heavy = partis_igh[partis_igh[\"seqs_aa\"].notna()]\n",
    "for seq in partis_igh[\"seqs_aa\"]:\n",
    "    if seq.endswith(\"TVSSX\"): ends_tvssx += 1\n",
    "    elif seq.endswith(\"TVSS\"): ends_tvss += 1\n",
    "    else: ends_neither += 1\n",
    "print(ends_tvss, ends_tvssx, ends_neither)\n",
    "for seq in partis_igh[\"seqs_aa\"]:\n",
    "    assert seq.endswith(\"X\")"
   ]
  },
  {
   "cell_type": "code",
   "execution_count": 31,
   "id": "2ff8d96b",
   "metadata": {},
   "outputs": [],
   "source": [
    "for seq in partis_igk[\"seqs_aa\"]:\n",
    "    assert not seq.endswith(\"X\")"
   ]
  },
  {
   "cell_type": "code",
   "execution_count": 32,
   "id": "0617ca6e",
   "metadata": {},
   "outputs": [],
   "source": [
    "partis_igh[\"seq_aa\"] = [s[:-1] for s in partis_igh[\"seqs_aa\"]]\n",
    "partis_igh = partis_igh.drop(\"seqs_aa\", axis=1)\n",
    "partis_igk = partis_igk.rename({\"seqs_aa\": \"seq_aa\"}, axis=1)"
   ]
  },
  {
   "cell_type": "code",
   "execution_count": 33,
   "id": "0a04c2c8",
   "metadata": {},
   "outputs": [
    {
     "data": {
      "text/plain": [
       "2046"
      ]
     },
     "execution_count": 33,
     "metadata": {},
     "output_type": "execute_result"
    }
   ],
   "source": [
    "len(partis_igh)"
   ]
  },
  {
   "cell_type": "code",
   "execution_count": 34,
   "id": "f15844dd",
   "metadata": {},
   "outputs": [
    {
     "name": "stdout",
     "output_type": "stream",
     "text": [
      "There are 5176 total sequences identified by partis annotation\n"
     ]
    }
   ],
   "source": [
    "print(f\"There are {partis_igh.shape[0]+partis_igk.shape[0]} total sequences identified by partis annotation\")"
   ]
  },
  {
   "cell_type": "code",
   "execution_count": 35,
   "id": "6caafbae",
   "metadata": {},
   "outputs": [],
   "source": [
    "partis_airr = partis_igk.append(partis_igh)"
   ]
  },
  {
   "cell_type": "code",
   "execution_count": 36,
   "id": "43efda9c",
   "metadata": {},
   "outputs": [
    {
     "name": "stdout",
     "output_type": "stream",
     "text": [
      "<class 'pandas.core.frame.DataFrame'>\n",
      "Int64Index: 5176 entries, 0 to 2045\n",
      "Data columns (total 44 columns):\n",
      " #   Column              Non-Null Count  Dtype  \n",
      "---  ------              --------------  -----  \n",
      " 0   sequence_id         5176 non-null   object \n",
      " 1   sequence            5176 non-null   object \n",
      " 2   rev_comp            5176 non-null   object \n",
      " 3   productive          5176 non-null   object \n",
      " 4   v_call              5176 non-null   object \n",
      " 5   d_call              5176 non-null   object \n",
      " 6   j_call              5176 non-null   object \n",
      " 7   sequence_alignment  5176 non-null   object \n",
      " 8   germline_alignment  5176 non-null   object \n",
      " 9   junction            5176 non-null   object \n",
      " 10  junction_aa         5176 non-null   object \n",
      " 11  v_cigar             5176 non-null   object \n",
      " 12  d_cigar             5176 non-null   object \n",
      " 13  j_cigar             5176 non-null   object \n",
      " 14  clone_id            0 non-null      float64\n",
      " 15  vj_in_frame         5176 non-null   object \n",
      " 16  stop_codon          5176 non-null   object \n",
      " 17  locus               5176 non-null   object \n",
      " 18  np1                 0 non-null      float64\n",
      " 19  np2                 0 non-null      float64\n",
      " 20  duplicate_count     5176 non-null   float64\n",
      " 21  cdr3_start          5176 non-null   float64\n",
      " 22  cdr3_end            5176 non-null   float64\n",
      " 23  cell_id             5176 non-null   object \n",
      " 24  v_support           5176 non-null   float64\n",
      " 25  v_identity          5176 non-null   float64\n",
      " 26  v_sequence_start    5176 non-null   float64\n",
      " 27  v_sequence_end      5176 non-null   float64\n",
      " 28  v_germline_start    5176 non-null   float64\n",
      " 29  v_germline_end      5176 non-null   float64\n",
      " 30  d_support           5176 non-null   float64\n",
      " 31  d_identity          5176 non-null   float64\n",
      " 32  d_sequence_start    5176 non-null   float64\n",
      " 33  d_sequence_end      5176 non-null   float64\n",
      " 34  d_germline_start    5176 non-null   float64\n",
      " 35  d_germline_end      5176 non-null   float64\n",
      " 36  j_support           5176 non-null   float64\n",
      " 37  j_identity          5176 non-null   float64\n",
      " 38  j_sequence_start    5176 non-null   float64\n",
      " 39  j_sequence_end      5176 non-null   float64\n",
      " 40  j_germline_start    5176 non-null   float64\n",
      " 41  j_germline_end      5176 non-null   float64\n",
      " 42  seq_aa              5176 non-null   object \n",
      " 43  n_mutations         5176 non-null   float64\n",
      "dtypes: float64(25), object(19)\n",
      "memory usage: 1.8+ MB\n"
     ]
    }
   ],
   "source": [
    "#5176\n",
    "partis_airr.info()"
   ]
  },
  {
   "cell_type": "code",
   "execution_count": 37,
   "id": "a7f87d2c",
   "metadata": {},
   "outputs": [],
   "source": [
    "to_drop = [\n",
    "    \"j_sequence_end\",\n",
    "    \"j_germline_start\",\n",
    "    \"j_germline_end\",  \n",
    "    \"rev_comp\",\n",
    "    \"junction\",\n",
    "    \"clone_id\",\n",
    "    \"vj_in_frame\",\n",
    "    \"stop_codon\",\n",
    "    \"np1\",\n",
    "    \"np2\",\n",
    "    \"duplicate_count\",\n",
    "    \"cdr3_start\",\n",
    "    \"cdr3_end\",\n",
    "    \"cell_id\",\n",
    "    \"v_support\",\n",
    "    \"v_identity\",\n",
    "    \"v_sequence_start\",\n",
    "    \"v_sequence_end\",\n",
    "    \"v_germline_start\",\n",
    "    \"v_germline_end\",\n",
    "    \"d_support\",\n",
    "    \"d_identity\",\n",
    "    \"d_sequence_start\",\n",
    "    \"d_sequence_end\",\n",
    "    \"d_germline_start\",\n",
    "    \"d_germline_end\",\n",
    "    \"j_support\",\n",
    "    \"j_identity\",\n",
    "    \"j_sequence_start\",\n",
    "    \"j_sequence_end\",\n",
    "    \"j_germline_start\",\n",
    "    \"j_germline_end\",\n",
    "]"
   ]
  },
  {
   "cell_type": "code",
   "execution_count": 38,
   "id": "f2c3f3d1",
   "metadata": {},
   "outputs": [],
   "source": [
    "partis_airr.drop(to_drop, axis=1, inplace=True)"
   ]
  },
  {
   "cell_type": "markdown",
   "id": "96b7545a",
   "metadata": {},
   "source": [
    "**Format the columns from partis**"
   ]
  },
  {
   "cell_type": "code",
   "execution_count": 39,
   "id": "af1093ff",
   "metadata": {},
   "outputs": [],
   "source": [
    "# parse the id\n",
    "partis_airr[\n",
    "    ['PR_num','date', 'plate_num', 'well', 'chain','_', 'nf_rank_string']\n",
    "] = partis_airr['sequence_id'].str.split('.', expand=True)\n",
    "partis_airr[\"rank\"] = [int(r.split(\"-\")[0]) for r in partis_airr[\"nf_rank_string\"]]\n",
    "partis_airr[\"counts\"] = [int(r.split(\"-\")[1]) for r in partis_airr[\"nf_rank_string\"]]\n",
    "partis_airr.drop([\"nf_rank_string\", \"_\"], axis=1, inplace=True)\n",
    "partis_airr[\"ID\"] = [\n",
    "    f\"211210{r.plate_num}{r.well}{r.chain}\"\n",
    "    for i, r in partis_airr.iterrows()\n",
    "]\n",
    "\n",
    "# TODO f\"{r.date}{r.plate_num}{r.well}{r.chain}\""
   ]
  },
  {
   "cell_type": "code",
   "execution_count": 40,
   "id": "6eb143be",
   "metadata": {},
   "outputs": [
    {
     "data": {
      "text/plain": [
       "0       PR-1-6.211203.P14.B08.K.R.1-375\n",
       "1        PR-1-6.211203.P14.C11.K.R.2-23\n",
       "2       PR-1-6.211203.P14.E04.K.R.1-464\n",
       "3       PR-1-6.211203.P14.E07.H.R.1-293\n",
       "4        PR-1-6.211203.P14.G01.K.R.2-20\n",
       "                     ...               \n",
       "2041      PR-1-6.211203.P06.D11.H.R.3-8\n",
       "2042     PR-1-6.211203.P06.E11.H.R.3-16\n",
       "2043     PR-1-6.211203.P06.F12.H.R.3-12\n",
       "2044     PR-1-6.211203.P06.G11.H.R.3-16\n",
       "2045      PR-1-6.211203.P06.H11.H.R.3-7\n",
       "Name: sequence_id, Length: 5176, dtype: object"
      ]
     },
     "execution_count": 40,
     "metadata": {},
     "output_type": "execute_result"
    }
   ],
   "source": [
    "partis_airr[\"sequence_id\"]"
   ]
  },
  {
   "cell_type": "code",
   "execution_count": 41,
   "id": "54868579",
   "metadata": {},
   "outputs": [],
   "source": [
    "# trash the unmatched\n",
    "partis_airr = partis_airr[partis_airr[\"plate_num\"]!=\"unmatched\"]\n",
    "partis_airr = partis_airr[partis_airr[\"well\"]!=\"unmatched\"]"
   ]
  },
  {
   "cell_type": "code",
   "execution_count": 42,
   "id": "016d4079",
   "metadata": {},
   "outputs": [
    {
     "data": {
      "text/plain": [
       "array(['B08', 'C11', 'E04', 'E07', 'G01', 'H04', 'A12', 'A03', 'B03',\n",
       "       'A07', 'D08', 'E06', 'F05', 'G06', 'H07', 'A10', 'B12', 'D12',\n",
       "       'A08', 'C02', 'G04', 'H08', 'B09', 'C12', 'E10', 'F11', 'H02',\n",
       "       'A02', 'C01', 'D05', 'E03', 'E12', 'A06', 'C05', 'E05', 'F03',\n",
       "       'H05', 'A01', 'C06', 'C07', 'D01', 'D11', 'E11', 'G02', 'H03',\n",
       "       'A04', 'F10', 'G09', 'C10', 'D10', 'F09', 'G10', 'B02', 'B05',\n",
       "       'F06', 'G07', 'B01', 'G05', 'H09', 'F12', 'B10', 'D09', 'D03',\n",
       "       'F02', 'H10', 'B07', 'G11', 'A09', 'C09', 'D06', 'C08', 'H06',\n",
       "       'C04', 'H12', 'E01', 'C03', 'F04', 'G03', 'B06', 'B11', 'E08',\n",
       "       'F07', 'G08', 'F01', 'D02', 'E02', 'H11', 'B04', 'A11', 'E09',\n",
       "       'F08', 'G12', 'D04', 'A05', 'D07', 'H01'], dtype=object)"
      ]
     },
     "execution_count": 42,
     "metadata": {},
     "output_type": "execute_result"
    }
   ],
   "source": [
    "partis_airr.well.unique()"
   ]
  },
  {
   "cell_type": "code",
   "execution_count": 43,
   "id": "46c8d9e0",
   "metadata": {},
   "outputs": [],
   "source": [
    "row, column = [], []\n",
    "for w in partis_airr.well.values:\n",
    "    row.append(w[0])\n",
    "    column.append(w[1:])\n",
    "partis_airr[\"row\"] = row\n",
    "partis_airr[\"column\"] = column"
   ]
  },
  {
   "cell_type": "code",
   "execution_count": 44,
   "id": "90990d4d",
   "metadata": {},
   "outputs": [
    {
     "data": {
      "text/plain": [
       "array(['P14', 'P08', 'P12', 'P09', 'P15', 'P11', 'P10', 'P16', 'P07',\n",
       "       'P13', 'P05', 'P06', 'P01'], dtype=object)"
      ]
     },
     "execution_count": 44,
     "metadata": {},
     "output_type": "execute_result"
    }
   ],
   "source": [
    "partis_airr.plate_num.unique()"
   ]
  },
  {
   "cell_type": "code",
   "execution_count": 45,
   "id": "fcfeec21",
   "metadata": {},
   "outputs": [],
   "source": [
    "barcode = []\n",
    "for w in partis_airr.plate_num.values:\n",
    "    if w == \"unmatched\":\n",
    "        barcode.append(np.nan)\n",
    "    else:\n",
    "        barcode.append(int(w[1:]))\n",
    "partis_airr[\"barcode\"] = barcode"
   ]
  },
  {
   "cell_type": "code",
   "execution_count": 46,
   "id": "85e29fca",
   "metadata": {},
   "outputs": [
    {
     "data": {
      "image/png": "[encoded data removed]",
      "text/plain": [
       "<Figure size 432x288 with 1 Axes>"
      ]
     },
     "metadata": {
      "needs_background": "light"
     },
     "output_type": "display_data"
    }
   ],
   "source": [
    "# plt.yscale('log')\n",
    "plt.hist(partis_airr[\"n_mutations\"], bins=50)\n",
    "plt.ylabel(\"count\")\n",
    "plt.xlabel(\"n mutations\")\n",
    "plt.savefig(\"hist_n_mutations.png\")"
   ]
  },
  {
   "cell_type": "code",
   "execution_count": 47,
   "id": "282205cb",
   "metadata": {},
   "outputs": [],
   "source": [
    "# make the equivilent seq_nt column\n",
    "partis_airr[\"seq_nt\"] = [seq.lower() for seq in partis_airr[\"sequence\"]]\n",
    "partis_airr[\"seq_nt_length\"] = [len(seq) for seq in partis_airr[\"seq_nt\"]]\n",
    "partis_airr[\"seq_aa_length\"] = [len(seq) for seq in partis_airr[\"seq_aa\"]]"
   ]
  },
  {
   "cell_type": "code",
   "execution_count": 48,
   "id": "e00b5d16",
   "metadata": {},
   "outputs": [],
   "source": [
    "input_seqs = nextflow_input_bcrs[[\"identifier\", \"sequence\"]].rename(\n",
    "    {\"identifier\":\"sequence_id\", \"sequence\":\"seq_input\"}, axis=1\n",
    ")\n",
    "partis_airr = partis_airr.merge(input_seqs, how=\"left\", on=\"sequence_id\")"
   ]
  },
  {
   "cell_type": "code",
   "execution_count": 49,
   "id": "0c149a78",
   "metadata": {},
   "outputs": [],
   "source": [
    "# rename some things\n",
    "partis_airr = partis_airr.rename(\n",
    "    {\n",
    "        \"v_call\":\"V\",\n",
    "        \"d_call\":\"D\",\n",
    "        \"j_call\":\"J\",\n",
    "        \"productive\":\"Productive\",\n",
    "        \"junction_aa\":\"AAjunction\",\n",
    "    },\n",
    "    axis=1\n",
    ")"
   ]
  },
  {
   "cell_type": "code",
   "execution_count": 50,
   "id": "a630007c",
   "metadata": {},
   "outputs": [
    {
     "data": {
      "text/plain": [
       "(4534, 30)"
      ]
     },
     "execution_count": 50,
     "metadata": {},
     "output_type": "execute_result"
    }
   ],
   "source": [
    "partis_airr.shape"
   ]
  },
  {
   "cell_type": "code",
   "execution_count": 51,
   "id": "1ef514d4",
   "metadata": {},
   "outputs": [
    {
     "data": {
      "text/plain": [
       "(4534, 30)"
      ]
     },
     "execution_count": 51,
     "metadata": {},
     "output_type": "execute_result"
    }
   ],
   "source": [
    "partis_airr.shape"
   ]
  },
  {
   "cell_type": "code",
   "execution_count": 52,
   "id": "058a3548",
   "metadata": {},
   "outputs": [],
   "source": [
    "partis_airr = partis_airr.convert_dtypes()"
   ]
  },
  {
   "cell_type": "code",
   "execution_count": 53,
   "id": "0649e5cd",
   "metadata": {},
   "outputs": [],
   "source": [
    "# partis_airr.query(\"ID == '211210P10F03K'\")"
   ]
  },
  {
   "cell_type": "code",
   "execution_count": 54,
   "id": "8ee448c0",
   "metadata": {},
   "outputs": [
    {
     "data": {
      "text/html": [
       "<div>\n",
       "<style scoped>\n",
       "    .dataframe tbody tr th:only-of-type {\n",
       "        vertical-align: middle;\n",
       "    }\n",
       "\n",
       "    .dataframe tbody tr th {\n",
       "        vertical-align: top;\n",
       "    }\n",
       "\n",
       "    .dataframe thead th {\n",
       "        text-align: right;\n",
       "    }\n",
       "</style>\n",
       "<table border=\"1\" class=\"dataframe\">\n",
       "  <thead>\n",
       "    <tr style=\"text-align: right;\">\n",
       "      <th></th>\n",
       "      <th>sequence_id</th>\n",
       "      <th>sequence</th>\n",
       "      <th>Productive</th>\n",
       "      <th>V</th>\n",
       "      <th>D</th>\n",
       "      <th>J</th>\n",
       "      <th>sequence_alignment</th>\n",
       "      <th>germline_alignment</th>\n",
       "      <th>AAjunction</th>\n",
       "      <th>v_cigar</th>\n",
       "      <th>...</th>\n",
       "      <th>rank</th>\n",
       "      <th>counts</th>\n",
       "      <th>ID</th>\n",
       "      <th>row</th>\n",
       "      <th>column</th>\n",
       "      <th>barcode</th>\n",
       "      <th>seq_nt</th>\n",
       "      <th>seq_nt_length</th>\n",
       "      <th>seq_aa_length</th>\n",
       "      <th>seq_input</th>\n",
       "    </tr>\n",
       "  </thead>\n",
       "  <tbody>\n",
       "    <tr>\n",
       "      <th>0</th>\n",
       "      <td>PR-1-6.211203.P14.B08.K.R.1-375</td>\n",
       "      <td>ACATTCTTGATGACTCAGTCTCAAAAATTCATGTCCACATCAGTCG...</td>\n",
       "      <td>True</td>\n",
       "      <td>IGKV6-15*chg</td>\n",
       "      <td>IGKDx-x*x</td>\n",
       "      <td>IGKJ4*chg</td>\n",
       "      <td>ACATTCTTGATGACTCAGTCTCAAAAATTCATGTCCACATCAGTCG...</td>\n",
       "      <td>GACATTGTGATGACTCAGTCTCAAAAATTCATGTCCACATCAGTAG...</td>\n",
       "      <td>CQQYKNYPITF</td>\n",
       "      <td>287M34I</td>\n",
       "      <td>...</td>\n",
       "      <td>1</td>\n",
       "      <td>375</td>\n",
       "      <td>211210P14B08K</td>\n",
       "      <td>B</td>\n",
       "      <td>08</td>\n",
       "      <td>14</td>\n",
       "      <td>acattcttgatgactcagtctcaaaaattcatgtccacatcagtcg...</td>\n",
       "      <td>321</td>\n",
       "      <td>107</td>\n",
       "      <td>GTGTTGATGGAGACATTCTTGATGACTCAGTCTCAAAAATTCATGT...</td>\n",
       "    </tr>\n",
       "    <tr>\n",
       "      <th>1</th>\n",
       "      <td>PR-1-6.211203.P14.C11.K.R.2-23</td>\n",
       "      <td>GACATTGTAATGACTCAGTCTCAAAAATTCATGTCCACATCAGTAG...</td>\n",
       "      <td>False</td>\n",
       "      <td>IGKV6-15*chg</td>\n",
       "      <td>IGKDx-x*x</td>\n",
       "      <td>IGKJ4*chg</td>\n",
       "      <td>GACATTGTAATGACTCAGTCTCAAAAATTCATGTCCACATCAGTAG...</td>\n",
       "      <td>GACATTGTGATGACTCAGTCTCAAAAATTCATGTCCACATCAGTAG...</td>\n",
       "      <td>CHQYKSYPLTF</td>\n",
       "      <td>201M1I86M34I</td>\n",
       "      <td>...</td>\n",
       "      <td>2</td>\n",
       "      <td>23</td>\n",
       "      <td>211210P14C11K</td>\n",
       "      <td>C</td>\n",
       "      <td>11</td>\n",
       "      <td>14</td>\n",
       "      <td>gacattgtaatgactcagtctcaaaaattcatgtccacatcagtag...</td>\n",
       "      <td>322</td>\n",
       "      <td>107</td>\n",
       "      <td>GTGTTGATGGAGACATTGTAATGACTCAGTCTCAAAAATTCATGTC...</td>\n",
       "    </tr>\n",
       "    <tr>\n",
       "      <th>2</th>\n",
       "      <td>PR-1-6.211203.P14.E04.K.R.1-464</td>\n",
       "      <td>GACATTGTGATGACTCAGTCTCAAAAATTCATGTCCACATCAGTAG...</td>\n",
       "      <td>True</td>\n",
       "      <td>IGKV6-15*chg</td>\n",
       "      <td>IGKDx-x*x</td>\n",
       "      <td>IGKJ4*chg</td>\n",
       "      <td>GACATTGTGATGACTCAGTCTCAAAAATTCATGTCCACATCAGTAG...</td>\n",
       "      <td>GACATTGTGATGACTCAGTCTCAAAAATTCATGTCCACATCAGTAG...</td>\n",
       "      <td>CQQYKTYPITF</td>\n",
       "      <td>287M34I</td>\n",
       "      <td>...</td>\n",
       "      <td>1</td>\n",
       "      <td>464</td>\n",
       "      <td>211210P14E04K</td>\n",
       "      <td>E</td>\n",
       "      <td>04</td>\n",
       "      <td>14</td>\n",
       "      <td>gacattgtgatgactcagtctcaaaaattcatgtccacatcagtag...</td>\n",
       "      <td>321</td>\n",
       "      <td>107</td>\n",
       "      <td>GTGTTGATGGAGACATTGTGATGACTCAGTCTCAAAAATTCATGTC...</td>\n",
       "    </tr>\n",
       "    <tr>\n",
       "      <th>3</th>\n",
       "      <td>PR-1-6.211203.P14.E07.H.R.1-293</td>\n",
       "      <td>GACATTGTGATGACTCAGTCTCAAAAATTCATGTCCACATCAGTAG...</td>\n",
       "      <td>True</td>\n",
       "      <td>IGKV6-15*chg</td>\n",
       "      <td>IGKDx-x*x</td>\n",
       "      <td>IGKJ4*chg</td>\n",
       "      <td>GACATTGTGATGACTCAGTCTCAAAAATTCATGTCCACATCAGTAG...</td>\n",
       "      <td>GACATTGTGATGACTCAGTCTCAAAAATTCATGTCCACATCAGTAG...</td>\n",
       "      <td>CHQYKNYPLTF</td>\n",
       "      <td>287M34I</td>\n",
       "      <td>...</td>\n",
       "      <td>1</td>\n",
       "      <td>293</td>\n",
       "      <td>211210P14E07H</td>\n",
       "      <td>E</td>\n",
       "      <td>07</td>\n",
       "      <td>14</td>\n",
       "      <td>gacattgtgatgactcagtctcaaaaattcatgtccacatcagtag...</td>\n",
       "      <td>321</td>\n",
       "      <td>107</td>\n",
       "      <td>TCAGAGCGACGGGAGTTCACAGGTATACATGTTGCTGTGGTTGTCT...</td>\n",
       "    </tr>\n",
       "    <tr>\n",
       "      <th>4</th>\n",
       "      <td>PR-1-6.211203.P14.G01.K.R.2-20</td>\n",
       "      <td>GACATTGTGATGTCTCAGTCTCAAAAATTCATGTCCACATCAGTAG...</td>\n",
       "      <td>True</td>\n",
       "      <td>IGKV6-15*chg</td>\n",
       "      <td>IGKDx-x*x</td>\n",
       "      <td>IGKJ4*chg</td>\n",
       "      <td>GACATTGTGATGTCTCAGTCTCAAAAATTCATGTCCACATCAGTAG...</td>\n",
       "      <td>GACATTGTGATGACTCAGTCTCAAAAATTCATGTCCACATCAGTAG...</td>\n",
       "      <td>CHQYKNYPLTF</td>\n",
       "      <td>287M34I</td>\n",
       "      <td>...</td>\n",
       "      <td>2</td>\n",
       "      <td>20</td>\n",
       "      <td>211210P14G01K</td>\n",
       "      <td>G</td>\n",
       "      <td>01</td>\n",
       "      <td>14</td>\n",
       "      <td>gacattgtgatgtctcagtctcaaaaattcatgtccacatcagtag...</td>\n",
       "      <td>321</td>\n",
       "      <td>107</td>\n",
       "      <td>GTGTTGATGGAGACATTGTGATGTCTCAGTCTCAAAAATTCATGTC...</td>\n",
       "    </tr>\n",
       "  </tbody>\n",
       "</table>\n",
       "<p>5 rows × 30 columns</p>\n",
       "</div>"
      ],
      "text/plain": [
       "                       sequence_id  \\\n",
       "0  PR-1-6.211203.P14.B08.K.R.1-375   \n",
       "1   PR-1-6.211203.P14.C11.K.R.2-23   \n",
       "2  PR-1-6.211203.P14.E04.K.R.1-464   \n",
       "3  PR-1-6.211203.P14.E07.H.R.1-293   \n",
       "4   PR-1-6.211203.P14.G01.K.R.2-20   \n",
       "\n",
       "                                            sequence  Productive  \\\n",
       "0  ACATTCTTGATGACTCAGTCTCAAAAATTCATGTCCACATCAGTCG...        True   \n",
       "1  GACATTGTAATGACTCAGTCTCAAAAATTCATGTCCACATCAGTAG...       False   \n",
       "2  GACATTGTGATGACTCAGTCTCAAAAATTCATGTCCACATCAGTAG...        True   \n",
       "3  GACATTGTGATGACTCAGTCTCAAAAATTCATGTCCACATCAGTAG...        True   \n",
       "4  GACATTGTGATGTCTCAGTCTCAAAAATTCATGTCCACATCAGTAG...        True   \n",
       "\n",
       "              V          D          J  \\\n",
       "0  IGKV6-15*chg  IGKDx-x*x  IGKJ4*chg   \n",
       "1  IGKV6-15*chg  IGKDx-x*x  IGKJ4*chg   \n",
       "2  IGKV6-15*chg  IGKDx-x*x  IGKJ4*chg   \n",
       "3  IGKV6-15*chg  IGKDx-x*x  IGKJ4*chg   \n",
       "4  IGKV6-15*chg  IGKDx-x*x  IGKJ4*chg   \n",
       "\n",
       "                                  sequence_alignment  \\\n",
       "0  ACATTCTTGATGACTCAGTCTCAAAAATTCATGTCCACATCAGTCG...   \n",
       "1  GACATTGTAATGACTCAGTCTCAAAAATTCATGTCCACATCAGTAG...   \n",
       "2  GACATTGTGATGACTCAGTCTCAAAAATTCATGTCCACATCAGTAG...   \n",
       "3  GACATTGTGATGACTCAGTCTCAAAAATTCATGTCCACATCAGTAG...   \n",
       "4  GACATTGTGATGTCTCAGTCTCAAAAATTCATGTCCACATCAGTAG...   \n",
       "\n",
       "                                  germline_alignment   AAjunction  \\\n",
       "0  GACATTGTGATGACTCAGTCTCAAAAATTCATGTCCACATCAGTAG...  CQQYKNYPITF   \n",
       "1  GACATTGTGATGACTCAGTCTCAAAAATTCATGTCCACATCAGTAG...  CHQYKSYPLTF   \n",
       "2  GACATTGTGATGACTCAGTCTCAAAAATTCATGTCCACATCAGTAG...  CQQYKTYPITF   \n",
       "3  GACATTGTGATGACTCAGTCTCAAAAATTCATGTCCACATCAGTAG...  CHQYKNYPLTF   \n",
       "4  GACATTGTGATGACTCAGTCTCAAAAATTCATGTCCACATCAGTAG...  CHQYKNYPLTF   \n",
       "\n",
       "        v_cigar  ... rank counts             ID row  column barcode  \\\n",
       "0       287M34I  ...    1    375  211210P14B08K   B      08      14   \n",
       "1  201M1I86M34I  ...    2     23  211210P14C11K   C      11      14   \n",
       "2       287M34I  ...    1    464  211210P14E04K   E      04      14   \n",
       "3       287M34I  ...    1    293  211210P14E07H   E      07      14   \n",
       "4       287M34I  ...    2     20  211210P14G01K   G      01      14   \n",
       "\n",
       "                                              seq_nt seq_nt_length  \\\n",
       "0  acattcttgatgactcagtctcaaaaattcatgtccacatcagtcg...           321   \n",
       "1  gacattgtaatgactcagtctcaaaaattcatgtccacatcagtag...           322   \n",
       "2  gacattgtgatgactcagtctcaaaaattcatgtccacatcagtag...           321   \n",
       "3  gacattgtgatgactcagtctcaaaaattcatgtccacatcagtag...           321   \n",
       "4  gacattgtgatgtctcagtctcaaaaattcatgtccacatcagtag...           321   \n",
       "\n",
       "  seq_aa_length                                          seq_input  \n",
       "0           107  GTGTTGATGGAGACATTCTTGATGACTCAGTCTCAAAAATTCATGT...  \n",
       "1           107  GTGTTGATGGAGACATTGTAATGACTCAGTCTCAAAAATTCATGTC...  \n",
       "2           107  GTGTTGATGGAGACATTGTGATGACTCAGTCTCAAAAATTCATGTC...  \n",
       "3           107  TCAGAGCGACGGGAGTTCACAGGTATACATGTTGCTGTGGTTGTCT...  \n",
       "4           107  GTGTTGATGGAGACATTGTGATGTCTCAGTCTCAAAAATTCATGTC...  \n",
       "\n",
       "[5 rows x 30 columns]"
      ]
     },
     "execution_count": 54,
     "metadata": {},
     "output_type": "execute_result"
    }
   ],
   "source": [
    "partis_airr.head()"
   ]
  },
  {
   "cell_type": "markdown",
   "id": "b0423866",
   "metadata": {},
   "source": [
    "## Sequence Lengths"
   ]
  },
  {
   "cell_type": "code",
   "execution_count": 55,
   "id": "be93f3f3",
   "metadata": {},
   "outputs": [
    {
     "name": "stdout",
     "output_type": "stream",
     "text": [
      "There are 5211 total bcrs from tatsuya input bcr's after removing unmatched\n",
      "There are 5287 total bcrs from imgt (never removed unmatched)\n"
     ]
    }
   ],
   "source": [
    "imgt_airr= pd.read_csv(\"./vquest_na.csv\").convert_dtypes()\n",
    "print(f\"There are {len(tatsuya_input_bcrs)} total bcrs from tatsuya input bcr's after removing unmatched\")\n",
    "print(f\"There are {len(imgt_airr)} total bcrs from imgt (never removed unmatched)\")"
   ]
  },
  {
   "cell_type": "code",
   "execution_count": 56,
   "id": "c67da4b3",
   "metadata": {},
   "outputs": [],
   "source": [
    "imgt_airr[\"seq_nt_length\"] = [len(s) for s in imgt_airr[\"seq_nt\"]]"
   ]
  },
  {
   "cell_type": "code",
   "execution_count": 57,
   "id": "39498b0f",
   "metadata": {},
   "outputs": [
    {
     "data": {
      "image/png": "[encoded data removed]",
      "text/plain": [
       "<Figure size 720x288 with 2 Axes>"
      ]
     },
     "metadata": {
      "needs_background": "light"
     },
     "output_type": "display_data"
    }
   ],
   "source": [
    "# (should be 336 and 321)\n",
    "\n",
    "def get_median_chain_length(df):\n",
    "    medians = {}\n",
    "    for chain, chain_df in df.groupby(\"locus\"):\n",
    "        medians[f\"{chain}\"] = chain_df[\"seq_nt_length\"].median()\n",
    "    return medians\n",
    "\n",
    "fig, ax = plt.subplots(1, 2, figsize=[10, 4])\n",
    "ax[0].hist(imgt_airr[\"seq_nt_length\"], bins=50, range=[200, 350], facecolor='gray', align='mid')\n",
    "ax[0].set_title(f\"IMGT\\nmedian chain lengths: {get_median_chain_length(imgt_airr)}\")\n",
    "ax[1].hist(partis_airr[\"seq_nt_length\"], bins=50, range=[200, 350], facecolor='gray', align='mid')\n",
    "ax[1].set_title(f\"partis\\nmedian chain lengths: {get_median_chain_length(partis_airr)}\")\n",
    "fig.savefig(\"sequence_length_hist.png\")\n",
    "plt.show()"
   ]
  },
  {
   "cell_type": "code",
   "execution_count": 58,
   "id": "1b8aa949",
   "metadata": {},
   "outputs": [],
   "source": [
    "imgt_failed_bcrs = imgt_airr.query(\"(V.isna()) | (well.isna())\", engine=\"python\")\n",
    "imgt_airr = imgt_airr.query(\"(V.notna()) & (well.notna())\", engine=\"python\")\n",
    "imgt_airr[\"V\"] = [v.split()[1] for v in imgt_airr[\"V\"]]\n",
    "\n",
    "seq_nts = []\n",
    "for idx, row in imgt_airr.iterrows():\n",
    "    seq_nts.append(row.seq_nt[:-1] if row.locus == \"IGK\" else row.seq_nt)\n",
    "    \n",
    "imgt_airr[\"seq_nt\"] = seq_nts\n",
    "imgt_airr[\"seq_nt_length\"] = [len(s) for s in imgt_airr[\"seq_nt\"]]\n",
    "\n",
    "imgt_airr_non_v8_15 = imgt_airr.query(\"(V != 'IGKV6-15*01') & (V != 'IGHV3-8*02')\")\n",
    "imgt_airr = imgt_airr.query(\"(V == 'IGKV6-15*01') | (V == 'IGHV3-8*02')\")"
   ]
  },
  {
   "cell_type": "code",
   "execution_count": 59,
   "id": "7c493f5e",
   "metadata": {},
   "outputs": [],
   "source": [
    "medians = get_median_chain_length(partis_airr)\n",
    "query_string = \"(locus == 'IGH' & seq_nt_length == 337) | (locus == 'IGK' & seq_nt_length == 321)\"\n",
    "\n",
    "# Trim the rest of imgt IGH\n",
    "imgt_airr = imgt_airr.query(query_string, engine=\"python\")\n",
    "seq_nts = []\n",
    "for idx, row in imgt_airr.iterrows():\n",
    "    seq_nts.append(row.seq_nt[:-1] if row.locus == \"IGH\" else row.seq_nt)\n",
    "imgt_airr[\"seq_nt\"] = seq_nts\n",
    "imgt_airr[\"seq_nt_length\"] = [len(s) for s in imgt_airr[\"seq_nt\"]]\n",
    "\n",
    "\n",
    "# Trim the rest of partis IGH\n",
    "partis_airr = partis_airr.query(query_string, engine=\"python\")\n",
    "seq_nts = []\n",
    "for idx, row in partis_airr.iterrows():\n",
    "    seq_nts.append(row.seq_nt[:-1] if row.locus == \"IGH\" else row.seq_nt)\n",
    "partis_airr[\"seq_nt\"] = seq_nts\n",
    "partis_airr[\"seq_nt_length\"] = [len(s) for s in partis_airr[\"seq_nt\"]]"
   ]
  },
  {
   "cell_type": "code",
   "execution_count": 60,
   "id": "5f26b8ce",
   "metadata": {},
   "outputs": [
    {
     "data": {
      "image/png": "[encoded data removed]",
      "text/plain": [
       "<Figure size 720x288 with 2 Axes>"
      ]
     },
     "metadata": {
      "needs_background": "light"
     },
     "output_type": "display_data"
    }
   ],
   "source": [
    "fig, ax = plt.subplots(1, 2, figsize=[10, 4])\n",
    "ax[0].hist(imgt_airr[\"seq_nt_length\"], bins=50, range=[200, 350], facecolor='gray', align='mid')\n",
    "ax[0].set_title(f\"IMGT\\nmedian chain lengths: {get_median_chain_length(imgt_airr)}\")\n",
    "ax[1].hist(partis_airr[\"seq_nt_length\"], bins=50, range=[200, 350], facecolor='gray', align='mid')\n",
    "ax[1].set_title(f\"partis\\nmedian chain lengths: {get_median_chain_length(partis_airr)}\")\n",
    "fig.savefig(\"sequence_length_hist_corrected.png\")\n",
    "plt.show()"
   ]
  },
  {
   "cell_type": "code",
   "execution_count": 557,
   "id": "aa89c103",
   "metadata": {},
   "outputs": [
    {
     "data": {
      "text/plain": [
       "321    2713\n",
       "336    1727\n",
       "Name: seq_nt_length, dtype: int64"
      ]
     },
     "execution_count": 557,
     "metadata": {},
     "output_type": "execute_result"
    }
   ],
   "source": [
    "imgt_airr.seq_nt_length.value_counts()"
   ]
  },
  {
   "cell_type": "code",
   "execution_count": 558,
   "id": "170ea1eb",
   "metadata": {},
   "outputs": [
    {
     "data": {
      "text/plain": [
       "321    2410\n",
       "336    1708\n",
       "Name: seq_nt_length, dtype: int64"
      ]
     },
     "execution_count": 558,
     "metadata": {},
     "output_type": "execute_result"
    }
   ],
   "source": [
    "partis_airr.seq_nt_length.value_counts()"
   ]
  },
  {
   "cell_type": "code",
   "execution_count": 61,
   "id": "218f57b6",
   "metadata": {},
   "outputs": [
    {
     "data": {
      "text/plain": [
       "(4118, 30)"
      ]
     },
     "execution_count": 61,
     "metadata": {},
     "output_type": "execute_result"
    }
   ],
   "source": [
    "partis_airr.shape"
   ]
  },
  {
   "cell_type": "markdown",
   "id": "3ef5a55e",
   "metadata": {},
   "source": [
    "## Post Wrangle Summary"
   ]
  },
  {
   "cell_type": "code",
   "execution_count": 559,
   "id": "5d142e15",
   "metadata": {},
   "outputs": [
    {
     "name": "stdout",
     "output_type": "stream",
     "text": [
      "There are 4440 total bcrs from imgt (removed null wells unmatched)\n"
     ]
    }
   ],
   "source": [
    "print(f\"There are {len(imgt_airr)} total bcrs from imgt (removed null wells unmatched)\")"
   ]
  },
  {
   "cell_type": "code",
   "execution_count": 560,
   "id": "7c0713c8",
   "metadata": {},
   "outputs": [],
   "source": [
    "for identifier in imgt_airr[\"ID\"]:\n",
    "    if \"unmatched\" in identifier:\n",
    "        print(identifier)\n",
    "        break"
   ]
  },
  {
   "cell_type": "code",
   "execution_count": 561,
   "id": "4d83ae20",
   "metadata": {
    "scrolled": false
   },
   "outputs": [
    {
     "name": "stdout",
     "output_type": "stream",
     "text": [
      "-------------------\n",
      "IMGT\n",
      "<class 'pandas.core.frame.DataFrame'>\n",
      "Int64Index: 4440 entries, 1 to 5281\n",
      "Data columns (total 29 columns):\n",
      " #   Column              Non-Null Count  Dtype  \n",
      "---  ------              --------------  -----  \n",
      " 0   num                 4440 non-null   Int64  \n",
      " 1   ID                  4440 non-null   string \n",
      " 2   rank                4440 non-null   Int64  \n",
      " 3   well                4440 non-null   string \n",
      " 4   row                 4440 non-null   string \n",
      " 5   column              4440 non-null   Int64  \n",
      " 6   counts              4440 non-null   Int64  \n",
      " 7   barcode             4440 non-null   Int64  \n",
      " 8   locus               4440 non-null   string \n",
      " 9   V                   4440 non-null   object \n",
      " 10  D                   44 non-null     string \n",
      " 11  J                   4440 non-null   string \n",
      " 12  Productive          4440 non-null   boolean\n",
      " 13  AAjunction          4440 non-null   string \n",
      " 14  seq_nt              4440 non-null   object \n",
      " 15  seq_nt_length       4440 non-null   int64  \n",
      " 16  nt_mut              4440 non-null   string \n",
      " 17  nt_mut_silent       4440 non-null   string \n",
      " 18  nt_mut_replacement  4440 non-null   string \n",
      " 19  aa_replacement      4440 non-null   string \n",
      " 20  Vchanges            4244 non-null   string \n",
      " 21  seq_aa              4440 non-null   string \n",
      " 22  seq_aa_length       4440 non-null   Int64  \n",
      " 23  seq_input           4440 non-null   string \n",
      " 24  gapped seq_nt       4440 non-null   string \n",
      " 25  gapped seq_aa       4440 non-null   string \n",
      " 26  v_cigar             4440 non-null   string \n",
      " 27  d_cigar             44 non-null     string \n",
      " 28  j_cigar             4440 non-null   string \n",
      "dtypes: Int64(6), boolean(1), int64(1), object(2), string(19)\n",
      "memory usage: 1.0+ MB\n",
      "None\n",
      "                num         rank       column       counts      barcode  \\\n",
      "count   4440.000000  4440.000000  4440.000000  4440.000000  4440.000000   \n",
      "unique          NaN          NaN          NaN          NaN          NaN   \n",
      "top             NaN          NaN          NaN          NaN          NaN   \n",
      "freq            NaN          NaN          NaN          NaN          NaN   \n",
      "mean    2627.525000     1.959234     6.504054   129.083333    10.218919   \n",
      "std     1574.341998     0.822857     3.457004   207.921584     4.194022   \n",
      "min        1.000000     1.000000     1.000000     1.000000     1.000000   \n",
      "25%     1230.750000     1.000000     4.000000     7.000000     7.000000   \n",
      "50%     2448.500000     2.000000     7.000000    26.000000     9.500000   \n",
      "75%     4051.250000     3.000000     9.000000   102.000000    14.000000   \n",
      "max     5281.000000     3.000000    12.000000   893.000000    16.000000   \n",
      "\n",
      "       Productive  seq_nt_length  seq_aa_length  \n",
      "count        4440    4440.000000     4440.00000  \n",
      "unique          2            NaN            NaN  \n",
      "top          True            NaN            NaN  \n",
      "freq         4387            NaN            NaN  \n",
      "mean          NaN     326.834459      108.94482  \n",
      "std           NaN       7.313551        2.43785  \n",
      "min           NaN     321.000000      107.00000  \n",
      "25%           NaN     321.000000      107.00000  \n",
      "50%           NaN     321.000000      107.00000  \n",
      "75%           NaN     336.000000      112.00000  \n",
      "max           NaN     336.000000      112.00000  \n",
      "-------------------\n",
      "PARTIS\n",
      "<class 'pandas.core.frame.DataFrame'>\n",
      "Int64Index: 4118 entries, 0 to 2045\n",
      "Data columns (total 29 columns):\n",
      " #   Column              Non-Null Count  Dtype  \n",
      "---  ------              --------------  -----  \n",
      " 0   sequence_id         4118 non-null   string \n",
      " 1   sequence            4118 non-null   string \n",
      " 2   Productive          4118 non-null   boolean\n",
      " 3   V                   4118 non-null   string \n",
      " 4   D                   4118 non-null   string \n",
      " 5   J                   4118 non-null   string \n",
      " 6   sequence_alignment  4118 non-null   string \n",
      " 7   germline_alignment  4118 non-null   string \n",
      " 8   AAjunction          4118 non-null   string \n",
      " 9   v_cigar             4118 non-null   string \n",
      " 10  d_cigar             4118 non-null   string \n",
      " 11  j_cigar             4118 non-null   string \n",
      " 12  locus               4118 non-null   string \n",
      " 13  seq_aa              4118 non-null   string \n",
      " 14  n_mutations         4118 non-null   Int64  \n",
      " 15  PR_num              4118 non-null   string \n",
      " 16  date                4118 non-null   string \n",
      " 17  plate_num           4118 non-null   string \n",
      " 18  well                4118 non-null   string \n",
      " 19  chain               4118 non-null   string \n",
      " 20  rank                4118 non-null   Int64  \n",
      " 21  counts              4118 non-null   Int64  \n",
      " 22  ID                  4118 non-null   string \n",
      " 23  row                 4118 non-null   string \n",
      " 24  column              4118 non-null   string \n",
      " 25  barcode             4118 non-null   Int64  \n",
      " 26  seq_nt              4118 non-null   object \n",
      " 27  seq_nt_length       4118 non-null   int64  \n",
      " 28  seq_aa_length       4118 non-null   Int64  \n",
      "dtypes: Int64(5), boolean(1), int64(1), object(1), string(21)\n",
      "memory usage: 961.1+ KB\n",
      "None\n",
      "       Productive  n_mutations         rank       counts      barcode  \\\n",
      "count        4118  4118.000000  4118.000000  4118.000000  4118.000000   \n",
      "unique          2          NaN          NaN          NaN          NaN   \n",
      "top          True          NaN          NaN          NaN          NaN   \n",
      "freq         4031          NaN          NaN          NaN          NaN   \n",
      "mean          NaN     5.252307     1.926906   137.103205    10.226081   \n",
      "std           NaN     4.912122     0.832162   213.354853     4.225215   \n",
      "min           NaN     0.000000     1.000000     1.000000     1.000000   \n",
      "25%           NaN     1.000000     1.000000     7.000000     7.000000   \n",
      "50%           NaN     4.000000     2.000000    28.500000     9.000000   \n",
      "75%           NaN     9.000000     3.000000   142.750000    14.000000   \n",
      "max           NaN    65.000000     3.000000   893.000000    16.000000   \n",
      "\n",
      "        seq_nt_length  seq_aa_length  \n",
      "count     4118.000000    4118.000000  \n",
      "unique            NaN            NaN  \n",
      "top               NaN            NaN  \n",
      "freq              NaN            NaN  \n",
      "mean       327.221467     109.073822  \n",
      "std          7.391118       2.463706  \n",
      "min        321.000000     107.000000  \n",
      "25%        321.000000     107.000000  \n",
      "50%        321.000000     107.000000  \n",
      "75%        336.000000     112.000000  \n",
      "max        336.000000     112.000000  \n"
     ]
    }
   ],
   "source": [
    "print(\"-------------------\\nIMGT\")\n",
    "print(imgt_airr.info())\n",
    "print(imgt_airr.describe())\n",
    "print(\"-------------------\\nPARTIS\")\n",
    "print(partis_airr.info())\n",
    "print(partis_airr.describe())"
   ]
  },
  {
   "cell_type": "markdown",
   "id": "57d44f6f",
   "metadata": {},
   "source": [
    "## Post Annotation & Wrangle Sanity Check #1\n",
    "\n",
    "**Let's make sure our unique sets in the important columns post-cleanup of annotation output is the same.**"
   ]
  },
  {
   "cell_type": "code",
   "execution_count": 562,
   "id": "e6faa7b4",
   "metadata": {},
   "outputs": [
    {
     "data": {
      "text/plain": [
       "1    211210P01A01H\n",
       "Name: ID, dtype: string"
      ]
     },
     "execution_count": 562,
     "metadata": {},
     "output_type": "execute_result"
    }
   ],
   "source": [
    "imgt_airr.ID[:1]"
   ]
  },
  {
   "cell_type": "code",
   "execution_count": 563,
   "id": "f3b06f13",
   "metadata": {},
   "outputs": [
    {
     "data": {
      "text/plain": [
       "0    211210P14B08K\n",
       "Name: ID, dtype: string"
      ]
     },
     "execution_count": 563,
     "metadata": {},
     "output_type": "execute_result"
    }
   ],
   "source": [
    "partis_airr.ID[:1]"
   ]
  },
  {
   "cell_type": "code",
   "execution_count": 564,
   "id": "5347cee3",
   "metadata": {},
   "outputs": [
    {
     "data": {
      "text/plain": [
       "<IntegerArray>\n",
       "[1, 5, 6, 7, 8, 9, 10, 11, 12, 13, 14, 15, 16]\n",
       "Length: 13, dtype: Int64"
      ]
     },
     "execution_count": 564,
     "metadata": {},
     "output_type": "execute_result"
    }
   ],
   "source": [
    "imgt_airr.barcode.unique()"
   ]
  },
  {
   "cell_type": "code",
   "execution_count": 565,
   "id": "8ad070b9",
   "metadata": {},
   "outputs": [
    {
     "data": {
      "text/plain": [
       "<IntegerArray>\n",
       "[14, 8, 12, 9, 15, 11, 10, 16, 7, 13, 5, 6, 1]\n",
       "Length: 13, dtype: Int64"
      ]
     },
     "execution_count": 565,
     "metadata": {},
     "output_type": "execute_result"
    }
   ],
   "source": [
    "partis_airr.barcode.unique()"
   ]
  },
  {
   "cell_type": "code",
   "execution_count": 566,
   "id": "ff5929d8",
   "metadata": {},
   "outputs": [
    {
     "data": {
      "text/plain": [
       "<StringArray>\n",
       "['08', '04', '07', '01', '12', '03', '06', '05', '10', '11', '02', '09']\n",
       "Length: 12, dtype: string"
      ]
     },
     "execution_count": 566,
     "metadata": {},
     "output_type": "execute_result"
    }
   ],
   "source": [
    "partis_airr.column.unique()"
   ]
  },
  {
   "cell_type": "code",
   "execution_count": 567,
   "id": "3a32dbf1",
   "metadata": {
    "scrolled": false
   },
   "outputs": [],
   "source": [
    "for group, df in imgt_airr.groupby([\"ID\", \"rank\"]):\n",
    "    assert len(df) == 1\n",
    "for group, df in partis_airr.groupby([\"ID\", \"rank\"]):\n",
    "    assert len(df) == 1"
   ]
  },
  {
   "cell_type": "markdown",
   "id": "145bb2c7",
   "metadata": {},
   "source": [
    "## Post Annotation & Wrangle Sanity Check #2\n",
    "\n",
    "**let's check that post annotation we still have outputs/annotations for the wells that we're fed in to the annotation. Because the ID's give us the unique well heavy/light chain, we can just check to see that the set of ID's are the same between the two datasets** "
   ]
  },
  {
   "cell_type": "markdown",
   "id": "0669f29b",
   "metadata": {},
   "source": [
    "**The file below is the output of partis telling us exactly which sequences were thrown and why, so that should account for any outstanding differences between the datasets at this point. Below, we show two such sequences**"
   ]
  },
  {
   "cell_type": "code",
   "execution_count": 568,
   "id": "fdeece8a",
   "metadata": {},
   "outputs": [],
   "source": [
    "# ! cat ../../results/2022-02-09/partis_annotation/PR-1-6/engrd/annotate.log | grep \"failed for\" | head -n 2"
   ]
  },
  {
   "cell_type": "code",
   "execution_count": 569,
   "id": "4ff5ee92",
   "metadata": {},
   "outputs": [],
   "source": [
    "# ! cat ../../results/2022-02-09/partis_annotation/PR-1-6/engrd/annotate.log | grep \"failed for\" > \"failed_queries.log\""
   ]
  },
  {
   "cell_type": "code",
   "execution_count": 570,
   "id": "5fec1a68",
   "metadata": {},
   "outputs": [],
   "source": [
    "# failed_partis_ids = []\n",
    "# with open(\"failed_queries.log\", \"r\") as failed_in_partis:\n",
    "#     for line in failed_in_partis:\n",
    "#         failed_pr = re.findall(r\"\\[\\'(.*?)\\'\\]\", line.strip())\n",
    "#         attrib = parse_nextflow_header(failed_pr[0])\n",
    "#         if attrib != -1:\n",
    "#             failed_partis_ids.append(\"211210\" + attrib[\"plate\"] + attrib[\"well\"] + attrib[\"chain\"])\n",
    "# print(len(failed_partis_ids))"
   ]
  },
  {
   "cell_type": "markdown",
   "id": "9399011e",
   "metadata": {},
   "source": [
    "**let's parse this and get summarize those which were thrown out**"
   ]
  },
  {
   "cell_type": "code",
   "execution_count": 571,
   "id": "5716b4e4",
   "metadata": {},
   "outputs": [
    {
     "data": {
      "text/html": [
       "<div>\n",
       "<style scoped>\n",
       "    .dataframe tbody tr th:only-of-type {\n",
       "        vertical-align: middle;\n",
       "    }\n",
       "\n",
       "    .dataframe tbody tr th {\n",
       "        vertical-align: top;\n",
       "    }\n",
       "\n",
       "    .dataframe thead th {\n",
       "        text-align: right;\n",
       "    }\n",
       "</style>\n",
       "<table border=\"1\" class=\"dataframe\">\n",
       "  <thead>\n",
       "    <tr style=\"text-align: right;\">\n",
       "      <th></th>\n",
       "      <th>identifier</th>\n",
       "      <th>plate</th>\n",
       "      <th>well</th>\n",
       "      <th>chain</th>\n",
       "      <th>rank</th>\n",
       "      <th>count</th>\n",
       "      <th>sequence</th>\n",
       "    </tr>\n",
       "  </thead>\n",
       "  <tbody>\n",
       "    <tr>\n",
       "      <th>0</th>\n",
       "      <td>PR-1-6.211203.P14.C08.K.R.1-1</td>\n",
       "      <td>P14</td>\n",
       "      <td>C08</td>\n",
       "      <td>K</td>\n",
       "      <td>1.0</td>\n",
       "      <td>1.0</td>\n",
       "      <td>GATGCTGCTCCAACTGTATCCATCTAATTAGCGTGAAGATCGGAAG...</td>\n",
       "    </tr>\n",
       "    <tr>\n",
       "      <th>1</th>\n",
       "      <td>PR-1-6.211203.P14.E04.H.R.1-1</td>\n",
       "      <td>P14</td>\n",
       "      <td>E04</td>\n",
       "      <td>H</td>\n",
       "      <td>1.0</td>\n",
       "      <td>1.0</td>\n",
       "      <td>CAAATGTCTTCCCCCTTAATTAGCGTTAAGATCGGAAGAGCGGTTC...</td>\n",
       "    </tr>\n",
       "    <tr>\n",
       "      <th>2</th>\n",
       "      <td>PR-1-6.211203.P14.G06.K.R.1-1</td>\n",
       "      <td>P14</td>\n",
       "      <td>G06</td>\n",
       "      <td>K</td>\n",
       "      <td>1.0</td>\n",
       "      <td>1.0</td>\n",
       "      <td>CACCAACTGTATCCATCTAATTAGCGTTCAGATCGGAAGAGCGGTT...</td>\n",
       "    </tr>\n",
       "    <tr>\n",
       "      <th>3</th>\n",
       "      <td>PR-1-6.211203.P14.G06.K.R.2-1</td>\n",
       "      <td>P14</td>\n",
       "      <td>G06</td>\n",
       "      <td>K</td>\n",
       "      <td>2.0</td>\n",
       "      <td>1.0</td>\n",
       "      <td>CACCAACTGTATCCATCTAATTAGCGTTAAGATCGGAAGAGCGGTT...</td>\n",
       "    </tr>\n",
       "    <tr>\n",
       "      <th>4</th>\n",
       "      <td>PR-1-6.211203.P14.G06.K.R.3-1</td>\n",
       "      <td>P14</td>\n",
       "      <td>G06</td>\n",
       "      <td>K</td>\n",
       "      <td>3.0</td>\n",
       "      <td>1.0</td>\n",
       "      <td>CACCAACTGTATCCATCTAATTAGCGTTTAGATCGGAAGAGCGGTT...</td>\n",
       "    </tr>\n",
       "  </tbody>\n",
       "</table>\n",
       "</div>"
      ],
      "text/plain": [
       "                      identifier plate well chain  rank  count  \\\n",
       "0  PR-1-6.211203.P14.C08.K.R.1-1   P14  C08     K   1.0    1.0   \n",
       "1  PR-1-6.211203.P14.E04.H.R.1-1   P14  E04     H   1.0    1.0   \n",
       "2  PR-1-6.211203.P14.G06.K.R.1-1   P14  G06     K   1.0    1.0   \n",
       "3  PR-1-6.211203.P14.G06.K.R.2-1   P14  G06     K   2.0    1.0   \n",
       "4  PR-1-6.211203.P14.G06.K.R.3-1   P14  G06     K   3.0    1.0   \n",
       "\n",
       "                                            sequence  \n",
       "0  GATGCTGCTCCAACTGTATCCATCTAATTAGCGTGAAGATCGGAAG...  \n",
       "1  CAAATGTCTTCCCCCTTAATTAGCGTTAAGATCGGAAGAGCGGTTC...  \n",
       "2  CACCAACTGTATCCATCTAATTAGCGTTCAGATCGGAAGAGCGGTT...  \n",
       "3  CACCAACTGTATCCATCTAATTAGCGTTAAGATCGGAAGAGCGGTT...  \n",
       "4  CACCAACTGTATCCATCTAATTAGCGTTTAGATCGGAAGAGCGGTT...  "
      ]
     },
     "execution_count": 571,
     "metadata": {},
     "output_type": "execute_result"
    }
   ],
   "source": [
    "partis_failed_bcrs = bcr_fasta_to_df(\n",
    "    \"../../results/2022-02-09/partis_annotation/PR-1-6/engrd/failed.fa\",\n",
    "    parse_nextflow_header\n",
    ").infer_objects()\n",
    "partis_failed_bcrs.head()"
   ]
  },
  {
   "cell_type": "code",
   "execution_count": 572,
   "id": "a5633c5e",
   "metadata": {},
   "outputs": [
    {
     "data": {
      "image/png": "[encoded data removed]",
      "text/plain": [
       "<Figure size 432x288 with 1 Axes>"
      ]
     },
     "metadata": {
      "needs_background": "light"
     },
     "output_type": "display_data"
    }
   ],
   "source": [
    "plt.hist(partis_failed_bcrs.query(\"count >= 10\")[\"count\"])\n",
    "plt.title(\"Counts of Failed partis BCR's greater than 10\")\n",
    "plt.savefig(\"failed_partis.png\")"
   ]
  },
  {
   "cell_type": "code",
   "execution_count": 573,
   "id": "faf40fbd",
   "metadata": {},
   "outputs": [],
   "source": [
    "# failed_v_imgt_failed_bcrs # failed V or well\n",
    "# imgt_airr_non_v8_15 # non V in 8 or 15\n"
   ]
  },
  {
   "cell_type": "code",
   "execution_count": 574,
   "id": "2d1518d9",
   "metadata": {},
   "outputs": [
    {
     "data": {
      "image/png": "[encoded data removed]",
      "text/plain": [
       "<Figure size 432x432 with 1 Axes>"
      ]
     },
     "metadata": {},
     "output_type": "display_data"
    }
   ],
   "source": [
    "fig, ax = plt.subplots(figsize=[6,6])\n",
    "unique_bcr_qualities = [\"plate\", \"well\",\"chain\", \"sequence\"]\n",
    "nf_well_bcrs = set(nextflow_input_bcrs.groupby(unique_bcr_qualities).groups)\n",
    "tat_well_bcrs = set(tatsuya_input_bcrs.groupby(unique_bcr_qualities).groups)\n",
    "v = venn2([nf_well_bcrs, tat_well_bcrs], [\"nextflow\", \"tatsuya\"], ax=ax)\n",
    "ax.set_title(\"venn diagram of well/plate/chain specific \\nranked BCR seqs from both methods\\npre-annotation\")\n",
    "fig.savefig(\"input-sequence-differences.png\")\n",
    "plt.tight_layout()\n",
    "plt.show()"
   ]
  },
  {
   "cell_type": "markdown",
   "id": "13102b98",
   "metadata": {},
   "source": [
    "## \"effective sequence duplicates\""
   ]
  },
  {
   "cell_type": "code",
   "execution_count": 449,
   "id": "61871b26",
   "metadata": {},
   "outputs": [
    {
     "name": "stdout",
     "output_type": "stream",
     "text": [
      "   num             ID  rank well row  column  counts  barcode locus  \\\n",
      "1    1  211210P01A01H     1  A01   A       1       1        1   IGH   \n",
      "2    2  211210P01A01H     2  A01   A       1       1        1   IGH   \n",
      "\n",
      "            V  ... aa_replacement  \\\n",
      "1  IGHV3-8*02  ...              5   \n",
      "2  IGHV3-8*02  ...              5   \n",
      "\n",
      "                                            Vchanges  \\\n",
      "1  a143>g,N48>S(- - -); N48 aat 142-144 [aa 142-1...   \n",
      "2  a143>g,N48>S(- - -); N48 aat 142-144 [aa 142-1...   \n",
      "\n",
      "                                              seq_aa seq_aa_length  \\\n",
      "1  EVQLQESGPSLVKPSQTLSLTCSVTGDSITSGYWNWIRKFPGSKLE...           112   \n",
      "2  EVQLQESGPSLVKPSQTLSLTCSVTGDSITSGYWNWIRKFPGSKLE...           112   \n",
      "\n",
      "                                           seq_input  \\\n",
      "1  gaggtgcagcttcaggagtcaggacctagcctcgtgaaaccttctc...   \n",
      "2  gaggtgcagcttcaggagtcaggacctagcctcgtgaaaccttctc...   \n",
      "\n",
      "                                       gapped seq_nt  \\\n",
      "1  gaggtgcagcttcaggagtcaggacct...agcctcgtgaaacctt...   \n",
      "2  gaggtgcagcttcaggagtcaggacct...agcctcgtgaaacctt...   \n",
      "\n",
      "                                       gapped seq_aa  \\\n",
      "1  EVQLQESGP.SLVKPSQTLSLTCSVTGDSI....TSGYWNWIRKFP...   \n",
      "2  EVQLQESGP.SLVKPSQTLSLTCSVTGDSI....TSGYWNWIRKFP...   \n",
      "\n",
      "                                       v_cigar d_cigar        j_cigar  \n",
      "1  127=1X18=1X1=1X5=1X11=1X65=1X24=1X32=162S3N    <NA>  292S8N45=115S  \n",
      "2  127=1X18=1X1=1X5=1X11=1X65=1X24=1X32=162S3N    <NA>  292S8N45=115S  \n",
      "\n",
      "[2 rows x 29 columns]\n"
     ]
    }
   ],
   "source": [
    "for uniq_well_bcr, df in imgt_airr.groupby([\"ID\", \"seq_nt\"]):\n",
    "    if len(df) != 1:\n",
    "        print(df)\n",
    "        break"
   ]
  },
  {
   "cell_type": "markdown",
   "id": "96c41bd8",
   "metadata": {},
   "source": [
    "**Looks like there are duplicates in well's? They're ranked the same but they're \"effective\" duplicates - these do not appear in the input fasta's, obviously. How much is this effecting things? Let's take a look**"
   ]
  },
  {
   "cell_type": "code",
   "execution_count": 450,
   "id": "dd666fe6",
   "metadata": {},
   "outputs": [
    {
     "data": {
      "image/png": "[encoded data removed]",
      "text/plain": [
       "<Figure size 432x288 with 1 Axes>"
      ]
     },
     "metadata": {
      "needs_background": "light"
     },
     "output_type": "display_data"
    }
   ],
   "source": [
    "duplicate_bcr_counts = []\n",
    "for uniq_well_bcr, df in imgt_airr.groupby([\"ID\", \"seq_nt\"]):\n",
    "    duplicate_bcr_counts.append(len(df))\n",
    "plt.title(\"'effective duplicate' BCR's\")\n",
    "plt.hist(duplicate_bcr_counts, bins=3)\n",
    "plt.savefig(\"hist_num_effective_duplicates.png\")\n",
    "plt.show()"
   ]
  },
  {
   "cell_type": "code",
   "execution_count": 451,
   "id": "4457295d",
   "metadata": {},
   "outputs": [
    {
     "data": {
      "image/png": "[encoded data removed]",
      "text/plain": [
       "<Figure size 720x288 with 2 Axes>"
      ]
     },
     "metadata": {
      "needs_background": "light"
     },
     "output_type": "display_data"
    }
   ],
   "source": [
    "fi, ax = plt.subplots(1, 2, figsize=[10, 4])\n",
    "double_counts, triple_counts = [], []\n",
    "for uniq_well_bcr, df in imgt_airr.groupby([\"ID\", \"seq_nt\"]):\n",
    "    if len(df) == 2:\n",
    "        double_counts.extend(df[\"counts\"].values)\n",
    "    elif len(df) == 3:\n",
    "        triple_counts.extend(df[\"counts\"].values)\n",
    "    else:\n",
    "        continue\n",
    "ax[0].set_title(\"double duplicate counts\")\n",
    "ax[0].hist(double_counts)\n",
    "ax[1].set_title(\"triple duplicate counts\")\n",
    "ax[1].hist(triple_counts)\n",
    "fig.savefig(\"counts_dist_dup_trip.png\")\n",
    "plt.show()"
   ]
  },
  {
   "cell_type": "code",
   "execution_count": 452,
   "id": "d7e8926c",
   "metadata": {},
   "outputs": [
    {
     "data": {
      "image/png": "[encoded data removed]",
      "text/plain": [
       "<Figure size 720x288 with 2 Axes>"
      ]
     },
     "metadata": {
      "needs_background": "light"
     },
     "output_type": "display_data"
    }
   ],
   "source": [
    "fig, ax = plt.subplots(1, 2, figsize=[10, 4])\n",
    "ax[0].hist(imgt_airr[\"counts\"], bins=50, facecolor='gray', align='mid')\n",
    "ax[0].set_title(f\"IMGT\\n BCR Counts\")\n",
    "ax[1].hist(partis_airr[\"counts\"], bins=50, facecolor='gray', align='mid')\n",
    "ax[1].set_title(f\"partis\\n BCR Counts\")\n",
    "fig.savefig(\"sequence_count_hist.png\")\n",
    "plt.show()"
   ]
  },
  {
   "cell_type": "code",
   "execution_count": 453,
   "id": "3009ea2c",
   "metadata": {},
   "outputs": [],
   "source": [
    "partis_collapsed_effective = partis_airr.groupby(\n",
    "    [\"ID\", \"seq_nt\"]).sum()"
   ]
  },
  {
   "cell_type": "code",
   "execution_count": 454,
   "id": "ff8b7688",
   "metadata": {},
   "outputs": [],
   "source": [
    "imgt_collapsed_effective = imgt_airr.groupby(\n",
    "    [\"ID\", \"seq_nt\"]).sum()"
   ]
  },
  {
   "cell_type": "code",
   "execution_count": 455,
   "id": "743188d1",
   "metadata": {},
   "outputs": [
    {
     "data": {
      "image/png": "[encoded data removed]",
      "text/plain": [
       "<Figure size 720x288 with 2 Axes>"
      ]
     },
     "metadata": {
      "needs_background": "light"
     },
     "output_type": "display_data"
    }
   ],
   "source": [
    "fig, ax = plt.subplots(1, 2, figsize=[10, 4])\n",
    "ax[0].hist(imgt_collapsed_effective[\"counts\"], bins=50, facecolor='gray', align='mid')\n",
    "ax[0].set_title(f\"IMGT\\n BCR Counts\")\n",
    "ax[1].hist(partis_collapsed_effective[\"counts\"], bins=50, facecolor='gray', align='mid')\n",
    "ax[1].set_title(f\"partis\\n BCR Counts\")\n",
    "fig.savefig(\"sequence_count_hist_agg_dups.png\")\n",
    "plt.show()"
   ]
  },
  {
   "cell_type": "code",
   "execution_count": 456,
   "id": "314eabbc",
   "metadata": {
    "scrolled": false
   },
   "outputs": [],
   "source": [
    "# len(partis_airr[partis_airr[\"counts\"]>=10])"
   ]
  },
  {
   "cell_type": "code",
   "execution_count": 457,
   "id": "c484b090",
   "metadata": {},
   "outputs": [],
   "source": [
    "# len(imgt_collapsed_effective[imgt_collapsed_effective[\"counts\"]>=10])"
   ]
  },
  {
   "cell_type": "code",
   "execution_count": null,
   "id": "1606801c",
   "metadata": {},
   "outputs": [],
   "source": []
  },
  {
   "cell_type": "code",
   "execution_count": 458,
   "id": "c0d4c718",
   "metadata": {},
   "outputs": [
    {
     "data": {
      "text/html": [
       "<div>\n",
       "<style scoped>\n",
       "    .dataframe tbody tr th:only-of-type {\n",
       "        vertical-align: middle;\n",
       "    }\n",
       "\n",
       "    .dataframe tbody tr th {\n",
       "        vertical-align: top;\n",
       "    }\n",
       "\n",
       "    .dataframe thead th {\n",
       "        text-align: right;\n",
       "    }\n",
       "</style>\n",
       "<table border=\"1\" class=\"dataframe\">\n",
       "  <thead>\n",
       "    <tr style=\"text-align: right;\">\n",
       "      <th></th>\n",
       "      <th></th>\n",
       "      <th>num</th>\n",
       "      <th>rank</th>\n",
       "      <th>column</th>\n",
       "      <th>counts</th>\n",
       "      <th>barcode</th>\n",
       "      <th>Productive</th>\n",
       "      <th>seq_nt_length</th>\n",
       "      <th>seq_aa_length</th>\n",
       "    </tr>\n",
       "    <tr>\n",
       "      <th>ID</th>\n",
       "      <th>seq_nt</th>\n",
       "      <th></th>\n",
       "      <th></th>\n",
       "      <th></th>\n",
       "      <th></th>\n",
       "      <th></th>\n",
       "      <th></th>\n",
       "      <th></th>\n",
       "      <th></th>\n",
       "    </tr>\n",
       "  </thead>\n",
       "  <tbody>\n",
       "    <tr>\n",
       "      <th>211210P01A01H</th>\n",
       "      <th>gaggtgcagcttcaggagtcaggacctagcctcgtgaaaccttctcagactctgtccctcacctgttctgtcactggcgactccatcaccagtggttactggaactggatccggaaattcccagggagtaaacttgagtacatgggtttcataaactacagtggtaacacttactacaatccatctctcaaaagtcgaatctccatcactcgagacacatccaagaaccagtcctacctgcagttgaattctgtgaccactgaggacacagccacatattactgtgcaagggacttcgatgtctggggcgcagggaccacggtcaccgtctcctcag</th>\n",
       "      <td>3</td>\n",
       "      <td>3</td>\n",
       "      <td>2</td>\n",
       "      <td>2</td>\n",
       "      <td>2</td>\n",
       "      <td>2</td>\n",
       "      <td>674</td>\n",
       "      <td>224</td>\n",
       "    </tr>\n",
       "    <tr>\n",
       "      <th rowspan=\"2\" valign=\"top\">211210P01A02H</th>\n",
       "      <th>gaggtgcagcttcaggagtcaggacctagcctcgtgaaaccttctcagactctgtccctcacctgttctgtcactggcgactccatcaccagtggttactggaactggatccggaaattcccagggaataaacttgagtacatggggtacataagctacagtggtaccacttactacaatccatctctcaaaagtcgcatctccatcactcgagacacatccaagaaccagtactacctgcagttgagttctgtgactactgaggacacagccacatattactgtgcaagggacttcgatggctggggcgcagggaccacggtcaccgtctcctcag</th>\n",
       "      <td>4</td>\n",
       "      <td>2</td>\n",
       "      <td>2</td>\n",
       "      <td>1</td>\n",
       "      <td>1</td>\n",
       "      <td>1</td>\n",
       "      <td>337</td>\n",
       "      <td>112</td>\n",
       "    </tr>\n",
       "    <tr>\n",
       "      <th>gaggtgcagcttcaggagtcaggacctagcctcgtgaaaccttctcagactctgtccctcacctgttctgtcactggcgactccatcaccagtggttactggaactggatccggaaattcccagggaataaacttgagtacatggggtacataagctacagtggtaccacttactacaatccatctctcaaaagtcgcatctccatcactcgagacacatccaagaaccagtactacctgcagttgagttctgtgactactgaggacacagccacatattactgtgcaagggacttcggtgtctggggcgcagggaccacggtcaccgtctcctcag</th>\n",
       "      <td>3</td>\n",
       "      <td>1</td>\n",
       "      <td>2</td>\n",
       "      <td>1</td>\n",
       "      <td>1</td>\n",
       "      <td>1</td>\n",
       "      <td>337</td>\n",
       "      <td>112</td>\n",
       "    </tr>\n",
       "    <tr>\n",
       "      <th rowspan=\"2\" valign=\"top\">211210P01A02K</th>\n",
       "      <th>gaggtgcagcttcaggagtcaggacctagcctcgtgaaaccttctcagactctgtccctcacctgttctgtcactggcgactccatcaccagtggttactggaactggatccggaaattcccagggaataaacttgagtacatggggtacataagctacagtggtaccacttactacaatccatctctcaaaagtcgcatctccatcactcgagacacatccaagaaccagtactacctgcagttgagttctgtgactactgaggacacagccacatattactgtgcaagggacttcgatggctggggcgcagggaccacggtcaccgtctcctcag</th>\n",
       "      <td>6</td>\n",
       "      <td>2</td>\n",
       "      <td>2</td>\n",
       "      <td>1</td>\n",
       "      <td>1</td>\n",
       "      <td>1</td>\n",
       "      <td>337</td>\n",
       "      <td>112</td>\n",
       "    </tr>\n",
       "    <tr>\n",
       "      <th>gaggtgcagcttcaggagtcaggacctagcctcgtgaaaccttctcagactctgtccctcacctgttctgtcactggcgactccatcaccagtggttactggaactggatccggaaattcccagggaataaacttgagtacatggggtacataagctacagtggtaccacttactacaatccatctctcaaaagtcgcatctccatcactcgagacacatccaagaaccagtactacctgcagttgagttctgtgactactgaggacacagccacatattactgtgcaagggacttcggtgtctggggcgcagggaccacggtcaccgtctcctcag</th>\n",
       "      <td>5</td>\n",
       "      <td>1</td>\n",
       "      <td>2</td>\n",
       "      <td>1</td>\n",
       "      <td>1</td>\n",
       "      <td>1</td>\n",
       "      <td>337</td>\n",
       "      <td>112</td>\n",
       "    </tr>\n",
       "    <tr>\n",
       "      <th>...</th>\n",
       "      <th>...</th>\n",
       "      <td>...</td>\n",
       "      <td>...</td>\n",
       "      <td>...</td>\n",
       "      <td>...</td>\n",
       "      <td>...</td>\n",
       "      <td>...</td>\n",
       "      <td>...</td>\n",
       "      <td>...</td>\n",
       "    </tr>\n",
       "    <tr>\n",
       "      <th rowspan=\"2\" valign=\"top\">211210P16H12H</th>\n",
       "      <th>gaggtgcagcttcaggagtcaggacctagcctcgtgaaaccttctcagactctgtccctcacctgttctgtcactggcgactccatcaccagtggttactggaactggatccggaaattcccagggaataaacttgaatacatggggtacataagtctcagtggtagcacttactacaatccatctctcaaaaggcgaatctccatcactcgagacacatccaagaaccagtactacctgcagttgaattctgtgactgctgaggacacagccacatattactgtgcaggggagttcgatgtctggggcgcagggaccacggtcaccgtctcctcag</th>\n",
       "      <td>10553</td>\n",
       "      <td>3</td>\n",
       "      <td>24</td>\n",
       "      <td>112</td>\n",
       "      <td>32</td>\n",
       "      <td>2</td>\n",
       "      <td>674</td>\n",
       "      <td>224</td>\n",
       "    </tr>\n",
       "    <tr>\n",
       "      <th>gaggtgcagcttcaggagtcaggacctagcctcgtgaaaccttctcagactctgtccctcacctgttctgtcactggcgactccatcaccagtggttactggaactggatccggaaattcccagggaataaacttgaatacatggggtacataagtctcagtggtagcacttactacaatccatctctcaaaaggcgaatctccatccctcgagacacatccaagaaccagtactacctgcagttgaattctgtgactgctgaggacacagccacatattactgtgcaggggagttcgatgtctggggcgcagggaccacggtcaccgtctcctcag</th>\n",
       "      <td>5278</td>\n",
       "      <td>3</td>\n",
       "      <td>12</td>\n",
       "      <td>6</td>\n",
       "      <td>16</td>\n",
       "      <td>1</td>\n",
       "      <td>337</td>\n",
       "      <td>112</td>\n",
       "    </tr>\n",
       "    <tr>\n",
       "      <th rowspan=\"3\" valign=\"top\">211210P16H12K</th>\n",
       "      <th>gacattgtgatgactcagtctcaaaaattcatgtccacatcagtaggagacagggtcagcgtcacctgcaaggccagtcagaatgtgggaactaatgtaggctggtatcaacagaaaccaggacaatctcctaaagcactgatttactcggcatcctacaagtacagtggagtccctgatcgcttcataggcagtggatctgggacagatttcattctcaccatcaacaatgtgcagtctgaagacttggcagagtatttctgtcatcaatataaaacctatcctctcacgttcgggtcggggactaagctagaaataaaa</th>\n",
       "      <td>5279</td>\n",
       "      <td>1</td>\n",
       "      <td>12</td>\n",
       "      <td>268</td>\n",
       "      <td>16</td>\n",
       "      <td>1</td>\n",
       "      <td>321</td>\n",
       "      <td>107</td>\n",
       "    </tr>\n",
       "    <tr>\n",
       "      <th>gacattgtgatgactcagtctcaaaaattcatgtccacatcagtaggagacagggtcagcgtcacctgcaaggccagtcagaatgtgggaactaatgtaggctggtatcaacagaaaccaggacaatctcctaaagcactgatttactcggcatcctacaagtacagtggagtccctgatcgcttcataggcagtggatctgggacagatttcattctcaccatcaacaatgtgcagtctgaagacttggcggagtatttctgtcatcaatataaaacctatcctctcacgttcgggtcggggactaagctagaaataaaa</th>\n",
       "      <td>5280</td>\n",
       "      <td>2</td>\n",
       "      <td>12</td>\n",
       "      <td>149</td>\n",
       "      <td>16</td>\n",
       "      <td>1</td>\n",
       "      <td>321</td>\n",
       "      <td>107</td>\n",
       "    </tr>\n",
       "    <tr>\n",
       "      <th>gacattgtgatgactcagtctcaaaaattcatgtccacatcagtaggagacagggtcagcgtcacctgcaaggccagtcagaatgtgggagctaatgtaggctggtatcaacagaaaccaggacaatctcctaaagcactgatttactcggcatcctacaagtacagtggagtccctgatcgcttcataggcagtggatctgggacagatttcattctcaccatcaacaatgtgcagtctgaagacttggcagagtatttctgtcatcaatataaaacctatcctctcacgttcgggtcggggactaagctagaaataaaa</th>\n",
       "      <td>5281</td>\n",
       "      <td>3</td>\n",
       "      <td>12</td>\n",
       "      <td>31</td>\n",
       "      <td>16</td>\n",
       "      <td>1</td>\n",
       "      <td>321</td>\n",
       "      <td>107</td>\n",
       "    </tr>\n",
       "  </tbody>\n",
       "</table>\n",
       "<p>3440 rows × 8 columns</p>\n",
       "</div>"
      ],
      "text/plain": [
       "                                                                    num  rank  \\\n",
       "ID            seq_nt                                                            \n",
       "211210P01A01H gaggtgcagcttcaggagtcaggacctagcctcgtgaaaccttctca...      3     3   \n",
       "211210P01A02H gaggtgcagcttcaggagtcaggacctagcctcgtgaaaccttctca...      4     2   \n",
       "              gaggtgcagcttcaggagtcaggacctagcctcgtgaaaccttctca...      3     1   \n",
       "211210P01A02K gaggtgcagcttcaggagtcaggacctagcctcgtgaaaccttctca...      6     2   \n",
       "              gaggtgcagcttcaggagtcaggacctagcctcgtgaaaccttctca...      5     1   \n",
       "...                                                                 ...   ...   \n",
       "211210P16H12H gaggtgcagcttcaggagtcaggacctagcctcgtgaaaccttctca...  10553     3   \n",
       "              gaggtgcagcttcaggagtcaggacctagcctcgtgaaaccttctca...   5278     3   \n",
       "211210P16H12K gacattgtgatgactcagtctcaaaaattcatgtccacatcagtagg...   5279     1   \n",
       "              gacattgtgatgactcagtctcaaaaattcatgtccacatcagtagg...   5280     2   \n",
       "              gacattgtgatgactcagtctcaaaaattcatgtccacatcagtagg...   5281     3   \n",
       "\n",
       "                                                                  column  \\\n",
       "ID            seq_nt                                                       \n",
       "211210P01A01H gaggtgcagcttcaggagtcaggacctagcctcgtgaaaccttctca...       2   \n",
       "211210P01A02H gaggtgcagcttcaggagtcaggacctagcctcgtgaaaccttctca...       2   \n",
       "              gaggtgcagcttcaggagtcaggacctagcctcgtgaaaccttctca...       2   \n",
       "211210P01A02K gaggtgcagcttcaggagtcaggacctagcctcgtgaaaccttctca...       2   \n",
       "              gaggtgcagcttcaggagtcaggacctagcctcgtgaaaccttctca...       2   \n",
       "...                                                                  ...   \n",
       "211210P16H12H gaggtgcagcttcaggagtcaggacctagcctcgtgaaaccttctca...      24   \n",
       "              gaggtgcagcttcaggagtcaggacctagcctcgtgaaaccttctca...      12   \n",
       "211210P16H12K gacattgtgatgactcagtctcaaaaattcatgtccacatcagtagg...      12   \n",
       "              gacattgtgatgactcagtctcaaaaattcatgtccacatcagtagg...      12   \n",
       "              gacattgtgatgactcagtctcaaaaattcatgtccacatcagtagg...      12   \n",
       "\n",
       "                                                                  counts  \\\n",
       "ID            seq_nt                                                       \n",
       "211210P01A01H gaggtgcagcttcaggagtcaggacctagcctcgtgaaaccttctca...       2   \n",
       "211210P01A02H gaggtgcagcttcaggagtcaggacctagcctcgtgaaaccttctca...       1   \n",
       "              gaggtgcagcttcaggagtcaggacctagcctcgtgaaaccttctca...       1   \n",
       "211210P01A02K gaggtgcagcttcaggagtcaggacctagcctcgtgaaaccttctca...       1   \n",
       "              gaggtgcagcttcaggagtcaggacctagcctcgtgaaaccttctca...       1   \n",
       "...                                                                  ...   \n",
       "211210P16H12H gaggtgcagcttcaggagtcaggacctagcctcgtgaaaccttctca...     112   \n",
       "              gaggtgcagcttcaggagtcaggacctagcctcgtgaaaccttctca...       6   \n",
       "211210P16H12K gacattgtgatgactcagtctcaaaaattcatgtccacatcagtagg...     268   \n",
       "              gacattgtgatgactcagtctcaaaaattcatgtccacatcagtagg...     149   \n",
       "              gacattgtgatgactcagtctcaaaaattcatgtccacatcagtagg...      31   \n",
       "\n",
       "                                                                  barcode  \\\n",
       "ID            seq_nt                                                        \n",
       "211210P01A01H gaggtgcagcttcaggagtcaggacctagcctcgtgaaaccttctca...        2   \n",
       "211210P01A02H gaggtgcagcttcaggagtcaggacctagcctcgtgaaaccttctca...        1   \n",
       "              gaggtgcagcttcaggagtcaggacctagcctcgtgaaaccttctca...        1   \n",
       "211210P01A02K gaggtgcagcttcaggagtcaggacctagcctcgtgaaaccttctca...        1   \n",
       "              gaggtgcagcttcaggagtcaggacctagcctcgtgaaaccttctca...        1   \n",
       "...                                                                   ...   \n",
       "211210P16H12H gaggtgcagcttcaggagtcaggacctagcctcgtgaaaccttctca...       32   \n",
       "              gaggtgcagcttcaggagtcaggacctagcctcgtgaaaccttctca...       16   \n",
       "211210P16H12K gacattgtgatgactcagtctcaaaaattcatgtccacatcagtagg...       16   \n",
       "              gacattgtgatgactcagtctcaaaaattcatgtccacatcagtagg...       16   \n",
       "              gacattgtgatgactcagtctcaaaaattcatgtccacatcagtagg...       16   \n",
       "\n",
       "                                                                  Productive  \\\n",
       "ID            seq_nt                                                           \n",
       "211210P01A01H gaggtgcagcttcaggagtcaggacctagcctcgtgaaaccttctca...           2   \n",
       "211210P01A02H gaggtgcagcttcaggagtcaggacctagcctcgtgaaaccttctca...           1   \n",
       "              gaggtgcagcttcaggagtcaggacctagcctcgtgaaaccttctca...           1   \n",
       "211210P01A02K gaggtgcagcttcaggagtcaggacctagcctcgtgaaaccttctca...           1   \n",
       "              gaggtgcagcttcaggagtcaggacctagcctcgtgaaaccttctca...           1   \n",
       "...                                                                      ...   \n",
       "211210P16H12H gaggtgcagcttcaggagtcaggacctagcctcgtgaaaccttctca...           2   \n",
       "              gaggtgcagcttcaggagtcaggacctagcctcgtgaaaccttctca...           1   \n",
       "211210P16H12K gacattgtgatgactcagtctcaaaaattcatgtccacatcagtagg...           1   \n",
       "              gacattgtgatgactcagtctcaaaaattcatgtccacatcagtagg...           1   \n",
       "              gacattgtgatgactcagtctcaaaaattcatgtccacatcagtagg...           1   \n",
       "\n",
       "                                                                  seq_nt_length  \\\n",
       "ID            seq_nt                                                              \n",
       "211210P01A01H gaggtgcagcttcaggagtcaggacctagcctcgtgaaaccttctca...            674   \n",
       "211210P01A02H gaggtgcagcttcaggagtcaggacctagcctcgtgaaaccttctca...            337   \n",
       "              gaggtgcagcttcaggagtcaggacctagcctcgtgaaaccttctca...            337   \n",
       "211210P01A02K gaggtgcagcttcaggagtcaggacctagcctcgtgaaaccttctca...            337   \n",
       "              gaggtgcagcttcaggagtcaggacctagcctcgtgaaaccttctca...            337   \n",
       "...                                                                         ...   \n",
       "211210P16H12H gaggtgcagcttcaggagtcaggacctagcctcgtgaaaccttctca...            674   \n",
       "              gaggtgcagcttcaggagtcaggacctagcctcgtgaaaccttctca...            337   \n",
       "211210P16H12K gacattgtgatgactcagtctcaaaaattcatgtccacatcagtagg...            321   \n",
       "              gacattgtgatgactcagtctcaaaaattcatgtccacatcagtagg...            321   \n",
       "              gacattgtgatgactcagtctcaaaaattcatgtccacatcagtagg...            321   \n",
       "\n",
       "                                                                  seq_aa_length  \n",
       "ID            seq_nt                                                             \n",
       "211210P01A01H gaggtgcagcttcaggagtcaggacctagcctcgtgaaaccttctca...            224  \n",
       "211210P01A02H gaggtgcagcttcaggagtcaggacctagcctcgtgaaaccttctca...            112  \n",
       "              gaggtgcagcttcaggagtcaggacctagcctcgtgaaaccttctca...            112  \n",
       "211210P01A02K gaggtgcagcttcaggagtcaggacctagcctcgtgaaaccttctca...            112  \n",
       "              gaggtgcagcttcaggagtcaggacctagcctcgtgaaaccttctca...            112  \n",
       "...                                                                         ...  \n",
       "211210P16H12H gaggtgcagcttcaggagtcaggacctagcctcgtgaaaccttctca...            224  \n",
       "              gaggtgcagcttcaggagtcaggacctagcctcgtgaaaccttctca...            112  \n",
       "211210P16H12K gacattgtgatgactcagtctcaaaaattcatgtccacatcagtagg...            107  \n",
       "              gacattgtgatgactcagtctcaaaaattcatgtccacatcagtagg...            107  \n",
       "              gacattgtgatgactcagtctcaaaaattcatgtccacatcagtagg...            107  \n",
       "\n",
       "[3440 rows x 8 columns]"
      ]
     },
     "execution_count": 458,
     "metadata": {},
     "output_type": "execute_result"
    }
   ],
   "source": [
    "imgt_collapsed_effective_imgt"
   ]
  },
  {
   "cell_type": "code",
   "execution_count": 463,
   "id": "45cdd2a3",
   "metadata": {
    "scrolled": false
   },
   "outputs": [
    {
     "name": "stdout",
     "output_type": "stream",
     "text": [
      "(3440, 8)\n"
     ]
    }
   ],
   "source": [
    "print(imgt_collapsed_effective_imgt.shape)"
   ]
  },
  {
   "cell_type": "markdown",
   "id": "7a7de6e7",
   "metadata": {},
   "source": [
    "**Effective duplicates accounts for a few major sequences which are identical but counted as separate!**"
   ]
  },
  {
   "cell_type": "markdown",
   "id": "74458fbc",
   "metadata": {},
   "source": [
    "## Sequence differences"
   ]
  },
  {
   "cell_type": "code",
   "execution_count": 469,
   "id": "b8103edb",
   "metadata": {},
   "outputs": [
    {
     "data": {
      "image/png": "[encoded data removed]",
      "text/plain": [
       "<Figure size 432x288 with 1 Axes>"
      ]
     },
     "metadata": {},
     "output_type": "display_data"
    }
   ],
   "source": [
    "nf_partis_ranked_seqs = set(partis_airr.groupby([\"ID\", \"seq_nt\"]).groups)\n",
    "tat_imgt_ranked_seqs = set(imgt_airr.groupby([\"ID\", \"seq_nt\"]).groups)\n",
    "v = venn2([nf_partis_ranked_seqs, tat_imgt_ranked_seqs], [\"partis\", \"IMGT\"])\n",
    "plt.title(\"venn diagram of unique plate/well specific BCR's from both methods\")\n",
    "plt.savefig(\"post_annotation_bcr_differences_no_thresh.png\")\n",
    "plt.show()"
   ]
  },
  {
   "cell_type": "code",
   "execution_count": 465,
   "id": "ea4bef87",
   "metadata": {},
   "outputs": [
    {
     "data": {
      "image/png": "[encoded data removed]",
      "text/plain": [
       "<Figure size 720x288 with 2 Axes>"
      ]
     },
     "metadata": {
      "needs_background": "light"
     },
     "output_type": "display_data"
    }
   ],
   "source": [
    "fig, ax = plt.subplots(1, 2, figsize=[10, 4])\n",
    "ax[0].hist(imgt_airr[\"counts\"], bins=50, facecolor='gray', align='mid')\n",
    "ax[0].set_title(f\"IMGT\\n BCR Counts\")\n",
    "ax[1].hist(partis_airr[\"counts\"], bins=50, facecolor='gray', align='mid')\n",
    "ax[1].set_title(f\"partis\\n BCR Counts\")\n",
    "fig.savefig(\"sequence_count_hist.png\")\n",
    "plt.show()"
   ]
  },
  {
   "cell_type": "code",
   "execution_count": 466,
   "id": "f4cde9db",
   "metadata": {},
   "outputs": [
    {
     "data": {
      "image/png": "[encoded data removed]",
      "text/plain": [
       "<Figure size 720x288 with 2 Axes>"
      ]
     },
     "metadata": {
      "needs_background": "light"
     },
     "output_type": "display_data"
    }
   ],
   "source": [
    "fig, ax = plt.subplots(1, 2, figsize=[10, 4])\n",
    "ax[0].hist(imgt_airr[\"counts\"], bins=50, facecolor='gray', align='mid')\n",
    "ax[0].set_title(f\"IMGT\\n BCR Counts\")\n",
    "ax[0].axvline(10)\n",
    "ax[1].hist(partis_airr[\"counts\"], bins=50, facecolor='gray', align='mid')\n",
    "ax[1].set_title(f\"partis\\n BCR Counts\")\n",
    "ax[1].axvline(10)\n",
    "\n",
    "fig.savefig(\"sequence_count_hist.png\")\n",
    "plt.show()"
   ]
  },
  {
   "cell_type": "code",
   "execution_count": 510,
   "id": "1a2c2d45",
   "metadata": {},
   "outputs": [
    {
     "data": {
      "image/png": "[encoded data removed]",
      "text/plain": [
       "<Figure size 432x288 with 1 Axes>"
      ]
     },
     "metadata": {},
     "output_type": "display_data"
    }
   ],
   "source": [
    "nf_partis_ranked_seqs = set(\n",
    "    partis_airr.query(\"counts >= 16 & Productive == True\", engine=\"python\").groupby([\"ID\", \"seq_nt\"]).groups\n",
    ")\n",
    "tat_imgt_ranked_seqs = set(\n",
    "    imgt_airr.query(\"counts >= 16 & Productive == True\", engine=\"python\").groupby([\"ID\", \"seq_nt\"]).groups\n",
    ")\n",
    "v = venn2([nf_partis_ranked_seqs, tat_imgt_ranked_seqs], [\"partis\", \"IMGT\"])\n",
    "plt.title(\"venn diagram of unique plate/well specific BCR's from both methods\")\n",
    "plt.savefig(\"post_annotation_bcr_differences_w_thresh.png\")\n",
    "plt.show()"
   ]
  },
  {
   "cell_type": "code",
   "execution_count": 477,
   "id": "fd89933e",
   "metadata": {
    "scrolled": false
   },
   "outputs": [
    {
     "data": {
      "text/plain": [
       "Index(['num', 'ID', 'rank', 'well', 'row', 'column', 'counts', 'barcode',\n",
       "       'locus', 'V', 'D', 'J', 'Productive', 'AAjunction', 'seq_nt',\n",
       "       'seq_nt_length', 'nt_mut', 'nt_mut_silent', 'nt_mut_replacement',\n",
       "       'aa_replacement', 'Vchanges', 'seq_aa', 'seq_aa_length', 'seq_input',\n",
       "       'gapped seq_nt', 'gapped seq_aa', 'v_cigar', 'd_cigar', 'j_cigar'],\n",
       "      dtype='object')"
      ]
     },
     "execution_count": 477,
     "metadata": {},
     "output_type": "execute_result"
    }
   ],
   "source": [
    "imgt_but_not_partis = (tat_imgt_ranked_seqs - nf_partis_ranked_seqs) \n",
    "imgt_but_not_partis_df = imgt_airr.loc[[\n",
    "    index for index, row in imgt_airr.iterrows()\n",
    "    if (row.ID, row.seq_nt) in imgt_but_not_partis\n",
    "]]\n",
    "imgt_but_not_partis_df.columns"
   ]
  },
  {
   "cell_type": "code",
   "execution_count": null,
   "id": "a74e4bd8",
   "metadata": {},
   "outputs": [],
   "source": []
  },
  {
   "cell_type": "code",
   "execution_count": 513,
   "id": "6677fa62",
   "metadata": {},
   "outputs": [
    {
     "data": {
      "text/html": [
       "<div>\n",
       "<style scoped>\n",
       "    .dataframe tbody tr th:only-of-type {\n",
       "        vertical-align: middle;\n",
       "    }\n",
       "\n",
       "    .dataframe tbody tr th {\n",
       "        vertical-align: top;\n",
       "    }\n",
       "\n",
       "    .dataframe thead th {\n",
       "        text-align: right;\n",
       "    }\n",
       "</style>\n",
       "<table border=\"1\" class=\"dataframe\">\n",
       "  <thead>\n",
       "    <tr style=\"text-align: right;\">\n",
       "      <th></th>\n",
       "      <th>num</th>\n",
       "      <th>ID</th>\n",
       "      <th>rank</th>\n",
       "      <th>well</th>\n",
       "      <th>row</th>\n",
       "      <th>column</th>\n",
       "      <th>counts</th>\n",
       "      <th>barcode</th>\n",
       "      <th>locus</th>\n",
       "      <th>V</th>\n",
       "      <th>...</th>\n",
       "      <th>aa_replacement</th>\n",
       "      <th>Vchanges</th>\n",
       "      <th>seq_aa</th>\n",
       "      <th>seq_aa_length</th>\n",
       "      <th>seq_input</th>\n",
       "      <th>gapped seq_nt</th>\n",
       "      <th>gapped seq_aa</th>\n",
       "      <th>v_cigar</th>\n",
       "      <th>d_cigar</th>\n",
       "      <th>j_cigar</th>\n",
       "    </tr>\n",
       "  </thead>\n",
       "  <tbody>\n",
       "    <tr>\n",
       "      <th>2756</th>\n",
       "      <td>2756</td>\n",
       "      <td>211210P10F03K</td>\n",
       "      <td>1</td>\n",
       "      <td>F03</td>\n",
       "      <td>F</td>\n",
       "      <td>3</td>\n",
       "      <td>735</td>\n",
       "      <td>10</td>\n",
       "      <td>IGK</td>\n",
       "      <td>IGKV6-15*01</td>\n",
       "      <td>...</td>\n",
       "      <td>2</td>\n",
       "      <td>c15&gt;t, T5; T5 acc 13-15&gt;T act|g154&gt;a,A52&gt;T(- -...</td>\n",
       "      <td>DIVMTQSQKFMSTSVGDRVSVTCKASQNVGTNVAWYQQKPGQSPKT...</td>\n",
       "      <td>107</td>\n",
       "      <td>gtgttgatggagacattgtgatgactcagtctcaaaaattcatgtc...</td>\n",
       "      <td>gacattgtgatgactcagtctcaaaaattcatgtccacatcagtag...</td>\n",
       "      <td>DIVMTQSQKFMSTSVGDRVSVTCKASQNV......GTNVAWYQQKP...</td>\n",
       "      <td>11S14=1X120=1X23=1X120=1X6=76S</td>\n",
       "      <td>&lt;NA&gt;</td>\n",
       "      <td>298S3N18=2X1=2X1=1X10=41S</td>\n",
       "    </tr>\n",
       "    <tr>\n",
       "      <th>4864</th>\n",
       "      <td>4864</td>\n",
       "      <td>211210P16B09K</td>\n",
       "      <td>1</td>\n",
       "      <td>B09</td>\n",
       "      <td>B</td>\n",
       "      <td>9</td>\n",
       "      <td>388</td>\n",
       "      <td>16</td>\n",
       "      <td>IGK</td>\n",
       "      <td>IGKV6-15*01</td>\n",
       "      <td>...</td>\n",
       "      <td>4</td>\n",
       "      <td>c15&gt;t, T5; T5 acc 13-15&gt;T act|c199&gt;a, R67; R67...</td>\n",
       "      <td>DIVMTQSQKFMSTSVGDRVSVTCKASQNVGTNVAWYQQKPGQSPKA...</td>\n",
       "      <td>107</td>\n",
       "      <td>gtgttgatggagacattgtgatgactcagtctcaaaaattcatgtc...</td>\n",
       "      <td>gacattgtgatgactcagtctcaaaaattcatgtccacatcagtag...</td>\n",
       "      <td>DIVMTQSQKFMSTSVGDRVSVTCKASQNV......GTNVAWYQQKP...</td>\n",
       "      <td>11S14=1X144=1X8=1X13=1X80=1X11=1X2=1X8=74S</td>\n",
       "      <td>&lt;NA&gt;</td>\n",
       "      <td>298S3N18=1X2=1X2=1X10=39S</td>\n",
       "    </tr>\n",
       "    <tr>\n",
       "      <th>4970</th>\n",
       "      <td>4970</td>\n",
       "      <td>211210P16D04K</td>\n",
       "      <td>1</td>\n",
       "      <td>D04</td>\n",
       "      <td>D</td>\n",
       "      <td>4</td>\n",
       "      <td>127</td>\n",
       "      <td>16</td>\n",
       "      <td>IGK</td>\n",
       "      <td>IGKV6-15*01</td>\n",
       "      <td>...</td>\n",
       "      <td>4</td>\n",
       "      <td>c15&gt;t, T5; T5 acc 13-15&gt;T act|a117&gt;g, V39; V39...</td>\n",
       "      <td>DIVMTQSQKFMSTSVGDRVSVTCKASQNVGTNVAWHQQKPGQSPKA...</td>\n",
       "      <td>107</td>\n",
       "      <td>gtgttgatggagacattgtgatgactcagtctcaaaaattcatgtc...</td>\n",
       "      <td>gacattgtgatgactcagtctcaaaaattcatgtccacatcagtag...</td>\n",
       "      <td>DIVMTQSQKFMSTSVGDRVSVTCKASQNV......GTNVAWHQQKP...</td>\n",
       "      <td>11S14=1X83=1X6=1X16=1X23=1X11=4X78=1X13=1X18=1...</td>\n",
       "      <td>&lt;NA&gt;</td>\n",
       "      <td>297S2N19=2X1=2X1=1X10=39S</td>\n",
       "    </tr>\n",
       "    <tr>\n",
       "      <th>5173</th>\n",
       "      <td>5173</td>\n",
       "      <td>211210P16G05K</td>\n",
       "      <td>1</td>\n",
       "      <td>G05</td>\n",
       "      <td>G</td>\n",
       "      <td>5</td>\n",
       "      <td>648</td>\n",
       "      <td>16</td>\n",
       "      <td>IGK</td>\n",
       "      <td>IGKV6-15*01</td>\n",
       "      <td>...</td>\n",
       "      <td>8</td>\n",
       "      <td>c15&gt;t, T5; T5 acc 13-15&gt;T act|a42&gt;g, S14; S14 ...</td>\n",
       "      <td>DIVMTQSQKFMSTSVGDRVSVTCKASQNVGTNVGWYQQKPGQSPKA...</td>\n",
       "      <td>107</td>\n",
       "      <td>gtgttgatggagacattgtgatgactcagtctcaaaaattcatgtc...</td>\n",
       "      <td>gacattgtgatgactcagtctcaaaaattcatgtccacatcggtag...</td>\n",
       "      <td>DIVMTQSQKFMSTSVGDRVSVTCKASQNV......GTNVGWYQQKP...</td>\n",
       "      <td>11S14=1X26=1X47=1X10=1X21=1X36=2X26=1X26=1X11=...</td>\n",
       "      <td>&lt;NA&gt;</td>\n",
       "      <td>299S5N8=1X8=1X5=1X10=39S</td>\n",
       "    </tr>\n",
       "    <tr>\n",
       "      <th>5280</th>\n",
       "      <td>5280</td>\n",
       "      <td>211210P16H12K</td>\n",
       "      <td>2</td>\n",
       "      <td>H12</td>\n",
       "      <td>H</td>\n",
       "      <td>12</td>\n",
       "      <td>149</td>\n",
       "      <td>16</td>\n",
       "      <td>IGK</td>\n",
       "      <td>IGKV6-15*01</td>\n",
       "      <td>...</td>\n",
       "      <td>8</td>\n",
       "      <td>c15&gt;t, T5; T5 acc 13-15&gt;T act|t108&gt;a, G36; G36...</td>\n",
       "      <td>DIVMTQSQKFMSTSVGDRVSVTCKASQNVGTNVGWYQQKPGQSPKA...</td>\n",
       "      <td>107</td>\n",
       "      <td>gtgttgatggagacattgtgatgactcagtctcaaaaattcatgtc...</td>\n",
       "      <td>gacattgtgatgactcagtctcaaaaattcatgtccacatcagtag...</td>\n",
       "      <td>DIVMTQSQKFMSTSVGDRVSVTCKASQNV......GTNVGWYQQKP...</td>\n",
       "      <td>11S14=1X74=1X10=1X21=1X36=2X26=1X26=1X11=1X24=...</td>\n",
       "      <td>&lt;NA&gt;</td>\n",
       "      <td>299S5N8=1X8=1X5=1X10=39S</td>\n",
       "    </tr>\n",
       "  </tbody>\n",
       "</table>\n",
       "<p>5 rows × 29 columns</p>\n",
       "</div>"
      ],
      "text/plain": [
       "       num             ID  rank well row  column  counts  barcode locus  \\\n",
       "2756  2756  211210P10F03K     1  F03   F       3     735       10   IGK   \n",
       "4864  4864  211210P16B09K     1  B09   B       9     388       16   IGK   \n",
       "4970  4970  211210P16D04K     1  D04   D       4     127       16   IGK   \n",
       "5173  5173  211210P16G05K     1  G05   G       5     648       16   IGK   \n",
       "5280  5280  211210P16H12K     2  H12   H      12     149       16   IGK   \n",
       "\n",
       "                V  ... aa_replacement  \\\n",
       "2756  IGKV6-15*01  ...              2   \n",
       "4864  IGKV6-15*01  ...              4   \n",
       "4970  IGKV6-15*01  ...              4   \n",
       "5173  IGKV6-15*01  ...              8   \n",
       "5280  IGKV6-15*01  ...              8   \n",
       "\n",
       "                                               Vchanges  \\\n",
       "2756  c15>t, T5; T5 acc 13-15>T act|g154>a,A52>T(- -...   \n",
       "4864  c15>t, T5; T5 acc 13-15>T act|c199>a, R67; R67...   \n",
       "4970  c15>t, T5; T5 acc 13-15>T act|a117>g, V39; V39...   \n",
       "5173  c15>t, T5; T5 acc 13-15>T act|a42>g, S14; S14 ...   \n",
       "5280  c15>t, T5; T5 acc 13-15>T act|t108>a, G36; G36...   \n",
       "\n",
       "                                                 seq_aa seq_aa_length  \\\n",
       "2756  DIVMTQSQKFMSTSVGDRVSVTCKASQNVGTNVAWYQQKPGQSPKT...           107   \n",
       "4864  DIVMTQSQKFMSTSVGDRVSVTCKASQNVGTNVAWYQQKPGQSPKA...           107   \n",
       "4970  DIVMTQSQKFMSTSVGDRVSVTCKASQNVGTNVAWHQQKPGQSPKA...           107   \n",
       "5173  DIVMTQSQKFMSTSVGDRVSVTCKASQNVGTNVGWYQQKPGQSPKA...           107   \n",
       "5280  DIVMTQSQKFMSTSVGDRVSVTCKASQNVGTNVGWYQQKPGQSPKA...           107   \n",
       "\n",
       "                                              seq_input  \\\n",
       "2756  gtgttgatggagacattgtgatgactcagtctcaaaaattcatgtc...   \n",
       "4864  gtgttgatggagacattgtgatgactcagtctcaaaaattcatgtc...   \n",
       "4970  gtgttgatggagacattgtgatgactcagtctcaaaaattcatgtc...   \n",
       "5173  gtgttgatggagacattgtgatgactcagtctcaaaaattcatgtc...   \n",
       "5280  gtgttgatggagacattgtgatgactcagtctcaaaaattcatgtc...   \n",
       "\n",
       "                                          gapped seq_nt  \\\n",
       "2756  gacattgtgatgactcagtctcaaaaattcatgtccacatcagtag...   \n",
       "4864  gacattgtgatgactcagtctcaaaaattcatgtccacatcagtag...   \n",
       "4970  gacattgtgatgactcagtctcaaaaattcatgtccacatcagtag...   \n",
       "5173  gacattgtgatgactcagtctcaaaaattcatgtccacatcggtag...   \n",
       "5280  gacattgtgatgactcagtctcaaaaattcatgtccacatcagtag...   \n",
       "\n",
       "                                          gapped seq_aa  \\\n",
       "2756  DIVMTQSQKFMSTSVGDRVSVTCKASQNV......GTNVAWYQQKP...   \n",
       "4864  DIVMTQSQKFMSTSVGDRVSVTCKASQNV......GTNVAWYQQKP...   \n",
       "4970  DIVMTQSQKFMSTSVGDRVSVTCKASQNV......GTNVAWHQQKP...   \n",
       "5173  DIVMTQSQKFMSTSVGDRVSVTCKASQNV......GTNVGWYQQKP...   \n",
       "5280  DIVMTQSQKFMSTSVGDRVSVTCKASQNV......GTNVGWYQQKP...   \n",
       "\n",
       "                                                v_cigar d_cigar  \\\n",
       "2756                     11S14=1X120=1X23=1X120=1X6=76S    <NA>   \n",
       "4864         11S14=1X144=1X8=1X13=1X80=1X11=1X2=1X8=74S    <NA>   \n",
       "4970  11S14=1X83=1X6=1X16=1X23=1X11=4X78=1X13=1X18=1...    <NA>   \n",
       "5173  11S14=1X26=1X47=1X10=1X21=1X36=2X26=1X26=1X11=...    <NA>   \n",
       "5280  11S14=1X74=1X10=1X21=1X36=2X26=1X26=1X11=1X24=...    <NA>   \n",
       "\n",
       "                        j_cigar  \n",
       "2756  298S3N18=2X1=2X1=1X10=41S  \n",
       "4864  298S3N18=1X2=1X2=1X10=39S  \n",
       "4970  297S2N19=2X1=2X1=1X10=39S  \n",
       "5173   299S5N8=1X8=1X5=1X10=39S  \n",
       "5280   299S5N8=1X8=1X5=1X10=39S  \n",
       "\n",
       "[5 rows x 29 columns]"
      ]
     },
     "execution_count": 513,
     "metadata": {},
     "output_type": "execute_result"
    }
   ],
   "source": [
    "imgt_but_not_partis_df[imgt_but_not_partis_df[\"counts\"]>=100]"
   ]
  },
  {
   "cell_type": "code",
   "execution_count": 514,
   "id": "ded271c9",
   "metadata": {},
   "outputs": [
    {
     "data": {
      "text/html": [
       "<div>\n",
       "<style scoped>\n",
       "    .dataframe tbody tr th:only-of-type {\n",
       "        vertical-align: middle;\n",
       "    }\n",
       "\n",
       "    .dataframe tbody tr th {\n",
       "        vertical-align: top;\n",
       "    }\n",
       "\n",
       "    .dataframe thead th {\n",
       "        text-align: right;\n",
       "    }\n",
       "</style>\n",
       "<table border=\"1\" class=\"dataframe\">\n",
       "  <thead>\n",
       "    <tr style=\"text-align: right;\">\n",
       "      <th></th>\n",
       "      <th>sequence_id</th>\n",
       "      <th>sequence</th>\n",
       "      <th>Productive</th>\n",
       "      <th>V</th>\n",
       "      <th>D</th>\n",
       "      <th>J</th>\n",
       "      <th>sequence_alignment</th>\n",
       "      <th>germline_alignment</th>\n",
       "      <th>AAjunction</th>\n",
       "      <th>v_cigar</th>\n",
       "      <th>...</th>\n",
       "      <th>chain</th>\n",
       "      <th>rank</th>\n",
       "      <th>counts</th>\n",
       "      <th>ID</th>\n",
       "      <th>row</th>\n",
       "      <th>column</th>\n",
       "      <th>barcode</th>\n",
       "      <th>seq_nt</th>\n",
       "      <th>seq_nt_length</th>\n",
       "      <th>seq_aa_length</th>\n",
       "    </tr>\n",
       "  </thead>\n",
       "  <tbody>\n",
       "  </tbody>\n",
       "</table>\n",
       "<p>0 rows × 29 columns</p>\n",
       "</div>"
      ],
      "text/plain": [
       "Empty DataFrame\n",
       "Columns: [sequence_id, sequence, Productive, V, D, J, sequence_alignment, germline_alignment, AAjunction, v_cigar, d_cigar, j_cigar, locus, seq_aa, n_mutations, PR_num, date, plate_num, well, chain, rank, counts, ID, row, column, barcode, seq_nt, seq_nt_length, seq_aa_length]\n",
       "Index: []\n",
       "\n",
       "[0 rows x 29 columns]"
      ]
     },
     "execution_count": 514,
     "metadata": {},
     "output_type": "execute_result"
    }
   ],
   "source": [
    "partis_airr.query(\"ID == '211210P10F03K'\")"
   ]
  },
  {
   "cell_type": "code",
   "execution_count": 502,
   "id": "ddb8b525",
   "metadata": {},
   "outputs": [],
   "source": [
    "partis_failed_bcrs[\"seq_input\"] = [s.lower() for s in partis_failed_bcrs[\"sequence\"]]\n",
    "partis_failed_bcrs[\"barcode\"] = [int(p[1:]) for p in partis_failed_bcrs[\"plate\"]]\n",
    "partis_failed_bcrs[\"ID\"] = [f\"211210{row.plate}{row.well}{row.chain}\" for idx, row in partis_failed_bcrs.iterrows()]\n",
    "partis_failed_bcrs = partis_failed_bcrs.infer_objects()"
   ]
  },
  {
   "cell_type": "code",
   "execution_count": 503,
   "id": "e70c3bae",
   "metadata": {},
   "outputs": [
    {
     "data": {
      "text/html": [
       "<div>\n",
       "<style scoped>\n",
       "    .dataframe tbody tr th:only-of-type {\n",
       "        vertical-align: middle;\n",
       "    }\n",
       "\n",
       "    .dataframe tbody tr th {\n",
       "        vertical-align: top;\n",
       "    }\n",
       "\n",
       "    .dataframe thead th {\n",
       "        text-align: right;\n",
       "    }\n",
       "</style>\n",
       "<table border=\"1\" class=\"dataframe\">\n",
       "  <thead>\n",
       "    <tr style=\"text-align: right;\">\n",
       "      <th></th>\n",
       "      <th>identifier</th>\n",
       "      <th>plate</th>\n",
       "      <th>well</th>\n",
       "      <th>chain</th>\n",
       "      <th>rank</th>\n",
       "      <th>count</th>\n",
       "      <th>sequence</th>\n",
       "      <th>seq_input</th>\n",
       "      <th>barcode</th>\n",
       "      <th>ID</th>\n",
       "    </tr>\n",
       "  </thead>\n",
       "  <tbody>\n",
       "    <tr>\n",
       "      <th>0</th>\n",
       "      <td>PR-1-6.211203.P14.C08.K.R.1-1</td>\n",
       "      <td>P14</td>\n",
       "      <td>C08</td>\n",
       "      <td>K</td>\n",
       "      <td>1.0</td>\n",
       "      <td>1.0</td>\n",
       "      <td>GATGCTGCTCCAACTGTATCCATCTAATTAGCGTGAAGATCGGAAG...</td>\n",
       "      <td>gatgctgctccaactgtatccatctaattagcgtgaagatcggaag...</td>\n",
       "      <td>14</td>\n",
       "      <td>211210P14C08K</td>\n",
       "    </tr>\n",
       "    <tr>\n",
       "      <th>1</th>\n",
       "      <td>PR-1-6.211203.P14.E04.H.R.1-1</td>\n",
       "      <td>P14</td>\n",
       "      <td>E04</td>\n",
       "      <td>H</td>\n",
       "      <td>1.0</td>\n",
       "      <td>1.0</td>\n",
       "      <td>CAAATGTCTTCCCCCTTAATTAGCGTTAAGATCGGAAGAGCGGTTC...</td>\n",
       "      <td>caaatgtcttcccccttaattagcgttaagatcggaagagcggttc...</td>\n",
       "      <td>14</td>\n",
       "      <td>211210P14E04H</td>\n",
       "    </tr>\n",
       "    <tr>\n",
       "      <th>2</th>\n",
       "      <td>PR-1-6.211203.P14.G06.K.R.1-1</td>\n",
       "      <td>P14</td>\n",
       "      <td>G06</td>\n",
       "      <td>K</td>\n",
       "      <td>1.0</td>\n",
       "      <td>1.0</td>\n",
       "      <td>CACCAACTGTATCCATCTAATTAGCGTTCAGATCGGAAGAGCGGTT...</td>\n",
       "      <td>caccaactgtatccatctaattagcgttcagatcggaagagcggtt...</td>\n",
       "      <td>14</td>\n",
       "      <td>211210P14G06K</td>\n",
       "    </tr>\n",
       "    <tr>\n",
       "      <th>3</th>\n",
       "      <td>PR-1-6.211203.P14.G06.K.R.2-1</td>\n",
       "      <td>P14</td>\n",
       "      <td>G06</td>\n",
       "      <td>K</td>\n",
       "      <td>2.0</td>\n",
       "      <td>1.0</td>\n",
       "      <td>CACCAACTGTATCCATCTAATTAGCGTTAAGATCGGAAGAGCGGTT...</td>\n",
       "      <td>caccaactgtatccatctaattagcgttaagatcggaagagcggtt...</td>\n",
       "      <td>14</td>\n",
       "      <td>211210P14G06K</td>\n",
       "    </tr>\n",
       "    <tr>\n",
       "      <th>4</th>\n",
       "      <td>PR-1-6.211203.P14.G06.K.R.3-1</td>\n",
       "      <td>P14</td>\n",
       "      <td>G06</td>\n",
       "      <td>K</td>\n",
       "      <td>3.0</td>\n",
       "      <td>1.0</td>\n",
       "      <td>CACCAACTGTATCCATCTAATTAGCGTTTAGATCGGAAGAGCGGTT...</td>\n",
       "      <td>caccaactgtatccatctaattagcgtttagatcggaagagcggtt...</td>\n",
       "      <td>14</td>\n",
       "      <td>211210P14G06K</td>\n",
       "    </tr>\n",
       "  </tbody>\n",
       "</table>\n",
       "</div>"
      ],
      "text/plain": [
       "                      identifier plate well chain  rank  count  \\\n",
       "0  PR-1-6.211203.P14.C08.K.R.1-1   P14  C08     K   1.0    1.0   \n",
       "1  PR-1-6.211203.P14.E04.H.R.1-1   P14  E04     H   1.0    1.0   \n",
       "2  PR-1-6.211203.P14.G06.K.R.1-1   P14  G06     K   1.0    1.0   \n",
       "3  PR-1-6.211203.P14.G06.K.R.2-1   P14  G06     K   2.0    1.0   \n",
       "4  PR-1-6.211203.P14.G06.K.R.3-1   P14  G06     K   3.0    1.0   \n",
       "\n",
       "                                            sequence  \\\n",
       "0  GATGCTGCTCCAACTGTATCCATCTAATTAGCGTGAAGATCGGAAG...   \n",
       "1  CAAATGTCTTCCCCCTTAATTAGCGTTAAGATCGGAAGAGCGGTTC...   \n",
       "2  CACCAACTGTATCCATCTAATTAGCGTTCAGATCGGAAGAGCGGTT...   \n",
       "3  CACCAACTGTATCCATCTAATTAGCGTTAAGATCGGAAGAGCGGTT...   \n",
       "4  CACCAACTGTATCCATCTAATTAGCGTTTAGATCGGAAGAGCGGTT...   \n",
       "\n",
       "                                           seq_input  barcode             ID  \n",
       "0  gatgctgctccaactgtatccatctaattagcgtgaagatcggaag...       14  211210P14C08K  \n",
       "1  caaatgtcttcccccttaattagcgttaagatcggaagagcggttc...       14  211210P14E04H  \n",
       "2  caccaactgtatccatctaattagcgttcagatcggaagagcggtt...       14  211210P14G06K  \n",
       "3  caccaactgtatccatctaattagcgttaagatcggaagagcggtt...       14  211210P14G06K  \n",
       "4  caccaactgtatccatctaattagcgtttagatcggaagagcggtt...       14  211210P14G06K  "
      ]
     },
     "execution_count": 503,
     "metadata": {},
     "output_type": "execute_result"
    }
   ],
   "source": [
    "partis_failed_bcrs.head()"
   ]
  },
  {
   "cell_type": "code",
   "execution_count": 508,
   "id": "71200b40",
   "metadata": {},
   "outputs": [
    {
     "data": {
      "text/plain": [
       "<StringArray>\n",
       "['IGK']\n",
       "Length: 1, dtype: string"
      ]
     },
     "execution_count": 508,
     "metadata": {},
     "output_type": "execute_result"
    }
   ],
   "source": [
    "imgt_but_not_partis_df.locus.unique()"
   ]
  },
  {
   "cell_type": "code",
   "execution_count": 505,
   "id": "f7f0192e",
   "metadata": {},
   "outputs": [
    {
     "data": {
      "text/plain": [
       "(array([13.,  1.,  0.,  2.,  0.,  0.,  0.,  0.,  0.,  0.,  1.,  0.,  0.,\n",
       "         0.,  0.,  0.,  0.,  1.,  0.,  1.]),\n",
       " array([16.0, 51.95, 87.9, 123.85000000000001, 159.8, 195.75,\n",
       "        231.70000000000002, 267.65000000000003, 303.6, 339.55, 375.5,\n",
       "        411.45000000000005, 447.40000000000003, 483.35, 519.3000000000001,\n",
       "        555.25, 591.2, 627.1500000000001, 663.1, 699.0500000000001, 735.0],\n",
       "       dtype=object),\n",
       " <BarContainer object of 20 artists>)"
      ]
     },
     "execution_count": 505,
     "metadata": {},
     "output_type": "execute_result"
    },
    {
     "data": {
      "image/png": "[encoded data removed]",
      "text/plain": [
       "<Figure size 432x288 with 1 Axes>"
      ]
     },
     "metadata": {
      "needs_background": "light"
     },
     "output_type": "display_data"
    }
   ],
   "source": [
    "plt.hist(imgt_but_not_partis_df.counts.values, bins=20)"
   ]
  },
  {
   "cell_type": "code",
   "execution_count": 506,
   "id": "91c78b07",
   "metadata": {},
   "outputs": [
    {
     "data": {
      "image/png": "[encoded data removed]",
      "text/plain": [
       "<Figure size 432x432 with 1 Axes>"
      ]
     },
     "metadata": {},
     "output_type": "display_data"
    }
   ],
   "source": [
    "# unique_bcr_qualities = [\"plate\", \"well\",\"chain\", \"sequence\"]\n",
    "fig, ax = plt.subplots(figsize=[6,6])\n",
    "\n",
    "imgt_not_partis = set(imgt_but_not_partis_df.groupby([\"ID\", \"seq_input\"]).groups)\n",
    "failed_partis = set(partis_failed_bcrs.groupby([\"ID\", \"seq_input\"]).groups)\n",
    "v = venn2([imgt_not_partis, failed_partis], [\"IMGT not Partis\", \"Failed partis\"], ax=ax)\n",
    "ax.set_title(\"IMGT but not Partis Vs Failed Partis\")\n",
    "fig.savefig(\"imgt_failed_parti.png\")\n",
    "plt.tight_layout()\n",
    "plt.show()"
   ]
  },
  {
   "cell_type": "code",
   "execution_count": null,
   "id": "023de554",
   "metadata": {},
   "outputs": [],
   "source": []
  },
  {
   "cell_type": "code",
   "execution_count": 472,
   "id": "cbd827d3",
   "metadata": {},
   "outputs": [
    {
     "data": {
      "text/html": [
       "<div>\n",
       "<style scoped>\n",
       "    .dataframe tbody tr th:only-of-type {\n",
       "        vertical-align: middle;\n",
       "    }\n",
       "\n",
       "    .dataframe tbody tr th {\n",
       "        vertical-align: top;\n",
       "    }\n",
       "\n",
       "    .dataframe thead th {\n",
       "        text-align: right;\n",
       "    }\n",
       "</style>\n",
       "<table border=\"1\" class=\"dataframe\">\n",
       "  <thead>\n",
       "    <tr style=\"text-align: right;\">\n",
       "      <th></th>\n",
       "      <th>Productive</th>\n",
       "      <th>n_mutations</th>\n",
       "      <th>rank</th>\n",
       "      <th>counts</th>\n",
       "      <th>barcode</th>\n",
       "      <th>seq_nt_length</th>\n",
       "      <th>seq_aa_length</th>\n",
       "    </tr>\n",
       "  </thead>\n",
       "  <tbody>\n",
       "    <tr>\n",
       "      <th>count</th>\n",
       "      <td>10</td>\n",
       "      <td>10.000000</td>\n",
       "      <td>10.000000</td>\n",
       "      <td>10.000000</td>\n",
       "      <td>10.000000</td>\n",
       "      <td>10.000000</td>\n",
       "      <td>10.000000</td>\n",
       "    </tr>\n",
       "    <tr>\n",
       "      <th>unique</th>\n",
       "      <td>1</td>\n",
       "      <td>NaN</td>\n",
       "      <td>NaN</td>\n",
       "      <td>NaN</td>\n",
       "      <td>NaN</td>\n",
       "      <td>NaN</td>\n",
       "      <td>NaN</td>\n",
       "    </tr>\n",
       "    <tr>\n",
       "      <th>top</th>\n",
       "      <td>True</td>\n",
       "      <td>NaN</td>\n",
       "      <td>NaN</td>\n",
       "      <td>NaN</td>\n",
       "      <td>NaN</td>\n",
       "      <td>NaN</td>\n",
       "      <td>NaN</td>\n",
       "    </tr>\n",
       "    <tr>\n",
       "      <th>freq</th>\n",
       "      <td>10</td>\n",
       "      <td>NaN</td>\n",
       "      <td>NaN</td>\n",
       "      <td>NaN</td>\n",
       "      <td>NaN</td>\n",
       "      <td>NaN</td>\n",
       "      <td>NaN</td>\n",
       "    </tr>\n",
       "    <tr>\n",
       "      <th>mean</th>\n",
       "      <td>NaN</td>\n",
       "      <td>19.000000</td>\n",
       "      <td>2.100000</td>\n",
       "      <td>160.100000</td>\n",
       "      <td>11.300000</td>\n",
       "      <td>328.500000</td>\n",
       "      <td>109.500000</td>\n",
       "    </tr>\n",
       "    <tr>\n",
       "      <th>std</th>\n",
       "      <td>NaN</td>\n",
       "      <td>17.042431</td>\n",
       "      <td>0.875595</td>\n",
       "      <td>236.502972</td>\n",
       "      <td>3.831159</td>\n",
       "      <td>7.905694</td>\n",
       "      <td>2.635231</td>\n",
       "    </tr>\n",
       "    <tr>\n",
       "      <th>min</th>\n",
       "      <td>NaN</td>\n",
       "      <td>1.000000</td>\n",
       "      <td>1.000000</td>\n",
       "      <td>5.000000</td>\n",
       "      <td>5.000000</td>\n",
       "      <td>321.000000</td>\n",
       "      <td>107.000000</td>\n",
       "    </tr>\n",
       "    <tr>\n",
       "      <th>25%</th>\n",
       "      <td>NaN</td>\n",
       "      <td>6.250000</td>\n",
       "      <td>1.250000</td>\n",
       "      <td>14.000000</td>\n",
       "      <td>9.750000</td>\n",
       "      <td>321.000000</td>\n",
       "      <td>107.000000</td>\n",
       "    </tr>\n",
       "    <tr>\n",
       "      <th>50%</th>\n",
       "      <td>NaN</td>\n",
       "      <td>14.500000</td>\n",
       "      <td>2.000000</td>\n",
       "      <td>23.500000</td>\n",
       "      <td>12.000000</td>\n",
       "      <td>328.500000</td>\n",
       "      <td>109.500000</td>\n",
       "    </tr>\n",
       "    <tr>\n",
       "      <th>75%</th>\n",
       "      <td>NaN</td>\n",
       "      <td>36.500000</td>\n",
       "      <td>3.000000</td>\n",
       "      <td>301.500000</td>\n",
       "      <td>13.750000</td>\n",
       "      <td>336.000000</td>\n",
       "      <td>112.000000</td>\n",
       "    </tr>\n",
       "    <tr>\n",
       "      <th>max</th>\n",
       "      <td>NaN</td>\n",
       "      <td>42.000000</td>\n",
       "      <td>3.000000</td>\n",
       "      <td>620.000000</td>\n",
       "      <td>16.000000</td>\n",
       "      <td>336.000000</td>\n",
       "      <td>112.000000</td>\n",
       "    </tr>\n",
       "  </tbody>\n",
       "</table>\n",
       "</div>"
      ],
      "text/plain": [
       "       Productive  n_mutations       rank      counts    barcode  \\\n",
       "count          10    10.000000  10.000000   10.000000  10.000000   \n",
       "unique          1          NaN        NaN         NaN        NaN   \n",
       "top          True          NaN        NaN         NaN        NaN   \n",
       "freq           10          NaN        NaN         NaN        NaN   \n",
       "mean          NaN    19.000000   2.100000  160.100000  11.300000   \n",
       "std           NaN    17.042431   0.875595  236.502972   3.831159   \n",
       "min           NaN     1.000000   1.000000    5.000000   5.000000   \n",
       "25%           NaN     6.250000   1.250000   14.000000   9.750000   \n",
       "50%           NaN    14.500000   2.000000   23.500000  12.000000   \n",
       "75%           NaN    36.500000   3.000000  301.500000  13.750000   \n",
       "max           NaN    42.000000   3.000000  620.000000  16.000000   \n",
       "\n",
       "        seq_nt_length  seq_aa_length  \n",
       "count       10.000000      10.000000  \n",
       "unique            NaN            NaN  \n",
       "top               NaN            NaN  \n",
       "freq              NaN            NaN  \n",
       "mean       328.500000     109.500000  \n",
       "std          7.905694       2.635231  \n",
       "min        321.000000     107.000000  \n",
       "25%        321.000000     107.000000  \n",
       "50%        328.500000     109.500000  \n",
       "75%        336.000000     112.000000  \n",
       "max        336.000000     112.000000  "
      ]
     },
     "execution_count": 472,
     "metadata": {},
     "output_type": "execute_result"
    }
   ],
   "source": [
    "partis_but_not_imgt = (nf_partis_ranked_seqs - tat_imgt_ranked_seqs) \n",
    "partis_but_not_imgt_df = partis_airr.loc[[\n",
    "    index for index, row in partis_airr.iterrows()\n",
    "    if (row.ID, row.seq_nt) in partis_but_not_imgt\n",
    "]]\n",
    "partis_but_not_imgt_df.describe()"
   ]
  },
  {
   "cell_type": "code",
   "execution_count": 1540,
   "id": "569e2df8",
   "metadata": {
    "scrolled": false
   },
   "outputs": [],
   "source": [
    "# exclusive_imgt_input_seqs = [s.lower() for s in tat_but_not_nf_df[\"sequence\"].values]\n",
    "# partis_failed_seqs = [s.lower() for s in partis_failed_bcrs[\"sequence\"].values]\n",
    "# partis_trash_or_low_rank = exclusive_imgt_input_seqs + partis_failed_seqs\n",
    "# not_found_in_partis = imgt_but_not_partis_df[~imgt_but_not_partis_df[\"seq_input\"].isin(partis_trash_or_low_rank)]"
   ]
  },
  {
   "cell_type": "markdown",
   "id": "558d057c",
   "metadata": {},
   "source": [
    "## Simulate rank N pulling of the sequences"
   ]
  },
  {
   "cell_type": "code",
   "execution_count": null,
   "id": "a4b9695f",
   "metadata": {},
   "outputs": [],
   "source": [
    "# Going to have to get all collapsed fastas from the cluster\n",
    "\n",
    "# Then you're going to want to do head vs grep -rank (??) on each, this may be slow locally but ... whatever. \n",
    "\n",
    "# Just alpha the regular distributions, or maybe a fancy split violin plot, \n",
    "\n",
    "# basically populate a tall dataframe.\n",
    "\n",
    "# then plotnine that mf"
   ]
  },
  {
   "cell_type": "markdown",
   "id": "8132c4c7",
   "metadata": {},
   "source": [
    "## Infer Isotype through motif matching\n",
    "\n",
    "\n",
    "```\n",
    "# Initialize isotype column\n",
    "vquest <- vquest %>% \n",
    "  mutate(isotype = \"to be filled\", .after = J)\n",
    "\n",
    "# For LC fill in \"IGK\" and identify the isotypes for the HC\n",
    "for (i in 1:length(vquest$seq_input)) {\n",
    "  if (vquest$locus[i] == \"IGK\") {\n",
    "    vquest$isotype[i] <- \"IgK\"\n",
    "  } else if(\"atgtcttccccct\" %in% str_extract(vquest$seq_input[i], \"atgtcttccccct\")) {\n",
    "    vquest$isotype[i] <- \"IgM\"\n",
    "  } else if (\"atggtgaccctggg\" %in% str_extract(vquest$seq_input[i], \"atggtgaccctggg\")) {\n",
    "    vquest$isotype[i] <- \"IgG1\"\n",
    "  } else if (\"ggctcctcggtgactcta\" %in% \n",
    "             str_extract(vquest$seq_input[i], \"ggctcctcggtgactcta\") |\n",
    "             \"tcggtgactctagg\" %in% str_extract(vquest$seq_input[i], \"tcggtgactctagg\") |\n",
    "             \"gtgtggagatacaactgg\" %in% \n",
    "             str_extract(vquest$seq_input[i], \"gtgtggagatacaactgg\")) {\n",
    "    vquest$isotype[i] <- \"IgG2\"\n",
    "  } else if (\"cccttggtccctggctgcggtgacacat\" %in% \n",
    "             str_extract(vquest$seq_input[i], \"cccttggtccctggctgcggtgacacat\") |\n",
    "             \"cacatctggatcctcggtgaca\" %in% \n",
    "             str_extract(vquest$seq_input[i], \"cacatctggatcctcggtgaca\")) {\n",
    "    vquest$isotype[i] <- \"IgG3\"\n",
    "  } else if (\"tctgcgagaaatcccaccatcta\" %in% \n",
    "             str_extract(vquest$seq_input[i], \"tctgcgagaaatcccaccatcta\")) {\n",
    "    vquest$isotype[i] <- \"IgA\"\n",
    "  } else (vquest$isotype[i] <- \"error\")\n",
    "}\n",
    "\n",
    "print(\"done\") #if evaluated\n",
    "```"
   ]
  },
  {
   "cell_type": "code",
   "execution_count": null,
   "id": "86039cfa",
   "metadata": {},
   "outputs": [],
   "source": []
  }
 ],
 "metadata": {
  "kernelspec": {
   "display_name": "Python 3 (ipykernel)",
   "language": "python",
   "name": "python3"
  },
  "language_info": {
   "codemirror_mode": {
    "name": "ipython",
    "version": 3
   },
   "file_extension": ".py",
   "mimetype": "text/x-python",
   "name": "python",
   "nbconvert_exporter": "python",
   "pygments_lexer": "ipython3",
   "version": "3.9.7"
  }
 },
 "nbformat": 4,
 "nbformat_minor": 5
}
