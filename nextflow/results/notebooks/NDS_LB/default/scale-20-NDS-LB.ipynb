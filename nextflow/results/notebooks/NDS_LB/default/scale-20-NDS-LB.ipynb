version https://git-lfs.github.com/spec/v1
oid sha256:56bba0bf7b4ddd9e7dfa9d401bc95d930b3646d2f537a7bebf440b3a6de85339
size 1892209
