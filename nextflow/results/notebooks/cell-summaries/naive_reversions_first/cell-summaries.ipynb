version https://git-lfs.github.com/spec/v1
oid sha256:5fd92af7153512a5fcc54d757f907709211e22575e67b2e28f7889a41f76df43
size 428100
