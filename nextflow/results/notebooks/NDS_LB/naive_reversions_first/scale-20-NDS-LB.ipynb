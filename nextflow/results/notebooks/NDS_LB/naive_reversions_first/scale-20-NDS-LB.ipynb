version https://git-lfs.github.com/spec/v1
oid sha256:3588565eafee4174276f738b1673a3f34b9ccef9bd9d047b678088e24fde51c5
size 2096124
