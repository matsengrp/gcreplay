{
 "cells": [
  {
   "cell_type": "code",
   "execution_count": 1,
   "id": "b1addfc0",
   "metadata": {},
   "outputs": [],
   "source": [
    "import glob\n",
    "import pickle\n",
    "import pandas as pd\n",
    "import numpy as np\n",
    "import seaborn as sns\n",
    "import matplotlib.pyplot as plt\n",
    "from matplotlib import cm\n",
    "from matplotlib.colors import Normalize"
   ]
  },
  {
   "cell_type": "code",
   "execution_count": 2,
   "id": "5d4495cc",
   "metadata": {},
   "outputs": [
    {
     "data": {
      "text/plain": [
       "'../nextflow/results/2022-04-01'"
      ]
     },
     "execution_count": 2,
     "metadata": {},
     "output_type": "execute_result"
    }
   ],
   "source": [
    "results = glob.glob(\"../nextflow/results/*\")[-1]\n",
    "results"
   ]
  },
  {
   "cell_type": "code",
   "execution_count": 3,
   "id": "f3433972",
   "metadata": {},
   "outputs": [
    {
     "name": "stdout",
     "output_type": "stream",
     "text": [
      "loaded 77 GC trees\n"
     ]
    }
   ],
   "source": [
    "def gc_key(file):\n",
    "    PR_str = file.split(\"/\")[-2].split(\"-\")\n",
    "    return int(PR_str[1]), int(PR_str[3])\n",
    "\n",
    "files = sorted(glob.glob(f\"{results}/gctrees/PR*/gctree.p\"), key=gc_key)\n",
    "trees = {\"_\".join(f\"{x}{y}\" for x, y in zip((\"mouse\", \"GC\"), gc_key(file))): pickle.load(open(file, \"rb\"))\n",
    "         for file in files}\n",
    "\n",
    "print(f\"loaded {len(trees)} GC trees\")"
   ]
  },
  {
   "cell_type": "code",
   "execution_count": 41,
   "id": "d6607330",
   "metadata": {
    "scrolled": false
   },
   "outputs": [
    {
     "name": "stdout",
     "output_type": "stream",
     "text": [
      "skipping 10-week mouse7_GC90\n",
      "skipping 10-week mouse7_GC91\n",
      "skipping 10-week mouse7_GC92\n",
      "skipping 10-week mouse7_GC93\n",
      "skipping 10-week mouse8_GC84\n",
      "skipping 10-week mouse8_GC85\n",
      "skipping 10-week mouse8_GC86\n",
      "skipping 10-week mouse8_GC87\n",
      "skipping 10-week mouse8_GC88\n",
      "skipping 10-week mouse8_GC89\n"
     ]
    },
    {
     "data": {
      "text/html": [
       "<div>\n",
       "<style scoped>\n",
       "    .dataframe tbody tr th:only-of-type {\n",
       "        vertical-align: middle;\n",
       "    }\n",
       "\n",
       "    .dataframe tbody tr th {\n",
       "        vertical-align: top;\n",
       "    }\n",
       "\n",
       "    .dataframe thead th {\n",
       "        text-align: right;\n",
       "    }\n",
       "</style>\n",
       "<table border=\"1\" class=\"dataframe\">\n",
       "  <thead>\n",
       "    <tr style=\"text-align: right;\">\n",
       "      <th></th>\n",
       "      <th>mouse</th>\n",
       "      <th>GC</th>\n",
       "      <th>total abundance</th>\n",
       "      <th>normalized dominance score</th>\n",
       "      <th>max LBI</th>\n",
       "      <th>max LBR</th>\n",
       "      <th>max polytomy degree</th>\n",
       "      <th>95th percentile delta_bind</th>\n",
       "      <th>median delta_bind</th>\n",
       "      <th>delta_bind of max LBI node</th>\n",
       "    </tr>\n",
       "  </thead>\n",
       "  <tbody>\n",
       "    <tr>\n",
       "      <th>0</th>\n",
       "      <td>1</td>\n",
       "      <td>1</td>\n",
       "      <td>89.0</td>\n",
       "      <td>0.932584</td>\n",
       "      <td>18.789397</td>\n",
       "      <td>4.572412</td>\n",
       "      <td>17.0</td>\n",
       "      <td>1.260416</td>\n",
       "      <td>1.124685</td>\n",
       "      <td>1.16671</td>\n",
       "    </tr>\n",
       "    <tr>\n",
       "      <th>1</th>\n",
       "      <td>1</td>\n",
       "      <td>2</td>\n",
       "      <td>72.0</td>\n",
       "      <td>0.958333</td>\n",
       "      <td>22.944806</td>\n",
       "      <td>10.325907</td>\n",
       "      <td>16.0</td>\n",
       "      <td>1.450151</td>\n",
       "      <td>0.427885</td>\n",
       "      <td>0.36112</td>\n",
       "    </tr>\n",
       "    <tr>\n",
       "      <th>2</th>\n",
       "      <td>1</td>\n",
       "      <td>3</td>\n",
       "      <td>84.0</td>\n",
       "      <td>0.833333</td>\n",
       "      <td>15.535093</td>\n",
       "      <td>11.257937</td>\n",
       "      <td>28.0</td>\n",
       "      <td>1.277015</td>\n",
       "      <td>0.907880</td>\n",
       "      <td>1.20081</td>\n",
       "    </tr>\n",
       "    <tr>\n",
       "      <th>3</th>\n",
       "      <td>1</td>\n",
       "      <td>4</td>\n",
       "      <td>75.0</td>\n",
       "      <td>0.626667</td>\n",
       "      <td>24.779330</td>\n",
       "      <td>3.565568</td>\n",
       "      <td>18.0</td>\n",
       "      <td>1.654111</td>\n",
       "      <td>0.823810</td>\n",
       "      <td>0.86025</td>\n",
       "    </tr>\n",
       "    <tr>\n",
       "      <th>4</th>\n",
       "      <td>1</td>\n",
       "      <td>5</td>\n",
       "      <td>84.0</td>\n",
       "      <td>0.785714</td>\n",
       "      <td>29.827268</td>\n",
       "      <td>6.591931</td>\n",
       "      <td>24.0</td>\n",
       "      <td>1.381599</td>\n",
       "      <td>0.506470</td>\n",
       "      <td>-0.67113</td>\n",
       "    </tr>\n",
       "    <tr>\n",
       "      <th>...</th>\n",
       "      <td>...</td>\n",
       "      <td>...</td>\n",
       "      <td>...</td>\n",
       "      <td>...</td>\n",
       "      <td>...</td>\n",
       "      <td>...</td>\n",
       "      <td>...</td>\n",
       "      <td>...</td>\n",
       "      <td>...</td>\n",
       "      <td>...</td>\n",
       "    </tr>\n",
       "    <tr>\n",
       "      <th>62</th>\n",
       "      <td>5</td>\n",
       "      <td>83</td>\n",
       "      <td>78.0</td>\n",
       "      <td>0.441558</td>\n",
       "      <td>23.506305</td>\n",
       "      <td>2.350931</td>\n",
       "      <td>21.0</td>\n",
       "      <td>1.196820</td>\n",
       "      <td>0.115775</td>\n",
       "      <td>1.19682</td>\n",
       "    </tr>\n",
       "    <tr>\n",
       "      <th>63</th>\n",
       "      <td>6</td>\n",
       "      <td>74</td>\n",
       "      <td>78.0</td>\n",
       "      <td>0.884615</td>\n",
       "      <td>23.935277</td>\n",
       "      <td>9.933529</td>\n",
       "      <td>24.0</td>\n",
       "      <td>1.395440</td>\n",
       "      <td>0.557385</td>\n",
       "      <td>1.20747</td>\n",
       "    </tr>\n",
       "    <tr>\n",
       "      <th>64</th>\n",
       "      <td>6</td>\n",
       "      <td>75</td>\n",
       "      <td>70.0</td>\n",
       "      <td>0.971429</td>\n",
       "      <td>25.611653</td>\n",
       "      <td>4.754441</td>\n",
       "      <td>14.0</td>\n",
       "      <td>1.171988</td>\n",
       "      <td>0.282890</td>\n",
       "      <td>0.33100</td>\n",
       "    </tr>\n",
       "    <tr>\n",
       "      <th>65</th>\n",
       "      <td>6</td>\n",
       "      <td>76</td>\n",
       "      <td>81.0</td>\n",
       "      <td>0.592593</td>\n",
       "      <td>17.765943</td>\n",
       "      <td>8.617168</td>\n",
       "      <td>16.0</td>\n",
       "      <td>1.077752</td>\n",
       "      <td>0.321495</td>\n",
       "      <td>0.68784</td>\n",
       "    </tr>\n",
       "    <tr>\n",
       "      <th>66</th>\n",
       "      <td>6</td>\n",
       "      <td>77</td>\n",
       "      <td>76.0</td>\n",
       "      <td>0.407895</td>\n",
       "      <td>14.767958</td>\n",
       "      <td>3.538172</td>\n",
       "      <td>10.0</td>\n",
       "      <td>1.236883</td>\n",
       "      <td>0.331000</td>\n",
       "      <td>0.76696</td>\n",
       "    </tr>\n",
       "  </tbody>\n",
       "</table>\n",
       "<p>67 rows × 10 columns</p>\n",
       "</div>"
      ],
      "text/plain": [
       "   mouse  GC  total abundance  normalized dominance score    max LBI  \\\n",
       "0      1   1             89.0                    0.932584  18.789397   \n",
       "1      1   2             72.0                    0.958333  22.944806   \n",
       "2      1   3             84.0                    0.833333  15.535093   \n",
       "3      1   4             75.0                    0.626667  24.779330   \n",
       "4      1   5             84.0                    0.785714  29.827268   \n",
       "..   ...  ..              ...                         ...        ...   \n",
       "62     5  83             78.0                    0.441558  23.506305   \n",
       "63     6  74             78.0                    0.884615  23.935277   \n",
       "64     6  75             70.0                    0.971429  25.611653   \n",
       "65     6  76             81.0                    0.592593  17.765943   \n",
       "66     6  77             76.0                    0.407895  14.767958   \n",
       "\n",
       "      max LBR  max polytomy degree  95th percentile delta_bind  \\\n",
       "0    4.572412                 17.0                    1.260416   \n",
       "1   10.325907                 16.0                    1.450151   \n",
       "2   11.257937                 28.0                    1.277015   \n",
       "3    3.565568                 18.0                    1.654111   \n",
       "4    6.591931                 24.0                    1.381599   \n",
       "..        ...                  ...                         ...   \n",
       "62   2.350931                 21.0                    1.196820   \n",
       "63   9.933529                 24.0                    1.395440   \n",
       "64   4.754441                 14.0                    1.171988   \n",
       "65   8.617168                 16.0                    1.077752   \n",
       "66   3.538172                 10.0                    1.236883   \n",
       "\n",
       "    median delta_bind  delta_bind of max LBI node  \n",
       "0            1.124685                     1.16671  \n",
       "1            0.427885                     0.36112  \n",
       "2            0.907880                     1.20081  \n",
       "3            0.823810                     0.86025  \n",
       "4            0.506470                    -0.67113  \n",
       "..                ...                         ...  \n",
       "62           0.115775                     1.19682  \n",
       "63           0.557385                     1.20747  \n",
       "64           0.282890                     0.33100  \n",
       "65           0.321495                     0.68784  \n",
       "66           0.331000                     0.76696  \n",
       "\n",
       "[67 rows x 10 columns]"
      ]
     },
     "execution_count": 41,
     "metadata": {},
     "output_type": "execute_result"
    }
   ],
   "source": [
    "df = pd.DataFrame()\n",
    "\n",
    "for row, (mouse_gc, tree) in enumerate(trees.items()):\n",
    "    mouse, gc = mouse_gc.split(\"_\")\n",
    "    mouse = mouse.lstrip(\"mouse\")\n",
    "    \n",
    "    # polytomy degree as simple branching metric\n",
    "    for node in tree.tree.traverse():\n",
    "        node.add_feature(\"log10_polytomy_degree\", np.log10(len(node.children) + node.abundance))\n",
    "    \n",
    "    if mouse in (\"7\", \"8\"):\n",
    "        print(f\"skipping 10-week {mouse_gc}\")\n",
    "        continue\n",
    "    \n",
    "    gc = gc.lstrip(\"GC\")\n",
    "    df.loc[row, \"mouse\"] = mouse\n",
    "    df.loc[row, \"GC\"] = gc\n",
    "    \n",
    "    abundances = np.array([node.abundance for node in tree.tree.traverse()])\n",
    "\n",
    "    clade_sizes = [sum(node.abundance for node in child.traverse()) for child in tree.tree.children]\n",
    "    df.loc[row, \"total abundance\"] = sum(abundances)\n",
    "    df.loc[row, \"normalized dominance score\"] = max(clade_sizes) / sum(clade_sizes)\n",
    "\n",
    "    df.loc[row, \"max LBI\"] = np.nanmax([node.LBI for node in tree.tree.traverse()])    \n",
    "    df.loc[row, \"max LBR\"] = np.nanmax([node.LBR for node in tree.tree.traverse()])\n",
    "\n",
    "    df.loc[row, \"max polytomy degree\"] = np.nanmax([10 ** node.log10_polytomy_degree for node in tree.tree.traverse()])\n",
    "\n",
    "    # note: additive delta_bind for now\n",
    "    delta_bind_dat = []\n",
    "    for node in tree.tree.traverse():\n",
    "        if not np.isnan(node.delta_bind):\n",
    "            for _ in range(node.abundance):\n",
    "                delta_bind_dat.append(node.delta_bind)\n",
    "    df.loc[row, \"95th percentile delta_bind\"] = np.percentile(delta_bind_dat, 95)\n",
    "    df.loc[row, \"median delta_bind\"] = np.nanmedian(delta_bind_dat)\n",
    "\n",
    "    max_lbi_idx = np.nanargmax([node.LBR for node in tree.tree.traverse()])\n",
    "    df.loc[row, \"delta_bind of max LBI node\"] = [node.delta_bind for node in tree.tree.traverse()][max_lbi_idx]\n",
    "    \n",
    "df"
   ]
  },
  {
   "cell_type": "code",
   "execution_count": 7,
   "id": "26b77944",
   "metadata": {},
   "outputs": [
    {
     "data": {
      "image/png": "[encoded data removed]",
      "text/plain": [
       "<Figure size 1440x360 with 1 Axes>"
      ]
     },
     "metadata": {
      "needs_background": "light"
     },
     "output_type": "display_data"
    }
   ],
   "source": [
    "plt.figure(figsize=(20, 5))\n",
    "sns.barplot(data=df.sort_values(\"total abundance\"), x=\"GC\", y=\"total abundance\", color=\"grey\")\n",
    "plt.show()"
   ]
  },
  {
   "cell_type": "code",
   "execution_count": 10,
   "id": "446abea2",
   "metadata": {},
   "outputs": [
    {
     "data": {
      "image/png": "[encoded data removed]",
      "text/plain": [
       "<Figure size 360x432 with 1 Axes>"
      ]
     },
     "metadata": {
      "needs_background": "light"
     },
     "output_type": "display_data"
    },
    {
     "data": {
      "image/png": "[encoded data removed]",
      "text/plain": [
       "<Figure size 432x288 with 1 Axes>"
      ]
     },
     "metadata": {
      "needs_background": "light"
     },
     "output_type": "display_data"
    }
   ],
   "source": [
    "cmap = \"PuRd\"\n",
    "vmin = 0\n",
    "vmax = 30\n",
    "\n",
    "fig = plt.figure(figsize=(5, 6))\n",
    "sns.scatterplot(data=df, x=\"normalized dominance score\", y=\"max LBI\", hue=\"mouse\", clip_on=False)\n",
    "for i, row in df.iterrows():\n",
    "    x, y = row[[\"normalized dominance score\", \"max LBI\"]]\n",
    "    if (x == 1 and (y > 45 or y < 13)) or x < 0.3 or ((.7 < x < .75) and (19 < y < 21)):\n",
    "        plt.annotate(f\"GC{row.GC}\", [x, y])\n",
    "        key = f\"mouse{row.mouse}_GC{row.GC}\"\n",
    "        colormap = trees[key].feature_colormap(\"LBI\", vmin=vmin, vmax=vmax, cmap=cmap)\n",
    "        trees[key].render(f\"output/plots/NDS_LBI.{key}.svg\", colormap=colormap, scale=20, branch_margin=-8)\n",
    "plt.tight_layout()\n",
    "plt.savefig(\"output/plots/NDS_LBI.pdf\")\n",
    "plt.show()\n",
    "\n",
    "fig = plt.figure()\n",
    "cax = fig.add_axes([0.85, 0.15, 0.05, 0.7])\n",
    "plt.colorbar(cm.ScalarMappable(cmap=cmap, norm=Normalize(vmin=vmin, vmax=vmax)), cax=cax, label=\"LBI\")\n",
    "plt.savefig(\"output/plots/NDS_LBI.cbar.pdf\")\n",
    "plt.show()"
   ]
  },
  {
   "cell_type": "code",
   "execution_count": 21,
   "id": "e00085bc",
   "metadata": {},
   "outputs": [
    {
     "data": {
      "image/png": "[encoded data removed]",
      "text/plain": [
       "<Figure size 360x432 with 1 Axes>"
      ]
     },
     "metadata": {
      "needs_background": "light"
     },
     "output_type": "display_data"
    },
    {
     "data": {
      "image/png": "[encoded data removed]",
      "text/plain": [
       "<Figure size 432x288 with 1 Axes>"
      ]
     },
     "metadata": {
      "needs_background": "light"
     },
     "output_type": "display_data"
    }
   ],
   "source": [
    "cmap = \"coolwarm_r\"\n",
    "vmin = -2\n",
    "vmax = 2\n",
    "\n",
    "fig = plt.figure(figsize=(5, 6))\n",
    "plt.scatter(x=df[\"normalized dominance score\"], y=df[\"max LBI\"],\n",
    "                c=df[\"95th percentile delta_bind\"],\n",
    "#                 c=df[\"median delta_bind\"],\n",
    "#                 c=df[\"delta_bind of max LBI node\"],\n",
    "                cmap=\"coolwarm_r\", vmin=vmin, vmax=vmax, clip_on=False)\n",
    "for i, row in df.iterrows():\n",
    "    x, y = row[[\"normalized dominance score\", \"max LBI\"]]\n",
    "    if (x == 1 and (y > 45 or y < 13)) or x < 0.3 or ((.7 < x < .75) and (19 < y < 21)):\n",
    "        plt.annotate(f\"GC{row.GC}\", [x, y])\n",
    "        key = f\"mouse{row.mouse}_GC{row.GC}\"\n",
    "        colormap = trees[key].feature_colormap(\"delta_bind\", vmin=vmin, vmax=vmax, cmap=cmap)\n",
    "        trees[key].render(f\"output/plots/NDS_LBI.{key}.binding.svg\", colormap=colormap, scale=20, branch_margin=-8)\n",
    "\n",
    "plt.xlabel(\"normalized dominance score\")\n",
    "plt.ylabel(\"maximum local branching index\")\n",
    "plt.tight_layout()\n",
    "plt.savefig(\"output/plots/NDS_LBI.binding.pdf\")\n",
    "plt.show()\n",
    "\n",
    "fig = plt.figure()\n",
    "cax = fig.add_axes([0.85, 0.15, 0.05, 0.7])\n",
    "plt.colorbar(cm.ScalarMappable(cmap=cmap, norm=Normalize(vmin=vmin, vmax=vmax)), cax=cax, label=\"delta_bind\")\n",
    "plt.savefig(\"output/plots/NDS_LBI.cbar.binding.pdf\")\n",
    "plt.show()"
   ]
  },
  {
   "cell_type": "code",
   "execution_count": 43,
   "id": "f491b478",
   "metadata": {},
   "outputs": [
    {
     "data": {
      "image/png": "[encoded data removed]",
      "text/plain": [
       "<Figure size 1440x360 with 1 Axes>"
      ]
     },
     "metadata": {
      "needs_background": "light"
     },
     "output_type": "display_data"
    }
   ],
   "source": [
    "plt.figure(figsize=(20, 5))\n",
    "sns.barplot(data=df.sort_values(\"max polytomy degree\", ascending=False), x=\"GC\", y=\"max polytomy degree\", color=\"grey\")\n",
    "plt.savefig(\"output/plots/NDS_LBI.polytomy_degree_barplot.pdf\")\n",
    "plt.show()"
   ]
  },
  {
   "cell_type": "code",
   "execution_count": 45,
   "id": "30b11161",
   "metadata": {
    "scrolled": false
   },
   "outputs": [],
   "source": [
    "vmin=0\n",
    "vmax=2\n",
    "cmap=\"plasma\"\n",
    "\n",
    "for key, tree in trees.items():\n",
    "    if \"GC70\" in key or \"GC17\" in key or \"GC64\" in key:\n",
    "        colormap = tree.feature_colormap(\"log10_polytomy_degree\", vmin=vmin, vmax=vmax, cmap=cmap)\n",
    "        tree.render(f\"output/plots/NDS_LBI.{key}.polytomy_degree.svg\", colormap=colormap, scale=20, branch_margin=-8)"
   ]
  },
  {
   "cell_type": "code",
   "execution_count": 44,
   "id": "45716b04",
   "metadata": {},
   "outputs": [
    {
     "data": {
      "image/png": "[encoded data removed]",
      "text/plain": [
       "<Figure size 432x288 with 1 Axes>"
      ]
     },
     "metadata": {
      "needs_background": "light"
     },
     "output_type": "display_data"
    }
   ],
   "source": [
    "fig = plt.figure()\n",
    "cax = fig.add_axes([0.85, 0.15, 0.05, 0.7])\n",
    "plt.colorbar(cm.ScalarMappable(cmap=cmap, norm=Normalize(vmin=vmin, vmax=vmax)), cax=cax, label=r\"$\\log_{10}$ polytomy degree\")\n",
    "plt.savefig(\"output/plots/NDS_LBI.cbar.polytomy_degree.pdf\")\n",
    "plt.show()"
   ]
  },
  {
   "cell_type": "code",
   "execution_count": null,
   "id": "45eee747",
   "metadata": {},
   "outputs": [],
   "source": []
  }
 ],
 "metadata": {
  "kernelspec": {
   "display_name": "Python 3 (ipykernel)",
   "language": "python",
   "name": "python3"
  },
  "language_info": {
   "codemirror_mode": {
    "name": "ipython",
    "version": 3
   },
   "file_extension": ".py",
   "mimetype": "text/x-python",
   "name": "python",
   "nbconvert_exporter": "python",
   "pygments_lexer": "ipython3",
   "version": "3.9.7"
  }
 },
 "nbformat": 4,
 "nbformat_minor": 5
}
