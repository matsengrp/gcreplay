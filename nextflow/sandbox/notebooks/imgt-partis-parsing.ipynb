{
 "cells": [
  {
   "cell_type": "markdown",
   "id": "e35fe183",
   "metadata": {},
   "source": [
    "# IMGT - PARTIS annotation comparison\n",
    "\n",
    "In this notebook we will look at some summary stats of the IMGT output provided by Tatsuya and the equivilent output by partis "
   ]
  },
  {
   "cell_type": "code",
   "execution_count": 234,
   "id": "3fa34a23",
   "metadata": {},
   "outputs": [],
   "source": [
    "import numpy as np\n",
    "import pandas as pd\n",
    "import matplotlib.pyplot as plt\n",
    "from plotnine import *"
   ]
  },
  {
   "cell_type": "code",
   "execution_count": 235,
   "id": "13636139",
   "metadata": {},
   "outputs": [],
   "source": [
    "def translate(seq):\n",
    "    \"\"\"super simple translation function for sanity checks - doesn't care if len(seq)%3!=0\"\"\"\n",
    "    table = {\n",
    "        'ATA':'I', 'ATC':'I', 'ATT':'I', 'ATG':'M',\n",
    "        'ACA':'T', 'ACC':'T', 'ACG':'T', 'ACT':'T',\n",
    "        'AAC':'N', 'AAT':'N', 'AAA':'K', 'AAG':'K',\n",
    "        'AGC':'S', 'AGT':'S', 'AGA':'R', 'AGG':'R',                \n",
    "        'CTA':'L', 'CTC':'L', 'CTG':'L', 'CTT':'L',\n",
    "        'CCA':'P', 'CCC':'P', 'CCG':'P', 'CCT':'P',\n",
    "        'CAC':'H', 'CAT':'H', 'CAA':'Q', 'CAG':'Q',\n",
    "        'CGA':'R', 'CGC':'R', 'CGG':'R', 'CGT':'R',\n",
    "        'GTA':'V', 'GTC':'V', 'GTG':'V', 'GTT':'V',\n",
    "        'GCA':'A', 'GCC':'A', 'GCG':'A', 'GCT':'A',\n",
    "        'GAC':'D', 'GAT':'D', 'GAA':'E', 'GAG':'E',\n",
    "        'GGA':'G', 'GGC':'G', 'GGG':'G', 'GGT':'G',\n",
    "        'TCA':'S', 'TCC':'S', 'TCG':'S', 'TCT':'S',\n",
    "        'TTC':'F', 'TTT':'F', 'TTA':'L', 'TTG':'L',\n",
    "        'TAC':'Y', 'TAT':'Y', 'TAA':'*', 'TAG':'*',\n",
    "        'TGC':'C', 'TGT':'C', 'TGA':'*', 'TGG':'W',\n",
    "    }\n",
    "    protein =\"\"\n",
    "#     if len(seq)%3 == 0:\n",
    "    for i in range(0, len(seq), 3):\n",
    "        codon = seq[i:i + 3]\n",
    "        if \"N\" in codon:\n",
    "            print(\"FOUND A NNNNN!\")\n",
    "            break\n",
    "        if len(codon) == 3:\n",
    "            protein+= table[codon]\n",
    "    return protein"
   ]
  },
  {
   "cell_type": "code",
   "execution_count": 236,
   "id": "9c7ef1c0",
   "metadata": {},
   "outputs": [
    {
     "name": "stdout",
     "output_type": "stream",
     "text": [
      "GAG\n",
      "GTG\n",
      "C\n"
     ]
    }
   ],
   "source": [
    "seq = \"GAGGTGC\"\n",
    "for i in range(0, len(seq), 3):\n",
    "    print(seq[i:i + 3])"
   ]
  },
  {
   "cell_type": "markdown",
   "id": "d3989c7e",
   "metadata": {},
   "source": [
    "# IMGT\n",
    "\n",
    "Data that came from tatsuya doing the demultiplexing and counting \"by hand\" then annoating using high vquest IMGT tool. We'll be following along with the original steps done in the r markdown for 1.6\n",
    "\n",
    "### Database generation\n",
    "\n",
    "* Raw file is an output of the IMGT's high-vquest. Make sure to export AIRR format as well, to make processing simpler (i.e. less files to import for simplicity).\n",
    "\n",
    "* Process both IgH and IgK at the same time as per PCR strategy."
   ]
  },
  {
   "cell_type": "markdown",
   "id": "79a2365e",
   "metadata": {},
   "source": [
    "### Read high vquest files (AIRR,7,8,9)"
   ]
  },
  {
   "cell_type": "markdown",
   "id": "15276c46",
   "metadata": {},
   "source": [
    "\n",
    "```{r read data}\n",
    "IMGT_OUT <- \"/home/jared/MatsenGroup/Projects/gc/gcreplay/nextflow/sandbox/2022-01-16-tatsuya-bioinformatics/PR1_6_IMGT_OUT/\"\n",
    "airr <- read_tsv(paste(IMGT_OUT, \"vquest_airr.tsv\", sep=\"\"))\n",
    "change <- read_tsv(paste(IMGT_OUT ,\"7_V-REGION-mutation-and-AA-change-table.txt\", sep=\"\"))\n",
    "ntmut <- read_tsv(paste(IMGT_OUT, \"8_V-REGION-nt-mutation-statistics.txt\", sep=\"\"))\n",
    "aamut <- read_tsv(paste(IMGT_OUT, \"9_V-REGION-AA-change-statistics.txt\", sep=\"\"))\n",
    "print(\"done\")\n",
    "```"
   ]
  },
  {
   "cell_type": "code",
   "execution_count": 237,
   "id": "7a415b68",
   "metadata": {},
   "outputs": [
    {
     "name": "stderr",
     "output_type": "stream",
     "text": [
      "/home/jared/miniconda3/envs/gcreplay/lib/python3.9/site-packages/IPython/core/interactiveshell.py:3457: DtypeWarning: Columns (11,18,20,94,95,97,99,107,119,126,128) have mixed types.Specify dtype option on import or set low_memory=False.\n"
     ]
    }
   ],
   "source": [
    "imgt_path = \"../2022-01-16-tatsuya-bioinformatics/PR1_6_IMGT_OUT/\"\n",
    "# airr \n",
    "imgt_airr = pd.read_csv(imgt_path+\"vquest_airr_patch.tsv\", sep=\"\\t\")\n",
    "imgt_change = pd.read_csv(imgt_path+\"7_V-REGION-mutation-and-AA-change-table.txt\", sep=\"\\t\")\n",
    "imgt_ntmut = pd.read_csv(imgt_path+\"8_V-REGION-nt-mutation-statistics.txt\", sep=\"\\t\")\n",
    "imgt_aamut = pd.read_csv(imgt_path+\"9_V-REGION-AA-change-statistics.txt\", sep=\"\\t\")"
   ]
  },
  {
   "cell_type": "code",
   "execution_count": 238,
   "id": "9741c1c7",
   "metadata": {},
   "outputs": [
    {
     "name": "stdout",
     "output_type": "stream",
     "text": [
      "There are 5287 total sequences identified by tatsuya + imgt annotation\n"
     ]
    }
   ],
   "source": [
    "print(f\"There are {imgt_airr.shape[0]} total sequences identified by tatsuya + imgt annotation\")"
   ]
  },
  {
   "cell_type": "code",
   "execution_count": 239,
   "id": "7cff3d7c",
   "metadata": {},
   "outputs": [
    {
     "data": {
      "text/html": [
       "<div>\n",
       "<style scoped>\n",
       "    .dataframe tbody tr th:only-of-type {\n",
       "        vertical-align: middle;\n",
       "    }\n",
       "\n",
       "    .dataframe tbody tr th {\n",
       "        vertical-align: top;\n",
       "    }\n",
       "\n",
       "    .dataframe thead th {\n",
       "        text-align: right;\n",
       "    }\n",
       "</style>\n",
       "<table border=\"1\" class=\"dataframe\">\n",
       "  <thead>\n",
       "    <tr style=\"text-align: right;\">\n",
       "      <th></th>\n",
       "      <th>sequence_id</th>\n",
       "      <th>sequence</th>\n",
       "      <th>sequence_aa</th>\n",
       "      <th>rev_comp</th>\n",
       "      <th>productive</th>\n",
       "      <th>complete_vdj</th>\n",
       "      <th>vj_in_frame</th>\n",
       "      <th>stop_codon</th>\n",
       "      <th>locus</th>\n",
       "      <th>v_call</th>\n",
       "      <th>...</th>\n",
       "      <th>rearrangement_id</th>\n",
       "      <th>repertoire_id</th>\n",
       "      <th>rearrangement_set_id</th>\n",
       "      <th>sequence_analysis_category</th>\n",
       "      <th>d_number</th>\n",
       "      <th>5prime_trimmed_n_nb</th>\n",
       "      <th>3prime_trimmed_n_nb</th>\n",
       "      <th>insertions</th>\n",
       "      <th>deletions</th>\n",
       "      <th>junction_decryption</th>\n",
       "    </tr>\n",
       "  </thead>\n",
       "  <tbody>\n",
       "    <tr>\n",
       "      <th>0</th>\n",
       "      <td>211210P01A01H_1-1</td>\n",
       "      <td>gaggtgcagcttcaggagtcaggacctagcctcgtgaaaccttctc...</td>\n",
       "      <td>NaN</td>\n",
       "      <td>F</td>\n",
       "      <td>T</td>\n",
       "      <td>T</td>\n",
       "      <td>T</td>\n",
       "      <td>F</td>\n",
       "      <td>IGH</td>\n",
       "      <td>Musmus IGHV3-8*02 F</td>\n",
       "      <td>...</td>\n",
       "      <td>NaN</td>\n",
       "      <td>NaN</td>\n",
       "      <td>NaN</td>\n",
       "      <td>2 (indelcorr)</td>\n",
       "      <td>0.0</td>\n",
       "      <td>0.0</td>\n",
       "      <td>0.0</td>\n",
       "      <td>NaN</td>\n",
       "      <td>NaN</td>\n",
       "      <td>(8)-3{2}-8(14)</td>\n",
       "    </tr>\n",
       "    <tr>\n",
       "      <th>1</th>\n",
       "      <td>211210P01A01H_2-1</td>\n",
       "      <td>gaggtgcagcttcaggagtcaggacctagcctcgtgaaaccttctc...</td>\n",
       "      <td>NaN</td>\n",
       "      <td>F</td>\n",
       "      <td>T</td>\n",
       "      <td>T</td>\n",
       "      <td>T</td>\n",
       "      <td>F</td>\n",
       "      <td>IGH</td>\n",
       "      <td>Musmus IGHV3-8*02 F</td>\n",
       "      <td>...</td>\n",
       "      <td>NaN</td>\n",
       "      <td>NaN</td>\n",
       "      <td>NaN</td>\n",
       "      <td>2 (indelcorr)</td>\n",
       "      <td>0.0</td>\n",
       "      <td>0.0</td>\n",
       "      <td>0.0</td>\n",
       "      <td>NaN</td>\n",
       "      <td>NaN</td>\n",
       "      <td>(8)-3{2}-8(14)</td>\n",
       "    </tr>\n",
       "    <tr>\n",
       "      <th>2</th>\n",
       "      <td>211210P01A02H_1-1</td>\n",
       "      <td>gaggtgcagcttcaggagtcaggacctagcctcgtgaaaccttctc...</td>\n",
       "      <td>NaN</td>\n",
       "      <td>F</td>\n",
       "      <td>T</td>\n",
       "      <td>T</td>\n",
       "      <td>T</td>\n",
       "      <td>F</td>\n",
       "      <td>IGH</td>\n",
       "      <td>Musmus IGHV3-8*02 F</td>\n",
       "      <td>...</td>\n",
       "      <td>NaN</td>\n",
       "      <td>NaN</td>\n",
       "      <td>NaN</td>\n",
       "      <td>2 (indelcorr)</td>\n",
       "      <td>0.0</td>\n",
       "      <td>0.0</td>\n",
       "      <td>0.0</td>\n",
       "      <td>NaN</td>\n",
       "      <td>NaN</td>\n",
       "      <td>(8)-3{2}-8(14)</td>\n",
       "    </tr>\n",
       "    <tr>\n",
       "      <th>3</th>\n",
       "      <td>211210P01A02H_2-1</td>\n",
       "      <td>gaggtgcagcttcaggagtcaggacctagcctcgtgaaaccttctc...</td>\n",
       "      <td>NaN</td>\n",
       "      <td>F</td>\n",
       "      <td>T</td>\n",
       "      <td>T</td>\n",
       "      <td>T</td>\n",
       "      <td>F</td>\n",
       "      <td>IGH</td>\n",
       "      <td>Musmus IGHV3-8*02 F</td>\n",
       "      <td>...</td>\n",
       "      <td>NaN</td>\n",
       "      <td>NaN</td>\n",
       "      <td>NaN</td>\n",
       "      <td>2 (indelcorr)</td>\n",
       "      <td>0.0</td>\n",
       "      <td>0.0</td>\n",
       "      <td>0.0</td>\n",
       "      <td>NaN</td>\n",
       "      <td>NaN</td>\n",
       "      <td>(8)-3{2}-8(14)</td>\n",
       "    </tr>\n",
       "    <tr>\n",
       "      <th>4</th>\n",
       "      <td>211210P01A02K_1-1</td>\n",
       "      <td>acctgcgacgggagttcacagactgcaaccggtgtacattccgagg...</td>\n",
       "      <td>NaN</td>\n",
       "      <td>F</td>\n",
       "      <td>T</td>\n",
       "      <td>T</td>\n",
       "      <td>T</td>\n",
       "      <td>F</td>\n",
       "      <td>IGH</td>\n",
       "      <td>Musmus IGHV3-8*02 F</td>\n",
       "      <td>...</td>\n",
       "      <td>NaN</td>\n",
       "      <td>NaN</td>\n",
       "      <td>NaN</td>\n",
       "      <td>2 (indelcorr)</td>\n",
       "      <td>0.0</td>\n",
       "      <td>0.0</td>\n",
       "      <td>0.0</td>\n",
       "      <td>NaN</td>\n",
       "      <td>NaN</td>\n",
       "      <td>(8)-3{2}-8(14)</td>\n",
       "    </tr>\n",
       "  </tbody>\n",
       "</table>\n",
       "<p>5 rows × 125 columns</p>\n",
       "</div>"
      ],
      "text/plain": [
       "         sequence_id                                           sequence  \\\n",
       "0  211210P01A01H_1-1  gaggtgcagcttcaggagtcaggacctagcctcgtgaaaccttctc...   \n",
       "1  211210P01A01H_2-1  gaggtgcagcttcaggagtcaggacctagcctcgtgaaaccttctc...   \n",
       "2  211210P01A02H_1-1  gaggtgcagcttcaggagtcaggacctagcctcgtgaaaccttctc...   \n",
       "3  211210P01A02H_2-1  gaggtgcagcttcaggagtcaggacctagcctcgtgaaaccttctc...   \n",
       "4  211210P01A02K_1-1  acctgcgacgggagttcacagactgcaaccggtgtacattccgagg...   \n",
       "\n",
       "   sequence_aa rev_comp productive complete_vdj vj_in_frame stop_codon locus  \\\n",
       "0          NaN        F          T            T           T          F   IGH   \n",
       "1          NaN        F          T            T           T          F   IGH   \n",
       "2          NaN        F          T            T           T          F   IGH   \n",
       "3          NaN        F          T            T           T          F   IGH   \n",
       "4          NaN        F          T            T           T          F   IGH   \n",
       "\n",
       "                v_call  ... rearrangement_id repertoire_id  \\\n",
       "0  Musmus IGHV3-8*02 F  ...              NaN           NaN   \n",
       "1  Musmus IGHV3-8*02 F  ...              NaN           NaN   \n",
       "2  Musmus IGHV3-8*02 F  ...              NaN           NaN   \n",
       "3  Musmus IGHV3-8*02 F  ...              NaN           NaN   \n",
       "4  Musmus IGHV3-8*02 F  ...              NaN           NaN   \n",
       "\n",
       "   rearrangement_set_id sequence_analysis_category d_number  \\\n",
       "0                   NaN              2 (indelcorr)      0.0   \n",
       "1                   NaN              2 (indelcorr)      0.0   \n",
       "2                   NaN              2 (indelcorr)      0.0   \n",
       "3                   NaN              2 (indelcorr)      0.0   \n",
       "4                   NaN              2 (indelcorr)      0.0   \n",
       "\n",
       "  5prime_trimmed_n_nb 3prime_trimmed_n_nb insertions deletions  \\\n",
       "0                 0.0                 0.0        NaN       NaN   \n",
       "1                 0.0                 0.0        NaN       NaN   \n",
       "2                 0.0                 0.0        NaN       NaN   \n",
       "3                 0.0                 0.0        NaN       NaN   \n",
       "4                 0.0                 0.0        NaN       NaN   \n",
       "\n",
       "  junction_decryption  \n",
       "0      (8)-3{2}-8(14)  \n",
       "1      (8)-3{2}-8(14)  \n",
       "2      (8)-3{2}-8(14)  \n",
       "3      (8)-3{2}-8(14)  \n",
       "4      (8)-3{2}-8(14)  \n",
       "\n",
       "[5 rows x 125 columns]"
      ]
     },
     "execution_count": 239,
     "metadata": {},
     "output_type": "execute_result"
    }
   ],
   "source": [
    "imgt_airr.head()"
   ]
  },
  {
   "cell_type": "markdown",
   "id": "d4a9b483",
   "metadata": {},
   "source": [
    "### Assemble V(D)J nt/aa seq in AIRR"
   ]
  },
  {
   "cell_type": "markdown",
   "id": "24b60982",
   "metadata": {},
   "source": [
    "```{r airr preprocessing}\n",
    "# assemble V(D)J nt and aa sequences in airr from components for gctree\n",
    "airr <- airr %>% \n",
    "  mutate(seq_nt = paste(fwr1, cdr1, fwr2, cdr2, fwr3, cdr3, fwr4, sep = \"\")) %>% \n",
    "  mutate(seq_aa = paste(fwr1_aa, cdr1_aa, fwr2_aa, cdr2_aa,\n",
    "                        fwr3_aa, cdr3_aa, fwr4_aa, sep = \"\"))\n",
    "print(\"done\")\n",
    "```"
   ]
  },
  {
   "cell_type": "code",
   "execution_count": 240,
   "id": "ff834434",
   "metadata": {},
   "outputs": [
    {
     "name": "stdout",
     "output_type": "stream",
     "text": [
      "<class 'pandas.core.frame.DataFrame'>\n",
      "RangeIndex: 5287 entries, 0 to 5286\n",
      "Data columns (total 7 columns):\n",
      " #   Column  Non-Null Count  Dtype \n",
      "---  ------  --------------  ----- \n",
      " 0   fwr1    4850 non-null   object\n",
      " 1   cdr1    4828 non-null   object\n",
      " 2   fwr2    4803 non-null   object\n",
      " 3   cdr2    4803 non-null   object\n",
      " 4   fwr3    4853 non-null   object\n",
      " 5   cdr3    4756 non-null   object\n",
      " 6   fwr4    4703 non-null   object\n",
      "dtypes: object(7)\n",
      "memory usage: 289.3+ KB\n"
     ]
    }
   ],
   "source": [
    "imgt_airr[['fwr1', 'cdr1', 'fwr2', 'cdr2', 'fwr3', 'cdr3', 'fwr4']].info()"
   ]
  },
  {
   "cell_type": "code",
   "execution_count": 241,
   "id": "6737542f",
   "metadata": {
    "scrolled": true
   },
   "outputs": [],
   "source": [
    "imgt_airr['seq_nt'] = imgt_airr[['fwr1', 'cdr1', 'fwr2', 'cdr2', 'fwr3', 'cdr3', 'fwr4']].fillna(\"\").agg(''.join, axis=1)\n",
    "imgt_airr['seq_aa'] = imgt_airr[['fwr1_aa', 'cdr1_aa', 'fwr2_aa', 'cdr2_aa', 'fwr3_aa', 'cdr3_aa', 'fwr4_aa']].fillna(\"\").agg(''.join, axis=1)\n",
    "imgt_airr[\"seq_nt_lens\"] = [len(seq) for seq in imgt_airr[\"seq_nt\"].values]\n",
    "imgt_airr[\"seq_aa_lens\"] = [len(seq) for seq in imgt_airr[\"seq_aa\"].values]"
   ]
  },
  {
   "cell_type": "code",
   "execution_count": 320,
   "id": "b0ad794b",
   "metadata": {},
   "outputs": [
    {
     "data": {
      "text/plain": [
       "0              211210P01A01H_1-1\n",
       "1              211210P01A01H_2-1\n",
       "2              211210P01A02H_1-1\n",
       "3              211210P01A02H_2-1\n",
       "4              211210P01A02K_1-1\n",
       "                  ...           \n",
       "5282     211210P16unmatchedH_2-4\n",
       "5283     211210P16unmatchedH_3-4\n",
       "5284    211210P16unmatchedK_1-33\n",
       "5285    211210P16unmatchedK_2-25\n",
       "5286    211210P16unmatchedK_3-19\n",
       "Name: sequence_id, Length: 5287, dtype: object"
      ]
     },
     "execution_count": 320,
     "metadata": {},
     "output_type": "execute_result"
    }
   ],
   "source": [
    "imgt_airr[\"sequence_id\"]"
   ]
  },
  {
   "cell_type": "markdown",
   "id": "0c26ef6c",
   "metadata": {},
   "source": [
    "**After this, the following steps are performed in R to get all the necessary data organized into one place**"
   ]
  },
  {
   "cell_type": "markdown",
   "id": "d4c24e6e",
   "metadata": {},
   "source": [
    "### Compile/rename all data into one tibble\n",
    "\n",
    "```{r data compilation, echo=TRUE}\n",
    "vquest <- airr %>% \n",
    "  select(ID = \"sequence_id\", \n",
    "         locus = \"locus\",\n",
    "         V = \"v_call\",\n",
    "         D = \"d_call\",\n",
    "         J = \"j_call\",\n",
    "         Productive = \"productive\",\n",
    "         AAjunction = \"junction_aa\",\n",
    "         seq_nt,\n",
    "         seq_aa,\n",
    "         seq_input = sequence,\n",
    "         \"gapped seq_nt\" = \"sequence_alignment\",\n",
    "         \"gapped seq_aa\" = \"sequence_alignment_aa\",\n",
    "         v_cigar,\n",
    "         d_cigar,\n",
    "         j_cigar) %>% \n",
    "  mutate(num = 1:nrow(airr), .before = ID) %>% \n",
    "  mutate(seq_nt_length = str_length(seq_nt), .after = seq_nt) %>% \n",
    "  mutate(seq_aa_length = str_length(seq_aa), .after = seq_aa) %>% \n",
    "  mutate(nt_mut = ntmut$`V-REGION Nb of mutations`, .after = seq_nt_length) %>% \n",
    "  mutate(nt_mut_silent = ntmut$`V-REGION Nb of silent mutations`, .after = nt_mut) %>% \n",
    "  mutate(nt_mut_replacement = \n",
    "           ntmut$`V-REGION Nb of nonsilent mutations`, .after = nt_mut_silent) %>% \n",
    "  mutate(aa_replacement = aamut$`V-REGION Nb of AA changes`, .after = nt_mut_replacement) %>% \n",
    "  mutate(Vchanges = change$`V-REGION`, .after = aa_replacement) \n",
    "\n",
    "print(\"done\") #if evaluated\n",
    "```"
   ]
  },
  {
   "cell_type": "markdown",
   "id": "97439088",
   "metadata": {},
   "source": [
    "According to this, the columns that we need, ultimitely, before using tatsuya's R code is the following"
   ]
  },
  {
   "cell_type": "markdown",
   "id": "ef26f1bd",
   "metadata": {},
   "source": [
    "### The resulting file"
   ]
  },
  {
   "cell_type": "code",
   "execution_count": 313,
   "id": "bbec479e",
   "metadata": {},
   "outputs": [],
   "source": [
    "# TODO make map\n",
    "required_columns_map = {}"
   ]
  },
  {
   "cell_type": "code",
   "execution_count": 243,
   "id": "06159b1b",
   "metadata": {},
   "outputs": [
    {
     "name": "stdout",
     "output_type": "stream",
     "text": [
      "num\n",
      "ID\n",
      "locus\n",
      "V\n",
      "D\n",
      "J\n",
      "Productive\n",
      "AAjunction\n",
      "seq_nt\n",
      "seq_nt_length\n",
      "nt_mut\n",
      "nt_mut_silent\n",
      "nt_mut_replacement\n",
      "aa_replacement\n",
      "Vchanges\n",
      "seq_aa\n",
      "seq_aa_length\n",
      "seq_input\n",
      "gapped seq_nt\n",
      "gapped seq_aa\n",
      "v_cigar\n",
      "d_cigar\n",
      "j_cigar\n"
     ]
    }
   ],
   "source": [
    "all_data = pd.read_csv(\"../partis_test/vquest_org.csv\")\n",
    "print(\"\\n\".join(all_data.columns.values))"
   ]
  },
  {
   "cell_type": "code",
   "execution_count": 314,
   "id": "3c8d1cd8",
   "metadata": {},
   "outputs": [
    {
     "data": {
      "text/plain": [
       "0         7 (9)\n",
       "1         7 (9)\n",
       "2         3 (5)\n",
       "3         3 (5)\n",
       "4         3 (5)\n",
       "         ...   \n",
       "5282    13 (14)\n",
       "5283      5 (7)\n",
       "5284    13 (14)\n",
       "5285         11\n",
       "5286         13\n",
       "Name: nt_mut, Length: 5287, dtype: object"
      ]
     },
     "execution_count": 314,
     "metadata": {},
     "output_type": "execute_result"
    }
   ],
   "source": [
    "all_data[\"nt_mut\"]"
   ]
  },
  {
   "cell_type": "code",
   "execution_count": 319,
   "id": "8d098e3e",
   "metadata": {},
   "outputs": [
    {
     "data": {
      "text/plain": [
       "0       gaggtgcagcttcaggagtcaggacct...agcctcgtgaaacctt...\n",
       "1       gaggtgcagcttcaggagtcaggacct...agcctcgtgaaacctt...\n",
       "2       gaggtgcagcttcaggagtcaggacct...agcctcgtgaaacctt...\n",
       "3       gaggtgcagcttcaggagtcaggacct...agcctcgtgaaacctt...\n",
       "4       gaggtgcagcttcaggagtcaggacct...agcctcgtgaaacctt...\n",
       "                              ...                        \n",
       "5282    gacattgtgatgactcagtctcaaaaattcatgtccacatcagtgg...\n",
       "5283    gaggtgcagcttcaggagtcaggacct...agcctcgtgaaacctt...\n",
       "5284    gacattgtgatgactcagtctcaaaaattcatgtccacatcagtag...\n",
       "5285    gacattgtgatgactcagtcgcaaaaaatcatgtccacatcagtag...\n",
       "5286    gacattgtgatgactcagtctcaaaaattcatgtccacttcagtag...\n",
       "Name: gapped seq_nt, Length: 5287, dtype: object"
      ]
     },
     "execution_count": 319,
     "metadata": {},
     "output_type": "execute_result"
    }
   ],
   "source": [
    "all_data[\"gapped seq_nt\"]"
   ]
  },
  {
   "cell_type": "markdown",
   "id": "d94ac5d0",
   "metadata": {},
   "source": [
    "### SANITY CHECK #1\n",
    "\n",
    "are the amino acid columns simply the translation of the nt? I assume so but we better check because we will manually translate partis nucleotide output."
   ]
  },
  {
   "cell_type": "code",
   "execution_count": 244,
   "id": "90f62f38",
   "metadata": {
    "scrolled": true
   },
   "outputs": [
    {
     "name": "stdout",
     "output_type": "stream",
     "text": [
      "index:\n",
      "34\n",
      "seq nt:\n",
      "gaggtgcaccttcggagtcaggacctagcctcgtgaaaccttctcagactctgtccctcacctgttctgtcactggcgactccatcaccagtggttactggaactggatccggaaattcccagggaataaacttgagtacatggggtacataagctacagtggtagcacttactacaatccatctctcaacagtcgaatctccatccctcgagacacatccaagaaccagtactacctacagttgaattctgtgacttctgaggacacagccacatattactgtgcaagggacttcgatgtctggggcgcagggaccacggtcaccgtctcctcag\n",
      "seq nt upper:\n",
      "GAGGTGCACCTTCGGAGTCAGGACCTAGCCTCGTGAAACCTTCTCAGACTCTGTCCCTCACCTGTTCTGTCACTGGCGACTCCATCACCAGTGGTTACTGGAACTGGATCCGGAAATTCCCAGGGAATAAACTTGAGTACATGGGGTACATAAGCTACAGTGGTAGCACTTACTACAATCCATCTCTCAACAGTCGAATCTCCATCCCTCGAGACACATCCAAGAACCAGTACTACCTACAGTTGAATTCTGTGACTTCTGAGGACACAGCCACATATTACTGTGCAAGGGACTTCGATGTCTGGGGCGCAGGGACCACGGTCACCGTCTCCTCAG\n",
      "seq amino acid:\n",
      "EVHLRSQDLAS*NLLRLCPSPVLSGDSITSGYWNWIRKFPGNKLEYMGYISYSGSTYYNPSLNSRISIPRDTSKNQYYLQLNSVTSEDTATYYCARDFDVWGAGTTVTVSS\n",
      "seq amino acid, translated:\n",
      "EVHLRSQDLAS*NLLRLCPSPVLSLATPSPVVTGTGSGNSQGINLSTWGT*ATVVALTTIHLSTVESPSLETHPRTSTTYS*IL*LLRTQPHITVQGTSMSGAQGPRSPSPQ\n",
      "\n",
      "index:\n",
      "40\n",
      "seq nt:\n",
      "aagtcgaatctccatcactcgagacacatccaagaaccagtactacctgcagttgaattctgtgaccactgaagacacagccacatattactgtgcaagggacttcgatgtctggggcgcagggaccacggtcaccgtctcctcag\n",
      "seq nt upper:\n",
      "AAGTCGAATCTCCATCACTCGAGACACATCCAAGAACCAGTACTACCTGCAGTTGAATTCTGTGACCACTGAAGACACAGCCACATATTACTGTGCAAGGGACTTCGATGTCTGGGGCGCAGGGACCACGGTCACCGTCTCCTCAG\n",
      "seq amino acid:\n",
      "SRISITRDTSKNQYYLQLNSVTTEDTATYYCARDFDVWGAGTTVTVSS\n",
      "seq amino acid, translated:\n",
      "KSNLHHSRHIQEPVLPAVEFCDH*RHSHILLCKGLRCLGRRDHGHRLL\n",
      "\n",
      "index:\n",
      "46\n",
      "seq nt:\n",
      "gaggtccagcttcgggagtcaggacctagcctcgtgaaaccttctcagactctgtccctcacctgttctgtcactggcgactccatcaccagtggttactggaactggatccggaaattcccagggaataaacttgaatacatggggtacataaactacagtggtagcacttactacaatccatctctcaaaagtcgaatctccatccctcgagacacatcccagaaccagtactacctgcagttgaattctgtgactactgaggaaacagccacatattactgtggaagggactttcgatgtctggggcgcagggaccacggtcaccgtctcctcag\n",
      "seq nt upper:\n",
      "GAGGTCCAGCTTCGGGAGTCAGGACCTAGCCTCGTGAAACCTTCTCAGACTCTGTCCCTCACCTGTTCTGTCACTGGCGACTCCATCACCAGTGGTTACTGGAACTGGATCCGGAAATTCCCAGGGAATAAACTTGAATACATGGGGTACATAAACTACAGTGGTAGCACTTACTACAATCCATCTCTCAAAAGTCGAATCTCCATCCCTCGAGACACATCCCAGAACCAGTACTACCTGCAGTTGAATTCTGTGACTACTGAGGAAACAGCCACATATTACTGTGGAAGGGACTTTCGATGTCTGGGGCGCAGGGACCACGGTCACCGTCTCCTCAG\n",
      "seq amino acid:\n",
      "EVQLRESGPSLVKPSQTLSLTCSVTGDSITSGYWNWIRKFPGNKLEYMGYINYSGSTYYNPSLKSRISIPRDTSQNQYYLQLNSVTTEETATYYCGRDFRCWGAGTTVTVSS\n",
      "seq amino acid, translated:\n",
      "EVQLRESGPSLVKPSQTLSLTCSVTGDSITSGYWNWIRKFPGNKLEYMGYINYSGSTYYNPSLKSRISIPRDTSQNQYYLQLNSVTTEETATYYCGRDFRCLGRRDHGHRLL\n",
      "\n",
      "index:\n",
      "125\n",
      "seq nt:\n",
      "gaggtgcagcttcaggagtcaggacctagcctcgtgtaaccttctcagactctgtcctcacctgttctgtaactggcgactccatcaccagtggttactggaactggatccggaaattcccagggaataaacttgagtacatggggtacataaactacagtggtagcacttactacaatccatctctcaaaagtcgaatctccatcactcgagacacatccaagaaccagtactacctgcagttgaattctgtgactactgaggacacagccacatattactgtggaagggacttcgatgtctggggctcagggtccacggtcaccgtctcctcag\n",
      "seq nt upper:\n",
      "GAGGTGCAGCTTCAGGAGTCAGGACCTAGCCTCGTGTAACCTTCTCAGACTCTGTCCTCACCTGTTCTGTAACTGGCGACTCCATCACCAGTGGTTACTGGAACTGGATCCGGAAATTCCCAGGGAATAAACTTGAGTACATGGGGTACATAAACTACAGTGGTAGCACTTACTACAATCCATCTCTCAAAAGTCGAATCTCCATCACTCGAGACACATCCAAGAACCAGTACTACCTGCAGTTGAATTCTGTGACTACTGAGGACACAGCCACATATTACTGTGGAAGGGACTTCGATGTCTGGGGCTCAGGGTCCACGGTCACCGTCTCCTCAG\n",
      "seq amino acid:\n",
      "EVQLQESGPSLV*PSQTLSSPVL*GDSITSGYWNWIRKFPGNKLEYMGYINYSGSTYYNPSLKSRISITRDTSKNQYYLQLNSVTTEDTATYYCGRDFDVWGSGSTVTVSS\n",
      "seq amino acid, translated:\n",
      "EVQLQESGPSLV*PSQTLSSPVL*LATPSPVVTGTGSGNSQGINLSTWGT*TTVVALTTIHLSKVESPSLETHPRTSTTCS*IL*LLRTQPHITVEGTSMSGAQGPRSPSPQ\n",
      "\n",
      "index:\n",
      "128\n",
      "seq nt:\n",
      "agcttcaggagtcaggacctagcctcgtgaaaccttctcagactctgtccctcacctgttctgtcactggcgactccatcaccagtggttactggaactggatccggaaattcccagggaataaacttgagtacatggggtacataagctacagtggtagcacttactacaatccatctctcaaaagtcgaatctccatcactcgagacacatccaagaaccagtactacctgcagttgaattctgtgactactgaggacacagcctcatattactgtgcaagggacttcgatgtctggggcgcagggaccacggtcaccgtctcctcag\n",
      "seq nt upper:\n",
      "AGCTTCAGGAGTCAGGACCTAGCCTCGTGAAACCTTCTCAGACTCTGTCCCTCACCTGTTCTGTCACTGGCGACTCCATCACCAGTGGTTACTGGAACTGGATCCGGAAATTCCCAGGGAATAAACTTGAGTACATGGGGTACATAAGCTACAGTGGTAGCACTTACTACAATCCATCTCTCAAAAGTCGAATCTCCATCACTCGAGACACATCCAAGAACCAGTACTACCTGCAGTTGAATTCTGTGACTACTGAGGACACAGCCTCATATTACTGTGCAAGGGACTTCGATGTCTGGGGCGCAGGGACCACGGTCACCGTCTCCTCAG\n",
      "seq amino acid:\n",
      "LQESGPSLVKPSQTLSLTCSVTGDSITSGYWNWIRKFPGNKLEYMGYISYSGSTYYNPSLKSRISITRDTSKNQYYLQLNSVTTEDTASYYCARDFDVWGAGTTVTVSS\n",
      "seq amino acid, translated:\n",
      "SFRSQDLAS*NLLRLCPSPVLSLATPSPVVTGTGSGNSQGINLSTWGT*ATVVALTTIHLSKVESPSLETHPRTSTTCS*IL*LLRTQPHITVQGTSMSGAQGPRSPSPQ\n",
      "\n",
      "index:\n",
      "157\n",
      "seq nt:\n",
      "gaggtgcagcttcaggagtcaggacctagcctcgtgaaaccttctcagactctgtccctcacctgttctgtcactggcgactccatcaccagtggtactggaactggatccggaaattcccagggaataaacttgagtacatggggtacataagctacagtggtagcacttactacaatccatctctcaaaagtcgaatctccatcactcgagacacatccaagaaccagtactacctgcagttgaattctgtgactactgaggacacagccacatattactgtgcaagggacttcgatgtctggggcgcagggaccacggtcaccgtctcctcag\n",
      "seq nt upper:\n",
      "GAGGTGCAGCTTCAGGAGTCAGGACCTAGCCTCGTGAAACCTTCTCAGACTCTGTCCCTCACCTGTTCTGTCACTGGCGACTCCATCACCAGTGGTACTGGAACTGGATCCGGAAATTCCCAGGGAATAAACTTGAGTACATGGGGTACATAAGCTACAGTGGTAGCACTTACTACAATCCATCTCTCAAAAGTCGAATCTCCATCACTCGAGACACATCCAAGAACCAGTACTACCTGCAGTTGAATTCTGTGACTACTGAGGACACAGCCACATATTACTGTGCAAGGGACTTCGATGTCTGGGGCGCAGGGACCACGGTCACCGTCTCCTCAG\n",
      "seq amino acid:\n",
      "EVQLQESGPSLVKPSQTLSLTCSVTGDSITSGWNWIRKFPGNKLEYMGYISYSGSTYYNPSLKSRISITRDTSKNQYYLQLNSVTTEDTATYYCARDFDVWGAGTTVTVSS\n",
      "seq amino acid, translated:\n",
      "EVQLQESGPSLVKPSQTLSLTCSVTGDSITSGTGTGSGNSQGINLSTWGT*ATVVALTTIHLSKVESPSLETHPRTSTTCS*IL*LLRTQPHITVQGTSMSGAQGPRSPSPQ\n",
      "\n",
      "index:\n",
      "183\n",
      "seq nt:\n",
      "gaggtgcagcttcaggagtcaggacctagcctcgtgaaaccttctcagactctgtccctcacctgttctgtcactggcgactccatcaccagtggttactggaactggatccggaaattcccagggaataaacttgagtacatggggtacataaactacagtggtagcacttactacaatccatctctcaaaagtcgaatctccatcactcgagacacatccaagaaccagtactacctgcagttgaattctgtgactactgaggacacagccacattttactgtgcaagggacttcgatgtctgggggcgcagggaccacggtcaccgtctcctcag\n",
      "seq nt upper:\n",
      "GAGGTGCAGCTTCAGGAGTCAGGACCTAGCCTCGTGAAACCTTCTCAGACTCTGTCCCTCACCTGTTCTGTCACTGGCGACTCCATCACCAGTGGTTACTGGAACTGGATCCGGAAATTCCCAGGGAATAAACTTGAGTACATGGGGTACATAAACTACAGTGGTAGCACTTACTACAATCCATCTCTCAAAAGTCGAATCTCCATCACTCGAGACACATCCAAGAACCAGTACTACCTGCAGTTGAATTCTGTGACTACTGAGGACACAGCCACATTTTACTGTGCAAGGGACTTCGATGTCTGGGGGCGCAGGGACCACGGTCACCGTCTCCTCAG\n",
      "seq amino acid:\n",
      "EVQLQESGPSLVKPSQTLSLTCSVTGDSITSGYWNWIRKFPGNKLEYMGYINYSGSTYYNPSLKSRISITRDTSKNQYYLQLNSVTTEDTATFYCARDFDVGGAGTTVTVSS\n",
      "seq amino acid, translated:\n",
      "EVQLQESGPSLVKPSQTLSLTCSVTGDSITSGYWNWIRKFPGNKLEYMGYINYSGSTYYNPSLKSRISITRDTSKNQYYLQLNSVTTEDTATFYCARDFDVWGRRDHGHRLL\n",
      "\n",
      "index:\n",
      "214\n",
      "seq nt:\n",
      "gacattgtgatgactcagtctcaaaaattcatgtccacatcagtaggagacagggtcagcgtcacctgcaaggccagtcagaatgtacagtggagtccctgatcgcttcacaggcagtggatctgggacagatttcactctcaccatcagcaatgtgcagtctgaagacttggcagagtatttctgtcagcaatataacagctatcctctcacgttcggctcggggactaagctagaaataaaac\n",
      "seq nt upper:\n",
      "GACATTGTGATGACTCAGTCTCAAAAATTCATGTCCACATCAGTAGGAGACAGGGTCAGCGTCACCTGCAAGGCCAGTCAGAATGTACAGTGGAGTCCCTGATCGCTTCACAGGCAGTGGATCTGGGACAGATTTCACTCTCACCATCAGCAATGTGCAGTCTGAAGACTTGGCAGAGTATTTCTGTCAGCAATATAACAGCTATCCTCTCACGTTCGGCTCGGGGACTAAGCTAGAAATAAAAC\n",
      "seq amino acid:\n",
      "DIVMTQSQKFMSTSVGDRVSVTCKASQNYSGVPDRFTGSGSGTDFTLTISNVQSEDLAEYFCQQYNSYPLTFGSGTKLEIK\n",
      "seq amino acid, translated:\n",
      "DIVMTQSQKFMSTSVGDRVSVTCKASQNVQWSP*SLHRQWIWDRFHSHHQQCAV*RLGRVFLSAI*QLSSHVRLGD*ARNK\n",
      "\n",
      "index:\n",
      "238\n",
      "seq nt:\n",
      "gaggtgcagcttcaggagtcaggacctagcctcgtgaaaccttctcagactctgtccctcacctgttctgtcactggcgactccatcaccagtggttactggcactggatccggaaattcccagggagtaaacttgagtacatggggtacataagctacagtggtagcacttactacaatccatctctcaaagtcgaatctccgtcactcgagacacatccaagaaccagtactacctgcagttgaattctgtgactactgaggacacagccacatattactgtgcaagggacttcgatgtctggggcgcagggaccacggtcaccgtctcctcag\n",
      "seq nt upper:\n",
      "GAGGTGCAGCTTCAGGAGTCAGGACCTAGCCTCGTGAAACCTTCTCAGACTCTGTCCCTCACCTGTTCTGTCACTGGCGACTCCATCACCAGTGGTTACTGGCACTGGATCCGGAAATTCCCAGGGAGTAAACTTGAGTACATGGGGTACATAAGCTACAGTGGTAGCACTTACTACAATCCATCTCTCAAAGTCGAATCTCCGTCACTCGAGACACATCCAAGAACCAGTACTACCTGCAGTTGAATTCTGTGACTACTGAGGACACAGCCACATATTACTGTGCAAGGGACTTCGATGTCTGGGGCGCAGGGACCACGGTCACCGTCTCCTCAG\n",
      "seq amino acid:\n",
      "EVQLQESGPSLVKPSQTLSLTCSVTGDSITSGYWHWIRKFPGSKLEYMGYISYSGSTYYNPSLKVESPSLETHPRTSTTCS*IL*LLRTQPHITARDFDVWGAGTTVTVSS\n",
      "seq amino acid, translated:\n",
      "EVQLQESGPSLVKPSQTLSLTCSVTGDSITSGYWHWIRKFPGSKLEYMGYISYSGSTYYNPSLKVESPSLETHPRTSTTCS*IL*LLRTQPHITVQGTSMSGAQGPRSPSPQ\n",
      "\n",
      "index:\n",
      "315\n",
      "seq nt:\n",
      "gacattgtgatgactcagtctcaaaaattcatgtccacatcagtaggagacagggtcagcgtcacctgcaaggccagtcagaatgtgggtactaatgtagcctggtatcaacagaaaccagggcaatctcctaaagcactttttactcggcatcctacaggtacagtggagtccctgatcgcttcacaggcagtggatctgggacagatttcactctcaccatcagcaatgtgcagtctgaagacttggcagagtatttctgtcagcaatataacagctatcctctcacgttcggctcggggactaagctagaaataaaac\n",
      "seq nt upper:\n",
      "GACATTGTGATGACTCAGTCTCAAAAATTCATGTCCACATCAGTAGGAGACAGGGTCAGCGTCACCTGCAAGGCCAGTCAGAATGTGGGTACTAATGTAGCCTGGTATCAACAGAAACCAGGGCAATCTCCTAAAGCACTTTTTACTCGGCATCCTACAGGTACAGTGGAGTCCCTGATCGCTTCACAGGCAGTGGATCTGGGACAGATTTCACTCTCACCATCAGCAATGTGCAGTCTGAAGACTTGGCAGAGTATTTCTGTCAGCAATATAACAGCTATCCTCTCACGTTCGGCTCGGGGACTAAGCTAGAAATAAAAC\n",
      "seq amino acid:\n",
      "DIVMTQSQKFMSTSVGDRVSVTCKASQNVGTNVAWYQQKPGQSPKALFSASYRYSGVPDRFTGSGSGTDFTLTISNVQSEDLAEYFCQQYNSYPLTFGSGTKLEIK\n",
      "seq amino acid, translated:\n",
      "DIVMTQSQKFMSTSVGDRVSVTCKASQNVGTNVAWYQQKPGQSPKALFTRHPTGTVESLIASQAVDLGQISLSPSAMCSLKTWQSISVSNITAILSRSARGLS*K*N\n",
      "\n"
     ]
    }
   ],
   "source": [
    "count = 0\n",
    "for idx, row in imgt_airr.iterrows():\n",
    "#     print(idx)\n",
    "    if row.seq_aa.upper() != translate(row.seq_nt.upper()):\n",
    "        print(f\"index:\\n{idx}\")\n",
    "        print(f\"seq nt:\\n{row.seq_nt}\")\n",
    "        print(f\"seq nt upper:\\n{row.seq_nt.upper()}\")\n",
    "        print(f\"seq amino acid:\\n{row.seq_aa.upper()}\")\n",
    "        print(f\"seq amino acid, translated:\\n{translate(row.seq_nt.upper())}\")\n",
    "        print()\n",
    "        count += 1\n",
    "    if count >= 10:\n",
    "        break"
   ]
  },
  {
   "cell_type": "code",
   "execution_count": 245,
   "id": "83c38f86",
   "metadata": {},
   "outputs": [
    {
     "data": {
      "text/plain": [
       "144"
      ]
     },
     "execution_count": 245,
     "metadata": {},
     "output_type": "execute_result"
    }
   ],
   "source": [
    "len(\"DIVMTQSQKFMSTSVGDRVSVTCKASQNVGTNVAWYQQKPGQSPKALF\") * 3"
   ]
  },
  {
   "cell_type": "code",
   "execution_count": 274,
   "id": "c7a575f0",
   "metadata": {},
   "outputs": [
    {
     "data": {
      "text/plain": [
       "'TTTTACTCGGCATCCTACAGGTACAGTGGAGTCCCTGATCGCTTCACAGGCAGTGGATCTGGGACAGATTTCACTCTCACCATCAGCAATGTGCAGTCTGAAGACTTGGCAGAGTATTTCTGTCAGCAATATAACAGCTATCCTCTCACGTTCGGCTCGGGGACTAAGCTAGAAATAAAAC'"
      ]
     },
     "execution_count": 274,
     "metadata": {},
     "output_type": "execute_result"
    }
   ],
   "source": [
    "seq = \"GACATTGTGATGACTCAGTCTCAAAAATTCATGTCCACATCAGTAGGAGACAGGGTCAGCGTCACCTGCAAGGCCAGTCAGAATGTGGGTACTAATGTAGCCTGGTATCAACAGAAACCAGGGCAATCTCCTAAAGCACTTTTTACTCGGCATCCTACAGGTACAGTGGAGTCCCTGATCGCTTCACAGGCAGTGGATCTGGGACAGATTTCACTCTCACCATCAGCAATGTGCAGTCTGAAGACTTGGCAGAGTATTTCTGTCAGCAATATAACAGCTATCCTCTCACGTTCGGCTCGGGGACTAAGCTAGAAATAAAAC\"\n",
    "seq[140:]"
   ]
  },
  {
   "cell_type": "markdown",
   "id": "62f4261c",
   "metadata": {},
   "source": []
  },
  {
   "cell_type": "markdown",
   "id": "663bcfdd",
   "metadata": {},
   "source": []
  },
  {
   "cell_type": "markdown",
   "id": "da39e3cc",
   "metadata": {},
   "source": []
  },
  {
   "cell_type": "markdown",
   "id": "e58f7e46",
   "metadata": {},
   "source": [
    "# Partis Data\n",
    "\n",
    "Data that came from the pipeline then annotated by partis tool\n",
    "\n",
    "### Database generation\n",
    "\n",
    "There is a vast amount of information in the partis annotation output. \n"
   ]
  },
  {
   "cell_type": "code",
   "execution_count": 248,
   "id": "23ad55a2",
   "metadata": {},
   "outputs": [],
   "source": [
    "partis_output_dir = \"../partis_test/PR-1-6/\"\n",
    "partis_igk = pd.read_csv(partis_output_dir+\"engrd/single-chain/partition-igk.tsv\", sep=\"\\t\")\n",
    "partis_igh = pd.read_csv(partis_output_dir+\"engrd/single-chain/partition-igh.tsv\", sep=\"\\t\")"
   ]
  },
  {
   "cell_type": "code",
   "execution_count": 249,
   "id": "f15844dd",
   "metadata": {},
   "outputs": [
    {
     "name": "stdout",
     "output_type": "stream",
     "text": [
      "There are 5161 total sequences identified by partis annotation\n"
     ]
    }
   ],
   "source": [
    "print(f\"There are {partis_igh.shape[0]+partis_igk.shape[0]} total sequences identified by partis annotation\")"
   ]
  },
  {
   "cell_type": "code",
   "execution_count": 250,
   "id": "43efda9c",
   "metadata": {},
   "outputs": [
    {
     "data": {
      "text/html": [
       "<div>\n",
       "<style scoped>\n",
       "    .dataframe tbody tr th:only-of-type {\n",
       "        vertical-align: middle;\n",
       "    }\n",
       "\n",
       "    .dataframe tbody tr th {\n",
       "        vertical-align: top;\n",
       "    }\n",
       "\n",
       "    .dataframe thead th {\n",
       "        text-align: right;\n",
       "    }\n",
       "</style>\n",
       "<table border=\"1\" class=\"dataframe\">\n",
       "  <thead>\n",
       "    <tr style=\"text-align: right;\">\n",
       "      <th></th>\n",
       "      <th>sequence_id</th>\n",
       "      <th>sequence</th>\n",
       "      <th>rev_comp</th>\n",
       "      <th>productive</th>\n",
       "      <th>v_call</th>\n",
       "      <th>d_call</th>\n",
       "      <th>j_call</th>\n",
       "      <th>sequence_alignment</th>\n",
       "      <th>germline_alignment</th>\n",
       "      <th>junction</th>\n",
       "      <th>...</th>\n",
       "      <th>d_sequence_start</th>\n",
       "      <th>d_sequence_end</th>\n",
       "      <th>d_germline_start</th>\n",
       "      <th>d_germline_end</th>\n",
       "      <th>j_support</th>\n",
       "      <th>j_identity</th>\n",
       "      <th>j_sequence_start</th>\n",
       "      <th>j_sequence_end</th>\n",
       "      <th>j_germline_start</th>\n",
       "      <th>j_germline_end</th>\n",
       "    </tr>\n",
       "  </thead>\n",
       "  <tbody>\n",
       "    <tr>\n",
       "      <th>0</th>\n",
       "      <td>PR-1-6.211203.unmatched.H04.H.R.1-1</td>\n",
       "      <td>GAGGTGCAGCTTCAGGAGTCAGGACCTAGCCTCGTGAAACCTTCTC...</td>\n",
       "      <td>False</td>\n",
       "      <td>True</td>\n",
       "      <td>IGHV3-8*chg</td>\n",
       "      <td>IGHD1-1*chg</td>\n",
       "      <td>IGHJ1*chg</td>\n",
       "      <td>GAGGTGCAGCTTCAGGAGTCAGGACCTAGCCTCGTGAAACCTTCTC...</td>\n",
       "      <td>GAGGTGCAGCTTCAGGAGTCAGGACCTAGCCTCGTGAAACCTTCTC...</td>\n",
       "      <td>TGTGGAAGGGACTTCGATGTCTGG</td>\n",
       "      <td>...</td>\n",
       "      <td>290.0</td>\n",
       "      <td>294.0</td>\n",
       "      <td>1.0</td>\n",
       "      <td>5.0</td>\n",
       "      <td>1.0</td>\n",
       "      <td>1.000000</td>\n",
       "      <td>295.0</td>\n",
       "      <td>337.0</td>\n",
       "      <td>1.0</td>\n",
       "      <td>43.0</td>\n",
       "    </tr>\n",
       "    <tr>\n",
       "      <th>1</th>\n",
       "      <td>PR-1-6.211203.unmatched.H03.H.R.2-1</td>\n",
       "      <td>GAGGTGCAGCTTCAGGAGTCAGGACCCAGCCTCGTGAAACCTTCTC...</td>\n",
       "      <td>False</td>\n",
       "      <td>True</td>\n",
       "      <td>IGHV3-8*chg</td>\n",
       "      <td>IGHD1-1*chg</td>\n",
       "      <td>IGHJ1*chg</td>\n",
       "      <td>GAGGTGCAGCTTCAGGAGTCAGGACCCAGCCTCGTGAAACCTTCTC...</td>\n",
       "      <td>GAGGTGCAGCTTCAGGAGTCAGGACCTAGCCTCGTGAAACCTTCTC...</td>\n",
       "      <td>TGTGCAAGGGACTTCGATGTCTGG</td>\n",
       "      <td>...</td>\n",
       "      <td>290.0</td>\n",
       "      <td>294.0</td>\n",
       "      <td>1.0</td>\n",
       "      <td>5.0</td>\n",
       "      <td>1.0</td>\n",
       "      <td>1.000000</td>\n",
       "      <td>295.0</td>\n",
       "      <td>337.0</td>\n",
       "      <td>1.0</td>\n",
       "      <td>43.0</td>\n",
       "    </tr>\n",
       "    <tr>\n",
       "      <th>2</th>\n",
       "      <td>PR-1-6.211203.P01.B12.H.R.3-1</td>\n",
       "      <td>GAGGTGCAGCTTCAGGAGTCAGGACCTAGCCTCGTGAAACCTTCTC...</td>\n",
       "      <td>False</td>\n",
       "      <td>True</td>\n",
       "      <td>IGHV3-8*chg</td>\n",
       "      <td>IGHD1-1*chg</td>\n",
       "      <td>IGHJ1*chg</td>\n",
       "      <td>GAGGTGCAGCTTCAGGAGTCAGGACCTAGCCTCGTGAAACCTTCTC...</td>\n",
       "      <td>GAGGTGCAGCTTCAGGAGTCAGGACCTAGCCTCGTGAAACCTTCTC...</td>\n",
       "      <td>TGTGCAAGGGACTTCGATGTCTGG</td>\n",
       "      <td>...</td>\n",
       "      <td>290.0</td>\n",
       "      <td>294.0</td>\n",
       "      <td>1.0</td>\n",
       "      <td>5.0</td>\n",
       "      <td>1.0</td>\n",
       "      <td>1.000000</td>\n",
       "      <td>295.0</td>\n",
       "      <td>337.0</td>\n",
       "      <td>1.0</td>\n",
       "      <td>43.0</td>\n",
       "    </tr>\n",
       "    <tr>\n",
       "      <th>3</th>\n",
       "      <td>PR-1-6.211203.P01.D04.H.R.1-1</td>\n",
       "      <td>GAGGTGCAGCTTCAGGAGTCAGGACCTAGCCTCGTGAAACCTTCTC...</td>\n",
       "      <td>False</td>\n",
       "      <td>True</td>\n",
       "      <td>IGHV3-8*chg</td>\n",
       "      <td>IGHD1-1*chg</td>\n",
       "      <td>IGHJ1*chg</td>\n",
       "      <td>GAGGTGCAGCTTCAGGAGTCAGGACCTAGCCTCGTGAAACCTTCTC...</td>\n",
       "      <td>GAGGTGCAGCTTCAGGAGTCAGGACCTAGCCTCGTGAAACCTTCTC...</td>\n",
       "      <td>TGTGCAAGGGACTTCGATGTCTGG</td>\n",
       "      <td>...</td>\n",
       "      <td>290.0</td>\n",
       "      <td>294.0</td>\n",
       "      <td>1.0</td>\n",
       "      <td>5.0</td>\n",
       "      <td>1.0</td>\n",
       "      <td>1.000000</td>\n",
       "      <td>295.0</td>\n",
       "      <td>337.0</td>\n",
       "      <td>1.0</td>\n",
       "      <td>43.0</td>\n",
       "    </tr>\n",
       "    <tr>\n",
       "      <th>4</th>\n",
       "      <td>PR-1-6.211203.P01.F06.H.R.2-1</td>\n",
       "      <td>GAGGTGCAGCTTCAGGAGTCAGGACCTAGCCTCGTGAAACCTTCTC...</td>\n",
       "      <td>False</td>\n",
       "      <td>True</td>\n",
       "      <td>IGHV3-8*chg</td>\n",
       "      <td>IGHD1-1*chg</td>\n",
       "      <td>IGHJ1*chg</td>\n",
       "      <td>GAGGTGCAGCTTCAGGAGTCAGGACCTAGCCTCGTGAAACCTTCTC...</td>\n",
       "      <td>GAGGTGCAGCTTCAGGAGTCAGGACCTAGCCTCGTGAAACCTTCTC...</td>\n",
       "      <td>TGTGCAAGGGACTTCGATGTCTGG</td>\n",
       "      <td>...</td>\n",
       "      <td>290.0</td>\n",
       "      <td>294.0</td>\n",
       "      <td>1.0</td>\n",
       "      <td>5.0</td>\n",
       "      <td>1.0</td>\n",
       "      <td>0.976744</td>\n",
       "      <td>295.0</td>\n",
       "      <td>337.0</td>\n",
       "      <td>1.0</td>\n",
       "      <td>43.0</td>\n",
       "    </tr>\n",
       "  </tbody>\n",
       "</table>\n",
       "<p>5 rows × 42 columns</p>\n",
       "</div>"
      ],
      "text/plain": [
       "                           sequence_id  \\\n",
       "0  PR-1-6.211203.unmatched.H04.H.R.1-1   \n",
       "1  PR-1-6.211203.unmatched.H03.H.R.2-1   \n",
       "2        PR-1-6.211203.P01.B12.H.R.3-1   \n",
       "3        PR-1-6.211203.P01.D04.H.R.1-1   \n",
       "4        PR-1-6.211203.P01.F06.H.R.2-1   \n",
       "\n",
       "                                            sequence rev_comp productive  \\\n",
       "0  GAGGTGCAGCTTCAGGAGTCAGGACCTAGCCTCGTGAAACCTTCTC...    False       True   \n",
       "1  GAGGTGCAGCTTCAGGAGTCAGGACCCAGCCTCGTGAAACCTTCTC...    False       True   \n",
       "2  GAGGTGCAGCTTCAGGAGTCAGGACCTAGCCTCGTGAAACCTTCTC...    False       True   \n",
       "3  GAGGTGCAGCTTCAGGAGTCAGGACCTAGCCTCGTGAAACCTTCTC...    False       True   \n",
       "4  GAGGTGCAGCTTCAGGAGTCAGGACCTAGCCTCGTGAAACCTTCTC...    False       True   \n",
       "\n",
       "        v_call       d_call     j_call  \\\n",
       "0  IGHV3-8*chg  IGHD1-1*chg  IGHJ1*chg   \n",
       "1  IGHV3-8*chg  IGHD1-1*chg  IGHJ1*chg   \n",
       "2  IGHV3-8*chg  IGHD1-1*chg  IGHJ1*chg   \n",
       "3  IGHV3-8*chg  IGHD1-1*chg  IGHJ1*chg   \n",
       "4  IGHV3-8*chg  IGHD1-1*chg  IGHJ1*chg   \n",
       "\n",
       "                                  sequence_alignment  \\\n",
       "0  GAGGTGCAGCTTCAGGAGTCAGGACCTAGCCTCGTGAAACCTTCTC...   \n",
       "1  GAGGTGCAGCTTCAGGAGTCAGGACCCAGCCTCGTGAAACCTTCTC...   \n",
       "2  GAGGTGCAGCTTCAGGAGTCAGGACCTAGCCTCGTGAAACCTTCTC...   \n",
       "3  GAGGTGCAGCTTCAGGAGTCAGGACCTAGCCTCGTGAAACCTTCTC...   \n",
       "4  GAGGTGCAGCTTCAGGAGTCAGGACCTAGCCTCGTGAAACCTTCTC...   \n",
       "\n",
       "                                  germline_alignment  \\\n",
       "0  GAGGTGCAGCTTCAGGAGTCAGGACCTAGCCTCGTGAAACCTTCTC...   \n",
       "1  GAGGTGCAGCTTCAGGAGTCAGGACCTAGCCTCGTGAAACCTTCTC...   \n",
       "2  GAGGTGCAGCTTCAGGAGTCAGGACCTAGCCTCGTGAAACCTTCTC...   \n",
       "3  GAGGTGCAGCTTCAGGAGTCAGGACCTAGCCTCGTGAAACCTTCTC...   \n",
       "4  GAGGTGCAGCTTCAGGAGTCAGGACCTAGCCTCGTGAAACCTTCTC...   \n",
       "\n",
       "                   junction  ... d_sequence_start d_sequence_end  \\\n",
       "0  TGTGGAAGGGACTTCGATGTCTGG  ...            290.0          294.0   \n",
       "1  TGTGCAAGGGACTTCGATGTCTGG  ...            290.0          294.0   \n",
       "2  TGTGCAAGGGACTTCGATGTCTGG  ...            290.0          294.0   \n",
       "3  TGTGCAAGGGACTTCGATGTCTGG  ...            290.0          294.0   \n",
       "4  TGTGCAAGGGACTTCGATGTCTGG  ...            290.0          294.0   \n",
       "\n",
       "  d_germline_start d_germline_end  j_support j_identity j_sequence_start  \\\n",
       "0              1.0            5.0        1.0   1.000000            295.0   \n",
       "1              1.0            5.0        1.0   1.000000            295.0   \n",
       "2              1.0            5.0        1.0   1.000000            295.0   \n",
       "3              1.0            5.0        1.0   1.000000            295.0   \n",
       "4              1.0            5.0        1.0   0.976744            295.0   \n",
       "\n",
       "  j_sequence_end  j_germline_start  j_germline_end  \n",
       "0          337.0               1.0            43.0  \n",
       "1          337.0               1.0            43.0  \n",
       "2          337.0               1.0            43.0  \n",
       "3          337.0               1.0            43.0  \n",
       "4          337.0               1.0            43.0  \n",
       "\n",
       "[5 rows x 42 columns]"
      ]
     },
     "execution_count": 250,
     "metadata": {},
     "output_type": "execute_result"
    }
   ],
   "source": [
    "partis_igh.head()"
   ]
  },
  {
   "cell_type": "code",
   "execution_count": 251,
   "id": "6caafbae",
   "metadata": {},
   "outputs": [],
   "source": [
    "partis_airr = partis_igk.append(partis_igh)"
   ]
  },
  {
   "cell_type": "code",
   "execution_count": 252,
   "id": "f18b3128",
   "metadata": {},
   "outputs": [
    {
     "name": "stdout",
     "output_type": "stream",
     "text": [
      "(5161, 42)\n"
     ]
    },
    {
     "data": {
      "text/html": [
       "<div>\n",
       "<style scoped>\n",
       "    .dataframe tbody tr th:only-of-type {\n",
       "        vertical-align: middle;\n",
       "    }\n",
       "\n",
       "    .dataframe tbody tr th {\n",
       "        vertical-align: top;\n",
       "    }\n",
       "\n",
       "    .dataframe thead th {\n",
       "        text-align: right;\n",
       "    }\n",
       "</style>\n",
       "<table border=\"1\" class=\"dataframe\">\n",
       "  <thead>\n",
       "    <tr style=\"text-align: right;\">\n",
       "      <th></th>\n",
       "      <th>sequence_id</th>\n",
       "      <th>sequence</th>\n",
       "      <th>rev_comp</th>\n",
       "      <th>productive</th>\n",
       "      <th>v_call</th>\n",
       "      <th>d_call</th>\n",
       "      <th>j_call</th>\n",
       "      <th>sequence_alignment</th>\n",
       "      <th>germline_alignment</th>\n",
       "      <th>junction</th>\n",
       "      <th>...</th>\n",
       "      <th>d_sequence_start</th>\n",
       "      <th>d_sequence_end</th>\n",
       "      <th>d_germline_start</th>\n",
       "      <th>d_germline_end</th>\n",
       "      <th>j_support</th>\n",
       "      <th>j_identity</th>\n",
       "      <th>j_sequence_start</th>\n",
       "      <th>j_sequence_end</th>\n",
       "      <th>j_germline_start</th>\n",
       "      <th>j_germline_end</th>\n",
       "    </tr>\n",
       "  </thead>\n",
       "  <tbody>\n",
       "    <tr>\n",
       "      <th>0</th>\n",
       "      <td>PR-1-6.211203.P14.A06.K.R.1-335</td>\n",
       "      <td>GACATTGTAATGACTCAGTCTCAAAAATTCATGTCCACATCAGAAG...</td>\n",
       "      <td>False</td>\n",
       "      <td>True</td>\n",
       "      <td>IGKV6-15*chg</td>\n",
       "      <td>IGKDx-x*x</td>\n",
       "      <td>IGKJ4*chg</td>\n",
       "      <td>GACATTGTAATGACTCAGTCTCAAAAATTCATGTCCACATCAGAAG...</td>\n",
       "      <td>GACATTGTGATGACTCAGTCTCAAAAATTCATGTCCACATCAGTAG...</td>\n",
       "      <td>TGTCACCAATATAAAAGTTATCCTCTCACGTTC</td>\n",
       "      <td>...</td>\n",
       "      <td>288.0</td>\n",
       "      <td>287.0</td>\n",
       "      <td>2.0</td>\n",
       "      <td>1.0</td>\n",
       "      <td>1.0</td>\n",
       "      <td>0.970588</td>\n",
       "      <td>288.0</td>\n",
       "      <td>321.0</td>\n",
       "      <td>1.0</td>\n",
       "      <td>34.0</td>\n",
       "    </tr>\n",
       "    <tr>\n",
       "      <th>1</th>\n",
       "      <td>PR-1-6.211203.unmatched.G05.K.R.1-39</td>\n",
       "      <td>GACATTGTGATGACTCAGTCTCAAAAATTCATGTCCACATCAGTAG...</td>\n",
       "      <td>False</td>\n",
       "      <td>True</td>\n",
       "      <td>IGKV6-15*chg</td>\n",
       "      <td>IGKDx-x*x</td>\n",
       "      <td>IGKJ4*chg</td>\n",
       "      <td>GACATTGTGATGACTCAGTCTCAAAAATTCATGTCCACATCAGTAG...</td>\n",
       "      <td>GACATTGTGATGACTCAGTCTCAAAAATTCATGTCCACATCAGTAG...</td>\n",
       "      <td>TGTCAGCAATATAACAGCTATCCTCTCACGTTC</td>\n",
       "      <td>...</td>\n",
       "      <td>288.0</td>\n",
       "      <td>287.0</td>\n",
       "      <td>2.0</td>\n",
       "      <td>1.0</td>\n",
       "      <td>1.0</td>\n",
       "      <td>1.000000</td>\n",
       "      <td>288.0</td>\n",
       "      <td>321.0</td>\n",
       "      <td>1.0</td>\n",
       "      <td>34.0</td>\n",
       "    </tr>\n",
       "    <tr>\n",
       "      <th>2</th>\n",
       "      <td>PR-1-6.211203.P10.A04.K.R.1-675</td>\n",
       "      <td>GACATTGTGATGACTCAGTCTCAAAAATTCATGTCCACATCAGTAG...</td>\n",
       "      <td>False</td>\n",
       "      <td>True</td>\n",
       "      <td>IGKV6-15*chg</td>\n",
       "      <td>IGKDx-x*x</td>\n",
       "      <td>IGKJ4*chg</td>\n",
       "      <td>GACATTGTGATGACTCAGTCTCAAAAATTCATGTCCACATCAGTAG...</td>\n",
       "      <td>GACATTGTGATGACTCAGTCTCAAAAATTCATGTCCACATCAGTAG...</td>\n",
       "      <td>TGTCAGCAATATAACAGCTATCCTCTCACGTTC</td>\n",
       "      <td>...</td>\n",
       "      <td>288.0</td>\n",
       "      <td>287.0</td>\n",
       "      <td>2.0</td>\n",
       "      <td>1.0</td>\n",
       "      <td>1.0</td>\n",
       "      <td>1.000000</td>\n",
       "      <td>288.0</td>\n",
       "      <td>321.0</td>\n",
       "      <td>1.0</td>\n",
       "      <td>34.0</td>\n",
       "    </tr>\n",
       "    <tr>\n",
       "      <th>3</th>\n",
       "      <td>PR-1-6.211203.P10.unmatched.H.R.1-7</td>\n",
       "      <td>GACATTGTGATGACTCAGTCTCAAAAATTCATGTCCACATCAGTAG...</td>\n",
       "      <td>False</td>\n",
       "      <td>True</td>\n",
       "      <td>IGKV6-15*chg</td>\n",
       "      <td>IGKDx-x*x</td>\n",
       "      <td>IGKJ4*chg</td>\n",
       "      <td>GACATTGTGATGACTCAGTCTCAAAAATTCATGTCCACATCAGTAG...</td>\n",
       "      <td>GACATTGTGATGACTCAGTCTCAAAAATTCATGTCCACATCAGTAG...</td>\n",
       "      <td>TGTCAGCAATATAACAGCTATCCTCTCACGTTC</td>\n",
       "      <td>...</td>\n",
       "      <td>288.0</td>\n",
       "      <td>287.0</td>\n",
       "      <td>2.0</td>\n",
       "      <td>1.0</td>\n",
       "      <td>1.0</td>\n",
       "      <td>1.000000</td>\n",
       "      <td>288.0</td>\n",
       "      <td>321.0</td>\n",
       "      <td>1.0</td>\n",
       "      <td>34.0</td>\n",
       "    </tr>\n",
       "    <tr>\n",
       "      <th>4</th>\n",
       "      <td>PR-1-6.211203.P05.A07.K.R.3-5</td>\n",
       "      <td>GACATTGTGATGACTCAGTCTCAAAAATTCATGTCCACATCAGTAG...</td>\n",
       "      <td>False</td>\n",
       "      <td>True</td>\n",
       "      <td>IGKV6-15*chg</td>\n",
       "      <td>IGKDx-x*x</td>\n",
       "      <td>IGKJ4*chg</td>\n",
       "      <td>GACATTGTGATGACTCAGTCTCAAAAATTCATGTCCACATCAGTAG...</td>\n",
       "      <td>GACATTGTGATGACTCAGTCTCAAAAATTCATGTCCACATCAGTAG...</td>\n",
       "      <td>TGTCAGCAATATAACAGCTATCCTCTCACGTTC</td>\n",
       "      <td>...</td>\n",
       "      <td>288.0</td>\n",
       "      <td>287.0</td>\n",
       "      <td>2.0</td>\n",
       "      <td>1.0</td>\n",
       "      <td>1.0</td>\n",
       "      <td>1.000000</td>\n",
       "      <td>288.0</td>\n",
       "      <td>321.0</td>\n",
       "      <td>1.0</td>\n",
       "      <td>34.0</td>\n",
       "    </tr>\n",
       "  </tbody>\n",
       "</table>\n",
       "<p>5 rows × 42 columns</p>\n",
       "</div>"
      ],
      "text/plain": [
       "                            sequence_id  \\\n",
       "0       PR-1-6.211203.P14.A06.K.R.1-335   \n",
       "1  PR-1-6.211203.unmatched.G05.K.R.1-39   \n",
       "2       PR-1-6.211203.P10.A04.K.R.1-675   \n",
       "3   PR-1-6.211203.P10.unmatched.H.R.1-7   \n",
       "4         PR-1-6.211203.P05.A07.K.R.3-5   \n",
       "\n",
       "                                            sequence rev_comp productive  \\\n",
       "0  GACATTGTAATGACTCAGTCTCAAAAATTCATGTCCACATCAGAAG...    False       True   \n",
       "1  GACATTGTGATGACTCAGTCTCAAAAATTCATGTCCACATCAGTAG...    False       True   \n",
       "2  GACATTGTGATGACTCAGTCTCAAAAATTCATGTCCACATCAGTAG...    False       True   \n",
       "3  GACATTGTGATGACTCAGTCTCAAAAATTCATGTCCACATCAGTAG...    False       True   \n",
       "4  GACATTGTGATGACTCAGTCTCAAAAATTCATGTCCACATCAGTAG...    False       True   \n",
       "\n",
       "         v_call     d_call     j_call  \\\n",
       "0  IGKV6-15*chg  IGKDx-x*x  IGKJ4*chg   \n",
       "1  IGKV6-15*chg  IGKDx-x*x  IGKJ4*chg   \n",
       "2  IGKV6-15*chg  IGKDx-x*x  IGKJ4*chg   \n",
       "3  IGKV6-15*chg  IGKDx-x*x  IGKJ4*chg   \n",
       "4  IGKV6-15*chg  IGKDx-x*x  IGKJ4*chg   \n",
       "\n",
       "                                  sequence_alignment  \\\n",
       "0  GACATTGTAATGACTCAGTCTCAAAAATTCATGTCCACATCAGAAG...   \n",
       "1  GACATTGTGATGACTCAGTCTCAAAAATTCATGTCCACATCAGTAG...   \n",
       "2  GACATTGTGATGACTCAGTCTCAAAAATTCATGTCCACATCAGTAG...   \n",
       "3  GACATTGTGATGACTCAGTCTCAAAAATTCATGTCCACATCAGTAG...   \n",
       "4  GACATTGTGATGACTCAGTCTCAAAAATTCATGTCCACATCAGTAG...   \n",
       "\n",
       "                                  germline_alignment  \\\n",
       "0  GACATTGTGATGACTCAGTCTCAAAAATTCATGTCCACATCAGTAG...   \n",
       "1  GACATTGTGATGACTCAGTCTCAAAAATTCATGTCCACATCAGTAG...   \n",
       "2  GACATTGTGATGACTCAGTCTCAAAAATTCATGTCCACATCAGTAG...   \n",
       "3  GACATTGTGATGACTCAGTCTCAAAAATTCATGTCCACATCAGTAG...   \n",
       "4  GACATTGTGATGACTCAGTCTCAAAAATTCATGTCCACATCAGTAG...   \n",
       "\n",
       "                            junction  ... d_sequence_start d_sequence_end  \\\n",
       "0  TGTCACCAATATAAAAGTTATCCTCTCACGTTC  ...            288.0          287.0   \n",
       "1  TGTCAGCAATATAACAGCTATCCTCTCACGTTC  ...            288.0          287.0   \n",
       "2  TGTCAGCAATATAACAGCTATCCTCTCACGTTC  ...            288.0          287.0   \n",
       "3  TGTCAGCAATATAACAGCTATCCTCTCACGTTC  ...            288.0          287.0   \n",
       "4  TGTCAGCAATATAACAGCTATCCTCTCACGTTC  ...            288.0          287.0   \n",
       "\n",
       "  d_germline_start d_germline_end  j_support j_identity j_sequence_start  \\\n",
       "0              2.0            1.0        1.0   0.970588            288.0   \n",
       "1              2.0            1.0        1.0   1.000000            288.0   \n",
       "2              2.0            1.0        1.0   1.000000            288.0   \n",
       "3              2.0            1.0        1.0   1.000000            288.0   \n",
       "4              2.0            1.0        1.0   1.000000            288.0   \n",
       "\n",
       "  j_sequence_end  j_germline_start  j_germline_end  \n",
       "0          321.0               1.0            34.0  \n",
       "1          321.0               1.0            34.0  \n",
       "2          321.0               1.0            34.0  \n",
       "3          321.0               1.0            34.0  \n",
       "4          321.0               1.0            34.0  \n",
       "\n",
       "[5 rows x 42 columns]"
      ]
     },
     "execution_count": 252,
     "metadata": {},
     "output_type": "execute_result"
    }
   ],
   "source": [
    "print(partis_airr.shape)\n",
    "partis_airr.head()\n",
    "# "
   ]
  },
  {
   "cell_type": "code",
   "execution_count": 253,
   "id": "3a579696",
   "metadata": {},
   "outputs": [],
   "source": [
    "# partis_airr[\"sequence\"]"
   ]
  },
  {
   "cell_type": "code",
   "execution_count": 254,
   "id": "5f233309",
   "metadata": {},
   "outputs": [],
   "source": [
    "# convert back to expected sequence_id like tatsuya does\n",
    "# TODO, we'll include the date in the manifest for automation\n",
    "partis_airr[\"nf_sequence_id\"] = partis_airr[\"sequence_id\"]\n",
    "partis_airr[\n",
    "    ['nf_PR','date', 'nf_plate', 'nf_well', 'nf_chain','_', 'nf_rank_string']\n",
    "] = partis_airr['sequence_id'].str.split('.', expand=True)\n",
    "partis_airr[\"nf_rank\"] = [int(r.split(\"-\")[0]) for r in partis_airr[\"nf_rank_string\"]]\n",
    "partis_airr[\"nf_count\"] = [int(r.split(\"-\")[1]) for r in partis_airr[\"nf_rank_string\"]]\n",
    "partis_airr.drop([\"nf_rank_string\", \"_\"], axis=1, inplace=True)\n",
    "partis_airr[\"sequence_id\"] = [\n",
    "    f\"211210{r.nf_plate}{r.nf_well}{r.nf_chain}_{r.nf_rank}-{r.nf_count}\"\n",
    "    for i, r in partis_airr.iterrows()\n",
    "]"
   ]
  },
  {
   "cell_type": "code",
   "execution_count": null,
   "id": "b0ca763c",
   "metadata": {},
   "outputs": [],
   "source": []
  },
  {
   "cell_type": "code",
   "execution_count": 255,
   "id": "3d1cfb2d",
   "metadata": {},
   "outputs": [],
   "source": [
    "partis_airr[\"seq_nt\"] = [seq.lower() for seq in partis_airr[\"sequence\"]]\n",
    "# partis_airr[\"seq_aa\"] = [translate(seq.upper()).lower() for seq in partis_airr[\"seq_nt\"]]"
   ]
  },
  {
   "cell_type": "code",
   "execution_count": 256,
   "id": "5836e0da",
   "metadata": {
    "scrolled": false
   },
   "outputs": [
    {
     "data": {
      "text/plain": [
       "0       GACATTGTGATGACTCAGTCTCAAAAATTCATGTCCACATCAGTAG...\n",
       "1       GACATTGTGATGACTCAGTCTCAAAAATTCATGTCCACATCAGTAG...\n",
       "2       GACATTGTGATGACTCAGTCTCAAAAATTCATGTCCACATCAGTAG...\n",
       "3       GACATTGTGATGACTCAGTCTCAAAAATTCATGTCCACATCAGTAG...\n",
       "4       GACATTGTGATGACTCAGTCTCAAAAATTCATGTCCACATCAGTAG...\n",
       "                              ...                        \n",
       "2061                                                  NaN\n",
       "2062                                                  NaN\n",
       "2063                                                  NaN\n",
       "2064                                                  NaN\n",
       "2065                                                  NaN\n",
       "Name: germline_alignment, Length: 5161, dtype: object"
      ]
     },
     "execution_count": 256,
     "metadata": {},
     "output_type": "execute_result"
    }
   ],
   "source": [
    "partis_airr[\"germline_alignment\"]"
   ]
  },
  {
   "cell_type": "code",
   "execution_count": 257,
   "id": "81011773",
   "metadata": {},
   "outputs": [
    {
     "data": {
      "text/plain": [
       "95"
      ]
     },
     "execution_count": 257,
     "metadata": {},
     "output_type": "execute_result"
    }
   ],
   "source": [
    "sum(partis_airr[\"germline_alignment\"].isna().values)"
   ]
  },
  {
   "cell_type": "code",
   "execution_count": 258,
   "id": "9f905090",
   "metadata": {},
   "outputs": [],
   "source": [
    "partis_airr[\"seq_nt_lens\"] = [len(seq) for seq in partis_airr[\"seq_nt\"].fillna(\"\").values]"
   ]
  },
  {
   "cell_type": "code",
   "execution_count": 259,
   "id": "82f9fb60",
   "metadata": {},
   "outputs": [],
   "source": [
    "# partis_airr[\"seq_nt_lens\"].value_counts()"
   ]
  },
  {
   "cell_type": "code",
   "execution_count": 260,
   "id": "96ce73e8",
   "metadata": {},
   "outputs": [
    {
     "data": {
      "text/plain": [
       "99"
      ]
     },
     "execution_count": 260,
     "metadata": {},
     "output_type": "execute_result"
    }
   ],
   "source": [
    "5161 - (3012 + 2050)"
   ]
  },
  {
   "cell_type": "markdown",
   "id": "ebf5d4ff",
   "metadata": {},
   "source": [
    "## Sanity Check 1 - Single Cell Comparison\n",
    "\n",
    "Let's look at the same ranked BCR's from both methods"
   ]
  },
  {
   "cell_type": "code",
   "execution_count": 261,
   "id": "668c5627",
   "metadata": {},
   "outputs": [],
   "source": [
    "partis_airr[\"sequence_id_minus_rank\"] = [v.split(\"_\")[0] for v in partis_airr[\"sequence_id\"].values]\n",
    "imgt_airr[\"sequence_id_minus_rank\"] = [v.split(\"_\")[0] for v in imgt_airr[\"sequence_id\"].values]"
   ]
  },
  {
   "cell_type": "markdown",
   "id": "8ee633ba",
   "metadata": {},
   "source": [
    "### Compile/rename all data into one tibble\n",
    "```{r data compilation, echo=TRUE}\n",
    "vquest <- airr %>% \n",
    "  select(ID = \"sequence_id\", \n",
    "         locus = \"locus\",\n",
    "         V = \"v_call\",\n",
    "         D = \"d_call\",\n",
    "         J = \"j_call\",\n",
    "         Productive = \"productive\",\n",
    "         AAjunction = \"junction_aa\",\n",
    "         seq_nt,\n",
    "         seq_aa,\n",
    "         seq_input = sequence,\n",
    "         \"gapped seq_nt\" = \"sequence_alignment\",\n",
    "         \"gapped seq_aa\" = \"sequence_alignment_aa\",\n",
    "         v_cigar,\n",
    "         d_cigar,\n",
    "         j_cigar) %>% \n",
    "  mutate(num = 1:nrow(airr), .before = ID) %>% \n",
    "  mutate(seq_nt_length = str_length(seq_nt), .after = seq_nt) %>% \n",
    "  mutate(seq_aa_length = str_length(seq_aa), .after = seq_aa) %>% \n",
    "  mutate(nt_mut = ntmut$`V-REGION Nb of mutations`, .after = seq_nt_length) %>% \n",
    "  mutate(nt_mut_silent = ntmut$`V-REGION Nb of silent mutations`, .after = nt_mut) %>% \n",
    "  mutate(nt_mut_replacement = \n",
    "           ntmut$`V-REGION Nb of nonsilent mutations`, .after = nt_mut_silent) %>% \n",
    "  mutate(aa_replacement = aamut$`V-REGION Nb of AA changes`, .after = nt_mut_replacement) %>% \n",
    "  mutate(Vchanges = change$`V-REGION`, .after = aa_replacement) \n",
    "\n",
    "print(\"done\") #if evaluated\n",
    "```"
   ]
  },
  {
   "cell_type": "code",
   "execution_count": 266,
   "id": "59fba52e",
   "metadata": {},
   "outputs": [
    {
     "name": "stdout",
     "output_type": "stream",
     "text": [
      "sequence_id\n",
      "sequence\n",
      "rev_comp\n",
      "productive\n",
      "v_call\n",
      "d_call\n",
      "j_call\n",
      "sequence_alignment\n",
      "germline_alignment\n",
      "junction\n",
      "junction_aa\n",
      "v_cigar\n",
      "d_cigar\n",
      "j_cigar\n",
      "clone_id\n",
      "vj_in_frame\n",
      "stop_codon\n",
      "locus\n",
      "np1\n",
      "np2\n",
      "duplicate_count\n",
      "cdr3_start\n",
      "cdr3_end\n",
      "cell_id\n",
      "v_support\n",
      "v_identity\n",
      "v_sequence_start\n",
      "v_sequence_end\n",
      "v_germline_start\n",
      "v_germline_end\n",
      "d_support\n",
      "d_identity\n",
      "d_sequence_start\n",
      "d_sequence_end\n",
      "d_germline_start\n",
      "d_germline_end\n",
      "j_support\n",
      "j_identity\n",
      "j_sequence_start\n",
      "j_sequence_end\n",
      "j_germline_start\n",
      "j_germline_end\n",
      "nf_sequence_id\n",
      "nf_PR\n",
      "date\n",
      "nf_plate\n",
      "nf_well\n",
      "nf_chain\n",
      "nf_rank\n",
      "nf_count\n",
      "seq_nt\n",
      "seq_nt_lens\n",
      "sequence_id_minus_rank\n"
     ]
    }
   ],
   "source": [
    "print(\"\\n\".join(partis_airr.columns))"
   ]
  },
  {
   "cell_type": "code",
   "execution_count": 315,
   "id": "58993387",
   "metadata": {},
   "outputs": [],
   "source": [
    "columns_of_interest = [\n",
    "    \"sequence_id\",\n",
    "    \"locus\",\n",
    "#     \"v_call\", \n",
    "#     \"d_call\", \n",
    "#     \"j_call\",\n",
    "    \"productive\",\n",
    "    \"junction_aa\",\n",
    "    \"sequence\",\n",
    "    \"seq_nt\",\n",
    "    \"seq_nt_lens\",\n",
    "    \"v_cigar\"\n",
    "#     \"seq_aa\"\n",
    "]"
   ]
  },
  {
   "cell_type": "code",
   "execution_count": 316,
   "id": "14d6d5c1",
   "metadata": {},
   "outputs": [
    {
     "data": {
      "text/html": [
       "<div>\n",
       "<style scoped>\n",
       "    .dataframe tbody tr th:only-of-type {\n",
       "        vertical-align: middle;\n",
       "    }\n",
       "\n",
       "    .dataframe tbody tr th {\n",
       "        vertical-align: top;\n",
       "    }\n",
       "\n",
       "    .dataframe thead th {\n",
       "        text-align: right;\n",
       "    }\n",
       "</style>\n",
       "<table border=\"1\" class=\"dataframe\">\n",
       "  <thead>\n",
       "    <tr style=\"text-align: right;\">\n",
       "      <th></th>\n",
       "      <th>sequence_id</th>\n",
       "      <th>locus</th>\n",
       "      <th>productive</th>\n",
       "      <th>junction_aa</th>\n",
       "      <th>sequence</th>\n",
       "      <th>seq_nt</th>\n",
       "      <th>seq_nt_lens</th>\n",
       "      <th>v_cigar</th>\n",
       "    </tr>\n",
       "  </thead>\n",
       "  <tbody>\n",
       "    <tr>\n",
       "      <th>2454</th>\n",
       "      <td>211210P10A01K_1-400</td>\n",
       "      <td>IGK</td>\n",
       "      <td>T</td>\n",
       "      <td>CQQYHSYPLTF</td>\n",
       "      <td>gtgttgatggagacattgtgatgactcagtctcaaaaattcatgtc...</td>\n",
       "      <td>gacattgtgatgactcagtctcaaaaattcatgtccacatcagtag...</td>\n",
       "      <td>322</td>\n",
       "      <td>11S14=1X144=1X55=1X57=1X13=74S</td>\n",
       "    </tr>\n",
       "    <tr>\n",
       "      <th>2455</th>\n",
       "      <td>211210P10A01K_2-3</td>\n",
       "      <td>IGK</td>\n",
       "      <td>T</td>\n",
       "      <td>CQQYHSYPLTF</td>\n",
       "      <td>gtgttgatggagacattgtgatgactcagtctcaaaaattcatgtc...</td>\n",
       "      <td>gacattgtgatgactcagtctcaaaaattcatgtccacatcagtag...</td>\n",
       "      <td>322</td>\n",
       "      <td>11S14=1X144=1X55=1X57=1X13=74S</td>\n",
       "    </tr>\n",
       "    <tr>\n",
       "      <th>2456</th>\n",
       "      <td>211210P10A01K_3-3</td>\n",
       "      <td>IGK</td>\n",
       "      <td>T</td>\n",
       "      <td>CQQYHSYPLTF</td>\n",
       "      <td>gtgttgatggagacattgtgatgactcagtctcaaaaattcatgtc...</td>\n",
       "      <td>gacattgtgatgactcagtctcaaaaattcatgtccacatcagtag...</td>\n",
       "      <td>322</td>\n",
       "      <td>11S14=1X144=1X55=1X57=1X13=73S</td>\n",
       "    </tr>\n",
       "  </tbody>\n",
       "</table>\n",
       "</div>"
      ],
      "text/plain": [
       "              sequence_id locus productive  junction_aa  \\\n",
       "2454  211210P10A01K_1-400   IGK          T  CQQYHSYPLTF   \n",
       "2455    211210P10A01K_2-3   IGK          T  CQQYHSYPLTF   \n",
       "2456    211210P10A01K_3-3   IGK          T  CQQYHSYPLTF   \n",
       "\n",
       "                                               sequence  \\\n",
       "2454  gtgttgatggagacattgtgatgactcagtctcaaaaattcatgtc...   \n",
       "2455  gtgttgatggagacattgtgatgactcagtctcaaaaattcatgtc...   \n",
       "2456  gtgttgatggagacattgtgatgactcagtctcaaaaattcatgtc...   \n",
       "\n",
       "                                                 seq_nt  seq_nt_lens  \\\n",
       "2454  gacattgtgatgactcagtctcaaaaattcatgtccacatcagtag...          322   \n",
       "2455  gacattgtgatgactcagtctcaaaaattcatgtccacatcagtag...          322   \n",
       "2456  gacattgtgatgactcagtctcaaaaattcatgtccacatcagtag...          322   \n",
       "\n",
       "                             v_cigar  \n",
       "2454  11S14=1X144=1X55=1X57=1X13=74S  \n",
       "2455  11S14=1X144=1X55=1X57=1X13=74S  \n",
       "2456  11S14=1X144=1X55=1X57=1X13=73S  "
      ]
     },
     "execution_count": 316,
     "metadata": {},
     "output_type": "execute_result"
    }
   ],
   "source": [
    "imgt_coi = imgt_airr.loc[imgt_airr[\"sequence_id_minus_rank\"]==\"211210P10A01K\", columns_of_interest ]\n",
    "imgt_coi"
   ]
  },
  {
   "cell_type": "code",
   "execution_count": 318,
   "id": "da8d6c5e",
   "metadata": {},
   "outputs": [
    {
     "data": {
      "text/html": [
       "<div>\n",
       "<style scoped>\n",
       "    .dataframe tbody tr th:only-of-type {\n",
       "        vertical-align: middle;\n",
       "    }\n",
       "\n",
       "    .dataframe tbody tr th {\n",
       "        vertical-align: top;\n",
       "    }\n",
       "\n",
       "    .dataframe thead th {\n",
       "        text-align: right;\n",
       "    }\n",
       "</style>\n",
       "<table border=\"1\" class=\"dataframe\">\n",
       "  <thead>\n",
       "    <tr style=\"text-align: right;\">\n",
       "      <th></th>\n",
       "      <th>sequence_id</th>\n",
       "      <th>locus</th>\n",
       "      <th>productive</th>\n",
       "      <th>junction_aa</th>\n",
       "      <th>sequence</th>\n",
       "      <th>seq_nt</th>\n",
       "      <th>seq_nt_lens</th>\n",
       "      <th>v_cigar</th>\n",
       "      <th>germline_alignment</th>\n",
       "    </tr>\n",
       "  </thead>\n",
       "  <tbody>\n",
       "    <tr>\n",
       "      <th>2116</th>\n",
       "      <td>211210P10A01K_1-389</td>\n",
       "      <td>IGK</td>\n",
       "      <td>True</td>\n",
       "      <td>CQQYHSYPLTF</td>\n",
       "      <td>GACATTGTGATGACTCAGTCTCAAAAATTCATGTCCACATCAGTAG...</td>\n",
       "      <td>gacattgtgatgactcagtctcaaaaattcatgtccacatcagtag...</td>\n",
       "      <td>321</td>\n",
       "      <td>287M34I</td>\n",
       "      <td>GACATTGTGATGACTCAGTCTCAAAAATTCATGTCCACATCAGTAG...</td>\n",
       "    </tr>\n",
       "    <tr>\n",
       "      <th>2170</th>\n",
       "      <td>211210P10A01K_2-3</td>\n",
       "      <td>IGK</td>\n",
       "      <td>False</td>\n",
       "      <td>CQQYHSYPLTF</td>\n",
       "      <td>GACATTGTGATGACTCAGTCTCAAAAAATTCATGTCCACATCAGTA...</td>\n",
       "      <td>gacattgtgatgactcagtctcaaaaaattcatgtccacatcagta...</td>\n",
       "      <td>322</td>\n",
       "      <td>22M1I265M34I</td>\n",
       "      <td>GACATTGTGATGACTCAGTCTC.AAAAATTCATGTCCACATCAGTA...</td>\n",
       "    </tr>\n",
       "    <tr>\n",
       "      <th>2223</th>\n",
       "      <td>211210P10A01K_3-3</td>\n",
       "      <td>IGK</td>\n",
       "      <td>True</td>\n",
       "      <td>CQQYHSYPLTF</td>\n",
       "      <td>GACATTGTGATGACTCAGTCTCAAAAATTCACGTCCACATCAGTAG...</td>\n",
       "      <td>gacattgtgatgactcagtctcaaaaattcacgtccacatcagtag...</td>\n",
       "      <td>321</td>\n",
       "      <td>287M34I</td>\n",
       "      <td>GACATTGTGATGACTCAGTCTCAAAAATTCATGTCCACATCAGTAG...</td>\n",
       "    </tr>\n",
       "  </tbody>\n",
       "</table>\n",
       "</div>"
      ],
      "text/plain": [
       "              sequence_id locus productive  junction_aa  \\\n",
       "2116  211210P10A01K_1-389   IGK       True  CQQYHSYPLTF   \n",
       "2170    211210P10A01K_2-3   IGK      False  CQQYHSYPLTF   \n",
       "2223    211210P10A01K_3-3   IGK       True  CQQYHSYPLTF   \n",
       "\n",
       "                                               sequence  \\\n",
       "2116  GACATTGTGATGACTCAGTCTCAAAAATTCATGTCCACATCAGTAG...   \n",
       "2170  GACATTGTGATGACTCAGTCTCAAAAAATTCATGTCCACATCAGTA...   \n",
       "2223  GACATTGTGATGACTCAGTCTCAAAAATTCACGTCCACATCAGTAG...   \n",
       "\n",
       "                                                 seq_nt  seq_nt_lens  \\\n",
       "2116  gacattgtgatgactcagtctcaaaaattcatgtccacatcagtag...          321   \n",
       "2170  gacattgtgatgactcagtctcaaaaaattcatgtccacatcagta...          322   \n",
       "2223  gacattgtgatgactcagtctcaaaaattcacgtccacatcagtag...          321   \n",
       "\n",
       "           v_cigar                                 germline_alignment  \n",
       "2116       287M34I  GACATTGTGATGACTCAGTCTCAAAAATTCATGTCCACATCAGTAG...  \n",
       "2170  22M1I265M34I  GACATTGTGATGACTCAGTCTC.AAAAATTCATGTCCACATCAGTA...  \n",
       "2223       287M34I  GACATTGTGATGACTCAGTCTCAAAAATTCATGTCCACATCAGTAG...  "
      ]
     },
     "execution_count": 318,
     "metadata": {},
     "output_type": "execute_result"
    }
   ],
   "source": [
    "partis_coi = partis_airr.loc[partis_airr[\"sequence_id_minus_rank\"]==\"211210P10A01K\", columns_of_interest + [\"germline_alignment\"]]\n",
    "partis_coi"
   ]
  },
  {
   "cell_type": "markdown",
   "id": "24209703",
   "metadata": {},
   "source": [
    "## Locus"
   ]
  },
  {
   "cell_type": "code",
   "execution_count": 283,
   "id": "f2885004",
   "metadata": {},
   "outputs": [
    {
     "data": {
      "text/plain": [
       "IGK    3030\n",
       "IGH    1823\n",
       "Name: locus, dtype: int64"
      ]
     },
     "execution_count": 283,
     "metadata": {},
     "output_type": "execute_result"
    }
   ],
   "source": [
    "imgt_airr.locus.value_counts()"
   ]
  },
  {
   "cell_type": "code",
   "execution_count": 284,
   "id": "734a80ba",
   "metadata": {},
   "outputs": [
    {
     "data": {
      "text/plain": [
       "IGK    3016\n",
       "IGH    2050\n",
       "Name: locus, dtype: int64"
      ]
     },
     "execution_count": 284,
     "metadata": {},
     "output_type": "execute_result"
    }
   ],
   "source": [
    "partis_airr.locus.value_counts()"
   ]
  },
  {
   "cell_type": "markdown",
   "id": "6213fbc5",
   "metadata": {},
   "source": [
    "## V Call"
   ]
  },
  {
   "cell_type": "code",
   "execution_count": 288,
   "id": "4dfbe4c4",
   "metadata": {},
   "outputs": [
    {
     "data": {
      "text/plain": [
       "Musmus IGKV6-15*01 F                                                  2914\n",
       "Musmus IGHV3-8*02 F                                                   1788\n",
       "Musmus IGKV6-15-1*01 P                                                  97\n",
       "Musmus IGKV4-72*01 F                                                     8\n",
       "Musmus IGHV3-8*01 F                                                      7\n",
       "Musmus IGKV6-14*01 F                                                     7\n",
       "Musmus IGHV3-8*02 F, or Musmus IGHV3S1*02 F                              6\n",
       "Musmus IGHV3-8*02 F, or Musmus IGHV3S1*01 F                              6\n",
       "Musmus IGKV6-23*01 F                                                     3\n",
       "Musmus IGHV3S1*01 F, or Musmus IGHV3S1*02 F                              3\n",
       "Musmus IGHV3-3*03 F                                                      2\n",
       "Musmus IGHV3-8*01 F, or Musmus IGHV3-8*02 F or Musmus IGHV3S1*01 F       2\n",
       "Musmus IGHV1-74*01 F                                                     2\n",
       "Musmus IGHV2-5*01 F                                                      2\n",
       "Musmus IGHV3S1*01 F                                                      1\n",
       "Musmus IGKV6-13*01 F                                                     1\n",
       "Musmus IGHV3S1*02 F                                                      1\n",
       "Musmus IGHV3-8*02 F, or Musmus IGHV3S1*01 F or Musmus IGHV3S1*02 F       1\n",
       "Musmus IGHV3-8*01 F, or Musmus IGHV3-8*02 F                              1\n",
       "Musmus IGHV3-8*01 F, or Musmus IGHV3S1*01 F                              1\n",
       "Name: v_call, dtype: int64"
      ]
     },
     "execution_count": 288,
     "metadata": {},
     "output_type": "execute_result"
    }
   ],
   "source": [
    "imgt_airr.v_call.value_counts()"
   ]
  },
  {
   "cell_type": "code",
   "execution_count": 293,
   "id": "eb6faaf8",
   "metadata": {},
   "outputs": [
    {
     "data": {
      "text/plain": [
       "434"
      ]
     },
     "execution_count": 293,
     "metadata": {},
     "output_type": "execute_result"
    }
   ],
   "source": [
    "sum(imgt_airr.v_call.isna())"
   ]
  },
  {
   "cell_type": "code",
   "execution_count": 286,
   "id": "afdf1f1c",
   "metadata": {},
   "outputs": [
    {
     "data": {
      "text/plain": [
       "IGKV6-15*chg    3016\n",
       "IGHV3-8*chg     2050\n",
       "Name: v_call, dtype: int64"
      ]
     },
     "execution_count": 286,
     "metadata": {},
     "output_type": "execute_result"
    }
   ],
   "source": [
    "partis_airr.v_call.value_counts()"
   ]
  },
  {
   "cell_type": "code",
   "execution_count": 294,
   "id": "1324381b",
   "metadata": {},
   "outputs": [
    {
     "data": {
      "text/plain": [
       "95"
      ]
     },
     "execution_count": 294,
     "metadata": {},
     "output_type": "execute_result"
    }
   ],
   "source": [
    "sum(partis_airr.v_call.isna())"
   ]
  },
  {
   "cell_type": "markdown",
   "id": "d93cb988",
   "metadata": {},
   "source": [
    "## D Call"
   ]
  },
  {
   "cell_type": "code",
   "execution_count": 298,
   "id": "905851f4",
   "metadata": {},
   "outputs": [
    {
     "data": {
      "text/plain": [
       "Musmus IGHD3-3*01     32\n",
       "Musmus IGHD2-4*01      8\n",
       "Musmus IGHD2-13*01     3\n",
       "Musmus IGHD3-1*01      2\n",
       "Musmus IGHD1-2*01      2\n",
       "Musmus IGHD1-1*02      2\n",
       "Musmus IGHD6-1*01      2\n",
       "Musmus IGHD2-14*01     1\n",
       "Musmus IGHD1-1*01      1\n",
       "Musmus IGHD2-2*01      1\n",
       "Name: d_call, dtype: int64"
      ]
     },
     "execution_count": 298,
     "metadata": {},
     "output_type": "execute_result"
    }
   ],
   "source": [
    "imgt_airr.d_call.value_counts()"
   ]
  },
  {
   "cell_type": "code",
   "execution_count": 299,
   "id": "0e793799",
   "metadata": {},
   "outputs": [
    {
     "data": {
      "text/plain": [
       "5233"
      ]
     },
     "execution_count": 299,
     "metadata": {},
     "output_type": "execute_result"
    }
   ],
   "source": [
    "sum(imgt_airr.d_call.isna())"
   ]
  },
  {
   "cell_type": "code",
   "execution_count": 300,
   "id": "1a5dca47",
   "metadata": {},
   "outputs": [
    {
     "data": {
      "text/plain": [
       "IGKDx-x*x      3016\n",
       "IGHD1-1*chg    2050\n",
       "Name: d_call, dtype: int64"
      ]
     },
     "execution_count": 300,
     "metadata": {},
     "output_type": "execute_result"
    }
   ],
   "source": [
    "partis_airr.d_call.value_counts()"
   ]
  },
  {
   "cell_type": "code",
   "execution_count": 301,
   "id": "260ce66e",
   "metadata": {},
   "outputs": [
    {
     "data": {
      "text/plain": [
       "95"
      ]
     },
     "execution_count": 301,
     "metadata": {},
     "output_type": "execute_result"
    }
   ],
   "source": [
    "sum(partis_airr.d_call.isna())"
   ]
  },
  {
   "cell_type": "markdown",
   "id": "c6385ffb",
   "metadata": {},
   "source": [
    "## J Call"
   ]
  },
  {
   "cell_type": "code",
   "execution_count": 302,
   "id": "ad69fe44",
   "metadata": {},
   "outputs": [
    {
     "data": {
      "text/plain": [
       "Musmus IGKJ4*01 F                                               2467\n",
       "Musmus IGHJ1*01 F                                               1768\n",
       "Musmus IGKJ4*01 F, or Musmus IGKJ4*02 F                          215\n",
       "Musmus IGKJ2*02 F, or Musmus IGKJ4*01 F                          120\n",
       "Musmus IGKJ2*03 F, or Musmus IGKJ4*01 F                           40\n",
       "Musmus IGKJ1*02 F                                                 15\n",
       "Musmus IGHJ1*03 F                                                 15\n",
       "Musmus IGKJ2*02 F, or Musmus IGKJ4*01 F or Musmus IGKJ4*02 F      14\n",
       "Musmus IGKJ2*02 F                                                  9\n",
       "Musmus IGHJ1*01 F, or Musmus IGHJ1*03 F                            9\n",
       "Musmus IGKJ5*01 F                                                  8\n",
       "Musmus IGKJ2*01 F                                                  8\n",
       "Musmus IGKJ2*01 F, or Musmus IGKJ4*01 F                            6\n",
       "Musmus IGKJ4*02 F                                                  6\n",
       "Musmus IGHJ3*01 F, or Musmus IGHJ3*02 P                            4\n",
       "Musmus IGKJ2*01 F, or Musmus IGKJ2*02 F or Musmus IGKJ4*01 F       2\n",
       "Musmus IGKJ2*03 F                                                  1\n",
       "Musmus IGHJ1*01 F, or Musmus IGHJ1*02 F                            1\n",
       "Musmus IGKJ1*01 F                                                  1\n",
       "Musmus IGKJ1*01 F, or Musmus IGKJ5*01 F                            1\n",
       "Musmus IGKJ2*02 F, or Musmus IGKJ2*03 F                            1\n",
       "Musmus IGKJ2*03 F, or Musmus IGKJ4*01 F or Musmus IGKJ4*02 F       1\n",
       "Musmus IGKJ4*01 F, or Musmus IGKJ5*01 F                            1\n",
       "Name: j_call, dtype: int64"
      ]
     },
     "execution_count": 302,
     "metadata": {},
     "output_type": "execute_result"
    }
   ],
   "source": [
    "imgt_airr.j_call.value_counts()"
   ]
  },
  {
   "cell_type": "code",
   "execution_count": 303,
   "id": "aeb1a275",
   "metadata": {},
   "outputs": [
    {
     "data": {
      "text/plain": [
       "574"
      ]
     },
     "execution_count": 303,
     "metadata": {},
     "output_type": "execute_result"
    }
   ],
   "source": [
    "sum(imgt_airr.j_call.isna())"
   ]
  },
  {
   "cell_type": "code",
   "execution_count": 304,
   "id": "08e8fa93",
   "metadata": {},
   "outputs": [
    {
     "data": {
      "text/plain": [
       "IGKJ4*chg    3016\n",
       "IGHJ1*chg    2050\n",
       "Name: j_call, dtype: int64"
      ]
     },
     "execution_count": 304,
     "metadata": {},
     "output_type": "execute_result"
    }
   ],
   "source": [
    "partis_airr.j_call.value_counts()"
   ]
  },
  {
   "cell_type": "code",
   "execution_count": 305,
   "id": "6a18eb70",
   "metadata": {},
   "outputs": [
    {
     "data": {
      "text/plain": [
       "95"
      ]
     },
     "execution_count": 305,
     "metadata": {},
     "output_type": "execute_result"
    }
   ],
   "source": [
    "sum(partis_airr.j_call.isna())"
   ]
  },
  {
   "cell_type": "markdown",
   "id": "e6c7bbce",
   "metadata": {},
   "source": [
    "## Nucleotide Sequence"
   ]
  },
  {
   "cell_type": "code",
   "execution_count": 279,
   "id": "34a623d8",
   "metadata": {},
   "outputs": [
    {
     "data": {
      "text/plain": [
       "array(['gacattgtgatgactcagtctcaaaaattcatgtccacatcagtaggagacagggtcagcgtcacctgcaaggccagtcagaatgtgggtactaatgtagcctggtatcaacagaaaccagggcaatctcctaaagcactgatttactcggcatcctacaggtacagtggagtccctgatcgcttcacaggcagtggatctgggacagatttcacgctcaccatcagcaatgtgcagtctgaagacttggcagagtatttctgtcagcaatatcacagctatcctctcacgttcggctcggggactaagctagaaataaaac',\n",
       "       'gacattgtgatgactcagtctcaaaaattcatgtccacatcagtaggagacagggtcagcgtcacctgcaaggccagtcagaatgtgggtactaatgtagcctggtatcaacagaaaccagggcaatctcctaaagcactgatttactcggcatcctacaggtacagtggagtccctgatcgcttcacaggcagtggatctgggacagatttcacgctcaccatcagcaatgtgcagtctgaagacttggcagagtatttctgtcagcaatatcacagctatcctctcacgttcggctcggggactaagctagaaataaaac',\n",
       "       'gacattgtgatgactcagtctcaaaaattcatgtccacatcagtaggagacagggtcagcgtcacctgcaaggccagtcagaatgtgggtactaatgtagcctggtatcaacagaaaccagggcaatctcctaaagcactgatttactcggcatcctacaggtacagtggagtccctgatcgcttcacaggcagtggatctgggacagatttcacgctcaccatcagcaatgtgcagtctgaagacttggcagagtatttctgtcagcaatatcacagctatcctctcacgttcggctcggggactaagctagaaataaaac'],\n",
       "      dtype=object)"
      ]
     },
     "execution_count": 279,
     "metadata": {},
     "output_type": "execute_result"
    }
   ],
   "source": [
    "imgt_coi.seq_nt.values"
   ]
  },
  {
   "cell_type": "code",
   "execution_count": 281,
   "id": "06685348",
   "metadata": {},
   "outputs": [
    {
     "data": {
      "text/plain": [
       "array(['gacattgtgatgactcagtctcaaaaattcatgtccacatcagtaggagacagggtcagcgtcacctgcaaggccagtcagaatgtgggtactaatgtagcctggtatcaacagaaaccagggcaatctcctaaagcactgatttactcggcatcctacaggtacagtggagtccctgatcgcttcacaggcagtggatctgggacagatttcacgctcaccatcagcaatgtgcagtctgaagacttggcagagtatttctgtcagcaatatcacagctatcctctcacgttcggctcggggactaagctagaaataaaa',\n",
       "       'gacattgtgatgactcagtctcaaaaaattcatgtccacatcagtaggagacagggtcagcgtcacctgcaaggccagtcagaatgtgggtactaatgtagcctggtatcaacagaaaccagggcaatctcctaaagcactgatttactcggcatcctacaggtacagtggagtccctgatcgcttcacaggcagtggatctgggacagatttcacgctcaccatcagcaatgtgcagtctgaagacttggcagagtatttctgtcagcaatatcacagctatcctctcacgttcggctcggggactaagctagaaataaaa',\n",
       "       'gacattgtgatgactcagtctcaaaaattcacgtccacatcagtaggagacagggtcagcgtcacctgcaaggccagtcagaatgtgggtactaatgtagcctggtatcaacagaaaccagggcaatctcctaaagcactgatttactcggcatcctacaggtacagtggagtccctgatcgcttcacaggcagtggatctgggacagatttcacgctcaccatcagcaatgtgcagtctgaagacttggcagagtatttctgtcagcaatatcacagctatcctctcacgttcggctcggggactaagctagaaataaaa'],\n",
       "      dtype=object)"
      ]
     },
     "execution_count": 281,
     "metadata": {},
     "output_type": "execute_result"
    }
   ],
   "source": [
    "partis_coi.seq_nt.values"
   ]
  },
  {
   "cell_type": "markdown",
   "id": "5811c4a2",
   "metadata": {},
   "source": [
    "## Productive"
   ]
  },
  {
   "cell_type": "code",
   "execution_count": 308,
   "id": "08cc1477",
   "metadata": {},
   "outputs": [
    {
     "data": {
      "text/plain": [
       "T    4612\n",
       "F     241\n",
       "Name: productive, dtype: int64"
      ]
     },
     "execution_count": 308,
     "metadata": {},
     "output_type": "execute_result"
    }
   ],
   "source": [
    "imgt_airr.productive.value_counts()"
   ]
  },
  {
   "cell_type": "code",
   "execution_count": 307,
   "id": "9c686c46",
   "metadata": {},
   "outputs": [
    {
     "data": {
      "text/plain": [
       "True     4523\n",
       "False     543\n",
       "Name: productive, dtype: int64"
      ]
     },
     "execution_count": 307,
     "metadata": {},
     "output_type": "execute_result"
    }
   ],
   "source": [
    "partis_airr.productive.value_counts()"
   ]
  },
  {
   "cell_type": "markdown",
   "id": "629cd5cf",
   "metadata": {},
   "source": [
    "## junction_aa"
   ]
  },
  {
   "cell_type": "code",
   "execution_count": 310,
   "id": "e072d0cf",
   "metadata": {},
   "outputs": [
    {
     "data": {
      "text/plain": [
       "tgtcagcaatataacagctatcctctcacgttc     1388\n",
       "tgtgcaagggacttcgatgtctgg               843\n",
       "tgtggaagggacttcgatgtctgg               623\n",
       "tgtcaccaatataaaagctatcctatcacgttc      139\n",
       "tgtcagcaatatagcagctatcctctcacgttc       64\n",
       "                                      ... \n",
       "tgtcagcaatataagaactaccctatcacgttc        1\n",
       "tgtggaagagacttcgatttctgg                 1\n",
       "tgtcaccaatataaaaactatcctctcacgtttc       1\n",
       "tatcaccaatataaaagttatcctctcacgttc        1\n",
       "tgtcagcaatataacagctatcctctcacgtgc        1\n",
       "Name: junction, Length: 320, dtype: int64"
      ]
     },
     "execution_count": 310,
     "metadata": {},
     "output_type": "execute_result"
    }
   ],
   "source": [
    "imgt_airr.junction.value_counts()"
   ]
  },
  {
   "cell_type": "code",
   "execution_count": 311,
   "id": "91e7bf29",
   "metadata": {},
   "outputs": [
    {
     "data": {
      "text/plain": [
       "TGTCAGCAATATAACAGCTATCCTCTCACGTTC    1587\n",
       "TGTGCAAGGGACTTCGATGTCTGG              932\n",
       "TGTGGAAGGGACTTCGATGTCTGG              705\n",
       "TGTCACCAATATAAAAGCTATCCTATCACGTTC     136\n",
       "TGTCAGCAATATAGCAGCTATCCTCTCACGTTC      61\n",
       "                                     ... \n",
       "TGGGCAAGGGACGTCGATGTCTGG                1\n",
       "TGTTCAAGGGACTTCACCGTCTGG                1\n",
       "TGTGGAGGGGACTTCGATGTCTGG                1\n",
       "TGTCAGCTATATAACAGCTATCCTCTCACGTTC       1\n",
       "TGGGGAAGGGACTTCGATTTCTGG                1\n",
       "Name: junction, Length: 335, dtype: int64"
      ]
     },
     "execution_count": 311,
     "metadata": {},
     "output_type": "execute_result"
    }
   ],
   "source": [
    "partis_airr.junction.value_counts()"
   ]
  },
  {
   "cell_type": "markdown",
   "id": "90c57e0c",
   "metadata": {},
   "source": [
    "## "
   ]
  },
  {
   "cell_type": "code",
   "execution_count": 107,
   "id": "01827017",
   "metadata": {},
   "outputs": [
    {
     "data": {
      "text/plain": [
       "322    2769\n",
       "337    1757\n",
       "0       434\n",
       "264      87\n",
       "321      53\n",
       "Name: seq_nt_lens, dtype: int64"
      ]
     },
     "execution_count": 107,
     "metadata": {},
     "output_type": "execute_result"
    }
   ],
   "source": [
    "imgt_airr[\"seq_nt_lens\"].value_counts().head()"
   ]
  },
  {
   "cell_type": "code",
   "execution_count": 108,
   "id": "1d5db252",
   "metadata": {},
   "outputs": [
    {
     "data": {
      "text/plain": [
       "321    2644\n",
       "337    1998\n",
       "322     283\n",
       "320      56\n",
       "372      39\n",
       "Name: sequence_lens, dtype: int64"
      ]
     },
     "execution_count": 108,
     "metadata": {},
     "output_type": "execute_result"
    }
   ],
   "source": [
    "partis_airr[\"sequence_lens\"].value_counts().head()"
   ]
  },
  {
   "cell_type": "markdown",
   "id": "a2c71700",
   "metadata": {},
   "source": [
    "## Productive"
   ]
  },
  {
   "cell_type": "code",
   "execution_count": null,
   "id": "1a8fe750",
   "metadata": {},
   "outputs": [],
   "source": []
  }
 ],
 "metadata": {
  "kernelspec": {
   "display_name": "Python 3 (ipykernel)",
   "language": "python",
   "name": "python3"
  },
  "language_info": {
   "codemirror_mode": {
    "name": "ipython",
    "version": 3
   },
   "file_extension": ".py",
   "mimetype": "text/x-python",
   "name": "python",
   "nbconvert_exporter": "python",
   "pygments_lexer": "ipython3",
   "version": "3.9.7"
  }
 },
 "nbformat": 4,
 "nbformat_minor": 5
}
